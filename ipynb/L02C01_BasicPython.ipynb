{
 "cells": [
  {
   "cell_type": "markdown",
   "metadata": {},
   "source": [
    "# Numeric Type: int, float, complex"
   ]
  },
  {
   "cell_type": "code",
   "execution_count": 1,
   "metadata": {
    "collapsed": true
   },
   "outputs": [],
   "source": [
    "a = 1"
   ]
  },
  {
   "cell_type": "code",
   "execution_count": 2,
   "metadata": {},
   "outputs": [
    {
     "data": {
      "text/plain": [
       "int"
      ]
     },
     "execution_count": 2,
     "metadata": {},
     "output_type": "execute_result"
    }
   ],
   "source": [
    "type(a)"
   ]
  },
  {
   "cell_type": "code",
   "execution_count": 3,
   "metadata": {
    "collapsed": true
   },
   "outputs": [],
   "source": [
    "b = 1.0"
   ]
  },
  {
   "cell_type": "code",
   "execution_count": 4,
   "metadata": {},
   "outputs": [
    {
     "data": {
      "text/plain": [
       "float"
      ]
     },
     "execution_count": 4,
     "metadata": {},
     "output_type": "execute_result"
    }
   ],
   "source": [
    "type(b)"
   ]
  },
  {
   "cell_type": "code",
   "execution_count": 5,
   "metadata": {
    "collapsed": true
   },
   "outputs": [],
   "source": [
    "c = 1 + 3j"
   ]
  },
  {
   "cell_type": "code",
   "execution_count": 6,
   "metadata": {},
   "outputs": [
    {
     "data": {
      "text/plain": [
       "complex"
      ]
     },
     "execution_count": 6,
     "metadata": {},
     "output_type": "execute_result"
    }
   ],
   "source": [
    "type(c)"
   ]
  },
  {
   "cell_type": "code",
   "execution_count": 7,
   "metadata": {},
   "outputs": [
    {
     "data": {
      "text/plain": [
       "(-8+6j)"
      ]
     },
     "execution_count": 7,
     "metadata": {},
     "output_type": "execute_result"
    }
   ],
   "source": [
    "c*c"
   ]
  },
  {
   "cell_type": "markdown",
   "metadata": {},
   "source": [
    "# Quick Swapping"
   ]
  },
  {
   "cell_type": "code",
   "execution_count": 8,
   "metadata": {},
   "outputs": [
    {
     "name": "stdout",
     "output_type": "stream",
     "text": [
      "a =  3 , b =  14\n"
     ]
    }
   ],
   "source": [
    "a, b = 3, 14\n",
    "print('a = ', a, ', b = ', b)"
   ]
  },
  {
   "cell_type": "code",
   "execution_count": 9,
   "metadata": {},
   "outputs": [
    {
     "name": "stdout",
     "output_type": "stream",
     "text": [
      "a =  14 , b =  3\n"
     ]
    }
   ],
   "source": [
    "a, b = b, a\n",
    "print('a = ', a, ', b = ', b)"
   ]
  },
  {
   "cell_type": "markdown",
   "metadata": {},
   "source": [
    "# Numeric Operation (commonly used)"
   ]
  },
  {
   "cell_type": "code",
   "execution_count": 10,
   "metadata": {},
   "outputs": [
    {
     "data": {
      "text/plain": [
       "4.285714285714286"
      ]
     },
     "execution_count": 10,
     "metadata": {},
     "output_type": "execute_result"
    }
   ],
   "source": [
    "30/7"
   ]
  },
  {
   "cell_type": "code",
   "execution_count": 11,
   "metadata": {},
   "outputs": [
    {
     "data": {
      "text/plain": [
       "4"
      ]
     },
     "execution_count": 11,
     "metadata": {},
     "output_type": "execute_result"
    }
   ],
   "source": [
    "30//7"
   ]
  },
  {
   "cell_type": "code",
   "execution_count": 12,
   "metadata": {},
   "outputs": [
    {
     "data": {
      "text/plain": [
       "2"
      ]
     },
     "execution_count": 12,
     "metadata": {},
     "output_type": "execute_result"
    }
   ],
   "source": [
    "30%7"
   ]
  },
  {
   "cell_type": "code",
   "execution_count": 13,
   "metadata": {},
   "outputs": [
    {
     "data": {
      "text/plain": [
       "(4, 2)"
      ]
     },
     "execution_count": 13,
     "metadata": {},
     "output_type": "execute_result"
    }
   ],
   "source": [
    "divmod(30,7)"
   ]
  },
  {
   "cell_type": "code",
   "execution_count": 14,
   "metadata": {},
   "outputs": [
    {
     "data": {
      "text/plain": [
       "1024"
      ]
     },
     "execution_count": 14,
     "metadata": {},
     "output_type": "execute_result"
    }
   ],
   "source": [
    "2**10"
   ]
  },
  {
   "cell_type": "code",
   "execution_count": 15,
   "metadata": {},
   "outputs": [
    {
     "data": {
      "text/plain": [
       "100"
      ]
     },
     "execution_count": 15,
     "metadata": {},
     "output_type": "execute_result"
    }
   ],
   "source": [
    "10**2"
   ]
  },
  {
   "cell_type": "code",
   "execution_count": 16,
   "metadata": {},
   "outputs": [
    {
     "data": {
      "text/plain": [
       "6.25"
      ]
     },
     "execution_count": 16,
     "metadata": {},
     "output_type": "execute_result"
    }
   ],
   "source": [
    "2*3+5/2**2-1"
   ]
  },
  {
   "cell_type": "code",
   "execution_count": 17,
   "metadata": {},
   "outputs": [
    {
     "data": {
      "text/plain": [
       "-5"
      ]
     },
     "execution_count": 17,
     "metadata": {},
     "output_type": "execute_result"
    }
   ],
   "source": [
    "-1^4"
   ]
  },
  {
   "cell_type": "code",
   "execution_count": 18,
   "metadata": {},
   "outputs": [
    {
     "data": {
      "text/plain": [
       "-5"
      ]
     },
     "execution_count": 18,
     "metadata": {},
     "output_type": "execute_result"
    }
   ],
   "source": [
    "(-1)^4"
   ]
  },
  {
   "cell_type": "code",
   "execution_count": 19,
   "metadata": {},
   "outputs": [
    {
     "data": {
      "text/plain": [
       "11"
      ]
     },
     "execution_count": 19,
     "metadata": {},
     "output_type": "execute_result"
    }
   ],
   "source": [
    "8^3"
   ]
  },
  {
   "cell_type": "markdown",
   "metadata": {},
   "source": [
    "# Symbol \"^\" is a bitwise XOR! not \"to the power of\"\n",
    "https://stackoverflow.com/questions/2451386/what-does-the-caret-operator-in-python-do\n",
    "\n",
    "<p>8 = 1000 (base 2) <br />\n",
    "3 = 0011 (base 2)</p>\n",
    "XOR means fault if inputs are the same, true if inputs are different\n",
    "\n",
    "XOR vertically,\n",
    "\n",
    "```1000\n",
    "0011\n",
    "1011 (XOR result) = 11```"
   ]
  },
  {
   "cell_type": "code",
   "execution_count": 20,
   "metadata": {},
   "outputs": [
    {
     "data": {
      "text/plain": [
       "-1"
      ]
     },
     "execution_count": 20,
     "metadata": {},
     "output_type": "execute_result"
    }
   ],
   "source": [
    "-1**4"
   ]
  },
  {
   "cell_type": "code",
   "execution_count": 21,
   "metadata": {},
   "outputs": [
    {
     "data": {
      "text/plain": [
       "1"
      ]
     },
     "execution_count": 21,
     "metadata": {},
     "output_type": "execute_result"
    }
   ],
   "source": [
    "(-1)**4"
   ]
  },
  {
   "cell_type": "code",
   "execution_count": 22,
   "metadata": {},
   "outputs": [
    {
     "data": {
      "text/plain": [
       "1024"
      ]
     },
     "execution_count": 22,
     "metadata": {},
     "output_type": "execute_result"
    }
   ],
   "source": [
    "pow(2,10)"
   ]
  },
  {
   "cell_type": "code",
   "execution_count": 23,
   "metadata": {},
   "outputs": [
    {
     "data": {
      "text/plain": [
       "100"
      ]
     },
     "execution_count": 23,
     "metadata": {},
     "output_type": "execute_result"
    }
   ],
   "source": [
    "pow(10,2)"
   ]
  },
  {
   "cell_type": "code",
   "execution_count": 24,
   "metadata": {},
   "outputs": [
    {
     "data": {
      "text/plain": [
       "30"
      ]
     },
     "execution_count": 24,
     "metadata": {},
     "output_type": "execute_result"
    }
   ],
   "source": [
    "int(30.930)"
   ]
  },
  {
   "cell_type": "code",
   "execution_count": 25,
   "metadata": {},
   "outputs": [
    {
     "data": {
      "text/plain": [
       "3.0"
      ]
     },
     "execution_count": 25,
     "metadata": {},
     "output_type": "execute_result"
    }
   ],
   "source": [
    "float(3)"
   ]
  },
  {
   "cell_type": "code",
   "execution_count": 26,
   "metadata": {},
   "outputs": [
    {
     "data": {
      "text/plain": [
       "(3+10.123j)"
      ]
     },
     "execution_count": 26,
     "metadata": {},
     "output_type": "execute_result"
    }
   ],
   "source": [
    "complex(3,10.123)"
   ]
  },
  {
   "cell_type": "code",
   "execution_count": 27,
   "metadata": {
    "collapsed": true
   },
   "outputs": [],
   "source": [
    "import math"
   ]
  },
  {
   "cell_type": "code",
   "execution_count": 28,
   "metadata": {},
   "outputs": [
    {
     "data": {
      "text/plain": [
       "2.302585092994046"
      ]
     },
     "execution_count": 28,
     "metadata": {},
     "output_type": "execute_result"
    }
   ],
   "source": [
    "math.log(10)"
   ]
  },
  {
   "cell_type": "code",
   "execution_count": 29,
   "metadata": {},
   "outputs": [
    {
     "data": {
      "text/plain": [
       "0.6931471805599453"
      ]
     },
     "execution_count": 29,
     "metadata": {},
     "output_type": "execute_result"
    }
   ],
   "source": [
    "math.log(2)"
   ]
  },
  {
   "cell_type": "code",
   "execution_count": 30,
   "metadata": {},
   "outputs": [
    {
     "data": {
      "text/plain": [
       "0.3010299956639812"
      ]
     },
     "execution_count": 30,
     "metadata": {},
     "output_type": "execute_result"
    }
   ],
   "source": [
    "math.log10(2)"
   ]
  },
  {
   "cell_type": "code",
   "execution_count": 31,
   "metadata": {},
   "outputs": [
    {
     "data": {
      "text/plain": [
       "1.0"
      ]
     },
     "execution_count": 31,
     "metadata": {},
     "output_type": "execute_result"
    }
   ],
   "source": [
    "math.log10(10)"
   ]
  },
  {
   "cell_type": "code",
   "execution_count": 32,
   "metadata": {},
   "outputs": [
    {
     "data": {
      "text/plain": [
       "7.38905609893065"
      ]
     },
     "execution_count": 32,
     "metadata": {},
     "output_type": "execute_result"
    }
   ],
   "source": [
    "math.exp(2)"
   ]
  },
  {
   "cell_type": "code",
   "execution_count": 33,
   "metadata": {},
   "outputs": [
    {
     "data": {
      "text/plain": [
       "3.141592653589793"
      ]
     },
     "execution_count": 33,
     "metadata": {},
     "output_type": "execute_result"
    }
   ],
   "source": [
    "math.pi"
   ]
  },
  {
   "cell_type": "code",
   "execution_count": 34,
   "metadata": {},
   "outputs": [
    {
     "data": {
      "text/plain": [
       "0.8660254037844386"
      ]
     },
     "execution_count": 34,
     "metadata": {},
     "output_type": "execute_result"
    }
   ],
   "source": [
    "math.sin(math.pi/3)"
   ]
  },
  {
   "cell_type": "code",
   "execution_count": 35,
   "metadata": {},
   "outputs": [
    {
     "data": {
      "text/plain": [
       "0.8660254037844386"
      ]
     },
     "execution_count": 35,
     "metadata": {},
     "output_type": "execute_result"
    }
   ],
   "source": [
    "math.sqrt(3)/2"
   ]
  },
  {
   "cell_type": "code",
   "execution_count": 36,
   "metadata": {},
   "outputs": [
    {
     "data": {
      "text/plain": [
       "0.8660254037844386"
      ]
     },
     "execution_count": 36,
     "metadata": {},
     "output_type": "execute_result"
    }
   ],
   "source": [
    "3**0.5/2"
   ]
  },
  {
   "cell_type": "code",
   "execution_count": 37,
   "metadata": {},
   "outputs": [
    {
     "data": {
      "text/plain": [
       "45.0"
      ]
     },
     "execution_count": 37,
     "metadata": {},
     "output_type": "execute_result"
    }
   ],
   "source": [
    "math.degrees(math.pi/4)"
   ]
  },
  {
   "cell_type": "code",
   "execution_count": 38,
   "metadata": {},
   "outputs": [
    {
     "data": {
      "text/plain": [
       "3.141592653589793"
      ]
     },
     "execution_count": 38,
     "metadata": {},
     "output_type": "execute_result"
    }
   ],
   "source": [
    "math.radians(45) * 4"
   ]
  },
  {
   "cell_type": "code",
   "execution_count": 39,
   "metadata": {},
   "outputs": [
    {
     "name": "stdout",
     "output_type": "stream",
     "text": [
      "3.1415926536\n"
     ]
    }
   ],
   "source": [
    "print('{:.10f}'.format(math.pi))"
   ]
  },
  {
   "cell_type": "code",
   "execution_count": 40,
   "metadata": {},
   "outputs": [
    {
     "data": {
      "text/plain": [
       "3.141592653589793"
      ]
     },
     "execution_count": 40,
     "metadata": {},
     "output_type": "execute_result"
    }
   ],
   "source": [
    "math.atan(1) * 4"
   ]
  },
  {
   "cell_type": "code",
   "execution_count": 41,
   "metadata": {},
   "outputs": [
    {
     "data": {
      "text/plain": [
       "0.842700792949715"
      ]
     },
     "execution_count": 41,
     "metadata": {},
     "output_type": "execute_result"
    }
   ],
   "source": [
    "math.erf(1)"
   ]
  },
  {
   "cell_type": "markdown",
   "metadata": {},
   "source": [
    "Note that math.erf is the error function\n",
    "\n",
    "$$\\operatorname{erf}(x) = \\frac{1}{\\sqrt\\pi}\\int_{-x}^x e^{-t^2} \\,dt = \\frac{2}{\\sqrt\\pi}\\int_0^x e^{-t^2}\\,dt$$"
   ]
  },
  {
   "cell_type": "code",
   "execution_count": 42,
   "metadata": {},
   "outputs": [
    {
     "data": {
      "text/plain": [
       "2.718281828459045"
      ]
     },
     "execution_count": 42,
     "metadata": {},
     "output_type": "execute_result"
    }
   ],
   "source": [
    "math.e"
   ]
  },
  {
   "cell_type": "code",
   "execution_count": 43,
   "metadata": {},
   "outputs": [
    {
     "data": {
      "text/plain": [
       "1.7724538509055159"
      ]
     },
     "execution_count": 43,
     "metadata": {},
     "output_type": "execute_result"
    }
   ],
   "source": [
    "math.gamma(0.5)"
   ]
  },
  {
   "cell_type": "code",
   "execution_count": 44,
   "metadata": {},
   "outputs": [
    {
     "data": {
      "text/plain": [
       "24.0"
      ]
     },
     "execution_count": 44,
     "metadata": {},
     "output_type": "execute_result"
    }
   ],
   "source": [
    "math.gamma(5)"
   ]
  },
  {
   "cell_type": "markdown",
   "metadata": {},
   "source": [
    "$$\\Gamma(n) = (n-1)!$$\n",
    "$$\\Gamma(z) = \\int_0^\\infty x^{z-1} e^{-x}\\,dx$$"
   ]
  },
  {
   "cell_type": "code",
   "execution_count": 45,
   "metadata": {},
   "outputs": [
    {
     "data": {
      "text/plain": [
       "10"
      ]
     },
     "execution_count": 45,
     "metadata": {},
     "output_type": "execute_result"
    }
   ],
   "source": [
    "math.gcd(30, 40)"
   ]
  },
  {
   "cell_type": "code",
   "execution_count": 46,
   "metadata": {},
   "outputs": [
    {
     "data": {
      "text/plain": [
       "1.4142135623730951"
      ]
     },
     "execution_count": 46,
     "metadata": {},
     "output_type": "execute_result"
    }
   ],
   "source": [
    "math.sqrt(2)"
   ]
  },
  {
   "cell_type": "code",
   "execution_count": 47,
   "metadata": {},
   "outputs": [
    {
     "data": {
      "text/plain": [
       "120.0"
      ]
     },
     "execution_count": 47,
     "metadata": {},
     "output_type": "execute_result"
    }
   ],
   "source": [
    "30 * 40 / math.gcd(30,40)"
   ]
  },
  {
   "cell_type": "markdown",
   "metadata": {},
   "source": [
    "# Sequence Types: list, tuple, range"
   ]
  },
  {
   "cell_type": "code",
   "execution_count": 48,
   "metadata": {},
   "outputs": [
    {
     "data": {
      "text/plain": [
       "[1, 'hi', (3+3j), 0.1]"
      ]
     },
     "execution_count": 48,
     "metadata": {},
     "output_type": "execute_result"
    }
   ],
   "source": [
    "a = list([1,'hi',3+3j,0.1])\n",
    "a"
   ]
  },
  {
   "cell_type": "code",
   "execution_count": 49,
   "metadata": {},
   "outputs": [
    {
     "data": {
      "text/plain": [
       "(2, 4)"
      ]
     },
     "execution_count": 49,
     "metadata": {},
     "output_type": "execute_result"
    }
   ],
   "source": [
    "b = tuple((2,4))\n",
    "b"
   ]
  },
  {
   "cell_type": "code",
   "execution_count": 50,
   "metadata": {},
   "outputs": [
    {
     "data": {
      "text/plain": [
       "(3, 4)"
      ]
     },
     "execution_count": 50,
     "metadata": {},
     "output_type": "execute_result"
    }
   ],
   "source": [
    "c = tuple([3,4])\n",
    "c"
   ]
  },
  {
   "cell_type": "code",
   "execution_count": 51,
   "metadata": {},
   "outputs": [
    {
     "data": {
      "text/plain": [
       "(1, 2, 3, 4, 5)"
      ]
     },
     "execution_count": 51,
     "metadata": {},
     "output_type": "execute_result"
    }
   ],
   "source": [
    "d = tuple([1,2,3,4,5])\n",
    "d"
   ]
  },
  {
   "cell_type": "code",
   "execution_count": 52,
   "metadata": {},
   "outputs": [
    {
     "data": {
      "text/plain": [
       "list"
      ]
     },
     "execution_count": 52,
     "metadata": {},
     "output_type": "execute_result"
    }
   ],
   "source": [
    "type([1,2,3])"
   ]
  },
  {
   "cell_type": "code",
   "execution_count": 53,
   "metadata": {},
   "outputs": [
    {
     "data": {
      "text/plain": [
       "tuple"
      ]
     },
     "execution_count": 53,
     "metadata": {},
     "output_type": "execute_result"
    }
   ],
   "source": [
    "type((2,3,4))"
   ]
  },
  {
   "cell_type": "code",
   "execution_count": 54,
   "metadata": {},
   "outputs": [
    {
     "data": {
      "text/plain": [
       "range(0, 12)"
      ]
     },
     "execution_count": 54,
     "metadata": {},
     "output_type": "execute_result"
    }
   ],
   "source": [
    "range(12)"
   ]
  },
  {
   "cell_type": "code",
   "execution_count": 55,
   "metadata": {},
   "outputs": [
    {
     "data": {
      "text/plain": [
       "[0, 1, 2, 3, 4, 5, 6, 7, 8, 9, 10, 11]"
      ]
     },
     "execution_count": 55,
     "metadata": {},
     "output_type": "execute_result"
    }
   ],
   "source": [
    "list(range(12))"
   ]
  },
  {
   "cell_type": "code",
   "execution_count": 56,
   "metadata": {},
   "outputs": [
    {
     "data": {
      "text/plain": [
       "list"
      ]
     },
     "execution_count": 56,
     "metadata": {},
     "output_type": "execute_result"
    }
   ],
   "source": [
    "type(list(range(12)))"
   ]
  },
  {
   "cell_type": "code",
   "execution_count": 57,
   "metadata": {},
   "outputs": [
    {
     "data": {
      "text/plain": [
       "range(0, 12)"
      ]
     },
     "execution_count": 57,
     "metadata": {},
     "output_type": "execute_result"
    }
   ],
   "source": [
    "a = range(12)\n",
    "a"
   ]
  },
  {
   "cell_type": "code",
   "execution_count": 58,
   "metadata": {},
   "outputs": [
    {
     "data": {
      "text/plain": [
       "range"
      ]
     },
     "execution_count": 58,
     "metadata": {},
     "output_type": "execute_result"
    }
   ],
   "source": [
    "type(a)"
   ]
  },
  {
   "cell_type": "code",
   "execution_count": 59,
   "metadata": {},
   "outputs": [
    {
     "name": "stdout",
     "output_type": "stream",
     "text": [
      "range(0, 12)\n"
     ]
    }
   ],
   "source": [
    "print(a)"
   ]
  },
  {
   "cell_type": "code",
   "execution_count": 60,
   "metadata": {},
   "outputs": [
    {
     "data": {
      "text/plain": [
       "[0, 1, 2, 3, 4, 5, 6, 7, 8, 9, 10, 11]"
      ]
     },
     "execution_count": 60,
     "metadata": {},
     "output_type": "execute_result"
    }
   ],
   "source": [
    "list(a)"
   ]
  },
  {
   "cell_type": "code",
   "execution_count": 61,
   "metadata": {},
   "outputs": [
    {
     "data": {
      "text/plain": [
       "(0, 1, 2, 3, 4, 5, 6, 7, 8, 9, 10, 11)"
      ]
     },
     "execution_count": 61,
     "metadata": {},
     "output_type": "execute_result"
    }
   ],
   "source": [
    "tuple(a)"
   ]
  },
  {
   "cell_type": "code",
   "execution_count": 62,
   "metadata": {},
   "outputs": [
    {
     "data": {
      "text/plain": [
       "[0, 1, 2, 3, 4, 5, 6, 7, 8, 9, 10, 11]"
      ]
     },
     "execution_count": 62,
     "metadata": {},
     "output_type": "execute_result"
    }
   ],
   "source": [
    "list(range(12))"
   ]
  },
  {
   "cell_type": "code",
   "execution_count": 63,
   "metadata": {},
   "outputs": [
    {
     "data": {
      "text/plain": [
       "[1, 2, 3, 4, 5, 6, 7, 8, 9]"
      ]
     },
     "execution_count": 63,
     "metadata": {},
     "output_type": "execute_result"
    }
   ],
   "source": [
    "list(range(1,10))"
   ]
  },
  {
   "cell_type": "code",
   "execution_count": 64,
   "metadata": {},
   "outputs": [
    {
     "data": {
      "text/plain": [
       "[1, 4, 7]"
      ]
     },
     "execution_count": 64,
     "metadata": {},
     "output_type": "execute_result"
    }
   ],
   "source": [
    "list(range(1,10,3))"
   ]
  },
  {
   "cell_type": "code",
   "execution_count": 65,
   "metadata": {},
   "outputs": [
    {
     "data": {
      "text/plain": [
       "[1, 4, 7, 10, 13, 16, 19, 22, 25, 28]"
      ]
     },
     "execution_count": 65,
     "metadata": {},
     "output_type": "execute_result"
    }
   ],
   "source": [
    "list(range(1,30,3))"
   ]
  },
  {
   "cell_type": "markdown",
   "metadata": {},
   "source": [
    "# Sequence Operation\n",
    "https://docs.python.org/3/library/stdtypes.html#common-sequence-operations\n",
    "<table border=\"1\" class=\"docutils\" align = 'left' style=\"font-family: sans-serif; font-size:110%;}\">\n",
    "<colgroup>\n",
    "<col width=\"38%\" />\n",
    "<col width=\"47%\" />\n",
    "<col width=\"15%\" />\n",
    "</colgroup>\n",
    "<thead valign=\"bottom\">\n",
    "<tr class=\"row-odd\"><th class=\"head\">Operation</th>\n",
    "<th class=\"head\">Result</th>\n",
    "<th class=\"head\">Notes</th>\n",
    "</tr>\n",
    "</thead>\n",
    "<tbody valign=\"top\">\n",
    "<tr class=\"row-even\"><td><code class=\"docutils literal\"><span class=\"pre\">x</span> <span class=\"pre\">in</span> <span class=\"pre\">s</span></code></td>\n",
    "<td><code class=\"docutils literal\"><span class=\"pre\">True</span></code> if an item of <em>s</em> is\n",
    "equal to <em>x</em>, else <code class=\"docutils literal\"><span class=\"pre\">False</span></code></td>\n",
    "<td>(1)</td>\n",
    "</tr>\n",
    "<tr class=\"row-odd\"><td><code class=\"docutils literal\"><span class=\"pre\">x</span> <span class=\"pre\">not</span> <span class=\"pre\">in</span> <span class=\"pre\">s</span></code></td>\n",
    "<td><code class=\"docutils literal\"><span class=\"pre\">False</span></code> if an item of <em>s</em> is\n",
    "equal to <em>x</em>, else <code class=\"docutils literal\"><span class=\"pre\">True</span></code></td>\n",
    "<td>(1)</td>\n",
    "</tr>\n",
    "<tr class=\"row-even\"><td><code class=\"docutils literal\"><span class=\"pre\">s</span> <span class=\"pre\">+</span> <span class=\"pre\">t</span></code></td>\n",
    "<td>the concatenation of <em>s</em> and\n",
    "<em>t</em></td>\n",
    "<td>(6)(7)</td>\n",
    "</tr>\n",
    "<tr class=\"row-odd\"><td><code class=\"docutils literal\"><span class=\"pre\">s</span> <span class=\"pre\">&#42;</span> <span class=\"pre\">n</span></code> or\n",
    "<code class=\"docutils literal\"><span class=\"pre\">n</span> <span class=\"pre\">&#42;</span> <span class=\"pre\">s</span></code></td>\n",
    "<td>equivalent to adding <em>s</em> to\n",
    "itself <em>n</em> times</td>\n",
    "<td>(2)(7)</td>\n",
    "</tr>\n",
    "<tr class=\"row-even\"><td><code class=\"docutils literal\"><span class=\"pre\">s[i]</span></code></td>\n",
    "<td><em>i</em>th item of <em>s</em>, origin 0</td>\n",
    "<td>(3)</td>\n",
    "</tr>\n",
    "<tr class=\"row-odd\"><td><code class=\"docutils literal\"><span class=\"pre\">s[i:j]</span></code></td>\n",
    "<td>slice of <em>s</em> from <em>i</em> to <em>j</em></td>\n",
    "<td>(3)(4)</td>\n",
    "</tr>\n",
    "<tr class=\"row-even\"><td><code class=\"docutils literal\"><span class=\"pre\">s[i:j:k]</span></code></td>\n",
    "<td>slice of <em>s</em> from <em>i</em> to <em>j</em>\n",
    "with step <em>k</em></td>\n",
    "<td>(3)(5)</td>\n",
    "</tr>\n",
    "<tr class=\"row-odd\"><td><code class=\"docutils literal\"><span class=\"pre\">len(s)</span></code></td>\n",
    "<td>length of <em>s</em></td>\n",
    "<td>&nbsp;</td>\n",
    "</tr>\n",
    "<tr class=\"row-even\"><td><code class=\"docutils literal\"><span class=\"pre\">min(s)</span></code></td>\n",
    "<td>smallest item of <em>s</em></td>\n",
    "<td>&nbsp;</td>\n",
    "</tr>\n",
    "<tr class=\"row-odd\"><td><code class=\"docutils literal\"><span class=\"pre\">max(s)</span></code></td>\n",
    "<td>largest item of <em>s</em></td>\n",
    "<td>&nbsp;</td>\n",
    "</tr>\n",
    "<tr class=\"row-even\"><td><code class=\"docutils literal\"><span class=\"pre\">s.index(x[,</span> <span class=\"pre\">i[,</span> <span class=\"pre\">j]])</span></code></td>\n",
    "<td>index of the first occurrence\n",
    "of <em>x</em> in <em>s</em> (at or after\n",
    "index <em>i</em> and before index <em>j</em>)</td>\n",
    "<td>(8)</td>\n",
    "</tr>\n",
    "<tr class=\"row-odd\"><td><code class=\"docutils literal\"><span class=\"pre\">s.count(x)</span></code></td>\n",
    "<td>total number of occurrences of\n",
    "<em>x</em> in <em>s</em></td>\n",
    "<td>&nbsp;</td>\n",
    "</tr>\n",
    "</tbody>\n",
    "</table>\n",
    "\n",
    "\n",
    "https://docs.python.org/3.6/tutorial/introduction.html#strings\n",
    "\n",
    "## List Slicing\n",
    "<div class=\"highlight-python3\"><div class=\"highlight\"><pre><span></span> <span class=\"o\">+---+---+---+---+---+---+</span>\n",
    " <span class=\"o\">|</span> <span class=\"n\">P</span> <span class=\"o\">|</span> <span class=\"n\">y</span> <span class=\"o\">|</span> <span class=\"n\">t</span> <span class=\"o\">|</span> <span class=\"n\">h</span> <span class=\"o\">|</span> <span class=\"n\">o</span> <span class=\"o\">|</span> <span class=\"n\">n</span> <span class=\"o\">|</span>\n",
    " <span class=\"o\">+---+---+---+---+---+---+</span>\n",
    " <span class=\"mi\">0</span>   <span class=\"mi\">1</span>   <span class=\"mi\">2</span>   <span class=\"mi\">3</span>   <span class=\"mi\">4</span>   <span class=\"mi\">5</span>   <span class=\"mi\">6</span>\n",
    "<span class=\"o\">-</span><span class=\"mi\">6</span>  <span class=\"o\">-</span><span class=\"mi\">5</span>  <span class=\"o\">-</span><span class=\"mi\">4</span>  <span class=\"o\">-</span><span class=\"mi\">3</span>  <span class=\"o\">-</span><span class=\"mi\">2</span>  <span class=\"o\">-</span><span class=\"mi\">1</span>\n",
    "</pre></div>\n",
    "</div>"
   ]
  },
  {
   "cell_type": "code",
   "execution_count": 66,
   "metadata": {},
   "outputs": [
    {
     "data": {
      "text/plain": [
       "['P', 'y', 't', 'h', 'o', 'n']"
      ]
     },
     "execution_count": 66,
     "metadata": {},
     "output_type": "execute_result"
    }
   ],
   "source": [
    "p = list('Python')\n",
    "p"
   ]
  },
  {
   "cell_type": "code",
   "execution_count": 67,
   "metadata": {},
   "outputs": [
    {
     "data": {
      "text/plain": [
       "'t'"
      ]
     },
     "execution_count": 67,
     "metadata": {},
     "output_type": "execute_result"
    }
   ],
   "source": [
    "p[2]"
   ]
  },
  {
   "cell_type": "code",
   "execution_count": 68,
   "metadata": {},
   "outputs": [
    {
     "data": {
      "text/plain": [
       "'o'"
      ]
     },
     "execution_count": 68,
     "metadata": {},
     "output_type": "execute_result"
    }
   ],
   "source": [
    "p[-2]"
   ]
  },
  {
   "cell_type": "code",
   "execution_count": 69,
   "metadata": {},
   "outputs": [
    {
     "data": {
      "text/plain": [
       "['h', 'o']"
      ]
     },
     "execution_count": 69,
     "metadata": {},
     "output_type": "execute_result"
    }
   ],
   "source": [
    "p[3:5]"
   ]
  },
  {
   "cell_type": "code",
   "execution_count": 70,
   "metadata": {},
   "outputs": [
    {
     "data": {
      "text/plain": [
       "['y', 't', 'h']"
      ]
     },
     "execution_count": 70,
     "metadata": {},
     "output_type": "execute_result"
    }
   ],
   "source": [
    "p[-5:4]"
   ]
  },
  {
   "cell_type": "code",
   "execution_count": 71,
   "metadata": {},
   "outputs": [
    {
     "data": {
      "text/plain": [
       "['o', 'h', 't']"
      ]
     },
     "execution_count": 71,
     "metadata": {},
     "output_type": "execute_result"
    }
   ],
   "source": [
    "p[4:1:-1]"
   ]
  },
  {
   "cell_type": "code",
   "execution_count": 72,
   "metadata": {},
   "outputs": [
    {
     "data": {
      "text/plain": [
       "[1, 4, 7, 10, 13, 16, 19, 22, 25, 28]"
      ]
     },
     "execution_count": 72,
     "metadata": {},
     "output_type": "execute_result"
    }
   ],
   "source": [
    "a = list(range(1,30,3))\n",
    "a"
   ]
  },
  {
   "cell_type": "code",
   "execution_count": 73,
   "metadata": {},
   "outputs": [
    {
     "data": {
      "text/plain": [
       "1"
      ]
     },
     "execution_count": 73,
     "metadata": {},
     "output_type": "execute_result"
    }
   ],
   "source": [
    "a[0]"
   ]
  },
  {
   "cell_type": "code",
   "execution_count": 74,
   "metadata": {},
   "outputs": [
    {
     "data": {
      "text/plain": [
       "4"
      ]
     },
     "execution_count": 74,
     "metadata": {},
     "output_type": "execute_result"
    }
   ],
   "source": [
    "a[1]"
   ]
  },
  {
   "cell_type": "code",
   "execution_count": 75,
   "metadata": {},
   "outputs": [
    {
     "data": {
      "text/plain": [
       "7"
      ]
     },
     "execution_count": 75,
     "metadata": {},
     "output_type": "execute_result"
    }
   ],
   "source": [
    "a[2]"
   ]
  },
  {
   "cell_type": "code",
   "execution_count": 76,
   "metadata": {},
   "outputs": [
    {
     "data": {
      "text/plain": [
       "28"
      ]
     },
     "execution_count": 76,
     "metadata": {},
     "output_type": "execute_result"
    }
   ],
   "source": [
    "a[-1]"
   ]
  },
  {
   "cell_type": "code",
   "execution_count": 77,
   "metadata": {},
   "outputs": [
    {
     "data": {
      "text/plain": [
       "25"
      ]
     },
     "execution_count": 77,
     "metadata": {},
     "output_type": "execute_result"
    }
   ],
   "source": [
    "a[-2]"
   ]
  },
  {
   "cell_type": "code",
   "execution_count": 78,
   "metadata": {},
   "outputs": [
    {
     "data": {
      "text/plain": [
       "[1, 4, 7, 10, 13, 16, 19, 22, 25, 28]"
      ]
     },
     "execution_count": 78,
     "metadata": {},
     "output_type": "execute_result"
    }
   ],
   "source": [
    "a[:]"
   ]
  },
  {
   "cell_type": "code",
   "execution_count": 79,
   "metadata": {},
   "outputs": [
    {
     "data": {
      "text/plain": [
       "[4, 7, 10, 13, 16, 19, 22, 25]"
      ]
     },
     "execution_count": 79,
     "metadata": {},
     "output_type": "execute_result"
    }
   ],
   "source": [
    "a[1:-1]"
   ]
  },
  {
   "cell_type": "code",
   "execution_count": 80,
   "metadata": {},
   "outputs": [
    {
     "data": {
      "text/plain": [
       "[10]"
      ]
     },
     "execution_count": 80,
     "metadata": {},
     "output_type": "execute_result"
    }
   ],
   "source": [
    "a[3:4]"
   ]
  },
  {
   "cell_type": "code",
   "execution_count": 81,
   "metadata": {},
   "outputs": [
    {
     "data": {
      "text/plain": [
       "10"
      ]
     },
     "execution_count": 81,
     "metadata": {},
     "output_type": "execute_result"
    }
   ],
   "source": [
    "a[3]"
   ]
  },
  {
   "cell_type": "code",
   "execution_count": 82,
   "metadata": {},
   "outputs": [
    {
     "data": {
      "text/plain": [
       "[10, 13, 16, 19, 22, 25, 28]"
      ]
     },
     "execution_count": 82,
     "metadata": {},
     "output_type": "execute_result"
    }
   ],
   "source": [
    "a[3:]"
   ]
  },
  {
   "cell_type": "code",
   "execution_count": 83,
   "metadata": {},
   "outputs": [
    {
     "data": {
      "text/plain": [
       "False"
      ]
     },
     "execution_count": 83,
     "metadata": {},
     "output_type": "execute_result"
    }
   ],
   "source": [
    "12 in a"
   ]
  },
  {
   "cell_type": "code",
   "execution_count": 84,
   "metadata": {},
   "outputs": [
    {
     "data": {
      "text/plain": [
       "True"
      ]
     },
     "execution_count": 84,
     "metadata": {},
     "output_type": "execute_result"
    }
   ],
   "source": [
    "13 in a"
   ]
  },
  {
   "cell_type": "code",
   "execution_count": 85,
   "metadata": {},
   "outputs": [
    {
     "data": {
      "text/plain": [
       "False"
      ]
     },
     "execution_count": 85,
     "metadata": {},
     "output_type": "execute_result"
    }
   ],
   "source": [
    "[13] in a"
   ]
  },
  {
   "cell_type": "code",
   "execution_count": 86,
   "metadata": {},
   "outputs": [
    {
     "data": {
      "text/plain": [
       "True"
      ]
     },
     "execution_count": 86,
     "metadata": {},
     "output_type": "execute_result"
    }
   ],
   "source": [
    "bool(a)"
   ]
  },
  {
   "cell_type": "code",
   "execution_count": 87,
   "metadata": {},
   "outputs": [
    {
     "data": {
      "text/plain": [
       "False"
      ]
     },
     "execution_count": 87,
     "metadata": {},
     "output_type": "execute_result"
    }
   ],
   "source": [
    "b = []\n",
    "bool(b)"
   ]
  },
  {
   "cell_type": "code",
   "execution_count": 88,
   "metadata": {},
   "outputs": [
    {
     "data": {
      "text/plain": [
       "0"
      ]
     },
     "execution_count": 88,
     "metadata": {},
     "output_type": "execute_result"
    }
   ],
   "source": [
    "len(b)"
   ]
  },
  {
   "cell_type": "code",
   "execution_count": 89,
   "metadata": {},
   "outputs": [
    {
     "data": {
      "text/plain": [
       "10"
      ]
     },
     "execution_count": 89,
     "metadata": {},
     "output_type": "execute_result"
    }
   ],
   "source": [
    "len(a)"
   ]
  },
  {
   "cell_type": "code",
   "execution_count": 90,
   "metadata": {},
   "outputs": [
    {
     "data": {
      "text/plain": [
       "[1, 4, 7, 10, 13, 16, 19, 22, 25, 28]"
      ]
     },
     "execution_count": 90,
     "metadata": {},
     "output_type": "execute_result"
    }
   ],
   "source": [
    "a"
   ]
  },
  {
   "cell_type": "code",
   "execution_count": 91,
   "metadata": {},
   "outputs": [
    {
     "data": {
      "text/plain": [
       "[28, 25, 22, 19, 16, 13, 10, 7, 4, 1]"
      ]
     },
     "execution_count": 91,
     "metadata": {},
     "output_type": "execute_result"
    }
   ],
   "source": [
    "c = sorted(a, reverse = True)\n",
    "c"
   ]
  },
  {
   "cell_type": "code",
   "execution_count": 92,
   "metadata": {},
   "outputs": [
    {
     "data": {
      "text/plain": [
       "[28, 25, 22, 19, 16, 13, 10, 7, 4, 1, 28, 25, 22, 19, 16, 13, 10, 7, 4, 1]"
      ]
     },
     "execution_count": 92,
     "metadata": {},
     "output_type": "execute_result"
    }
   ],
   "source": [
    "c*2"
   ]
  },
  {
   "cell_type": "code",
   "execution_count": 93,
   "metadata": {},
   "outputs": [
    {
     "data": {
      "text/plain": [
       "3"
      ]
     },
     "execution_count": 93,
     "metadata": {},
     "output_type": "execute_result"
    }
   ],
   "source": [
    "(c*3).count(25) #25 occur 3 times in (c*3)"
   ]
  },
  {
   "cell_type": "code",
   "execution_count": 94,
   "metadata": {},
   "outputs": [
    {
     "data": {
      "text/plain": [
       "3"
      ]
     },
     "execution_count": 94,
     "metadata": {},
     "output_type": "execute_result"
    }
   ],
   "source": [
    "(c*3).count(25.0)"
   ]
  },
  {
   "cell_type": "code",
   "execution_count": 95,
   "metadata": {},
   "outputs": [
    {
     "data": {
      "text/plain": [
       "1"
      ]
     },
     "execution_count": 95,
     "metadata": {},
     "output_type": "execute_result"
    }
   ],
   "source": [
    "min(a)"
   ]
  },
  {
   "cell_type": "code",
   "execution_count": 96,
   "metadata": {},
   "outputs": [
    {
     "data": {
      "text/plain": [
       "28"
      ]
     },
     "execution_count": 96,
     "metadata": {},
     "output_type": "execute_result"
    }
   ],
   "source": [
    "max(a)"
   ]
  },
  {
   "cell_type": "markdown",
   "metadata": {},
   "source": [
    "# Mutable Sequence Operation\n",
    "(does not apply to tuple)\n",
    "https://docs.python.org/3/library/stdtypes.html#mutable-sequence-types\n",
    "<table align = \"left\" border=\"1\" class=\"docutils\" id=\"index-23\" style=\"font-family: sans-serif; font-size:110%;}\">\n",
    "<colgroup>\n",
    "<col width=\"36%\" />\n",
    "<col width=\"39%\" />\n",
    "<col width=\"25%\" />\n",
    "</colgroup>\n",
    "<thead valign=\"bottom\">\n",
    "<tr class=\"row-odd\"><th class=\"head\">Operation</th>\n",
    "<th class=\"head\">Result</th>\n",
    "<th class=\"head\">Notes</th>\n",
    "</tr>\n",
    "</thead>\n",
    "<tbody valign=\"top\">\n",
    "<tr class=\"row-even\"><td><code class=\"docutils literal\"><span class=\"pre\">s[i]</span> <span class=\"pre\">=</span> <span class=\"pre\">x</span></code></td>\n",
    "<td>item <em>i</em> of <em>s</em> is replaced by\n",
    "<em>x</em></td>\n",
    "<td>&nbsp;</td>\n",
    "</tr>\n",
    "<tr class=\"row-odd\"><td><code class=\"docutils literal\"><span class=\"pre\">s[i:j]</span> <span class=\"pre\">=</span> <span class=\"pre\">t</span></code></td>\n",
    "<td>slice of <em>s</em> from <em>i</em> to <em>j</em>\n",
    "is replaced by the contents of\n",
    "the iterable <em>t</em></td>\n",
    "<td>&nbsp;</td>\n",
    "</tr>\n",
    "<tr class=\"row-even\"><td><code class=\"docutils literal\"><span class=\"pre\">del</span> <span class=\"pre\">s[i:j]</span></code></td>\n",
    "<td>same as <code class=\"docutils literal\"><span class=\"pre\">s[i:j]</span> <span class=\"pre\">=</span> <span class=\"pre\">[]</span></code></td>\n",
    "<td>&nbsp;</td>\n",
    "</tr>\n",
    "<tr class=\"row-odd\"><td><code class=\"docutils literal\"><span class=\"pre\">s[i:j:k]</span> <span class=\"pre\">=</span> <span class=\"pre\">t</span></code></td>\n",
    "<td>the elements of <code class=\"docutils literal\"><span class=\"pre\">s[i:j:k]</span></code>\n",
    "are replaced by those of <em>t</em></td>\n",
    "<td>(1)</td>\n",
    "</tr>\n",
    "<tr class=\"row-even\"><td><code class=\"docutils literal\"><span class=\"pre\">del</span> <span class=\"pre\">s[i:j:k]</span></code></td>\n",
    "<td>removes the elements of\n",
    "<code class=\"docutils literal\"><span class=\"pre\">s[i:j:k]</span></code> from the list</td>\n",
    "<td>&nbsp;</td>\n",
    "</tr>\n",
    "<tr class=\"row-odd\"><td><code class=\"docutils literal\"><span class=\"pre\">s.append(x)</span></code></td>\n",
    "<td>appends <em>x</em> to the end of the\n",
    "sequence (same as\n",
    "<code class=\"docutils literal\"><span class=\"pre\">s[len(s):len(s)]</span> <span class=\"pre\">=</span> <span class=\"pre\">[x]</span></code>)</td>\n",
    "<td>&nbsp;</td>\n",
    "</tr>\n",
    "<tr class=\"row-even\"><td><code class=\"docutils literal\"><span class=\"pre\">s.clear()</span></code></td>\n",
    "<td>removes all items from <code class=\"docutils literal\"><span class=\"pre\">s</span></code>\n",
    "(same as <code class=\"docutils literal\"><span class=\"pre\">del</span> <span class=\"pre\">s[:]</span></code>)</td>\n",
    "<td>(5)</td>\n",
    "</tr>\n",
    "<tr class=\"row-odd\"><td><code class=\"docutils literal\"><span class=\"pre\">s.copy()</span></code></td>\n",
    "<td>creates a shallow copy of <code class=\"docutils literal\"><span class=\"pre\">s</span></code>\n",
    "(same as <code class=\"docutils literal\"><span class=\"pre\">s[:]</span></code>)</td>\n",
    "<td>(5)</td>\n",
    "</tr>\n",
    "<tr class=\"row-even\"><td><code class=\"docutils literal\"><span class=\"pre\">s.extend(t)</span></code> or\n",
    "<code class=\"docutils literal\"><span class=\"pre\">s</span> <span class=\"pre\">+=</span> <span class=\"pre\">t</span></code></td>\n",
    "<td>extends <em>s</em> with the\n",
    "contents of <em>t</em> (for the\n",
    "most part the same as\n",
    "<code class=\"docutils literal\"><span class=\"pre\">s[len(s):len(s)]</span> <span class=\"pre\">=</span> <span class=\"pre\">t</span></code>)</td>\n",
    "<td>&nbsp;</td>\n",
    "</tr>\n",
    "<tr class=\"row-odd\"><td><code class=\"docutils literal\"><span class=\"pre\">s</span> <span class=\"pre\">*=</span> <span class=\"pre\">n</span></code></td>\n",
    "<td>updates <em>s</em> with its contents\n",
    "repeated <em>n</em> times</td>\n",
    "<td>(6)</td>\n",
    "</tr>\n",
    "<tr class=\"row-even\"><td><code class=\"docutils literal\"><span class=\"pre\">s.insert(i,</span> <span class=\"pre\">x)</span></code></td>\n",
    "<td>inserts <em>x</em> into <em>s</em> at the\n",
    "index given by <em>i</em>\n",
    "(same as <code class=\"docutils literal\"><span class=\"pre\">s[i:i]</span> <span class=\"pre\">=</span> <span class=\"pre\">[x]</span></code>)</td>\n",
    "<td>&nbsp;</td>\n",
    "</tr>\n",
    "<tr class=\"row-odd\"><td><code class=\"docutils literal\"><span class=\"pre\">s.pop([i])</span></code></td>\n",
    "<td>retrieves the item at <em>i</em> and\n",
    "also removes it from <em>s</em></td>\n",
    "<td>(2)</td>\n",
    "</tr>\n",
    "<tr class=\"row-even\"><td><code class=\"docutils literal\"><span class=\"pre\">s.remove(x)</span></code></td>\n",
    "<td>remove the first item from <em>s</em>\n",
    "where <code class=\"docutils literal\"><span class=\"pre\">s[i]</span> <span class=\"pre\">==</span> <span class=\"pre\">x</span></code></td>\n",
    "<td>(3)</td>\n",
    "</tr>\n",
    "<tr class=\"row-odd\"><td><code class=\"docutils literal\"><span class=\"pre\">s.reverse()</span></code></td>\n",
    "<td>reverses the items of <em>s</em> in\n",
    "place</td>\n",
    "<td>(4)</td>\n",
    "</tr>\n",
    "</tbody>\n",
    "</table>"
   ]
  },
  {
   "cell_type": "code",
   "execution_count": 97,
   "metadata": {},
   "outputs": [
    {
     "data": {
      "text/plain": [
       "[1, 4, 7, 10, 13, 16, 19, 22, 25, 28]"
      ]
     },
     "execution_count": 97,
     "metadata": {},
     "output_type": "execute_result"
    }
   ],
   "source": [
    "a = list(range(1,30,3))\n",
    "a"
   ]
  },
  {
   "cell_type": "code",
   "execution_count": 98,
   "metadata": {},
   "outputs": [
    {
     "data": {
      "text/plain": [
       "10"
      ]
     },
     "execution_count": 98,
     "metadata": {},
     "output_type": "execute_result"
    }
   ],
   "source": [
    "a[3]"
   ]
  },
  {
   "cell_type": "code",
   "execution_count": 99,
   "metadata": {},
   "outputs": [
    {
     "data": {
      "text/plain": [
       "[1, 4, 7, -50.35, 13, 16, 19, 22, 25, 28]"
      ]
     },
     "execution_count": 99,
     "metadata": {},
     "output_type": "execute_result"
    }
   ],
   "source": [
    "a[3] = -50.35\n",
    "a"
   ]
  },
  {
   "cell_type": "code",
   "execution_count": 100,
   "metadata": {},
   "outputs": [
    {
     "data": {
      "text/plain": [
       "[2.33, 1, 4, 7, -50.35, 13, 16, 19, 22, 25, 28]"
      ]
     },
     "execution_count": 100,
     "metadata": {},
     "output_type": "execute_result"
    }
   ],
   "source": [
    "a.insert(0,2.33)\n",
    "a"
   ]
  },
  {
   "cell_type": "code",
   "execution_count": 101,
   "metadata": {},
   "outputs": [
    {
     "data": {
      "text/plain": [
       "[28, 25, 22, 19, 16, 13, -50.35, 7, 4, 1, 2.33]"
      ]
     },
     "execution_count": 101,
     "metadata": {},
     "output_type": "execute_result"
    }
   ],
   "source": [
    "a.reverse()\n",
    "a"
   ]
  },
  {
   "cell_type": "code",
   "execution_count": 102,
   "metadata": {},
   "outputs": [
    {
     "data": {
      "text/plain": [
       "[28, 25, 22, 19, 16, 13, -50.35, 7, 4, 1, 2.33, 25]"
      ]
     },
     "execution_count": 102,
     "metadata": {},
     "output_type": "execute_result"
    }
   ],
   "source": [
    "a.append(25)\n",
    "a"
   ]
  },
  {
   "cell_type": "code",
   "execution_count": 103,
   "metadata": {},
   "outputs": [
    {
     "data": {
      "text/plain": [
       "[28, 22, 19, 16, 13, -50.35, 7, 4, 1, 2.33, 25]"
      ]
     },
     "execution_count": 103,
     "metadata": {},
     "output_type": "execute_result"
    }
   ],
   "source": [
    "a.remove(25)\n",
    "a"
   ]
  },
  {
   "cell_type": "code",
   "execution_count": 104,
   "metadata": {},
   "outputs": [
    {
     "data": {
      "text/plain": [
       "([28, 19, 16, 13, -50.35, 7, 4, 1, 2.33, 25], 22)"
      ]
     },
     "execution_count": 104,
     "metadata": {},
     "output_type": "execute_result"
    }
   ],
   "source": [
    "b = a.pop(1)\n",
    "a, b"
   ]
  },
  {
   "cell_type": "code",
   "execution_count": 105,
   "metadata": {},
   "outputs": [
    {
     "data": {
      "text/plain": [
       "[28, 19, 16, 13, -50.35, 7, 4, 1, 2.33]"
      ]
     },
     "execution_count": 105,
     "metadata": {},
     "output_type": "execute_result"
    }
   ],
   "source": [
    "a.pop(-1)\n",
    "a"
   ]
  },
  {
   "cell_type": "markdown",
   "metadata": {},
   "source": [
    "# List / Tuple Comprehension"
   ]
  },
  {
   "cell_type": "code",
   "execution_count": 106,
   "metadata": {},
   "outputs": [
    {
     "data": {
      "text/plain": [
       "[2, 4, 6, 8]"
      ]
     },
     "execution_count": 106,
     "metadata": {},
     "output_type": "execute_result"
    }
   ],
   "source": [
    "b = [i*2 for i in [1,2,3,4]]\n",
    "b"
   ]
  },
  {
   "cell_type": "code",
   "execution_count": 107,
   "metadata": {},
   "outputs": [
    {
     "data": {
      "text/plain": [
       "[2, 4, 6, 8]"
      ]
     },
     "execution_count": 107,
     "metadata": {},
     "output_type": "execute_result"
    }
   ],
   "source": [
    "b = [i*2 for i in range(1,5)]\n",
    "b"
   ]
  },
  {
   "cell_type": "code",
   "execution_count": 108,
   "metadata": {},
   "outputs": [
    {
     "data": {
      "text/plain": [
       "[1, 2, 4, 5, 7, 8, 10, 11, 13, 14, 16, 17, 19]"
      ]
     },
     "execution_count": 108,
     "metadata": {},
     "output_type": "execute_result"
    }
   ],
   "source": [
    "b = [i for i in range(0,20) if i%3 != 0]\n",
    "b"
   ]
  },
  {
   "cell_type": "code",
   "execution_count": 109,
   "metadata": {},
   "outputs": [
    {
     "data": {
      "text/plain": [
       "[0, 1, 4, 9, 16, 25, 36]"
      ]
     },
     "execution_count": 109,
     "metadata": {},
     "output_type": "execute_result"
    }
   ],
   "source": [
    "b = [i**2 for i in range (0,21) if i**3 < 300]\n",
    "b"
   ]
  },
  {
   "cell_type": "code",
   "execution_count": 110,
   "metadata": {},
   "outputs": [
    {
     "data": {
      "text/plain": [
       "['Alice', 'Christopher', 'Francis']"
      ]
     },
     "execution_count": 110,
     "metadata": {},
     "output_type": "execute_result"
    }
   ],
   "source": [
    "nameList = ['Alice', 'Bob', 'Christopher', 'Emma', 'Francis']\n",
    "b = [i for i in nameList if len(i) >4]\n",
    "b"
   ]
  },
  {
   "cell_type": "code",
   "execution_count": 111,
   "metadata": {
    "collapsed": true
   },
   "outputs": [],
   "source": [
    "nameList = ['Alice', 'Bob', 'Christopher', 'Emma', 'Francis']\n",
    "idList = [12, 15, 6, -32, 17]"
   ]
  },
  {
   "cell_type": "code",
   "execution_count": 112,
   "metadata": {},
   "outputs": [
    {
     "data": {
      "text/plain": [
       "(('Alice', 12),\n",
       " ('Alice', 15),\n",
       " ('Alice', 6),\n",
       " ('Alice', -32),\n",
       " ('Alice', 17),\n",
       " ('Bob', 12),\n",
       " ('Bob', 15),\n",
       " ('Bob', 6),\n",
       " ('Bob', -32),\n",
       " ('Bob', 17),\n",
       " ('Christopher', 12),\n",
       " ('Christopher', 15),\n",
       " ('Christopher', 6),\n",
       " ('Christopher', -32),\n",
       " ('Christopher', 17),\n",
       " ('Emma', 12),\n",
       " ('Emma', 15),\n",
       " ('Emma', 6),\n",
       " ('Emma', -32),\n",
       " ('Emma', 17),\n",
       " ('Francis', 12),\n",
       " ('Francis', 15),\n",
       " ('Francis', 6),\n",
       " ('Francis', -32),\n",
       " ('Francis', 17))"
      ]
     },
     "execution_count": 112,
     "metadata": {},
     "output_type": "execute_result"
    }
   ],
   "source": [
    "x1 = tuple((i,j) for i in nameList for j in idList)\n",
    "x1"
   ]
  },
  {
   "cell_type": "code",
   "execution_count": 113,
   "metadata": {},
   "outputs": [
    {
     "data": {
      "text/plain": [
       "(('Alice', 12),\n",
       " ('Bob', 15),\n",
       " ('Christopher', 6),\n",
       " ('Emma', -32),\n",
       " ('Francis', 17))"
      ]
     },
     "execution_count": 113,
     "metadata": {},
     "output_type": "execute_result"
    }
   ],
   "source": [
    "x2 = tuple((i,j) for i,j in zip(nameList,idList))\n",
    "x2"
   ]
  },
  {
   "cell_type": "markdown",
   "metadata": {},
   "source": [
    "# What exactly is in used for List/Tuple Comprehension\n",
    "## It is a 'Generator': like iterator, but can be used just once\n",
    "(evaluated lazily one by one): Lazy evaluation can help to improve performance (less memory usage / faster / or both)\n",
    "<br> To use %memit, do the following first,\n",
    "<br> &nbsp;&nbsp;&nbsp;&nbsp;&nbsp;&nbsp;&nbsp;&nbsp;&nbsp;&nbsp;```conda install memory_profiler```\n",
    "<br> Then load it into jupyter notebook using\n",
    "<br> &nbsp;&nbsp;&nbsp;&nbsp;&nbsp;&nbsp;&nbsp;&nbsp;&nbsp;&nbsp;```%load_ext memory_profiler```"
   ]
  },
  {
   "cell_type": "code",
   "execution_count": 114,
   "metadata": {},
   "outputs": [
    {
     "data": {
      "text/plain": [
       "<generator object <genexpr> at 0x7f7a1854c830>"
      ]
     },
     "execution_count": 114,
     "metadata": {},
     "output_type": "execute_result"
    }
   ],
   "source": [
    "((i,j) for i,j in zip(nameList,idList))"
   ]
  },
  {
   "cell_type": "code",
   "execution_count": 115,
   "metadata": {},
   "outputs": [
    {
     "data": {
      "text/plain": [
       "<generator object <genexpr> at 0x7f7a18514570>"
      ]
     },
     "execution_count": 115,
     "metadata": {},
     "output_type": "execute_result"
    }
   ],
   "source": [
    "(i for i in nameList if len(i) >4)"
   ]
  },
  {
   "cell_type": "code",
   "execution_count": 116,
   "metadata": {},
   "outputs": [
    {
     "data": {
      "text/plain": [
       "(('Alice', 12),\n",
       " ('Alice', 15),\n",
       " ('Alice', 6),\n",
       " ('Alice', -32),\n",
       " ('Alice', 17),\n",
       " ('Bob', 12),\n",
       " ('Bob', 15),\n",
       " ('Bob', 6),\n",
       " ('Bob', -32),\n",
       " ('Bob', 17),\n",
       " ('Christopher', 12),\n",
       " ('Christopher', 15),\n",
       " ('Christopher', 6),\n",
       " ('Christopher', -32),\n",
       " ('Christopher', 17),\n",
       " ('Emma', 12),\n",
       " ('Emma', 15),\n",
       " ('Emma', 6),\n",
       " ('Emma', -32),\n",
       " ('Emma', 17),\n",
       " ('Francis', 12),\n",
       " ('Francis', 15),\n",
       " ('Francis', 6),\n",
       " ('Francis', -32),\n",
       " ('Francis', 17))"
      ]
     },
     "execution_count": 116,
     "metadata": {},
     "output_type": "execute_result"
    }
   ],
   "source": [
    "y = tuple((i,j) for i in nameList for j in idList)\n",
    "y"
   ]
  },
  {
   "cell_type": "code",
   "execution_count": 117,
   "metadata": {},
   "outputs": [
    {
     "data": {
      "text/plain": [
       "(('Alice', 12),\n",
       " ('Alice', 15),\n",
       " ('Alice', 6),\n",
       " ('Alice', -32),\n",
       " ('Alice', 17),\n",
       " ('Bob', 12),\n",
       " ('Bob', 15),\n",
       " ('Bob', 6),\n",
       " ('Bob', -32),\n",
       " ('Bob', 17),\n",
       " ('Christopher', 12),\n",
       " ('Christopher', 15),\n",
       " ('Christopher', 6),\n",
       " ('Christopher', -32),\n",
       " ('Christopher', 17),\n",
       " ('Emma', 12),\n",
       " ('Emma', 15),\n",
       " ('Emma', 6),\n",
       " ('Emma', -32),\n",
       " ('Emma', 17),\n",
       " ('Francis', 12),\n",
       " ('Francis', 15),\n",
       " ('Francis', 6),\n",
       " ('Francis', -32),\n",
       " ('Francis', 17))"
      ]
     },
     "execution_count": 117,
     "metadata": {},
     "output_type": "execute_result"
    }
   ],
   "source": [
    "z = tuple()   #nested for loop approach\n",
    "for i in nameList:\n",
    "    for j in idList:\n",
    "        z = z + tuple((tuple((i,j)),))\n",
    "z"
   ]
  },
  {
   "cell_type": "code",
   "execution_count": 118,
   "metadata": {},
   "outputs": [
    {
     "data": {
      "text/plain": [
       "True"
      ]
     },
     "execution_count": 118,
     "metadata": {},
     "output_type": "execute_result"
    }
   ],
   "source": [
    "z == y"
   ]
  },
  {
   "cell_type": "code",
   "execution_count": 119,
   "metadata": {
    "collapsed": true
   },
   "outputs": [],
   "source": [
    "%load_ext memory_profiler"
   ]
  },
  {
   "cell_type": "code",
   "execution_count": 120,
   "metadata": {
    "collapsed": true
   },
   "outputs": [],
   "source": [
    "def fn1():\n",
    "    y = tuple((i,j) for i in nameList for j in idList)"
   ]
  },
  {
   "cell_type": "code",
   "execution_count": 121,
   "metadata": {},
   "outputs": [
    {
     "name": "stdout",
     "output_type": "stream",
     "text": [
      "5 loops, best of 3: 5.64 µs per loop\n"
     ]
    }
   ],
   "source": [
    "%timeit -n 5 fn1()"
   ]
  },
  {
   "cell_type": "code",
   "execution_count": 122,
   "metadata": {},
   "outputs": [
    {
     "name": "stdout",
     "output_type": "stream",
     "text": [
      "5 loops, best of 3: 11.4 µs per loop\n"
     ]
    }
   ],
   "source": [
    "result1 = %timeit -o -n 5 fn1()"
   ]
  },
  {
   "cell_type": "code",
   "execution_count": 123,
   "metadata": {},
   "outputs": [
    {
     "name": "stdout",
     "output_type": "stream",
     "text": [
      "peak memory: 43.79 MiB, increment: 0.13 MiB\n"
     ]
    }
   ],
   "source": [
    "%memit -r 5 fn1()"
   ]
  },
  {
   "cell_type": "code",
   "execution_count": 124,
   "metadata": {
    "collapsed": true
   },
   "outputs": [],
   "source": [
    "def fn2():\n",
    "    z = tuple()\n",
    "    for i in nameList:\n",
    "        for j in idList:\n",
    "            z = z + tuple((tuple((i,j)),))"
   ]
  },
  {
   "cell_type": "code",
   "execution_count": 125,
   "metadata": {},
   "outputs": [
    {
     "name": "stdout",
     "output_type": "stream",
     "text": [
      "5 loops, best of 3: 20.2 µs per loop\n"
     ]
    }
   ],
   "source": [
    "result2 = %timeit -o -n 5 fn2()"
   ]
  },
  {
   "cell_type": "code",
   "execution_count": 126,
   "metadata": {},
   "outputs": [
    {
     "name": "stdout",
     "output_type": "stream",
     "text": [
      "peak memory: 43.84 MiB, increment: 0.01 MiB\n"
     ]
    }
   ],
   "source": [
    "%memit -r 5 fn2()"
   ]
  },
  {
   "cell_type": "code",
   "execution_count": 127,
   "metadata": {},
   "outputs": [
    {
     "name": "stdout",
     "output_type": "stream",
     "text": [
      "use tuple comprehension is about 1.8 times faster\n"
     ]
    }
   ],
   "source": [
    "print('use tuple comprehension is about {:.1f} times faster'.format(result2.best/result1.best))"
   ]
  },
  {
   "cell_type": "markdown",
   "metadata": {},
   "source": [
    "# Text Sequence Type: str\n",
    "https://docs.python.org/2.4/lib/string-methods.html\n",
    "\n",
    "https://docs.python.org/3/library/stdtypes.html#text-sequence-type-str\n",
    "\n",
    "https://docs.python.org/3.6/tutorial/introduction.html#strings\n",
    "\n",
    "\n",
    "<div class=\"highlight-python3\"><div class=\"highlight\"><pre><span></span> <span class=\"o\">+---+---+---+---+---+---+</span>\n",
    " <span class=\"o\">|</span> <span class=\"n\">P</span> <span class=\"o\">|</span> <span class=\"n\">y</span> <span class=\"o\">|</span> <span class=\"n\">t</span> <span class=\"o\">|</span> <span class=\"n\">h</span> <span class=\"o\">|</span> <span class=\"n\">o</span> <span class=\"o\">|</span> <span class=\"n\">n</span> <span class=\"o\">|</span>\n",
    " <span class=\"o\">+---+---+---+---+---+---+</span>\n",
    " <span class=\"mi\">0</span>   <span class=\"mi\">1</span>   <span class=\"mi\">2</span>   <span class=\"mi\">3</span>   <span class=\"mi\">4</span>   <span class=\"mi\">5</span>   <span class=\"mi\">6</span>\n",
    "<span class=\"o\">-</span><span class=\"mi\">6</span>  <span class=\"o\">-</span><span class=\"mi\">5</span>  <span class=\"o\">-</span><span class=\"mi\">4</span>  <span class=\"o\">-</span><span class=\"mi\">3</span>  <span class=\"o\">-</span><span class=\"mi\">2</span>  <span class=\"o\">-</span><span class=\"mi\">1</span>\n",
    "</pre></div>\n",
    "</div>"
   ]
  },
  {
   "cell_type": "code",
   "execution_count": 128,
   "metadata": {
    "collapsed": true
   },
   "outputs": [],
   "source": [
    "a = 'Python'"
   ]
  },
  {
   "cell_type": "code",
   "execution_count": 129,
   "metadata": {},
   "outputs": [
    {
     "data": {
      "text/plain": [
       "'P'"
      ]
     },
     "execution_count": 129,
     "metadata": {},
     "output_type": "execute_result"
    }
   ],
   "source": [
    "a[0]"
   ]
  },
  {
   "cell_type": "code",
   "execution_count": 130,
   "metadata": {},
   "outputs": [
    {
     "data": {
      "text/plain": [
       "'h'"
      ]
     },
     "execution_count": 130,
     "metadata": {},
     "output_type": "execute_result"
    }
   ],
   "source": [
    "a[3]"
   ]
  },
  {
   "cell_type": "code",
   "execution_count": 131,
   "metadata": {},
   "outputs": [
    {
     "data": {
      "text/plain": [
       "'th'"
      ]
     },
     "execution_count": 131,
     "metadata": {},
     "output_type": "execute_result"
    }
   ],
   "source": [
    "a[2:-2]"
   ]
  },
  {
   "cell_type": "code",
   "execution_count": 132,
   "metadata": {},
   "outputs": [
    {
     "data": {
      "text/plain": [
       "'th'"
      ]
     },
     "execution_count": 132,
     "metadata": {},
     "output_type": "execute_result"
    }
   ],
   "source": [
    "a[2:4]"
   ]
  },
  {
   "cell_type": "code",
   "execution_count": 133,
   "metadata": {},
   "outputs": [
    {
     "data": {
      "text/plain": [
       "'PythonPythonPython'"
      ]
     },
     "execution_count": 133,
     "metadata": {},
     "output_type": "execute_result"
    }
   ],
   "source": [
    "a*3"
   ]
  },
  {
   "cell_type": "code",
   "execution_count": 134,
   "metadata": {},
   "outputs": [
    {
     "name": "stdout",
     "output_type": "stream",
     "text": [
      "Python\n"
     ]
    }
   ],
   "source": [
    "print(a)"
   ]
  },
  {
   "cell_type": "markdown",
   "metadata": {},
   "source": [
    "## Python Escape Character\n",
    "https://docs.python.org/3/reference/lexical_analysis.html#grammar-token-stringescapeseq\n",
    "\n",
    "<table border=\"1\" class=\"docutils\" align = 'left' style=\"font-family: sans-serif; font-size:110%;\">\n",
    "<colgroup>\n",
    "<col width=\"30%\" />\n",
    "<col width=\"58%\" />\n",
    "<col width=\"12%\" />\n",
    "</colgroup>\n",
    "<thead valign=\"bottom\">\n",
    "<tr class=\"row-odd\"><th class=\"head\">Escape Sequence</th>\n",
    "<th class=\"head\">Meaning</th>\n",
    "<th class=\"head\">Notes</th>\n",
    "</tr>\n",
    "</thead>\n",
    "<tbody valign=\"top\">\n",
    "<tr class=\"row-even\"><td><code class=\"docutils literal\"><span class=\"pre\">\\newline</span></code></td>\n",
    "<td>Backslash and newline ignored</td>\n",
    "<td>&nbsp;</td>\n",
    "</tr>\n",
    "<tr class=\"row-odd\"><td><code class=\"docutils literal\"><span class=\"pre\">\\\\</span></code></td>\n",
    "<td>Backslash (<code class=\"docutils literal\"><span class=\"pre\">\\</span></code>)</td>\n",
    "<td>&nbsp;</td>\n",
    "</tr>\n",
    "<tr class=\"row-even\"><td><code class=\"docutils literal\"><span class=\"pre\">\\'</span></code></td>\n",
    "<td>Single quote (<code class=\"docutils literal\"><span class=\"pre\">'</span></code>)</td>\n",
    "<td>&nbsp;</td>\n",
    "</tr>\n",
    "<tr class=\"row-odd\"><td><code class=\"docutils literal\"><span class=\"pre\">\\&quot;</span></code></td>\n",
    "<td>Double quote (<code class=\"docutils literal\"><span class=\"pre\">&quot;</span></code>)</td>\n",
    "<td>&nbsp;</td>\n",
    "</tr>\n",
    "<tr class=\"row-even\"><td><code class=\"docutils literal\"><span class=\"pre\">\\a</span></code></td>\n",
    "<td>ASCII Bell (BEL)</td>\n",
    "<td>&nbsp;</td>\n",
    "</tr>\n",
    "<tr class=\"row-odd\"><td><code class=\"docutils literal\"><span class=\"pre\">\\b</span></code></td>\n",
    "<td>ASCII Backspace (BS)</td>\n",
    "<td>&nbsp;</td>\n",
    "</tr>\n",
    "<tr class=\"row-even\"><td><code class=\"docutils literal\"><span class=\"pre\">\\f</span></code></td>\n",
    "<td>ASCII Formfeed (FF)</td>\n",
    "<td>&nbsp;</td>\n",
    "</tr>\n",
    "<tr class=\"row-odd\"><td><code class=\"docutils literal\"><span class=\"pre\">\\n</span></code></td>\n",
    "<td>ASCII Linefeed (LF)</td>\n",
    "<td>&nbsp;</td>\n",
    "</tr>\n",
    "<tr class=\"row-even\"><td><code class=\"docutils literal\"><span class=\"pre\">\\r</span></code></td>\n",
    "<td>ASCII Carriage Return (CR)</td>\n",
    "<td>&nbsp;</td>\n",
    "</tr>\n",
    "<tr class=\"row-odd\"><td><code class=\"docutils literal\"><span class=\"pre\">\\t</span></code></td>\n",
    "<td>ASCII Horizontal Tab (TAB)</td>\n",
    "<td>&nbsp;</td>\n",
    "</tr>\n",
    "<tr class=\"row-even\"><td><code class=\"docutils literal\"><span class=\"pre\">\\v</span></code></td>\n",
    "<td>ASCII Vertical Tab (VT)</td>\n",
    "<td>&nbsp;</td>\n",
    "</tr>\n",
    "<tr class=\"row-odd\"><td><code class=\"docutils literal\"><span class=\"pre\">\\ooo</span></code></td>\n",
    "<td>Character with octal value\n",
    "<em>ooo</em></td>\n",
    "<td>(1,3)</td>\n",
    "</tr>\n",
    "<tr class=\"row-even\"><td><code class=\"docutils literal\"><span class=\"pre\">\\xhh</span></code></td>\n",
    "<td>Character with hex value <em>hh</em></td>\n",
    "<td>(2,3)</td>\n",
    "</tr>\n",
    "</tbody>\n",
    "</table>"
   ]
  },
  {
   "cell_type": "code",
   "execution_count": 135,
   "metadata": {},
   "outputs": [
    {
     "data": {
      "text/plain": [
       "\"\\\\' \\\\\\\\ \\\\n \\\\t end\""
      ]
     },
     "execution_count": 135,
     "metadata": {},
     "output_type": "execute_result"
    }
   ],
   "source": [
    "a = r\"\\' \\\\ \\n \\t end\"\n",
    "a"
   ]
  },
  {
   "cell_type": "code",
   "execution_count": 136,
   "metadata": {},
   "outputs": [
    {
     "name": "stdout",
     "output_type": "stream",
     "text": [
      "\\' \\\\ \\n \\t end\n"
     ]
    }
   ],
   "source": [
    "print(a)"
   ]
  },
  {
   "cell_type": "code",
   "execution_count": 137,
   "metadata": {},
   "outputs": [
    {
     "data": {
      "text/plain": [
       "\"' \\\\ \\n \\t end\""
      ]
     },
     "execution_count": 137,
     "metadata": {},
     "output_type": "execute_result"
    }
   ],
   "source": [
    "a = \"\\' \\\\ \\n \\t end\"\n",
    "a"
   ]
  },
  {
   "cell_type": "code",
   "execution_count": 138,
   "metadata": {},
   "outputs": [
    {
     "name": "stdout",
     "output_type": "stream",
     "text": [
      "' \\ \n",
      " \t end\n"
     ]
    }
   ],
   "source": [
    "print(a)"
   ]
  },
  {
   "cell_type": "code",
   "execution_count": 139,
   "metadata": {},
   "outputs": [
    {
     "name": "stdout",
     "output_type": "stream",
     "text": [
      "1 2 3 4 5 6 7 8 9 10 \n",
      "11 12 13 14 15 16 17 18 19 20 \n",
      "21 22 23 24 25 26 27 28 29 30 \n",
      "31 32 33 34 35 36 37 38 39 40 \n",
      "41 42 43 44 45 46 47 48 49 50 \n",
      "51 52 53 54 55 56 57 58 59 60 \n",
      "61 62 63 64 65 66 67 68 69 70 \n",
      "71 72 73 74 75 76 77 78 79 80 \n",
      "81 82 83 84 85 86 87 88 89 90 \n",
      "91 92 93 94 95 96 97 98 99 100 \n",
      "\n"
     ]
    }
   ],
   "source": [
    "a = \"\"\n",
    "for i in range(1,11):\n",
    "    for j in range(1,11):\n",
    "        a = a + str((i-1)*10 + j) + ' '\n",
    "    a = a + '\\n'\n",
    "print(a)"
   ]
  },
  {
   "cell_type": "markdown",
   "metadata": {},
   "source": [
    "## str method: .format\n",
    "https://docs.python.org/3.6/library/string.html#formatspec\n",
    "\n",
    "#### Commonly used parameters in { }\n",
    "'d' for integer (decimal)\n",
    "<br>'f' for float (real number)\n",
    "<br>'G' or 'g' for general format\n",
    "<br>'e' or 'E' for scientific format"
   ]
  },
  {
   "cell_type": "code",
   "execution_count": 140,
   "metadata": {},
   "outputs": [
    {
     "name": "stdout",
     "output_type": "stream",
     "text": [
      "   1   2   3   4   5   6   7   8   9  10\n",
      "\n",
      "  11  12  13  14  15  16  17  18  19  20\n",
      "\n",
      "  21  22  23  24  25  26  27  28  29  30\n",
      "\n",
      "  31  32  33  34  35  36  37  38  39  40\n",
      "\n",
      "  41  42  43  44  45  46  47  48  49  50\n",
      "\n",
      "  51  52  53  54  55  56  57  58  59  60\n",
      "\n",
      "  61  62  63  64  65  66  67  68  69  70\n",
      "\n",
      "  71  72  73  74  75  76  77  78  79  80\n",
      "\n",
      "  81  82  83  84  85  86  87  88  89  90\n",
      "\n",
      "  91  92  93  94  95  96  97  98  99 100\n",
      "\n"
     ]
    }
   ],
   "source": [
    "for i in range(1,11):\n",
    "    for j in range(1,11):\n",
    "        print(\"{:4d}\".format((i-1)*10 + j), end='')\n",
    "    print('\\n')\n"
   ]
  },
  {
   "cell_type": "code",
   "execution_count": 141,
   "metadata": {},
   "outputs": [
    {
     "name": "stdout",
     "output_type": "stream",
     "text": [
      "1.245e-05\n",
      "                   0\t                  pi\n",
      "        1.245000e-05\tpi                  \n",
      "            0.000012\t             3.14159\n",
      "0.000012            \t     3.1415926535898\n"
     ]
    }
   ],
   "source": [
    "a = 1.245e-5\n",
    "b = math.pi\n",
    "print(a)\n",
    "print('{0:20d}\\t{1:>20s}'.format(int(a),'pi'))\n",
    "print('{0:20e}\\t{1:20s}'.format(a, 'pi'))\n",
    "print('{0:20f}\\t{1:20G}'.format(a, b))\n",
    "print('{0:<20F}\\t{1:20.14G}'.format(a, b))"
   ]
  },
  {
   "cell_type": "markdown",
   "metadata": {},
   "source": [
    "## Extract information from string"
   ]
  },
  {
   "cell_type": "code",
   "execution_count": 142,
   "metadata": {},
   "outputs": [
    {
     "data": {
      "text/plain": [
       "['Alice',\n",
       " 'Parker:',\n",
       " '28',\n",
       " 'yr,',\n",
       " 'John',\n",
       " 'Doe:',\n",
       " '23',\n",
       " 'yr,',\n",
       " 'Tom',\n",
       " 'Smith:',\n",
       " '88',\n",
       " 'yr']"
      ]
     },
     "execution_count": 142,
     "metadata": {},
     "output_type": "execute_result"
    }
   ],
   "source": [
    "a = 'Alice Parker: 28 yr, John Doe: 23 yr, Tom Smith: 88 yr'\n",
    "a.split()"
   ]
  },
  {
   "cell_type": "code",
   "execution_count": 143,
   "metadata": {},
   "outputs": [
    {
     "data": {
      "text/plain": [
       "['Alice Parker: 28 yr', ' John Doe: 23 yr', ' Tom Smith: 88 yr']"
      ]
     },
     "execution_count": 143,
     "metadata": {},
     "output_type": "execute_result"
    }
   ],
   "source": [
    "a.split(sep=',')"
   ]
  },
  {
   "cell_type": "code",
   "execution_count": 144,
   "metadata": {},
   "outputs": [
    {
     "data": {
      "text/plain": [
       "['Alice Parker', ' 28 yr, John Doe', ' 23 yr, Tom Smith', ' 88 yr']"
      ]
     },
     "execution_count": 144,
     "metadata": {},
     "output_type": "execute_result"
    }
   ],
   "source": [
    "a.split(sep=':')"
   ]
  },
  {
   "cell_type": "code",
   "execution_count": 145,
   "metadata": {},
   "outputs": [
    {
     "data": {
      "text/plain": [
       "['Alice Parker', ' 28 yr', ' John Doe', ' 23 yr', ' Tom Smith', ' 88 yr']"
      ]
     },
     "execution_count": 145,
     "metadata": {},
     "output_type": "execute_result"
    }
   ],
   "source": [
    "#https://stackoverflow.com/questions/4998629/python-split-string-with-multiple-delimiters\n",
    "#multiple delimiters\n",
    "import re\n",
    "re.split(',|:',a)"
   ]
  },
  {
   "cell_type": "code",
   "execution_count": 146,
   "metadata": {},
   "outputs": [
    {
     "data": {
      "text/plain": [
       "['Alice Parker', ' John Doe', ' Tom Smith']"
      ]
     },
     "execution_count": 146,
     "metadata": {},
     "output_type": "execute_result"
    }
   ],
   "source": [
    "re.split(',|:',a)[::2]"
   ]
  },
  {
   "cell_type": "markdown",
   "metadata": {},
   "source": [
    "### Get just last name"
   ]
  },
  {
   "cell_type": "code",
   "execution_count": 147,
   "metadata": {},
   "outputs": [
    {
     "data": {
      "text/plain": [
       "['Parker', 'Doe', 'Smith']"
      ]
     },
     "execution_count": 147,
     "metadata": {},
     "output_type": "execute_result"
    }
   ],
   "source": [
    "[i.split()[1] for i in re.split(',|:',a)[::2]]"
   ]
  },
  {
   "cell_type": "markdown",
   "metadata": {},
   "source": [
    "### Get list of tuple(name, age)"
   ]
  },
  {
   "cell_type": "code",
   "execution_count": 148,
   "metadata": {},
   "outputs": [
    {
     "data": {
      "text/plain": [
       "['Alice Parker', ' John Doe', ' Tom Smith']"
      ]
     },
     "execution_count": 148,
     "metadata": {},
     "output_type": "execute_result"
    }
   ],
   "source": [
    "[i for i in re.split(',|:',a)[::2]]"
   ]
  },
  {
   "cell_type": "code",
   "execution_count": 149,
   "metadata": {},
   "outputs": [
    {
     "data": {
      "text/plain": [
       "[' 28 yr', ' 23 yr', ' 88 yr']"
      ]
     },
     "execution_count": 149,
     "metadata": {},
     "output_type": "execute_result"
    }
   ],
   "source": [
    "[i for i in re.split(',|:',a)[1::2]]"
   ]
  },
  {
   "cell_type": "code",
   "execution_count": 150,
   "metadata": {},
   "outputs": [
    {
     "name": "stdout",
     "output_type": "stream",
     "text": [
      " 28 yr\n",
      " 23 yr\n",
      " 88 yr\n"
     ]
    }
   ],
   "source": [
    "for word in [i for i in re.split(',|:',a)[1::2]]:\n",
    "    print(word)"
   ]
  },
  {
   "cell_type": "code",
   "execution_count": 151,
   "metadata": {},
   "outputs": [
    {
     "name": "stdout",
     "output_type": "stream",
     "text": [
      "['28', 'yr']\n",
      "['23', 'yr']\n",
      "['88', 'yr']\n"
     ]
    }
   ],
   "source": [
    "for word in [i for i in re.split(',|:',a)[1::2]]:\n",
    "    print(word.split())\n",
    "    "
   ]
  },
  {
   "cell_type": "code",
   "execution_count": 152,
   "metadata": {},
   "outputs": [
    {
     "name": "stdout",
     "output_type": "stream",
     "text": [
      "28\n",
      "23\n",
      "88\n"
     ]
    }
   ],
   "source": [
    "for word in [i for i in re.split(',|:',a)[1::2]]:\n",
    "    print(word.split()[0])"
   ]
  },
  {
   "cell_type": "code",
   "execution_count": 153,
   "metadata": {},
   "outputs": [
    {
     "data": {
      "text/plain": [
       "[28, 23, 88]"
      ]
     },
     "execution_count": 153,
     "metadata": {},
     "output_type": "execute_result"
    }
   ],
   "source": [
    "name = re.split(',|:',a)[::2]\n",
    "age_raw = re.split(',|:',a)[1::2]\n",
    "age = [int(i.split()[0]) for i in age_raw]\n",
    "age"
   ]
  },
  {
   "cell_type": "code",
   "execution_count": 154,
   "metadata": {},
   "outputs": [
    {
     "data": {
      "text/plain": [
       "[('Alice Parker', 28), (' John Doe', 23), (' Tom Smith', 88)]"
      ]
     },
     "execution_count": 154,
     "metadata": {},
     "output_type": "execute_result"
    }
   ],
   "source": [
    "[tuple((i,j)) for i,j in zip(name,age)]"
   ]
  },
  {
   "cell_type": "markdown",
   "metadata": {},
   "source": [
    "# Mapping Type: dict\n",
    "Order is not preserved in dict"
   ]
  },
  {
   "cell_type": "code",
   "execution_count": 155,
   "metadata": {},
   "outputs": [
    {
     "data": {
      "text/plain": [
       "{'Alice': 12,\n",
       " 'Bob': 29,\n",
       " 'Clare': 40,\n",
       " 'Danial': 34,\n",
       " 'Emma': 4,\n",
       " 'Frederick': 80,\n",
       " 'Grace': 52,\n",
       " 'Henry': 22}"
      ]
     },
     "execution_count": 155,
     "metadata": {},
     "output_type": "execute_result"
    }
   ],
   "source": [
    "a = {'Alice': 12, 'Bob': 29, 'Clare':40, 'Danial':34, 'Emma':4, 'Frederick':80, 'Grace':52, 'Henry':22}\n",
    "a"
   ]
  },
  {
   "cell_type": "code",
   "execution_count": 156,
   "metadata": {},
   "outputs": [
    {
     "data": {
      "text/plain": [
       "dict"
      ]
     },
     "execution_count": 156,
     "metadata": {},
     "output_type": "execute_result"
    }
   ],
   "source": [
    "type(a)"
   ]
  },
  {
   "cell_type": "markdown",
   "metadata": {},
   "source": [
    "### Loop through dictionary"
   ]
  },
  {
   "cell_type": "code",
   "execution_count": 157,
   "metadata": {},
   "outputs": [
    {
     "name": "stdout",
     "output_type": "stream",
     "text": [
      "Alice\n",
      "Bob\n",
      "Clare\n",
      "Danial\n",
      "Emma\n",
      "Frederick\n",
      "Grace\n",
      "Henry\n"
     ]
    }
   ],
   "source": [
    "for i in a:\n",
    "    print(i)"
   ]
  },
  {
   "cell_type": "code",
   "execution_count": 158,
   "metadata": {},
   "outputs": [
    {
     "data": {
      "text/plain": [
       "dict_items([('Alice', 12), ('Bob', 29), ('Clare', 40), ('Danial', 34), ('Emma', 4), ('Frederick', 80), ('Grace', 52), ('Henry', 22)])"
      ]
     },
     "execution_count": 158,
     "metadata": {},
     "output_type": "execute_result"
    }
   ],
   "source": [
    "a.items()"
   ]
  },
  {
   "cell_type": "code",
   "execution_count": 159,
   "metadata": {},
   "outputs": [
    {
     "data": {
      "text/plain": [
       "dict_keys(['Alice', 'Bob', 'Clare', 'Danial', 'Emma', 'Frederick', 'Grace', 'Henry'])"
      ]
     },
     "execution_count": 159,
     "metadata": {},
     "output_type": "execute_result"
    }
   ],
   "source": [
    "a.keys()"
   ]
  },
  {
   "cell_type": "code",
   "execution_count": 160,
   "metadata": {},
   "outputs": [
    {
     "data": {
      "text/plain": [
       "dict_values([12, 29, 40, 34, 4, 80, 52, 22])"
      ]
     },
     "execution_count": 160,
     "metadata": {},
     "output_type": "execute_result"
    }
   ],
   "source": [
    "a.values()"
   ]
  },
  {
   "cell_type": "code",
   "execution_count": 161,
   "metadata": {},
   "outputs": [
    {
     "name": "stdout",
     "output_type": "stream",
     "text": [
      "('Alice', 12)\n",
      "('Bob', 29)\n",
      "('Clare', 40)\n",
      "('Danial', 34)\n",
      "('Emma', 4)\n",
      "('Frederick', 80)\n",
      "('Grace', 52)\n",
      "('Henry', 22)\n"
     ]
    }
   ],
   "source": [
    "for i in a.items():\n",
    "    print(i)"
   ]
  },
  {
   "cell_type": "code",
   "execution_count": 162,
   "metadata": {},
   "outputs": [
    {
     "name": "stdout",
     "output_type": "stream",
     "text": [
      "Alice 12\n",
      "Bob 29\n",
      "Clare 40\n",
      "Danial 34\n",
      "Emma 4\n",
      "Frederick 80\n",
      "Grace 52\n",
      "Henry 22\n"
     ]
    }
   ],
   "source": [
    "for i, j in a.items():\n",
    "    print(i, j)"
   ]
  },
  {
   "cell_type": "markdown",
   "metadata": {},
   "source": [
    "### List of sorted dictionary"
   ]
  },
  {
   "cell_type": "code",
   "execution_count": 163,
   "metadata": {},
   "outputs": [
    {
     "data": {
      "text/plain": [
       "[('Alice', 12),\n",
       " ('Bob', 29),\n",
       " ('Clare', 40),\n",
       " ('Danial', 34),\n",
       " ('Emma', 4),\n",
       " ('Frederick', 80),\n",
       " ('Grace', 52),\n",
       " ('Henry', 22)]"
      ]
     },
     "execution_count": 163,
     "metadata": {},
     "output_type": "execute_result"
    }
   ],
   "source": [
    "info = list(a.items())\n",
    "info"
   ]
  },
  {
   "cell_type": "code",
   "execution_count": 164,
   "metadata": {},
   "outputs": [
    {
     "data": {
      "text/plain": [
       "[('Alice', 12),\n",
       " ('Bob', 29),\n",
       " ('Clare', 40),\n",
       " ('Danial', 34),\n",
       " ('Emma', 4),\n",
       " ('Frederick', 80),\n",
       " ('Grace', 52),\n",
       " ('Henry', 22)]"
      ]
     },
     "execution_count": 164,
     "metadata": {},
     "output_type": "execute_result"
    }
   ],
   "source": [
    "sorted(info)"
   ]
  },
  {
   "cell_type": "code",
   "execution_count": 165,
   "metadata": {},
   "outputs": [
    {
     "data": {
      "text/plain": [
       "[('Henry', 22),\n",
       " ('Grace', 52),\n",
       " ('Frederick', 80),\n",
       " ('Emma', 4),\n",
       " ('Danial', 34),\n",
       " ('Clare', 40),\n",
       " ('Bob', 29),\n",
       " ('Alice', 12)]"
      ]
     },
     "execution_count": 165,
     "metadata": {},
     "output_type": "execute_result"
    }
   ],
   "source": [
    "sorted(info, reverse = True)"
   ]
  },
  {
   "cell_type": "code",
   "execution_count": 166,
   "metadata": {},
   "outputs": [
    {
     "data": {
      "text/plain": [
       "[('Emma', 4),\n",
       " ('Alice', 12),\n",
       " ('Henry', 22),\n",
       " ('Bob', 29),\n",
       " ('Danial', 34),\n",
       " ('Clare', 40),\n",
       " ('Grace', 52),\n",
       " ('Frederick', 80)]"
      ]
     },
     "execution_count": 166,
     "metadata": {},
     "output_type": "execute_result"
    }
   ],
   "source": [
    "sorted(info, key=lambda x: x[1])"
   ]
  },
  {
   "cell_type": "code",
   "execution_count": 167,
   "metadata": {},
   "outputs": [
    {
     "data": {
      "text/plain": [
       "[('Frederick', 80),\n",
       " ('Grace', 52),\n",
       " ('Clare', 40),\n",
       " ('Danial', 34),\n",
       " ('Bob', 29),\n",
       " ('Henry', 22),\n",
       " ('Alice', 12),\n",
       " ('Emma', 4)]"
      ]
     },
     "execution_count": 167,
     "metadata": {},
     "output_type": "execute_result"
    }
   ],
   "source": [
    "sorted(info, key=lambda x: x[1], reverse = True)"
   ]
  },
  {
   "cell_type": "markdown",
   "metadata": {},
   "source": [
    "# Function / Lambda expression"
   ]
  },
  {
   "cell_type": "code",
   "execution_count": 168,
   "metadata": {},
   "outputs": [
    {
     "data": {
      "text/plain": [
       "-0.5"
      ]
     },
     "execution_count": 168,
     "metadata": {},
     "output_type": "execute_result"
    }
   ],
   "source": [
    "def fx1(x):\n",
    "    return x**2 + 2*x - 3.5\n",
    "fx1(1)"
   ]
  },
  {
   "cell_type": "code",
   "execution_count": 169,
   "metadata": {},
   "outputs": [
    {
     "data": {
      "text/plain": [
       "[76.5,\n",
       " 59.5,\n",
       " 44.5,\n",
       " 31.5,\n",
       " 20.5,\n",
       " 11.5,\n",
       " 4.5,\n",
       " -0.5,\n",
       " -3.5,\n",
       " -4.5,\n",
       " -3.5,\n",
       " -0.5,\n",
       " 4.5,\n",
       " 11.5,\n",
       " 20.5,\n",
       " 31.5,\n",
       " 44.5,\n",
       " 59.5,\n",
       " 76.5,\n",
       " 95.5]"
      ]
     },
     "execution_count": 169,
     "metadata": {},
     "output_type": "execute_result"
    }
   ],
   "source": [
    "y = [fx1(i) for i in range(-10,10,1)]\n",
    "y"
   ]
  },
  {
   "cell_type": "code",
   "execution_count": 170,
   "metadata": {
    "collapsed": true
   },
   "outputs": [],
   "source": [
    "lam1 = lambda x: x**2 + 2*x - 3.5"
   ]
  },
  {
   "cell_type": "code",
   "execution_count": 171,
   "metadata": {},
   "outputs": [
    {
     "data": {
      "text/plain": [
       "<function __main__.<lambda>>"
      ]
     },
     "execution_count": 171,
     "metadata": {},
     "output_type": "execute_result"
    }
   ],
   "source": [
    "lam1"
   ]
  },
  {
   "cell_type": "code",
   "execution_count": 172,
   "metadata": {},
   "outputs": [
    {
     "data": {
      "text/plain": [
       "-0.5"
      ]
     },
     "execution_count": 172,
     "metadata": {},
     "output_type": "execute_result"
    }
   ],
   "source": [
    "lam1(1)"
   ]
  },
  {
   "cell_type": "code",
   "execution_count": 173,
   "metadata": {},
   "outputs": [
    {
     "data": {
      "text/plain": [
       "[76.5,\n",
       " 59.5,\n",
       " 44.5,\n",
       " 31.5,\n",
       " 20.5,\n",
       " 11.5,\n",
       " 4.5,\n",
       " -0.5,\n",
       " -3.5,\n",
       " -4.5,\n",
       " -3.5,\n",
       " -0.5,\n",
       " 4.5,\n",
       " 11.5,\n",
       " 20.5,\n",
       " 31.5,\n",
       " 44.5,\n",
       " 59.5,\n",
       " 76.5,\n",
       " 95.5]"
      ]
     },
     "execution_count": 173,
     "metadata": {},
     "output_type": "execute_result"
    }
   ],
   "source": [
    "y = [lam1(i) for i in range(-10,10,1)]\n",
    "y"
   ]
  },
  {
   "cell_type": "code",
   "execution_count": 174,
   "metadata": {
    "collapsed": true
   },
   "outputs": [],
   "source": [
    "y = map(lam1, range(-10,10))"
   ]
  },
  {
   "cell_type": "code",
   "execution_count": 175,
   "metadata": {},
   "outputs": [
    {
     "data": {
      "text/plain": [
       "<map at 0x7f7a18062208>"
      ]
     },
     "execution_count": 175,
     "metadata": {},
     "output_type": "execute_result"
    }
   ],
   "source": [
    "y"
   ]
  },
  {
   "cell_type": "code",
   "execution_count": 176,
   "metadata": {},
   "outputs": [
    {
     "data": {
      "text/plain": [
       "[76.5,\n",
       " 59.5,\n",
       " 44.5,\n",
       " 31.5,\n",
       " 20.5,\n",
       " 11.5,\n",
       " 4.5,\n",
       " -0.5,\n",
       " -3.5,\n",
       " -4.5,\n",
       " -3.5,\n",
       " -0.5,\n",
       " 4.5,\n",
       " 11.5,\n",
       " 20.5,\n",
       " 31.5,\n",
       " 44.5,\n",
       " 59.5,\n",
       " 76.5,\n",
       " 95.5]"
      ]
     },
     "execution_count": 176,
     "metadata": {},
     "output_type": "execute_result"
    }
   ],
   "source": [
    "list(y)"
   ]
  },
  {
   "cell_type": "markdown",
   "metadata": {},
   "source": [
    "# Boolean Operation: and, or, not\n",
    "https://docs.python.org/3/library/stdtypes.html#truth-value-testing\n",
    "<table border=\"1\" class=\"docutils\" align = 'left' style=\"font-family: sans-serif; font-size:110%;}\">\n",
    "<colgroup>\n",
    "<col width=\"32%\" />\n",
    "<col width=\"68%\" />\n",
    "</colgroup>\n",
    "<thead valign=\"bottom\">\n",
    "<tr class=\"row-odd\"><th class=\"head\">Operation</th>\n",
    "<th class=\"head\">Meaning</th>\n",
    "</tr>\n",
    "</thead>\n",
    "<tbody valign=\"top\">\n",
    "<tr class=\"row-even\"><td><code class=\"docutils literal\"><span class=\"pre\">&lt;</span></code></td>\n",
    "<td>strictly less than</td>\n",
    "</tr>\n",
    "<tr class=\"row-odd\"><td><code class=\"docutils literal\"><span class=\"pre\">&lt;=</span></code></td>\n",
    "<td>less than or equal</td>\n",
    "</tr>\n",
    "<tr class=\"row-even\"><td><code class=\"docutils literal\"><span class=\"pre\">&gt;</span></code></td>\n",
    "<td>strictly greater than</td>\n",
    "</tr>\n",
    "<tr class=\"row-odd\"><td><code class=\"docutils literal\"><span class=\"pre\">&gt;=</span></code></td>\n",
    "<td>greater than or equal</td>\n",
    "</tr>\n",
    "<tr class=\"row-even\"><td><code class=\"docutils literal\"><span class=\"pre\">==</span></code></td>\n",
    "<td>equal</td>\n",
    "</tr>\n",
    "<tr class=\"row-odd\"><td><code class=\"docutils literal\"><span class=\"pre\">!=</span></code></td>\n",
    "<td>not equal</td>\n",
    "</tr>\n",
    "<tr class=\"row-even\"><td><code class=\"docutils literal\"><span class=\"pre\">is</span></code></td>\n",
    "<td>object identity</td>\n",
    "</tr>\n",
    "<tr class=\"row-odd\"><td><code class=\"docutils literal\"><span class=\"pre\">is</span> <span class=\"pre\">not</span></code></td>\n",
    "<td>negated object identity</td>\n",
    "</tr>\n",
    "</tbody>\n",
    "\n",
    "</table>"
   ]
  },
  {
   "cell_type": "code",
   "execution_count": 177,
   "metadata": {
    "collapsed": true
   },
   "outputs": [],
   "source": [
    "q = True"
   ]
  },
  {
   "cell_type": "code",
   "execution_count": 178,
   "metadata": {},
   "outputs": [
    {
     "data": {
      "text/plain": [
       "bool"
      ]
     },
     "execution_count": 178,
     "metadata": {},
     "output_type": "execute_result"
    }
   ],
   "source": [
    "type(q)"
   ]
  },
  {
   "cell_type": "code",
   "execution_count": 179,
   "metadata": {},
   "outputs": [
    {
     "data": {
      "text/plain": [
       "True"
      ]
     },
     "execution_count": 179,
     "metadata": {},
     "output_type": "execute_result"
    }
   ],
   "source": [
    "p = bool(list([1,2,3,4]))\n",
    "p"
   ]
  },
  {
   "cell_type": "markdown",
   "metadata": {},
   "source": [
    "# Basic File I/O"
   ]
  },
  {
   "cell_type": "code",
   "execution_count": 180,
   "metadata": {},
   "outputs": [
    {
     "data": {
      "text/plain": [
       "[90, 71, 54, 39, 26, 15, 6, -1, -6, -9, -10, -9, -6, -1, 6, 15, 26, 39, 54, 71]"
      ]
     },
     "execution_count": 180,
     "metadata": {},
     "output_type": "execute_result"
    }
   ],
   "source": [
    "y_list = list(map(lambda x: x**2 -10, range(-10,10)))\n",
    "y_list"
   ]
  },
  {
   "cell_type": "code",
   "execution_count": 181,
   "metadata": {},
   "outputs": [
    {
     "data": {
      "text/plain": [
       "'[90, 71, 54, 39, 26, 15, 6, -1, -6, -9, -10, -9, -6, -1, 6, 15, 26, 39, 54, 71]'"
      ]
     },
     "execution_count": 181,
     "metadata": {},
     "output_type": "execute_result"
    }
   ],
   "source": [
    "str(y_list)"
   ]
  },
  {
   "cell_type": "code",
   "execution_count": 182,
   "metadata": {
    "collapsed": true
   },
   "outputs": [],
   "source": [
    "with open('out1.txt', 'w') as fout:\n",
    "    fout.write(str(y_list))\n",
    "    "
   ]
  },
  {
   "cell_type": "code",
   "execution_count": 183,
   "metadata": {},
   "outputs": [
    {
     "data": {
      "text/plain": [
       "'[90, 71, 54, 39, 26, 15, 6, -1, -6, -9, -10, -9, -6, -1, 6, 15, 26, 39, 54, 71]'"
      ]
     },
     "execution_count": 183,
     "metadata": {},
     "output_type": "execute_result"
    }
   ],
   "source": [
    "with open('out1.txt', 'r') as fin:\n",
    "    test = fin.read()\n",
    "test"
   ]
  },
  {
   "cell_type": "code",
   "execution_count": 184,
   "metadata": {
    "collapsed": true
   },
   "outputs": [],
   "source": [
    "with open('out2.txt', 'w') as fout:\n",
    "    for i in range(1,11):\n",
    "        fout.write(str(y_list) + '\\n')"
   ]
  },
  {
   "cell_type": "code",
   "execution_count": 185,
   "metadata": {},
   "outputs": [
    {
     "data": {
      "text/plain": [
       "['[90, 71, 54, 39, 26, 15, 6, -1, -6, -9, -10, -9, -6, -1, 6, 15, 26, 39, 54, 71]\\n',\n",
       " '[90, 71, 54, 39, 26, 15, 6, -1, -6, -9, -10, -9, -6, -1, 6, 15, 26, 39, 54, 71]\\n',\n",
       " '[90, 71, 54, 39, 26, 15, 6, -1, -6, -9, -10, -9, -6, -1, 6, 15, 26, 39, 54, 71]\\n',\n",
       " '[90, 71, 54, 39, 26, 15, 6, -1, -6, -9, -10, -9, -6, -1, 6, 15, 26, 39, 54, 71]\\n',\n",
       " '[90, 71, 54, 39, 26, 15, 6, -1, -6, -9, -10, -9, -6, -1, 6, 15, 26, 39, 54, 71]\\n',\n",
       " '[90, 71, 54, 39, 26, 15, 6, -1, -6, -9, -10, -9, -6, -1, 6, 15, 26, 39, 54, 71]\\n',\n",
       " '[90, 71, 54, 39, 26, 15, 6, -1, -6, -9, -10, -9, -6, -1, 6, 15, 26, 39, 54, 71]\\n',\n",
       " '[90, 71, 54, 39, 26, 15, 6, -1, -6, -9, -10, -9, -6, -1, 6, 15, 26, 39, 54, 71]\\n',\n",
       " '[90, 71, 54, 39, 26, 15, 6, -1, -6, -9, -10, -9, -6, -1, 6, 15, 26, 39, 54, 71]\\n',\n",
       " '[90, 71, 54, 39, 26, 15, 6, -1, -6, -9, -10, -9, -6, -1, 6, 15, 26, 39, 54, 71]\\n']"
      ]
     },
     "execution_count": 185,
     "metadata": {},
     "output_type": "execute_result"
    }
   ],
   "source": [
    "test2 = []\n",
    "with open('out2.txt', 'r') as fin:\n",
    "    for line in fin:\n",
    "        test2.append(line)\n",
    "test2"
   ]
  },
  {
   "cell_type": "code",
   "execution_count": 186,
   "metadata": {
    "collapsed": true
   },
   "outputs": [],
   "source": [
    "import pickle"
   ]
  },
  {
   "cell_type": "code",
   "execution_count": 187,
   "metadata": {
    "scrolled": true
   },
   "outputs": [
    {
     "name": "stdout",
     "output_type": "stream",
     "text": [
      "[90, 71, 54, 39, 26, 15, 6, -1, -6, -9, -10, -9, -6, -1, 6, 15, 26, 39, 54, 71]\n",
      "[90, 71, 54, 39, 26, 15, 6, -1, -6, -9, -10, -9, -6, -1, 6, 15, 26, 39, 54, 71]\n",
      "[90, 71, 54, 39, 26, 15, 6, -1, -6, -9, -10, -9, -6, -1, 6, 15, 26, 39, 54, 71]\n",
      "[90, 71, 54, 39, 26, 15, 6, -1, -6, -9, -10, -9, -6, -1, 6, 15, 26, 39, 54, 71]\n",
      "[90, 71, 54, 39, 26, 15, 6, -1, -6, -9, -10, -9, -6, -1, 6, 15, 26, 39, 54, 71]\n",
      "[90, 71, 54, 39, 26, 15, 6, -1, -6, -9, -10, -9, -6, -1, 6, 15, 26, 39, 54, 71]\n",
      "[90, 71, 54, 39, 26, 15, 6, -1, -6, -9, -10, -9, -6, -1, 6, 15, 26, 39, 54, 71]\n",
      "[90, 71, 54, 39, 26, 15, 6, -1, -6, -9, -10, -9, -6, -1, 6, 15, 26, 39, 54, 71]\n",
      "[90, 71, 54, 39, 26, 15, 6, -1, -6, -9, -10, -9, -6, -1, 6, 15, 26, 39, 54, 71]\n",
      "[90, 71, 54, 39, 26, 15, 6, -1, -6, -9, -10, -9, -6, -1, 6, 15, 26, 39, 54, 71]\n",
      "[90, 71, 54, 39, 26, 15, 6, -1, -6, -9, -10, -9, -6, -1, 6, 15, 26, 39, 54, 71]\n"
     ]
    }
   ],
   "source": [
    "y_out = []\n",
    "for i in range(0,11):\n",
    "    y_out.append(y_list)\n",
    "\n",
    "for i in y_out:\n",
    "    print(i)"
   ]
  },
  {
   "cell_type": "code",
   "execution_count": 188,
   "metadata": {},
   "outputs": [
    {
     "data": {
      "text/plain": [
       "list"
      ]
     },
     "execution_count": 188,
     "metadata": {},
     "output_type": "execute_result"
    }
   ],
   "source": [
    "type(y_out[0])"
   ]
  },
  {
   "cell_type": "code",
   "execution_count": 189,
   "metadata": {},
   "outputs": [
    {
     "data": {
      "text/plain": [
       "int"
      ]
     },
     "execution_count": 189,
     "metadata": {},
     "output_type": "execute_result"
    }
   ],
   "source": [
    "type(y_out[0][0])"
   ]
  },
  {
   "cell_type": "code",
   "execution_count": 190,
   "metadata": {
    "collapsed": true
   },
   "outputs": [],
   "source": [
    "y_out2 = [[i for i in y_list] for j in range(0,11)]"
   ]
  },
  {
   "cell_type": "code",
   "execution_count": 191,
   "metadata": {},
   "outputs": [
    {
     "data": {
      "text/plain": [
       "True"
      ]
     },
     "execution_count": 191,
     "metadata": {},
     "output_type": "execute_result"
    }
   ],
   "source": [
    "y_out == y_out2"
   ]
  },
  {
   "cell_type": "code",
   "execution_count": 192,
   "metadata": {
    "collapsed": true
   },
   "outputs": [],
   "source": [
    "with open('out3.txt', 'wb') as fout:\n",
    "    pickle.dump(y_out, fout)"
   ]
  },
  {
   "cell_type": "code",
   "execution_count": 193,
   "metadata": {},
   "outputs": [
    {
     "data": {
      "text/plain": [
       "[[90,\n",
       "  71,\n",
       "  54,\n",
       "  39,\n",
       "  26,\n",
       "  15,\n",
       "  6,\n",
       "  -1,\n",
       "  -6,\n",
       "  -9,\n",
       "  -10,\n",
       "  -9,\n",
       "  -6,\n",
       "  -1,\n",
       "  6,\n",
       "  15,\n",
       "  26,\n",
       "  39,\n",
       "  54,\n",
       "  71],\n",
       " [90,\n",
       "  71,\n",
       "  54,\n",
       "  39,\n",
       "  26,\n",
       "  15,\n",
       "  6,\n",
       "  -1,\n",
       "  -6,\n",
       "  -9,\n",
       "  -10,\n",
       "  -9,\n",
       "  -6,\n",
       "  -1,\n",
       "  6,\n",
       "  15,\n",
       "  26,\n",
       "  39,\n",
       "  54,\n",
       "  71],\n",
       " [90,\n",
       "  71,\n",
       "  54,\n",
       "  39,\n",
       "  26,\n",
       "  15,\n",
       "  6,\n",
       "  -1,\n",
       "  -6,\n",
       "  -9,\n",
       "  -10,\n",
       "  -9,\n",
       "  -6,\n",
       "  -1,\n",
       "  6,\n",
       "  15,\n",
       "  26,\n",
       "  39,\n",
       "  54,\n",
       "  71],\n",
       " [90,\n",
       "  71,\n",
       "  54,\n",
       "  39,\n",
       "  26,\n",
       "  15,\n",
       "  6,\n",
       "  -1,\n",
       "  -6,\n",
       "  -9,\n",
       "  -10,\n",
       "  -9,\n",
       "  -6,\n",
       "  -1,\n",
       "  6,\n",
       "  15,\n",
       "  26,\n",
       "  39,\n",
       "  54,\n",
       "  71],\n",
       " [90,\n",
       "  71,\n",
       "  54,\n",
       "  39,\n",
       "  26,\n",
       "  15,\n",
       "  6,\n",
       "  -1,\n",
       "  -6,\n",
       "  -9,\n",
       "  -10,\n",
       "  -9,\n",
       "  -6,\n",
       "  -1,\n",
       "  6,\n",
       "  15,\n",
       "  26,\n",
       "  39,\n",
       "  54,\n",
       "  71],\n",
       " [90,\n",
       "  71,\n",
       "  54,\n",
       "  39,\n",
       "  26,\n",
       "  15,\n",
       "  6,\n",
       "  -1,\n",
       "  -6,\n",
       "  -9,\n",
       "  -10,\n",
       "  -9,\n",
       "  -6,\n",
       "  -1,\n",
       "  6,\n",
       "  15,\n",
       "  26,\n",
       "  39,\n",
       "  54,\n",
       "  71],\n",
       " [90,\n",
       "  71,\n",
       "  54,\n",
       "  39,\n",
       "  26,\n",
       "  15,\n",
       "  6,\n",
       "  -1,\n",
       "  -6,\n",
       "  -9,\n",
       "  -10,\n",
       "  -9,\n",
       "  -6,\n",
       "  -1,\n",
       "  6,\n",
       "  15,\n",
       "  26,\n",
       "  39,\n",
       "  54,\n",
       "  71],\n",
       " [90,\n",
       "  71,\n",
       "  54,\n",
       "  39,\n",
       "  26,\n",
       "  15,\n",
       "  6,\n",
       "  -1,\n",
       "  -6,\n",
       "  -9,\n",
       "  -10,\n",
       "  -9,\n",
       "  -6,\n",
       "  -1,\n",
       "  6,\n",
       "  15,\n",
       "  26,\n",
       "  39,\n",
       "  54,\n",
       "  71],\n",
       " [90,\n",
       "  71,\n",
       "  54,\n",
       "  39,\n",
       "  26,\n",
       "  15,\n",
       "  6,\n",
       "  -1,\n",
       "  -6,\n",
       "  -9,\n",
       "  -10,\n",
       "  -9,\n",
       "  -6,\n",
       "  -1,\n",
       "  6,\n",
       "  15,\n",
       "  26,\n",
       "  39,\n",
       "  54,\n",
       "  71],\n",
       " [90,\n",
       "  71,\n",
       "  54,\n",
       "  39,\n",
       "  26,\n",
       "  15,\n",
       "  6,\n",
       "  -1,\n",
       "  -6,\n",
       "  -9,\n",
       "  -10,\n",
       "  -9,\n",
       "  -6,\n",
       "  -1,\n",
       "  6,\n",
       "  15,\n",
       "  26,\n",
       "  39,\n",
       "  54,\n",
       "  71],\n",
       " [90,\n",
       "  71,\n",
       "  54,\n",
       "  39,\n",
       "  26,\n",
       "  15,\n",
       "  6,\n",
       "  -1,\n",
       "  -6,\n",
       "  -9,\n",
       "  -10,\n",
       "  -9,\n",
       "  -6,\n",
       "  -1,\n",
       "  6,\n",
       "  15,\n",
       "  26,\n",
       "  39,\n",
       "  54,\n",
       "  71]]"
      ]
     },
     "execution_count": 193,
     "metadata": {},
     "output_type": "execute_result"
    }
   ],
   "source": [
    "with open('out3.txt', 'rb') as fin:\n",
    "    result = pickle.load(fin)\n",
    "result"
   ]
  },
  {
   "cell_type": "code",
   "execution_count": 194,
   "metadata": {},
   "outputs": [
    {
     "data": {
      "text/plain": [
       "True"
      ]
     },
     "execution_count": 194,
     "metadata": {},
     "output_type": "execute_result"
    }
   ],
   "source": [
    "result == y_out"
   ]
  }
 ],
 "metadata": {
  "kernelspec": {
   "display_name": "Python 3",
   "language": "python",
   "name": "python3"
  },
  "language_info": {
   "codemirror_mode": {
    "name": "ipython",
    "version": 3
   },
   "file_extension": ".py",
   "mimetype": "text/x-python",
   "name": "python",
   "nbconvert_exporter": "python",
   "pygments_lexer": "ipython3",
   "version": "3.6.2"
  }
 },
 "nbformat": 4,
 "nbformat_minor": 2
}
