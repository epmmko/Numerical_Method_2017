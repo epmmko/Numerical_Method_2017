{
 "cells": [
  {
   "cell_type": "markdown",
   "metadata": {},
   "source": [
    "# Fixed Point Iteration: solving  $x = cos(x)$"
   ]
  },
  {
   "cell_type": "code",
   "execution_count": 1,
   "metadata": {
    "collapsed": true
   },
   "outputs": [],
   "source": [
    "import math"
   ]
  },
  {
   "cell_type": "code",
   "execution_count": 2,
   "metadata": {},
   "outputs": [
    {
     "name": "stdout",
     "output_type": "stream",
     "text": [
      "ans =  0.7390851332151657\n",
      "abs(error) =  8.43769498715119e-15\n",
      "# iteration =  81\n"
     ]
    }
   ],
   "source": [
    "xHist = []\n",
    "itMax = 10000\n",
    "eps = 1.0e-14\n",
    "lhs = lambda x: math.cos(x)\n",
    "x = 0.0\n",
    "xHist.append(x)\n",
    "for i in range(1, itMax + 1):\n",
    "    x = math.cos(x)\n",
    "    xHist.append(x)\n",
    "    if abs(lhs(x) - x) < eps:\n",
    "        break\n",
    "print('ans = ', x)\n",
    "print('abs(error) = ', abs(lhs(x) - x))\n",
    "print('# iteration = ', i)"
   ]
  },
  {
   "cell_type": "markdown",
   "metadata": {},
   "source": [
    "## Rate of Convergence $$ q\\approx\\frac{\\log{|\\frac{x_{n+1}-x_{n}}{x_{n}-x_{n-1}}|}}{\\log{|\\frac{x_{n}-x_{n-1}}{x_{n-1}-x_{n-2}}|}} $$\n",
    "\n",
    "https://en.wikipedia.org/wiki/Rate_of_convergence"
   ]
  },
  {
   "cell_type": "code",
   "execution_count": 3,
   "metadata": {
    "collapsed": true
   },
   "outputs": [],
   "source": [
    "convergenceRate = []\n",
    "for i in range(3, len(xHist)):\n",
    "    top = math.log(abs( (xHist[i] - xHist[i-1]) / (xHist[i-1] - xHist[i-2]) ))\n",
    "    bot = math.log(abs( (xHist[i-1] - xHist[i-2]) / (xHist[i-2] - xHist[i-3]) )) \n",
    "    convergenceRate.append(top/bot)"
   ]
  },
  {
   "cell_type": "code",
   "execution_count": 4,
   "metadata": {},
   "outputs": [
    {
     "data": {
      "text/plain": [
       "1.007845821052661"
      ]
     },
     "execution_count": 4,
     "metadata": {},
     "output_type": "execute_result"
    }
   ],
   "source": [
    "convergenceRate[-1]"
   ]
  },
  {
   "cell_type": "markdown",
   "metadata": {},
   "source": [
    "#### Rate of convergence for the fixed-point iteration is linear"
   ]
  },
  {
   "cell_type": "markdown",
   "metadata": {},
   "source": [
    "### Speed test"
   ]
  },
  {
   "cell_type": "code",
   "execution_count": 5,
   "metadata": {
    "collapsed": true
   },
   "outputs": [],
   "source": [
    "def timeTest():\n",
    "    itMax = 10000\n",
    "    eps = 1.0e-14\n",
    "    lhs = lambda x: math.cos(x)\n",
    "    x = 0.0\n",
    "    for i in range(1, itMax + 1):\n",
    "        x = math.cos(x)\n",
    "        if abs(lhs(x) - x) < eps:\n",
    "            break\n",
    "    ans = x"
   ]
  },
  {
   "cell_type": "code",
   "execution_count": 6,
   "metadata": {},
   "outputs": [
    {
     "name": "stdout",
     "output_type": "stream",
     "text": [
      "10 loops, best of 3: 44.3 µs per loop\n"
     ]
    }
   ],
   "source": [
    "%%timeit -n 10\n",
    "timeTest()"
   ]
  },
  {
   "cell_type": "code",
   "execution_count": 7,
   "metadata": {
    "collapsed": true
   },
   "outputs": [],
   "source": [
    "from scipy import optimize"
   ]
  },
  {
   "cell_type": "code",
   "execution_count": 8,
   "metadata": {
    "collapsed": true
   },
   "outputs": [],
   "source": [
    "ans_scipy = optimize.fixed_point(lhs,0, method = 'iteration', xtol = 1.0e-14)"
   ]
  },
  {
   "cell_type": "code",
   "execution_count": 9,
   "metadata": {},
   "outputs": [
    {
     "data": {
      "text/plain": [
       "0.7390851332151629"
      ]
     },
     "execution_count": 9,
     "metadata": {},
     "output_type": "execute_result"
    }
   ],
   "source": [
    "ans_scipy"
   ]
  },
  {
   "cell_type": "code",
   "execution_count": 10,
   "metadata": {},
   "outputs": [
    {
     "data": {
      "text/plain": [
       "2.7755575615628914e-15"
      ]
     },
     "execution_count": 10,
     "metadata": {},
     "output_type": "execute_result"
    }
   ],
   "source": [
    "x - ans_scipy"
   ]
  },
  {
   "cell_type": "code",
   "execution_count": 11,
   "metadata": {},
   "outputs": [
    {
     "data": {
      "text/plain": [
       "-3.774758283725532e-15"
      ]
     },
     "execution_count": 11,
     "metadata": {},
     "output_type": "execute_result"
    }
   ],
   "source": [
    "math.cos(ans_scipy) - ans_scipy"
   ]
  },
  {
   "cell_type": "code",
   "execution_count": 12,
   "metadata": {
    "collapsed": true
   },
   "outputs": [],
   "source": [
    "from scipy.optimize import fixed_point"
   ]
  },
  {
   "cell_type": "code",
   "execution_count": 13,
   "metadata": {
    "collapsed": true
   },
   "outputs": [],
   "source": [
    "def timeTest2():\n",
    "    ans_scipy = fixed_point(lhs,0, method = 'iteration', xtol = 1.0e-14)"
   ]
  },
  {
   "cell_type": "code",
   "execution_count": 14,
   "metadata": {},
   "outputs": [
    {
     "name": "stdout",
     "output_type": "stream",
     "text": [
      "10 loops, best of 3: 7.25 ms per loop\n"
     ]
    }
   ],
   "source": [
    "%%timeit -n 10\n",
    "timeTest2()"
   ]
  },
  {
   "cell_type": "code",
   "execution_count": 15,
   "metadata": {
    "collapsed": true
   },
   "outputs": [],
   "source": [
    "def timeTest3():\n",
    "    ans_scipy = fixed_point(lhs,0, method = \"del2\", xtol = 1.0e-14)"
   ]
  },
  {
   "cell_type": "code",
   "execution_count": 16,
   "metadata": {},
   "outputs": [
    {
     "name": "stdout",
     "output_type": "stream",
     "text": [
      "10 loops, best of 3: 926 µs per loop\n"
     ]
    }
   ],
   "source": [
    "%%timeit -n 10\n",
    "timeTest3()"
   ]
  },
  {
   "cell_type": "markdown",
   "metadata": {},
   "source": [
    "# Fixed-point: Diverge case"
   ]
  },
  {
   "cell_type": "code",
   "execution_count": 17,
   "metadata": {},
   "outputs": [
    {
     "name": "stdout",
     "output_type": "stream",
     "text": [
      "ans =  0.7390851332151607\n",
      "abs(error) =  0.3064333004445714\n",
      "# iteration =  10000\n"
     ]
    }
   ],
   "source": [
    "lhs = lambda x: 3*math.exp(-x)-1\n",
    "itMax = 10000\n",
    "eps = 1.0e-14\n",
    "x = 0.0\n",
    "for i in range(1, itMax + 1):\n",
    "    x = math.cos(x)\n",
    "    if abs(lhs(x) - x) < eps:\n",
    "        break\n",
    "print('ans = ', x)\n",
    "print('abs(error) = ', abs(lhs(x) - x))\n",
    "print('# iteration = ', i)"
   ]
  },
  {
   "cell_type": "code",
   "execution_count": 18,
   "metadata": {},
   "outputs": [
    {
     "name": "stdout",
     "output_type": "stream",
     "text": [
      "Failed to converge after 1000 iterations, value is -0.9976107420074617\n",
      "<class 'RuntimeError'>\n"
     ]
    }
   ],
   "source": [
    "import sys\n",
    "try:\n",
    "    ans_scipy = optimize.fixed_point(lhs,0, method = 'iteration', xtol = 1.0e-14, maxiter = 1000)\n",
    "except Exception as e:\n",
    "    print(e)\n",
    "    print(sys.exc_info()[0])"
   ]
  },
  {
   "cell_type": "markdown",
   "metadata": {},
   "source": [
    "# Redo using:&nbsp;  <font color=#000066 face=\"courier new\"> nympy.optimize.fsolve </font>"
   ]
  },
  {
   "cell_type": "code",
   "execution_count": 19,
   "metadata": {
    "collapsed": true
   },
   "outputs": [],
   "source": [
    "import numpy as np"
   ]
  },
  {
   "cell_type": "code",
   "execution_count": 20,
   "metadata": {
    "collapsed": true
   },
   "outputs": [],
   "source": [
    "f = lambda x: np.cos(x) - x"
   ]
  },
  {
   "cell_type": "code",
   "execution_count": 21,
   "metadata": {
    "collapsed": true
   },
   "outputs": [],
   "source": [
    "import scipy"
   ]
  },
  {
   "cell_type": "code",
   "execution_count": 22,
   "metadata": {},
   "outputs": [
    {
     "data": {
      "text/plain": [
       "array([ 0.73908513])"
      ]
     },
     "execution_count": 22,
     "metadata": {},
     "output_type": "execute_result"
    }
   ],
   "source": [
    "scipy.optimize.fsolve(f, 0)"
   ]
  },
  {
   "cell_type": "markdown",
   "metadata": {},
   "source": [
    "# Multiple Answer: &nbsp; $sin(x) = cos(x)$\n",
    "Trick: run the code multiple times, with array of initial guess"
   ]
  },
  {
   "cell_type": "code",
   "execution_count": 23,
   "metadata": {
    "collapsed": true
   },
   "outputs": [],
   "source": [
    "f = lambda x: np.sin(x) - np.cos(x)"
   ]
  },
  {
   "cell_type": "code",
   "execution_count": 24,
   "metadata": {},
   "outputs": [
    {
     "data": {
      "text/plain": [
       "array([  -2.35619449,   -8.6393798 ,   -8.6393798 ,   -8.6393798 ,\n",
       "         -8.6393798 ,   -8.6393798 ,   -8.6393798 ,   -5.49778714,\n",
       "         -5.49778714,   -5.49778714,   -5.49778714,   -5.49778714,\n",
       "        -27.48893572,   -2.35619449,   -2.35619449,   -2.35619449,\n",
       "         -2.35619449,   -2.35619449,  -11.78097245,    0.78539816,\n",
       "          0.78539816,    0.78539816,    0.78539816,    0.78539816,\n",
       "          0.78539816,   13.35176878,    3.92699082,    3.92699082,\n",
       "          3.92699082,    3.92699082,    3.92699082,  522.28977866,\n",
       "          7.06858347,    7.06858347,    7.06858347,    7.06858347,\n",
       "          7.06858347,    0.78539816,   10.21017612,   10.21017612])"
      ]
     },
     "execution_count": 24,
     "metadata": {},
     "output_type": "execute_result"
    }
   ],
   "source": [
    "scipy.optimize.fsolve(f,np.arange(-10,10,0.5))"
   ]
  },
  {
   "cell_type": "code",
   "execution_count": null,
   "metadata": {
    "collapsed": true
   },
   "outputs": [],
   "source": []
  },
  {
   "cell_type": "code",
   "execution_count": 25,
   "metadata": {},
   "outputs": [
    {
     "data": {
      "text/plain": [
       "array([ 0.78539816,  0.78539816,  0.78539816,  0.78539816,  0.78539816,\n",
       "        0.78539816,  0.78539816,  0.78539816,  0.78539816,  0.78539816,\n",
       "        0.78539816,  0.78539816,  0.78539816,  0.78539816,  0.78539816,\n",
       "        0.78539816,  0.78539816,  0.78539816,  0.78539816,  0.78539816,\n",
       "        0.78539816,  0.78539816,  0.78539816,  0.78539816,  0.78539816,\n",
       "        0.78539816,  0.78539816,  0.78539816,  0.78539816,  0.78539816,\n",
       "        0.78539816,  0.78539816,  0.78539816,  0.78539816,  0.78539816,\n",
       "        0.78539816,  0.78539816,  0.78539816,  0.78539816,  0.78539816])"
      ]
     },
     "execution_count": 25,
     "metadata": {},
     "output_type": "execute_result"
    }
   ],
   "source": [
    "rhs = lambda x: np.arcsin(np.cos(x))  #arcsin just gives 1 value\n",
    "scipy.optimize.fixed_point(rhs,np.arange(-10,10,0.5))"
   ]
  },
  {
   "cell_type": "code",
   "execution_count": 26,
   "metadata": {},
   "outputs": [
    {
     "data": {
      "text/plain": [
       "array([-11.78097245, -11.78097245, -11.78097245,  -5.49778714,\n",
       "        -5.49778714,  -5.49778714,  -5.49778714,  -5.49778714,\n",
       "        -5.49778714,  -5.49778714,  -5.49778714,  -5.49778714,\n",
       "        -5.49778714,  -5.49778714,  -5.49778714,  -5.49778715,\n",
       "         0.78539816,   0.78539816,   0.78539816,   0.78539816,\n",
       "         0.78539816,   0.78539816,   0.78539816,   0.78539816,\n",
       "         0.78539816,   0.78539816,   0.78539816,   0.78539817,\n",
       "         7.06858346,   7.06858347,   7.06858347,   7.06858347,\n",
       "         7.06858347,   7.06858347,   7.06858347,   7.06858347,\n",
       "         7.06858347,   7.06858347,   7.06858347,   7.06858347])"
      ]
     },
     "execution_count": 26,
     "metadata": {},
     "output_type": "execute_result"
    }
   ],
   "source": [
    "rhs = lambda x: np.cos(x) - np.sin(x) + x\n",
    "scipy_ans = scipy.optimize.fixed_point(rhs,np.arange(-10,10,0.5), method='iteration')\n",
    "scipy_ans"
   ]
  },
  {
   "cell_type": "code",
   "execution_count": 27,
   "metadata": {},
   "outputs": [
    {
     "data": {
      "text/plain": [
       "(40,)"
      ]
     },
     "execution_count": 27,
     "metadata": {},
     "output_type": "execute_result"
    }
   ],
   "source": [
    "scipy_ans.shape"
   ]
  },
  {
   "cell_type": "code",
   "execution_count": 28,
   "metadata": {},
   "outputs": [
    {
     "name": "stdout",
     "output_type": "stream",
     "text": [
      "-11.78097245  -5.49778714  -8.63937980  -8.63937980  -8.63937980  \n",
      "-2.35619449  -5.49778714  -5.49778714  -5.49778714  -5.49778714  \n",
      "-5.49778714  -5.49778714  -5.49778714  -8.63937980  -2.35619449  \n",
      "-2.35619449  -2.35619449  -5.49778714  0.78539816  0.78539816  \n",
      "0.78539816  0.78539816  0.78539816  0.78539816  0.78539816  \n",
      "0.78539816  13.35176878  3.92699082  3.92699082  3.92699082  \n",
      "13.35176878  7.06858347  7.06858347  7.06858347  7.06858347  \n",
      "7.06858347  7.06858347  7.06858347  7.06858347  25.91813939  \n"
     ]
    }
   ],
   "source": [
    "for i,x0 in enumerate(np.arange(-10,10,0.5)):\n",
    "    ans = scipy.optimize.fixed_point(rhs, x0)\n",
    "    print(\"{:.8f}  \".format(float(ans)),end='')\n",
    "    if (i+1)%5 == 0:\n",
    "        print('\\n',end='')"
   ]
  },
  {
   "cell_type": "code",
   "execution_count": 29,
   "metadata": {
    "collapsed": true
   },
   "outputs": [],
   "source": [
    "def fixPoint(rhs,x):\n",
    "    itMax = 10000\n",
    "    eps = 1.0e-14\n",
    "    for i in range(1, itMax + 1):\n",
    "        x = rhs(x)\n",
    "        if abs(rhs(x) - x) < eps:\n",
    "            break\n",
    "    return (x)"
   ]
  },
  {
   "cell_type": "code",
   "execution_count": 30,
   "metadata": {},
   "outputs": [
    {
     "name": "stdout",
     "output_type": "stream",
     "text": [
      "-11.78097245  -11.78097245  -11.78097245  -5.49778714  -5.49778714  \n",
      "-5.49778714  -5.49778714  -5.49778714  -5.49778714  -5.49778714  \n",
      "-5.49778714  -5.49778714  -5.49778714  -5.49778714  -5.49778714  \n",
      "-5.49778714  0.78539816  0.78539816  0.78539816  0.78539816  \n",
      "0.78539816  0.78539816  0.78539816  0.78539816  0.78539816  \n",
      "0.78539816  0.78539816  0.78539816  7.06858347  7.06858347  \n",
      "7.06858347  7.06858347  7.06858347  7.06858347  7.06858347  \n",
      "7.06858347  7.06858347  7.06858347  7.06858347  7.06858347  \n"
     ]
    }
   ],
   "source": [
    "for i,x0 in enumerate(np.arange(-10,10,0.5)):\n",
    "    ans = fixPoint(rhs, x0)\n",
    "    print(\"{:.8f}  \".format(float(ans)),end='')\n",
    "    if (i+1)%5 == 0:\n",
    "        print('\\n',end='')"
   ]
  },
  {
   "cell_type": "code",
   "execution_count": 31,
   "metadata": {
    "collapsed": true
   },
   "outputs": [],
   "source": [
    "rhs = lambda x: np.cos(x) - np.sin(x) + x"
   ]
  },
  {
   "cell_type": "code",
   "execution_count": 32,
   "metadata": {
    "scrolled": true
   },
   "outputs": [
    {
     "data": {
      "text/plain": [
       "[-11.780972450961718,\n",
       " -11.78097245096172,\n",
       " -11.78097245096172,\n",
       " -5.4977871437821335,\n",
       " -5.4977871437821415,\n",
       " -5.4977871437821353,\n",
       " -5.4977871437821344,\n",
       " -5.4977871437821353,\n",
       " -5.4977871437821451,\n",
       " -5.4977871437821353,\n",
       " -5.4977871437821415,\n",
       " -5.4977871437821415,\n",
       " -5.4977871437821415,\n",
       " -5.4977871437821415,\n",
       " -5.4977871437821344,\n",
       " -5.4977871437821353,\n",
       " 0.78539816339744417,\n",
       " 0.78539816339744395,\n",
       " 0.78539816339744228,\n",
       " 0.78539816339745516,\n",
       " 0.78539816339745183,\n",
       " 0.78539816339744384,\n",
       " 0.78539816339745183,\n",
       " 0.78539816339744484,\n",
       " 0.78539816339745283,\n",
       " 0.78539816339745316,\n",
       " 0.78539816339745483,\n",
       " 0.78539816339744506,\n",
       " 7.0685834705770381,\n",
       " 7.0685834705770283,\n",
       " 7.0685834705770381,\n",
       " 7.0685834705770407,\n",
       " 7.0685834705770283,\n",
       " 7.0685834705770381,\n",
       " 7.0685834705770283,\n",
       " 7.0685834705770407,\n",
       " 7.0685834705770318,\n",
       " 7.0685834705770381,\n",
       " 7.0685834705770318,\n",
       " 7.068583470577031]"
      ]
     },
     "execution_count": 32,
     "metadata": {},
     "output_type": "execute_result"
    }
   ],
   "source": [
    "ans_user =[fixPoint(rhs,x) for x in np.arange(-10,10,0.5)]\n",
    "ans_user"
   ]
  },
  {
   "cell_type": "code",
   "execution_count": 33,
   "metadata": {
    "collapsed": true
   },
   "outputs": [],
   "source": [
    "y_sol = np.zeros(len(ans_user))"
   ]
  },
  {
   "cell_type": "code",
   "execution_count": 34,
   "metadata": {
    "collapsed": true
   },
   "outputs": [],
   "source": [
    "x = np.arange(-15,15,0.5)\n",
    "y = [math.cos(i) - math.sin(i) for i in x]"
   ]
  },
  {
   "cell_type": "code",
   "execution_count": 35,
   "metadata": {
    "collapsed": true
   },
   "outputs": [],
   "source": [
    "import matplotlib.pyplot as plt"
   ]
  },
  {
   "cell_type": "code",
   "execution_count": 36,
   "metadata": {
    "collapsed": true
   },
   "outputs": [],
   "source": [
    "import matplotlib as mpl"
   ]
  },
  {
   "cell_type": "code",
   "execution_count": 37,
   "metadata": {},
   "outputs": [
    {
     "data": {
      "image/png": "[encoded data removed]",
      "text/plain": [
       "<matplotlib.figure.Figure at 0x7fc2863a8a90>"
      ]
     },
     "metadata": {},
     "output_type": "display_data"
    }
   ],
   "source": [
    "font = {'size': 15}\n",
    "mpl.rc('font', **font)\n",
    "plt.figure()\n",
    "plt.plot(x,y,'-b')\n",
    "plt.plot(ans_user,y_sol,'or')\n",
    "plt.xlim(-10,10)\n",
    "plt.title(\"cos(x) - sin(y): user answer\")\n",
    "plt.show()"
   ]
  },
  {
   "cell_type": "code",
   "execution_count": 38,
   "metadata": {},
   "outputs": [
    {
     "data": {
      "image/png": "[encoded data removed]",
      "text/plain": [
       "<matplotlib.figure.Figure at 0x7fc2863a86d8>"
      ]
     },
     "metadata": {},
     "output_type": "display_data"
    }
   ],
   "source": [
    "plt.figure()\n",
    "plt.plot(x,y,'-b')\n",
    "plt.plot(scipy_ans,y_sol,'og')\n",
    "plt.xlim(-10,10)\n",
    "plt.title(\"cos(x) - sin(y): \\nscipy fix-point answer\")\n",
    "plt.show()"
   ]
  },
  {
   "cell_type": "code",
   "execution_count": 39,
   "metadata": {},
   "outputs": [
    {
     "data": {
      "image/png": "[encoded data removed]",
      "text/plain": [
       "<matplotlib.figure.Figure at 0x7fc247376ef0>"
      ]
     },
     "metadata": {},
     "output_type": "display_data"
    }
   ],
   "source": [
    "plt.figure()\n",
    "plt.plot(x,np.cos(x),'-b', label = 'cos')\n",
    "plt.plot(x,np.sin(x),'-r', label = 'sin')\n",
    "plt.plot(ans_user,np.sin(ans_user),'oc', label = 'roots')\n",
    "plt.xlim(-10,10)\n",
    "plt.legend(loc = 4, framealpha = 0.5)\n",
    "plt.title(\"sin(x) & cos(x)\")\n",
    "plt.show()"
   ]
  },
  {
   "cell_type": "markdown",
   "metadata": {
    "collapsed": true
   },
   "source": [
    "# Bisection Method"
   ]
  },
  {
   "cell_type": "code",
   "execution_count": 40,
   "metadata": {},
   "outputs": [
    {
     "name": "stdout",
     "output_type": "stream",
     "text": [
      "ans =  0.7853981633974456\n",
      "number of iteration =  44\n",
      "error =  -3.885780586188048e-15\n"
     ]
    }
   ],
   "source": [
    "fx = lambda x: math.sin(x) - math.cos(x)\n",
    "L = 0\n",
    "R = 1\n",
    "eps = 1e-14\n",
    "maxIteration = 1000\n",
    "xHist = []\n",
    "for i in range(0, maxIteration):\n",
    "    M = 0.5 * (L+R)\n",
    "    xHist.append(M)\n",
    "    fL = fx(L)\n",
    "    fR = fx(R)\n",
    "    fM = fx(M)\n",
    "    if abs(fL) < eps:\n",
    "        ans = L\n",
    "        break\n",
    "    if abs(fR) < eps:\n",
    "        ans = R\n",
    "        break\n",
    "    if abs(fM) < eps:\n",
    "        ans = M\n",
    "        break\n",
    "    if ((fL > 0) and (fM < 0)) or ((fL < 0) and (fM > 0)):\n",
    "        R = M\n",
    "    elif ((fR > 0) and (fM < 0)) or ((fR < 0) and (fM > 0)):\n",
    "        L = M\n",
    "    else:\n",
    "        print('no answer in the given domain')\n",
    "        break\n",
    "    if abs(fM) < eps:\n",
    "        ans = M\n",
    "        break\n",
    "print('ans = ', ans)\n",
    "print('number of iteration = ', i)\n",
    "print('error = ', fM)"
   ]
  },
  {
   "cell_type": "code",
   "execution_count": 41,
   "metadata": {
    "collapsed": true
   },
   "outputs": [],
   "source": [
    "convergenceRate = []\n",
    "for i in range(3, len(xHist)):\n",
    "    top = math.log(abs( (xHist[i] - xHist[i-1]) / (xHist[i-1] - xHist[i-2]) ))\n",
    "    bot = math.log(abs( (xHist[i-1] - xHist[i-2]) / (xHist[i-2] - xHist[i-3]) )) \n",
    "    convergenceRate.append(top/bot)"
   ]
  },
  {
   "cell_type": "code",
   "execution_count": 42,
   "metadata": {
    "scrolled": true
   },
   "outputs": [
    {
     "data": {
      "text/plain": [
       "[1.0,\n",
       " 1.0,\n",
       " 1.0,\n",
       " 1.0,\n",
       " 1.0,\n",
       " 1.0,\n",
       " 1.0,\n",
       " 1.0,\n",
       " 1.0,\n",
       " 1.0,\n",
       " 1.0,\n",
       " 1.0,\n",
       " 1.0,\n",
       " 1.0,\n",
       " 1.0,\n",
       " 1.0,\n",
       " 1.0,\n",
       " 1.0,\n",
       " 1.0,\n",
       " 1.0,\n",
       " 1.0,\n",
       " 1.0,\n",
       " 1.0,\n",
       " 1.0,\n",
       " 1.0,\n",
       " 1.0,\n",
       " 1.0,\n",
       " 1.0,\n",
       " 1.0,\n",
       " 1.0,\n",
       " 1.0,\n",
       " 1.0,\n",
       " 1.0,\n",
       " 1.0,\n",
       " 1.0,\n",
       " 1.0,\n",
       " 1.0,\n",
       " 1.0,\n",
       " 1.0,\n",
       " 1.0,\n",
       " 1.0,\n",
       " 1.0]"
      ]
     },
     "execution_count": 42,
     "metadata": {},
     "output_type": "execute_result"
    }
   ],
   "source": [
    "convergenceRate"
   ]
  },
  {
   "cell_type": "code",
   "execution_count": 43,
   "metadata": {},
   "outputs": [
    {
     "data": {
      "text/plain": [
       "0.7853981633979856"
      ]
     },
     "execution_count": 43,
     "metadata": {},
     "output_type": "execute_result"
    }
   ],
   "source": [
    "scipy.optimize.bisect(fx,0,1)"
   ]
  },
  {
   "cell_type": "code",
   "execution_count": 44,
   "metadata": {
    "collapsed": true
   },
   "outputs": [],
   "source": [
    "def myBisec(fx, L, R, eps = 1e-14, maxIteration = 1000):\n",
    "    xHist = []\n",
    "    for i in range(0, maxIteration):\n",
    "        M = 0.5 * (L+R)\n",
    "        xHist.append(M)\n",
    "        fL = fx(L)\n",
    "        fR = fx(R)\n",
    "        fM = fx(M)\n",
    "        if abs(fL) < eps:\n",
    "            ans = L\n",
    "            break\n",
    "        if abs(fR) < eps:\n",
    "            ans = R\n",
    "            break\n",
    "        if abs(fM) < eps:\n",
    "            ans = M\n",
    "            break\n",
    "        if ((fL > 0) and (fM < 0)) or ((fL < 0) and (fM > 0)):\n",
    "            R = M\n",
    "        elif ((fR > 0) and (fM < 0)) or ((fR < 0) and (fM > 0)):\n",
    "            L = M\n",
    "        else:\n",
    "            print('no answer in the given domain')\n",
    "            break\n",
    "        if abs(fM) < eps:\n",
    "            ans = M\n",
    "            break\n",
    "    print('ans = ', ans)\n",
    "    print('number of iteration = ', i)\n",
    "    print('error = ', fM)\n",
    "    convergenceRate = []\n",
    "    for i in range(3, len(xHist)):\n",
    "        top = math.log(abs( (xHist[i] - xHist[i-1]) / (xHist[i-1] - xHist[i-2]) ))\n",
    "        bot = math.log(abs( (xHist[i-1] - xHist[i-2]) / (xHist[i-2] - xHist[i-3]) )) \n",
    "        convergenceRate.append(top/bot)\n",
    "    print('convergence rate = ', np.mean(convergenceRate))"
   ]
  },
  {
   "cell_type": "code",
   "execution_count": 45,
   "metadata": {},
   "outputs": [
    {
     "name": "stdout",
     "output_type": "stream",
     "text": [
      "ans =  0.7853981633974456\n",
      "number of iteration =  44\n",
      "error =  -3.885780586188048e-15\n",
      "convergence rate =  1.0\n"
     ]
    }
   ],
   "source": [
    "myBisec(fx,0,1)"
   ]
  },
  {
   "cell_type": "code",
   "execution_count": 46,
   "metadata": {},
   "outputs": [
    {
     "name": "stdout",
     "output_type": "stream",
     "text": [
      "10 loops, best of 3: 22.9 µs per loop\n"
     ]
    }
   ],
   "source": [
    "%timeit -n 10 scipy.optimize.bisect(fx,0,1)"
   ]
  },
  {
   "cell_type": "code",
   "execution_count": 47,
   "metadata": {},
   "outputs": [
    {
     "name": "stdout",
     "output_type": "stream",
     "text": [
      "ans =  0.7853981633974456\n",
      "number of iteration =  44\n",
      "error =  -3.885780586188048e-15\n",
      "convergence rate =  1.0\n",
      "ans =  0.7853981633974456\n",
      "number of iteration =  44\n",
      "error =  -3.885780586188048e-15\n",
      "convergence rate =  1.0\n",
      "ans =  0.7853981633974456\n",
      "number of iteration =  44\n",
      "error =  -3.885780586188048e-15\n",
      "convergence rate =  1.0\n",
      "ans =  0.7853981633974456\n",
      "number of iteration =  44\n",
      "error =  -3.885780586188048e-15\n",
      "convergence rate =  1.0\n",
      "ans =  0.7853981633974456\n",
      "number of iteration =  44\n",
      "error =  -3.885780586188048e-15\n",
      "convergence rate =  1.0\n",
      "ans =  0.7853981633974456\n",
      "number of iteration =  44\n",
      "error =  -3.885780586188048e-15\n",
      "convergence rate =  1.0\n",
      "ans =  0.7853981633974456\n",
      "number of iteration =  44\n",
      "error =  -3.885780586188048e-15\n",
      "convergence rate =  1.0\n",
      "ans =  0.7853981633974456\n",
      "number of iteration =  44\n",
      "error =  -3.885780586188048e-15\n",
      "convergence rate =  1.0\n",
      "ans =  0.7853981633974456\n",
      "number of iteration =  44\n",
      "error =  -3.885780586188048e-15\n",
      "convergence rate =  1.0\n",
      "ans =  0.7853981633974456\n",
      "number of iteration =  44\n",
      "error =  -3.885780586188048e-15\n",
      "convergence rate =  1.0\n",
      "ans =  0.7853981633974456\n",
      "number of iteration =  44\n",
      "error =  -3.885780586188048e-15\n",
      "convergence rate =  1.0\n",
      "ans =  0.7853981633974456\n",
      "number of iteration =  44\n",
      "error =  -3.885780586188048e-15\n",
      "convergence rate =  1.0\n",
      "ans =  0.7853981633974456\n",
      "number of iteration =  44\n",
      "error =  -3.885780586188048e-15\n",
      "convergence rate =  1.0\n",
      "ans =  0.7853981633974456\n",
      "number of iteration =  44\n",
      "error =  -3.885780586188048e-15\n",
      "convergence rate =  1.0\n",
      "ans =  0.7853981633974456\n",
      "number of iteration =  44\n",
      "error =  -3.885780586188048e-15\n",
      "convergence rate =  1.0\n",
      "ans =  0.7853981633974456\n",
      "number of iteration =  44\n",
      "error =  -3.885780586188048e-15\n",
      "convergence rate =  1.0\n",
      "ans =  0.7853981633974456\n",
      "number of iteration =  44\n",
      "error =  -3.885780586188048e-15\n",
      "convergence rate =  1.0\n",
      "ans =  0.7853981633974456\n",
      "number of iteration =  44\n",
      "error =  -3.885780586188048e-15\n",
      "convergence rate =  1.0\n",
      "ans =  0.7853981633974456\n",
      "number of iteration =  44\n",
      "error =  -3.885780586188048e-15\n",
      "convergence rate =  1.0\n",
      "ans =  0.7853981633974456\n",
      "number of iteration =  44\n",
      "error =  -3.885780586188048e-15\n",
      "convergence rate =  1.0\n",
      "ans =  0.7853981633974456\n",
      "number of iteration =  44\n",
      "error =  -3.885780586188048e-15\n",
      "convergence rate =  1.0\n",
      "ans =  0.7853981633974456\n",
      "number of iteration =  44\n",
      "error =  -3.885780586188048e-15\n",
      "convergence rate =  1.0\n",
      "ans =  0.7853981633974456\n",
      "number of iteration =  44\n",
      "error =  -3.885780586188048e-15\n",
      "convergence rate =  1.0\n",
      "ans =  0.7853981633974456\n",
      "number of iteration =  44\n",
      "error =  -3.885780586188048e-15\n",
      "convergence rate =  1.0\n",
      "ans =  0.7853981633974456\n",
      "number of iteration =  44\n",
      "error =  -3.885780586188048e-15\n",
      "convergence rate =  1.0\n",
      "ans =  0.7853981633974456\n",
      "number of iteration =  44\n",
      "error =  -3.885780586188048e-15\n",
      "convergence rate =  1.0\n",
      "ans =  0.7853981633974456\n",
      "number of iteration =  44\n",
      "error =  -3.885780586188048e-15\n",
      "convergence rate =  1.0\n",
      "ans =  0.7853981633974456\n",
      "number of iteration =  44\n",
      "error =  -3.885780586188048e-15\n",
      "convergence rate =  1.0\n",
      "ans =  0.7853981633974456\n",
      "number of iteration =  44\n",
      "error =  -3.885780586188048e-15\n",
      "convergence rate =  1.0\n",
      "ans =  0.7853981633974456\n",
      "number of iteration =  44\n",
      "error =  -3.885780586188048e-15\n",
      "convergence rate =  1.0\n",
      "10 loops, best of 3: 497 µs per loop\n"
     ]
    }
   ],
   "source": [
    "%timeit -n 10 myBisec(fx,0,1)"
   ]
  },
  {
   "cell_type": "code",
   "execution_count": 48,
   "metadata": {
    "collapsed": true
   },
   "outputs": [],
   "source": [
    "def myBisecPlain(fx, L, R, eps = 1e-14, maxIteration = 1000):\n",
    "    for i in range(0, maxIteration):\n",
    "        M = 0.5 * (L+R)\n",
    "        fL = fx(L)\n",
    "        fR = fx(R)\n",
    "        fM = fx(M)\n",
    "        if ((fL > 0) and (fM < 0)) or ((fL < 0) and (fM > 0)):\n",
    "            R = M\n",
    "        else:\n",
    "            L = M\n",
    "        if abs(fM) < eps:\n",
    "            ans = M\n",
    "            break\n",
    "    return(ans)"
   ]
  },
  {
   "cell_type": "code",
   "execution_count": 49,
   "metadata": {},
   "outputs": [
    {
     "name": "stdout",
     "output_type": "stream",
     "text": [
      "10 loops, best of 3: 74.3 µs per loop\n"
     ]
    }
   ],
   "source": [
    "%timeit -n 10 myBisecPlain(fx,0,1)"
   ]
  },
  {
   "cell_type": "code",
   "execution_count": 50,
   "metadata": {},
   "outputs": [
    {
     "data": {
      "text/plain": [
       "0.7853981633974456"
      ]
     },
     "execution_count": 50,
     "metadata": {},
     "output_type": "execute_result"
    }
   ],
   "source": [
    "myBisecPlain(fx,0,1)"
   ]
  },
  {
   "cell_type": "code",
   "execution_count": 51,
   "metadata": {
    "scrolled": false
   },
   "outputs": [
    {
     "data": {
      "image/png": "[encoded data removed]",
      "text/plain": [
       "<matplotlib.figure.Figure at 0x7fc247296d68>"
      ]
     },
     "metadata": {},
     "output_type": "display_data"
    }
   ],
   "source": [
    "plt.figure(figsize = (16,8))\n",
    "fx = lambda x: np.sin(x) - np.cos(x)\n",
    "x = np.arange(0,1,0.05).tolist()\n",
    "y = fx(x)\n",
    "x2 = xHist[0:7]\n",
    "y2 = fx(x2)\n",
    "z = [i for i,j in enumerate(x2)]\n",
    "plt.plot(x, y)\n",
    "t = np.arange(0,100)\n",
    "plt.scatter(x2, y2, s = 200,  c = z, cmap = mpl.cm.nipy_spectral)\n",
    "plt.colorbar()\n",
    "plt.grid()\n",
    "plt.ylabel('f(x)')\n",
    "plt.xlabel('x')\n",
    "plt.show()"
   ]
  },
  {
   "cell_type": "code",
   "execution_count": 52,
   "metadata": {},
   "outputs": [
    {
     "data": {
      "text/plain": [
       "2.302585092994046"
      ]
     },
     "execution_count": 52,
     "metadata": {},
     "output_type": "execute_result"
    }
   ],
   "source": [
    "math.log(10)"
   ]
  },
  {
   "cell_type": "code",
   "execution_count": 53,
   "metadata": {},
   "outputs": [
    {
     "data": {
      "text/plain": [
       "2.3025850929940459"
      ]
     },
     "execution_count": 53,
     "metadata": {},
     "output_type": "execute_result"
    }
   ],
   "source": [
    "np.log(10)"
   ]
  },
  {
   "cell_type": "code",
   "execution_count": 54,
   "metadata": {},
   "outputs": [
    {
     "data": {
      "text/plain": [
       "1.0"
      ]
     },
     "execution_count": 54,
     "metadata": {},
     "output_type": "execute_result"
    }
   ],
   "source": [
    "np.log10(10)"
   ]
  },
  {
   "cell_type": "code",
   "execution_count": 55,
   "metadata": {},
   "outputs": [
    {
     "data": {
      "text/plain": [
       "1.0"
      ]
     },
     "execution_count": 55,
     "metadata": {},
     "output_type": "execute_result"
    }
   ],
   "source": [
    "math.log10(10)"
   ]
  },
  {
   "cell_type": "code",
   "execution_count": 56,
   "metadata": {
    "collapsed": true
   },
   "outputs": [],
   "source": [
    "def fx2(x, Re = 1e5, D = 0.052, ep = 150.0e-6 ):\n",
    "    return 1/x**0.5 + 4 * math.log10(ep/D/3.7 + 1.256 / Re / x**0.5)"
   ]
  },
  {
   "cell_type": "code",
   "execution_count": 57,
   "metadata": {},
   "outputs": [
    {
     "name": "stdout",
     "output_type": "stream",
     "text": [
      "ans =  0.006804747000108033\n",
      "number of iteration =  55\n",
      "error =  0.0\n",
      "convergence rate =  1.0\n"
     ]
    }
   ],
   "source": [
    "myBisec(fx2,1e-15,1)"
   ]
  },
  {
   "cell_type": "code",
   "execution_count": 58,
   "metadata": {},
   "outputs": [
    {
     "data": {
      "text/plain": [
       "0.2970090692492473"
      ]
     },
     "execution_count": 58,
     "metadata": {},
     "output_type": "execute_result"
    }
   ],
   "source": [
    "fx2(0.006490259249563085)"
   ]
  },
  {
   "cell_type": "markdown",
   "metadata": {},
   "source": [
    "## Many Inputs via:&nbsp;  <font color=#000066 face=\"courier new\">  **keyward argument\n",
    "Additional reading / Reference\n",
    "<br>http://book.pythontips.com/en/latest/args_and_kwargs.html\n",
    "<br>https://www.saltycrane.com/blog/2008/01/how-to-use-args-and-kwargs-in-python/"
   ]
  },
  {
   "cell_type": "code",
   "execution_count": 59,
   "metadata": {
    "collapsed": true
   },
   "outputs": [],
   "source": [
    "def fTest1(fn,**kw):\n",
    "    print(fn(**kw))"
   ]
  },
  {
   "cell_type": "code",
   "execution_count": 60,
   "metadata": {},
   "outputs": [
    {
     "name": "stdout",
     "output_type": "stream",
     "text": [
      "4.2018775357632645\n"
     ]
    }
   ],
   "source": [
    "fTest1(fx2, x = 0.006, Re = 4000, ep = 500e-6)"
   ]
  },
  {
   "cell_type": "code",
   "execution_count": 61,
   "metadata": {},
   "outputs": [
    {
     "data": {
      "text/plain": [
       "4.2018775357632645"
      ]
     },
     "execution_count": 61,
     "metadata": {},
     "output_type": "execute_result"
    }
   ],
   "source": [
    "fx2(x = 0.006, Re = 4000, ep = 500e-6)"
   ]
  },
  {
   "cell_type": "code",
   "execution_count": 62,
   "metadata": {
    "collapsed": true
   },
   "outputs": [],
   "source": [
    "def myBisecManyInput(fx, L, R, eps = 1e-14, maxIteration = 1000,**kw):\n",
    "    xHist = []\n",
    "    for i in range(0, maxIteration):\n",
    "        M = 0.5 * (L+R)\n",
    "        xHist.append(M)\n",
    "        fL = fx(L,**kw)\n",
    "        fR = fx(R,**kw)\n",
    "        fM = fx(M,**kw)\n",
    "        if abs(fL) < eps:\n",
    "            ans = L\n",
    "            break\n",
    "        if abs(fR) < eps:\n",
    "            ans = R\n",
    "            break\n",
    "        if abs(fM) < eps:\n",
    "            ans = M\n",
    "            break\n",
    "        if ((fL > 0) and (fM < 0)) or ((fL < 0) and (fM > 0)):\n",
    "            R = M\n",
    "        elif ((fR > 0) and (fM < 0)) or ((fR < 0) and (fM > 0)):\n",
    "            L = M\n",
    "        else:\n",
    "            print('no answer in the given domain')\n",
    "            break\n",
    "        if abs(fM) < eps:\n",
    "            ans = M\n",
    "            break\n",
    "    print('ans = ', ans)\n",
    "    print('number of iteration = ', i)\n",
    "    print('error = ', fM)\n",
    "    convergenceRate = []\n",
    "    for i in range(3, len(xHist)):\n",
    "        top = math.log(abs( (xHist[i] - xHist[i-1]) / (xHist[i-1] - xHist[i-2]) ))\n",
    "        bot = math.log(abs( (xHist[i-1] - xHist[i-2]) / (xHist[i-2] - xHist[i-3]) )) \n",
    "        convergenceRate.append(top/bot)\n",
    "    print('convergence rate = ', np.mean(convergenceRate))\n",
    "    return ans"
   ]
  },
  {
   "cell_type": "code",
   "execution_count": 63,
   "metadata": {},
   "outputs": [
    {
     "name": "stdout",
     "output_type": "stream",
     "text": [
      "ans =  0.004677270644027344\n",
      "number of iteration =  51\n",
      "error =  -7.105427357601002e-15\n",
      "convergence rate =  1.0\n"
     ]
    },
    {
     "data": {
      "text/plain": [
       "0.004677270644027344"
      ]
     },
     "execution_count": 63,
     "metadata": {},
     "output_type": "execute_result"
    }
   ],
   "source": [
    "myBisecManyInput(fx2, 1e-10,1, D = 0.2, Re = 1e6)"
   ]
  },
  {
   "cell_type": "code",
   "execution_count": 64,
   "metadata": {},
   "outputs": [
    {
     "data": {
      "text/plain": [
       "0.004677270644027344"
      ]
     },
     "execution_count": 64,
     "metadata": {},
     "output_type": "execute_result"
    }
   ],
   "source": [
    "_"
   ]
  },
  {
   "cell_type": "code",
   "execution_count": 65,
   "metadata": {},
   "outputs": [
    {
     "data": {
      "text/plain": [
       "-7.105427357601002e-15"
      ]
     },
     "execution_count": 65,
     "metadata": {},
     "output_type": "execute_result"
    }
   ],
   "source": [
    "fx2(_,D = 0.2, Re = 1e6)"
   ]
  },
  {
   "cell_type": "code",
   "execution_count": 66,
   "metadata": {},
   "outputs": [
    {
     "data": {
      "text/plain": [
       "0.004677270644030232"
      ]
     },
     "execution_count": 66,
     "metadata": {},
     "output_type": "execute_result"
    }
   ],
   "source": [
    "scipy.optimize.bisect(fx2, 1e-10, 1, args = (1e6, 0.2, 150.0e-6 ), xtol=1e-14)"
   ]
  },
  {
   "cell_type": "code",
   "execution_count": 67,
   "metadata": {},
   "outputs": [
    {
     "data": {
      "text/plain": [
       "-4.565237077258644e-12"
      ]
     },
     "execution_count": 67,
     "metadata": {},
     "output_type": "execute_result"
    }
   ],
   "source": [
    "fx2(_ ,1e6, 0.2, 150.0e-6)"
   ]
  },
  {
   "cell_type": "markdown",
   "metadata": {},
   "source": [
    "# Newton-Raphson Method"
   ]
  },
  {
   "cell_type": "code",
   "execution_count": 68,
   "metadata": {
    "collapsed": true
   },
   "outputs": [],
   "source": [
    "def fx2(x, Re = 1e5, D = 0.052, ep = 150.0e-6 ):\n",
    "    return 1/x**0.5 + 4 * math.log10(ep/D/3.7 + 1.256 / Re / x**0.5)"
   ]
  },
  {
   "cell_type": "code",
   "execution_count": 69,
   "metadata": {},
   "outputs": [
    {
     "data": {
      "image/png": "[encoded data removed]",
      "text/plain": [
       "<matplotlib.figure.Figure at 0x7fc2471558d0>"
      ]
     },
     "metadata": {},
     "output_type": "display_data"
    }
   ],
   "source": [
    "plt.figure()\n",
    "x = np.linspace(0.0001,0.1, 100).tolist()\n",
    "y = list(map(fx2,x))\n",
    "plt.plot(x,y)\n",
    "plt.title(\"f(Colebrook) = LHS-RHS\")\n",
    "plt.show()"
   ]
  },
  {
   "cell_type": "code",
   "execution_count": 70,
   "metadata": {
    "collapsed": true
   },
   "outputs": [],
   "source": [
    "def myNewton(fx, args = [], eps = 1e-10, x0 = 1e-9, maxIt = 1000):\n",
    "    for i in range(0,maxIt):\n",
    "        xOld = x0\n",
    "        slope = (fx(x0 + 0.5 * eps, *args) - fx(x0 - 0.5 * eps, *args))/eps\n",
    "        fxVal = fx(x0, *args)\n",
    "        try:\n",
    "            x0 = x0 - fxVal / slope    \n",
    "        except Exception as e:\n",
    "            print(e)\n",
    "            print(sys.exc_info()[0])\n",
    "            print('slope = ', slope)\n",
    "        \n",
    "        if abs(x0 - xOld) < eps:\n",
    "            print('#iteration = ', i)\n",
    "            print('ans = ', x0)\n",
    "            print('error = ', fx(x0, *args))\n",
    "            return x0\n",
    "    print('cannot find answer')\n",
    "    print('#iteration = ', i)\n",
    "    print('ans = ', x0)\n",
    "    return x0"
   ]
  },
  {
   "cell_type": "code",
   "execution_count": 71,
   "metadata": {},
   "outputs": [
    {
     "name": "stdout",
     "output_type": "stream",
     "text": [
      "#iteration =  19\n",
      "ans =  0.004677270644027339\n",
      "error =  1.7763568394002505e-15\n"
     ]
    },
    {
     "data": {
      "text/plain": [
       "0.004677270644027339"
      ]
     },
     "execution_count": 71,
     "metadata": {},
     "output_type": "execute_result"
    }
   ],
   "source": [
    "myNewton(fx2, args = [1e6, 0.2, 150.0e-6 ])"
   ]
  },
  {
   "cell_type": "code",
   "execution_count": 72,
   "metadata": {},
   "outputs": [
    {
     "name": "stdout",
     "output_type": "stream",
     "text": [
      "#iteration =  19\n",
      "ans =  0.004677270644027339\n",
      "error =  1.7763568394002505e-15\n"
     ]
    },
    {
     "data": {
      "text/plain": [
       "0.004677270644027339"
      ]
     },
     "execution_count": 72,
     "metadata": {},
     "output_type": "execute_result"
    }
   ],
   "source": [
    "myNewton(fx2, x0 = 1e-9, args = [1e6, 0.2, 150.0e-6 ])"
   ]
  },
  {
   "cell_type": "code",
   "execution_count": 73,
   "metadata": {
    "collapsed": true
   },
   "outputs": [],
   "source": [
    "args = [1e6, 0.2, 150.0e-6 ]"
   ]
  },
  {
   "cell_type": "code",
   "execution_count": 74,
   "metadata": {},
   "outputs": [
    {
     "data": {
      "text/plain": [
       "1.7763568394002505e-15"
      ]
     },
     "execution_count": 74,
     "metadata": {},
     "output_type": "execute_result"
    }
   ],
   "source": [
    "fx2(_, *args)"
   ]
  },
  {
   "cell_type": "code",
   "execution_count": 75,
   "metadata": {},
   "outputs": [
    {
     "data": {
      "text/plain": [
       "0.004677270644027339"
      ]
     },
     "execution_count": 75,
     "metadata": {},
     "output_type": "execute_result"
    }
   ],
   "source": [
    "scipy.optimize.newton(fx2, 1e-9, args = tuple(args), tol = 1e-15)"
   ]
  },
  {
   "cell_type": "code",
   "execution_count": 76,
   "metadata": {},
   "outputs": [
    {
     "data": {
      "text/plain": [
       "1.7763568394002505e-15"
      ]
     },
     "execution_count": 76,
     "metadata": {},
     "output_type": "execute_result"
    }
   ],
   "source": [
    "fx2(_, *args)"
   ]
  },
  {
   "cell_type": "code",
   "execution_count": 77,
   "metadata": {
    "collapsed": true
   },
   "outputs": [],
   "source": [
    "def myNewtonPlain(fx, args = [], eps = 1e-10, x0 = 1e-9, maxIt = 1000):\n",
    "    for i in range(0,maxIt):\n",
    "        xOld = x0\n",
    "        slope = (fx(x0 + 0.5 * eps, *args) - fx(x0 - 0.5 * eps, *args))/eps\n",
    "        fxVal = fx(x0, *args)\n",
    "        try:\n",
    "            x0 = x0 - fxVal / slope\n",
    "        except Exception as e:\n",
    "            print(e)\n",
    "            print(sys.exc_info()[0])\n",
    "            print('slope = ', slope)\n",
    "        \n",
    "        if abs(x0 - xOld) < eps:\n",
    "            return x0\n",
    "    print('cannot find answer')\n",
    "    print('#iteration = ', i)\n",
    "    print('ans = ', x0)\n",
    "    return x0"
   ]
  },
  {
   "cell_type": "code",
   "execution_count": 78,
   "metadata": {},
   "outputs": [
    {
     "name": "stdout",
     "output_type": "stream",
     "text": [
      "10 loops, best of 3: 218 µs per loop\n"
     ]
    }
   ],
   "source": [
    "%%timeit -n 10\n",
    "myNewtonPlain(fx2, args = [1e6, 0.2, 150.0e-6 ])"
   ]
  },
  {
   "cell_type": "code",
   "execution_count": 79,
   "metadata": {},
   "outputs": [
    {
     "name": "stdout",
     "output_type": "stream",
     "text": [
      "10 loops, best of 3: 30 µs per loop\n"
     ]
    }
   ],
   "source": [
    "%%timeit -n 10\n",
    "scipy.optimize.newton(fx2, 1e-9, args = tuple(args), tol = 1e-15)"
   ]
  },
  {
   "cell_type": "markdown",
   "metadata": {
    "collapsed": true
   },
   "source": [
    "# Class with root finding method"
   ]
  },
  {
   "cell_type": "code",
   "execution_count": 80,
   "metadata": {
    "collapsed": true
   },
   "outputs": [],
   "source": [
    "class RootFindClass:\n",
    "    def __init__(self, fx, x0 = 1, LLim = -1000, RLim = 1000, xTol = 1e-14, maxIt = 1000, args = ()):\n",
    "        self.x0 = x0\n",
    "        self.LLim = LLim\n",
    "        self.RLim = RLim\n",
    "        self.xTol = xTol\n",
    "        self.maxIt = maxIt\n",
    "        self.args = args\n",
    "        self.fx = fx\n",
    "    def fix_point(self):\n",
    "        self.RHS = lambda x: self.fx(x) + x\n",
    "        return scipy.optimize.fixed_point(self.RHS, self.x0, xtol = self.xTol, args = self.args)\n",
    "    def bisect(self):\n",
    "        return scipy.optimize.bisect(self.fx, self.LLim, self.RLim, xtol = self.xTol, args = self.args)\n",
    "    def newton(self):\n",
    "        return scipy.optimize.newton(self.fx, self.x0, tol = self.xTol, args = self.args)\n",
    "    #operator overloading for + operation\n",
    "    def __add__(self, other):\n",
    "        return RootFindClass(lambda x: self.fx(x) + other.fx(x), self.x0, \n",
    "                            self.LLim, self.RLim, self.xTol, self.maxIt, self.args + other.args)"
   ]
  },
  {
   "cell_type": "code",
   "execution_count": 81,
   "metadata": {},
   "outputs": [
    {
     "name": "stdout",
     "output_type": "stream",
     "text": [
      "fixed-point\n",
      "scipy output =  0.7390851332151607\n",
      " user output =  0.7390851332151607\n",
      "\n",
      "bisection\n",
      "scipy output =  0.7390851332151627\n",
      " user output =  0.7390851332151627\n",
      "\n",
      "Newton\n",
      "scipy output =  0.7390851332151607\n",
      " user output =  0.7390851332151607\n",
      "\n"
     ]
    }
   ],
   "source": [
    "f1 = lambda x: math.cos(x) - x\n",
    "func_1 = RootFindClass(f1, 1, 0, 2)\n",
    "\n",
    "def print_f1():\n",
    "    sp_output = scipy.optimize.fixed_point(lambda x: f1(x) + x, 1, xtol = 1e-14)\n",
    "    user_output = func_1.fix_point()\n",
    "    print('fixed-point')\n",
    "    print('scipy output = ', sp_output)\n",
    "    print(' user output = ', user_output, end = '\\n\\n')\n",
    "\n",
    "    sp_output = scipy.optimize.bisect(f1, 0, 2, xtol = 1e-14)\n",
    "    user_output = func_1.bisect()\n",
    "    print('bisection')\n",
    "    print('scipy output = ', sp_output)\n",
    "    print(' user output = ', user_output, end = '\\n\\n')\n",
    "\n",
    "    sp_output = scipy.optimize.newton(f1, 1, tol = 1e-14)\n",
    "    user_output = func_1.newton()\n",
    "    print('Newton')\n",
    "    print('scipy output = ', sp_output)\n",
    "    print(' user output = ', user_output, end = '\\n\\n')\n",
    "\n",
    "print_f1()"
   ]
  },
  {
   "cell_type": "code",
   "execution_count": 82,
   "metadata": {},
   "outputs": [
    {
     "name": "stdout",
     "output_type": "stream",
     "text": [
      "bisection\n",
      "scipy output =  0.004677270644030232\n",
      " user output =  0.004677270644030232\n",
      "\n",
      "Newton\n",
      "scipy output =  0.00467727064402734\n",
      " user output =  0.00467727064402734\n",
      "\n"
     ]
    }
   ],
   "source": [
    "def f1(x, Re = 1e5, D = 0.052, ep = 150.0e-6 ):\n",
    "    return 1/x**0.5 + 4 * math.log10(ep/D/3.7 + 1.256 / Re / x**0.5)\n",
    "\n",
    "func_1 = RootFindClass(f1, 1e-9, 1e-10, 1, args = (1e6, 0.2, 150e-6))\n",
    "\n",
    "sp_output = scipy.optimize.bisect(f1, 1e-10, 1, xtol = 1e-14, args = (1e6, 0.2, 150e-6))\n",
    "user_output = func_1.bisect()\n",
    "print('bisection')\n",
    "print('scipy output = ', sp_output)\n",
    "print(' user output = ', user_output, end = '\\n\\n')\n",
    "\n",
    "sp_output = scipy.optimize.newton(f1, 1e-9, tol = 1e-14, args = (1e6, 0.2, 150e-6))\n",
    "user_output = func_1.newton()\n",
    "print('Newton')\n",
    "print('scipy output = ', sp_output)\n",
    "print(' user output = ', user_output, end = '\\n\\n')"
   ]
  },
  {
   "cell_type": "code",
   "execution_count": 83,
   "metadata": {},
   "outputs": [
    {
     "name": "stdout",
     "output_type": "stream",
     "text": [
      "fixed-point\n",
      "scipy output =  0.7853981633974483\n",
      " user output =  0.7853981633974483\n",
      "\n",
      "bisection\n",
      "scipy output =  0.7853981633974527\n",
      " user output =  0.7853981633974527\n",
      "\n",
      "Newton\n",
      "scipy output =  0.7853981633974483\n",
      " user output =  0.7853981633974483\n",
      "\n"
     ]
    }
   ],
   "source": [
    "f1 = lambda x: math.cos(x) - math.sin(x)\n",
    "func_1 = RootFindClass(f1, 1, 0, 2)\n",
    "\n",
    "print_f1()"
   ]
  },
  {
   "cell_type": "code",
   "execution_count": 84,
   "metadata": {},
   "outputs": [
    {
     "name": "stdout",
     "output_type": "stream",
     "text": [
      "fixed-point\n",
      "scipy output =  0.7853981633974483\n",
      " user output =  0.7853981633974481\n",
      "\n",
      "bisection\n",
      "scipy output =  0.7853981633974527\n",
      " user output =  0.7853981633974527\n",
      "\n",
      "Newton\n",
      "scipy output =  0.7853981633974483\n",
      " user output =  0.7853981633974483\n",
      "\n"
     ]
    }
   ],
   "source": [
    "func_a = RootFindClass(math.sin, 1, 0, 2)\n",
    "func_b = RootFindClass(lambda x: -math.cos(x), 1, 0, 2)\n",
    "\n",
    "func_1 = func_a + func_b\n",
    "print_f1()"
   ]
  },
  {
   "cell_type": "code",
   "execution_count": 85,
   "metadata": {},
   "outputs": [
    {
     "data": {
      "text/plain": [
       "0.7853981633974483"
      ]
     },
     "execution_count": 85,
     "metadata": {},
     "output_type": "execute_result"
    }
   ],
   "source": [
    "func_1.newton()"
   ]
  },
  {
   "cell_type": "markdown",
   "metadata": {
    "collapsed": true
   },
   "source": [
    "# Solving polynomial: &nbsp; <font color=#000066 face=\"courier new\">  $x^2 - 7 = 0$ </font>\n",
    "numpy.roots\n",
    "pass range of initial guess and solve with scipy"
   ]
  },
  {
   "cell_type": "code",
   "execution_count": 86,
   "metadata": {},
   "outputs": [
    {
     "data": {
      "text/plain": [
       "array([-2.64575131,  2.64575131])"
      ]
     },
     "execution_count": 86,
     "metadata": {},
     "output_type": "execute_result"
    }
   ],
   "source": [
    "ans = np.roots([1,0,-7])\n",
    "ans"
   ]
  },
  {
   "cell_type": "code",
   "execution_count": 87,
   "metadata": {},
   "outputs": [
    {
     "data": {
      "text/plain": [
       "7.0000000000000009"
      ]
     },
     "execution_count": 87,
     "metadata": {},
     "output_type": "execute_result"
    }
   ],
   "source": [
    "ans[0] ** 2 "
   ]
  },
  {
   "cell_type": "code",
   "execution_count": 88,
   "metadata": {},
   "outputs": [
    {
     "data": {
      "text/plain": [
       "6.9999999999999982"
      ]
     },
     "execution_count": 88,
     "metadata": {},
     "output_type": "execute_result"
    }
   ],
   "source": [
    "ans[1] ** 2 "
   ]
  },
  {
   "cell_type": "code",
   "execution_count": 89,
   "metadata": {
    "collapsed": true
   },
   "outputs": [],
   "source": [
    "fx = lambda x: x**2 -7"
   ]
  },
  {
   "cell_type": "code",
   "execution_count": 90,
   "metadata": {},
   "outputs": [
    {
     "data": {
      "text/plain": [
       "array([-2.64575131, -2.64575131,  2.64575131])"
      ]
     },
     "execution_count": 90,
     "metadata": {},
     "output_type": "execute_result"
    }
   ],
   "source": [
    "scipy.optimize.fsolve(fx, [-5,0,5])"
   ]
  },
  {
   "cell_type": "markdown",
   "metadata": {},
   "source": [
    "### Truncate then use set to get unique answer"
   ]
  },
  {
   "cell_type": "code",
   "execution_count": 91,
   "metadata": {},
   "outputs": [
    {
     "data": {
      "text/plain": [
       "{-2.6457513111, 2.6457513111}"
      ]
     },
     "execution_count": 91,
     "metadata": {},
     "output_type": "execute_result"
    }
   ],
   "source": [
    "ans = scipy.optimize.fsolve(fx, [-5,0,5])\n",
    "{float('{0:.10f}'.format(i)) for i in ans}"
   ]
  },
  {
   "cell_type": "markdown",
   "metadata": {},
   "source": [
    "# Solving Analytically: &nbsp; <font color=#000066 face=\"courier new\">  $x^2 - 7 = 0$ </font>"
   ]
  },
  {
   "cell_type": "code",
   "execution_count": 92,
   "metadata": {
    "collapsed": true
   },
   "outputs": [],
   "source": [
    "import sympy as sm"
   ]
  },
  {
   "cell_type": "code",
   "execution_count": 93,
   "metadata": {
    "collapsed": true
   },
   "outputs": [],
   "source": [
    "x, y = sm.symbols('x y')"
   ]
  },
  {
   "cell_type": "code",
   "execution_count": 94,
   "metadata": {},
   "outputs": [
    {
     "data": {
      "text/plain": [
       "[-sqrt(7), sqrt(7)]"
      ]
     },
     "execution_count": 94,
     "metadata": {},
     "output_type": "execute_result"
    }
   ],
   "source": [
    "sm.solve(x**2-7)"
   ]
  },
  {
   "cell_type": "code",
   "execution_count": 95,
   "metadata": {
    "collapsed": true
   },
   "outputs": [],
   "source": [
    "sm.init_printing(use_unicode=True)"
   ]
  },
  {
   "cell_type": "code",
   "execution_count": 96,
   "metadata": {},
   "outputs": [
    {
     "data": {
      "image/png": "[encoded data removed]",
      "text/latex": [
       "$$\\left [ - \\sqrt{7}, \\quad \\sqrt{7}\\right ]$$"
      ],
      "text/plain": [
       "[-√7, √7]"
      ]
     },
     "execution_count": 96,
     "metadata": {},
     "output_type": "execute_result"
    }
   ],
   "source": [
    "sm.solve(x**2-7)"
   ]
  },
  {
   "cell_type": "code",
   "execution_count": 97,
   "metadata": {
    "collapsed": true
   },
   "outputs": [],
   "source": [
    "E1 = x**2 - 7"
   ]
  },
  {
   "cell_type": "code",
   "execution_count": 98,
   "metadata": {},
   "outputs": [
    {
     "data": {
      "image/png": "[encoded data removed]",
      "text/latex": [
       "$$\\left [ - \\sqrt{7}, \\quad \\sqrt{7}\\right ]$$"
      ],
      "text/plain": [
       "[-√7, √7]"
      ]
     },
     "execution_count": 98,
     "metadata": {},
     "output_type": "execute_result"
    }
   ],
   "source": [
    "sm.solve(E1)"
   ]
  },
  {
   "cell_type": "code",
   "execution_count": 99,
   "metadata": {
    "collapsed": true
   },
   "outputs": [],
   "source": [
    "E2 = x**2 - y"
   ]
  },
  {
   "cell_type": "code",
   "execution_count": 100,
   "metadata": {},
   "outputs": [
    {
     "data": {
      "image/png": "[encoded data removed]",
      "text/latex": [
       "$$\\left [ - \\sqrt{y}, \\quad \\sqrt{y}\\right ]$$"
      ],
      "text/plain": [
       "[-√y, √y]"
      ]
     },
     "execution_count": 100,
     "metadata": {},
     "output_type": "execute_result"
    }
   ],
   "source": [
    "sm.solve(E2,x)"
   ]
  },
  {
   "cell_type": "code",
   "execution_count": 101,
   "metadata": {},
   "outputs": [
    {
     "data": {
      "image/png": "[encoded data removed]",
      "text/latex": [
       "$$2 x$$"
      ],
      "text/plain": [
       "2⋅x"
      ]
     },
     "execution_count": 101,
     "metadata": {},
     "output_type": "execute_result"
    }
   ],
   "source": [
    "sm.diff(E2,x)"
   ]
  },
  {
   "cell_type": "code",
   "execution_count": 102,
   "metadata": {
    "collapsed": true
   },
   "outputs": [],
   "source": [
    "ans = sm.diff(E2,x)"
   ]
  },
  {
   "cell_type": "code",
   "execution_count": 103,
   "metadata": {},
   "outputs": [
    {
     "data": {
      "text/plain": [
       "sympy.core.mul.Mul"
      ]
     },
     "execution_count": 103,
     "metadata": {},
     "output_type": "execute_result"
    }
   ],
   "source": [
    "type(ans)"
   ]
  },
  {
   "cell_type": "code",
   "execution_count": 104,
   "metadata": {
    "collapsed": true
   },
   "outputs": [],
   "source": [
    "py_func = sm.lambdify(x, ans)"
   ]
  },
  {
   "cell_type": "code",
   "execution_count": 105,
   "metadata": {},
   "outputs": [
    {
     "data": {
      "image/png": "[encoded data removed]",
      "text/latex": [
       "$$4$$"
      ],
      "text/plain": [
       "4"
      ]
     },
     "execution_count": 105,
     "metadata": {},
     "output_type": "execute_result"
    }
   ],
   "source": [
    "py_func(2)"
   ]
  },
  {
   "cell_type": "code",
   "execution_count": 106,
   "metadata": {},
   "outputs": [
    {
     "data": {
      "text/plain": [
       "function"
      ]
     },
     "execution_count": 106,
     "metadata": {},
     "output_type": "execute_result"
    }
   ],
   "source": [
    "type(py_func)"
   ]
  },
  {
   "cell_type": "code",
   "execution_count": 107,
   "metadata": {
    "collapsed": true
   },
   "outputs": [],
   "source": [
    "f, Re, ep, D = sm.symbols('f Re ep D')"
   ]
  },
  {
   "cell_type": "code",
   "execution_count": 108,
   "metadata": {
    "collapsed": true
   },
   "outputs": [],
   "source": [
    "E2 = 1/f**0.5 + 4 * sm.functions.log(ep/D/3.7 + 1.256 / Re / f**0.5, 10)"
   ]
  },
  {
   "cell_type": "code",
   "execution_count": 109,
   "metadata": {
    "collapsed": true
   },
   "outputs": [],
   "source": [
    "py_func0 = sm.lambdify(('f=0', 'Re=0', 'D=0', 'ep=0'), E2)"
   ]
  },
  {
   "cell_type": "code",
   "execution_count": 110,
   "metadata": {},
   "outputs": [
    {
     "data": {
      "image/png": "[encoded data removed]",
      "text/latex": [
       "$$19.9510341069$$"
      ],
      "text/plain": [
       "19.9510341069"
      ]
     },
     "execution_count": 110,
     "metadata": {},
     "output_type": "execute_result"
    }
   ],
   "source": [
    "py_func0(Re = 1e5, f = 0.001, D = 0.05, ep = 150e-6)"
   ]
  },
  {
   "cell_type": "code",
   "execution_count": 111,
   "metadata": {
    "collapsed": true
   },
   "outputs": [],
   "source": [
    "def fx2(x, Re = 1e5, D = 0.052, ep = 150.0e-6 ):\n",
    "    return 1/x**0.5 + 4 * math.log10(ep/D/3.7 + 1.256 / Re / x**0.5)"
   ]
  },
  {
   "cell_type": "code",
   "execution_count": 112,
   "metadata": {},
   "outputs": [
    {
     "data": {
      "image/png": "[encoded data removed]",
      "text/latex": [
       "$$19.9510341069$$"
      ],
      "text/plain": [
       "19.9510341069"
      ]
     },
     "execution_count": 112,
     "metadata": {},
     "output_type": "execute_result"
    }
   ],
   "source": [
    "py_func0(0.001, 1e5, 0.05, 150e-6)"
   ]
  },
  {
   "cell_type": "code",
   "execution_count": 113,
   "metadata": {},
   "outputs": [
    {
     "data": {
      "image/png": "[encoded data removed]",
      "text/latex": [
       "$$19.95103410688509$$"
      ],
      "text/plain": [
       "19.95103410688509"
      ]
     },
     "execution_count": 113,
     "metadata": {},
     "output_type": "execute_result"
    }
   ],
   "source": [
    "fx2(0.001, 1e5, 0.05, 150e-6)"
   ]
  },
  {
   "cell_type": "code",
   "execution_count": 114,
   "metadata": {
    "collapsed": true
   },
   "outputs": [],
   "source": [
    "py_func0b = sm.lambdify('f=0, Re=0, D=0, ep=0', E2)"
   ]
  },
  {
   "cell_type": "code",
   "execution_count": 115,
   "metadata": {},
   "outputs": [
    {
     "data": {
      "image/png": "[encoded data removed]",
      "text/latex": [
       "$$19.9510341069$$"
      ],
      "text/plain": [
       "19.9510341069"
      ]
     },
     "execution_count": 115,
     "metadata": {},
     "output_type": "execute_result"
    }
   ],
   "source": [
    "py_func0b(0.001, 1e5, 0.05, 150e-6)"
   ]
  },
  {
   "cell_type": "code",
   "execution_count": 116,
   "metadata": {},
   "outputs": [
    {
     "data": {
      "image/png": "[encoded data removed]",
      "text/latex": [
       "$$19.9510341069$$"
      ],
      "text/plain": [
       "19.9510341069"
      ]
     },
     "execution_count": 116,
     "metadata": {},
     "output_type": "execute_result"
    }
   ],
   "source": [
    "py_func0b(Re = 1e5, f = 0.001, D = 0.05, ep = 150e-6)"
   ]
  },
  {
   "cell_type": "code",
   "execution_count": 117,
   "metadata": {},
   "outputs": [
    {
     "data": {
      "image/png": "[encoded data removed]",
      "text/latex": [
       "$$- \\frac{0.5}{f^{1.5}} - \\frac{2.512}{Re f^{1.5} \\left(\\frac{1.256}{Re f^{0.5}} + \\frac{0.27027027027027 ep}{D}\\right) \\log{\\left (10 \\right )}}$$"
      ],
      "text/plain": [
       "                                      -1.5                  \n",
       "       -1.5                    2.512⋅f                      \n",
       "- 0.5⋅f     - ──────────────────────────────────────────────\n",
       "                 ⎛       -0.5                      ⎞        \n",
       "                 ⎜1.256⋅f       0.27027027027027⋅ep⎟        \n",
       "              Re⋅⎜─────────── + ───────────────────⎟⋅log(10)\n",
       "                 ⎝     Re                D         ⎠        "
      ]
     },
     "execution_count": 117,
     "metadata": {},
     "output_type": "execute_result"
    }
   ],
   "source": [
    "sm.diff(E2, f)"
   ]
  },
  {
   "cell_type": "code",
   "execution_count": 118,
   "metadata": {
    "collapsed": true
   },
   "outputs": [],
   "source": [
    "diff_fn = sm.lambdify('f=0, Re=0, D=0, ep=0', sm.diff(E2, f))"
   ]
  },
  {
   "cell_type": "code",
   "execution_count": 119,
   "metadata": {},
   "outputs": [
    {
     "data": {
      "image/png": "[encoded data removed]",
      "text/latex": [
       "$$-16096.9760477$$"
      ],
      "text/plain": [
       "-16096.9760477"
      ]
     },
     "execution_count": 119,
     "metadata": {},
     "output_type": "execute_result"
    }
   ],
   "source": [
    "diff_fn(Re = 1e5, f = 0.001, D = 0.05, ep = 150e-6)"
   ]
  },
  {
   "cell_type": "markdown",
   "metadata": {},
   "source": [
    "### Central finite difference won't be exact, but it will be close"
   ]
  },
  {
   "cell_type": "code",
   "execution_count": 120,
   "metadata": {},
   "outputs": [
    {
     "data": {
      "image/png": "[encoded data removed]",
      "text/latex": [
       "$$-16096.976045432142$$"
      ],
      "text/plain": [
       "-16096.976045432142"
      ]
     },
     "execution_count": 120,
     "metadata": {},
     "output_type": "execute_result"
    }
   ],
   "source": [
    "( (fx2(0.001+1e-9, 1e5, 0.05, 150e-6) - fx2(0.001-1e-9, 1e5, 0.05, 150e-6))/\n",
    "2e-9)"
   ]
  },
  {
   "cell_type": "code",
   "execution_count": 121,
   "metadata": {},
   "outputs": [
    {
     "data": {
      "image/png": "[encoded data removed]",
      "text/latex": [
       "$$-1.39485065612e-08$$"
      ],
      "text/plain": [
       "-1.39485065612e-08"
      ]
     },
     "execution_count": 121,
     "metadata": {},
     "output_type": "execute_result"
    }
   ],
   "source": [
    "(_ - __)/__ * 100"
   ]
  },
  {
   "cell_type": "code",
   "execution_count": 122,
   "metadata": {},
   "outputs": [
    {
     "data": {
      "text/plain": [
       "'1.1.1'"
      ]
     },
     "execution_count": 122,
     "metadata": {},
     "output_type": "execute_result"
    }
   ],
   "source": [
    "sm.__version__"
   ]
  },
  {
   "cell_type": "code",
   "execution_count": 123,
   "metadata": {
    "collapsed": true
   },
   "outputs": [],
   "source": [
    "E3 = sm.diff(E2, f)"
   ]
  },
  {
   "cell_type": "code",
   "execution_count": 124,
   "metadata": {},
   "outputs": [
    {
     "data": {
      "text/plain": [
       "sympy.core.add.Add"
      ]
     },
     "execution_count": 124,
     "metadata": {},
     "output_type": "execute_result"
    }
   ],
   "source": [
    "type(E3)"
   ]
  },
  {
   "cell_type": "markdown",
   "metadata": {},
   "source": [
    "### Substitution and evaluation"
   ]
  },
  {
   "cell_type": "code",
   "execution_count": 125,
   "metadata": {},
   "outputs": [
    {
     "data": {
      "image/png": "[encoded data removed]",
      "text/latex": [
       "$$-15811.3883008419 - \\frac{657.590088605257}{\\log{\\left (10 \\right )}}$$"
      ],
      "text/plain": [
       "                    657.590088605257\n",
       "-15811.3883008419 - ────────────────\n",
       "                        log(10)     "
      ]
     },
     "execution_count": 125,
     "metadata": {},
     "output_type": "execute_result"
    }
   ],
   "source": [
    "E4 = E3.subs({Re:1e5, f:0.001, D:0.05, ep:150e-6})\n",
    "E4"
   ]
  },
  {
   "cell_type": "code",
   "execution_count": 126,
   "metadata": {},
   "outputs": [
    {
     "data": {
      "image/png": "[encoded data removed]",
      "text/latex": [
       "$$-16096.9760476774$$"
      ],
      "text/plain": [
       "-16096.9760476774"
      ]
     },
     "execution_count": 126,
     "metadata": {},
     "output_type": "execute_result"
    }
   ],
   "source": [
    "E4.evalf()"
   ]
  },
  {
   "cell_type": "code",
   "execution_count": 127,
   "metadata": {},
   "outputs": [
    {
     "data": {
      "image/png": "[encoded data removed]",
      "text/latex": [
       "$$-16096.9760476774$$"
      ],
      "text/plain": [
       "-16096.9760476774"
      ]
     },
     "execution_count": 127,
     "metadata": {},
     "output_type": "execute_result"
    }
   ],
   "source": [
    "sm.N(E4)"
   ]
  },
  {
   "cell_type": "markdown",
   "metadata": {},
   "source": [
    "# Sympy Integration"
   ]
  },
  {
   "cell_type": "code",
   "execution_count": 128,
   "metadata": {},
   "outputs": [
    {
     "data": {
      "image/png": "[encoded data removed]",
      "text/latex": [
       "$$\\frac{x^{2}}{2}$$"
      ],
      "text/plain": [
       " 2\n",
       "x \n",
       "──\n",
       "2 "
      ]
     },
     "execution_count": 128,
     "metadata": {},
     "output_type": "execute_result"
    }
   ],
   "source": [
    "x, y = sm.symbols('x y')\n",
    "sm.integrate(x,x)"
   ]
  },
  {
   "cell_type": "code",
   "execution_count": 129,
   "metadata": {},
   "outputs": [
    {
     "data": {
      "image/png": "[encoded data removed]",
      "text/latex": [
       "$$x \\log{\\left (x \\right )} - x$$"
      ],
      "text/plain": [
       "x⋅log(x) - x"
      ]
     },
     "execution_count": 129,
     "metadata": {},
     "output_type": "execute_result"
    }
   ],
   "source": [
    "sm.integrate(sm.log(x), x)"
   ]
  },
  {
   "cell_type": "code",
   "execution_count": 130,
   "metadata": {},
   "outputs": [
    {
     "data": {
      "image/png": "[encoded data removed]",
      "text/latex": [
       "$$-2 + 2 \\log{\\left (2 \\right )}$$"
      ],
      "text/plain": [
       "-2 + 2⋅log(2)"
      ]
     },
     "execution_count": 130,
     "metadata": {},
     "output_type": "execute_result"
    }
   ],
   "source": [
    "sm.integrate(sm.log(x), x).subs({x:2})"
   ]
  },
  {
   "cell_type": "code",
   "execution_count": 131,
   "metadata": {},
   "outputs": [
    {
     "data": {
      "image/png": "[encoded data removed]",
      "text/latex": [
       "$$-0.613705638880109$$"
      ],
      "text/plain": [
       "-0.613705638880109"
      ]
     },
     "execution_count": 131,
     "metadata": {},
     "output_type": "execute_result"
    }
   ],
   "source": [
    "sm.integrate(sm.log(x), x).subs({x:2}).evalf()"
   ]
  },
  {
   "cell_type": "code",
   "execution_count": 132,
   "metadata": {},
   "outputs": [
    {
     "data": {
      "image/png": "[encoded data removed]",
      "text/latex": [
       "$$-10 + 10 \\log{\\left (10 \\right )}$$"
      ],
      "text/plain": [
       "-10 + 10⋅log(10)"
      ]
     },
     "execution_count": 132,
     "metadata": {},
     "output_type": "execute_result"
    }
   ],
   "source": [
    "sm.integrate(sm.log(x), (x,0,10))"
   ]
  },
  {
   "cell_type": "code",
   "execution_count": 133,
   "metadata": {},
   "outputs": [
    {
     "data": {
      "image/png": "[encoded data removed]",
      "text/latex": [
       "$$x \\log{\\left (x \\right )}$$"
      ],
      "text/plain": [
       "x⋅log(x)"
      ]
     },
     "execution_count": 133,
     "metadata": {},
     "output_type": "execute_result"
    }
   ],
   "source": [
    "x * sm.log(x)"
   ]
  },
  {
   "cell_type": "code",
   "execution_count": 134,
   "metadata": {},
   "outputs": [
    {
     "name": "stdout",
     "output_type": "stream",
     "text": [
      "math domain error\n",
      "<class 'ValueError'>\n"
     ]
    }
   ],
   "source": [
    "try:\n",
    "    ans = 0 * math.log(0)\n",
    "except Exception as e:\n",
    "    print(e)\n",
    "    print(sys.exc_info()[0])"
   ]
  },
  {
   "cell_type": "code",
   "execution_count": 135,
   "metadata": {},
   "outputs": [
    {
     "data": {
      "image/png": "[encoded data removed]",
      "text/latex": [
       "$$\\mathrm{NaN}$$"
      ],
      "text/plain": [
       "nan"
      ]
     },
     "execution_count": 135,
     "metadata": {},
     "output_type": "execute_result"
    }
   ],
   "source": [
    "ans = x * sm.log(x)\n",
    "ans.subs({x:0})"
   ]
  },
  {
   "cell_type": "code",
   "execution_count": 136,
   "metadata": {},
   "outputs": [
    {
     "data": {
      "image/png": "[encoded data removed]",
      "text/latex": [
       "$$0$$"
      ],
      "text/plain": [
       "0"
      ]
     },
     "execution_count": 136,
     "metadata": {},
     "output_type": "execute_result"
    }
   ],
   "source": [
    "sm.limit(ans, x, 0)"
   ]
  },
  {
   "cell_type": "code",
   "execution_count": 137,
   "metadata": {},
   "outputs": [
    {
     "data": {
      "image/png": "[encoded data removed]",
      "text/latex": [
       "$$-1$$"
      ],
      "text/plain": [
       "-1"
      ]
     },
     "execution_count": 137,
     "metadata": {},
     "output_type": "execute_result"
    }
   ],
   "source": [
    "sm.integrate(sm.log(x), (x,0,1))"
   ]
  },
  {
   "cell_type": "code",
   "execution_count": 138,
   "metadata": {},
   "outputs": [
    {
     "data": {
      "image/png": "[encoded data removed]",
      "text/latex": [
       "$$y \\log{\\left (y \\right )} - y$$"
      ],
      "text/plain": [
       "y⋅log(y) - y"
      ]
     },
     "execution_count": 138,
     "metadata": {},
     "output_type": "execute_result"
    }
   ],
   "source": [
    "sm.integrate(sm.log(x), (x,0,y))"
   ]
  },
  {
   "cell_type": "markdown",
   "metadata": {},
   "source": [
    "At what y that make $\\int_{0}^{y}\\log{x}\\, dx = 1$"
   ]
  },
  {
   "cell_type": "code",
   "execution_count": 139,
   "metadata": {},
   "outputs": [
    {
     "data": {
      "image/png": "[encoded data removed]",
      "text/latex": [
       "$$3.59112147667$$"
      ],
      "text/plain": [
       "3.59112147667"
      ]
     },
     "execution_count": 139,
     "metadata": {},
     "output_type": "execute_result"
    }
   ],
   "source": [
    "ans2 = sm.integrate(sm.log(x), (x,0,y))\n",
    "root_ans = scipy.optimize.fsolve(sm.lambdify(y, ans2 - 1),3)[0]\n",
    "root_ans"
   ]
  },
  {
   "cell_type": "code",
   "execution_count": 140,
   "metadata": {},
   "outputs": [
    {
     "data": {
      "image/png": "[encoded data removed]",
      "text/latex": [
       "$$1.0$$"
      ],
      "text/plain": [
       "1.0"
      ]
     },
     "execution_count": 140,
     "metadata": {},
     "output_type": "execute_result"
    }
   ],
   "source": [
    "root_ans * math.log(root_ans) - root_ans"
   ]
  },
  {
   "cell_type": "code",
   "execution_count": 141,
   "metadata": {},
   "outputs": [
    {
     "data": {
      "image/png": "[encoded data removed]",
      "text/latex": [
       "$$0.999999999999978$$"
      ],
      "text/plain": [
       "0.999999999999978"
      ]
     },
     "execution_count": 141,
     "metadata": {},
     "output_type": "execute_result"
    }
   ],
   "source": [
    "sm.integrate(sm.log(x), (x,0,root_ans))"
   ]
  },
  {
   "cell_type": "markdown",
   "metadata": {},
   "source": [
    "# Combine Mpmath and Scipy: Ei function\n",
    "\n",
    "<br>\n",
    "<font size = 4.5> Wikipedia & Wolfram:&nbsp;  $\\operatorname{Ei}(x)=-\\int_{-x}^{\\infty}\\frac{e^{-t}}t\\,dt$\n",
    "<br> Sympy Library: &nbsp; $\\operatorname{Ei}(x)=\\int_{-\\infty}^{x}\\frac{e^{t}}t\\,dt$\n",
    "<br> are they the same? yes <br>\n",
    "<br> &nbsp;&nbsp;&nbsp;&nbsp; for u = -t\n",
    "<br> @$t = \\infty, u = -\\infty$\n",
    "<br> @$t = -x, u = x$\n",
    "<br> @$dt = -du$ <br>\n",
    "<br> $\\operatorname{Ei}(x)=-\\int_{-x}^{\\infty}\\frac{e^{-t}}t\\,dt \n",
    "= -\\int_{u = x}^{u = -\\infty}\\frac{e^{u}}{-u}\\,-du$\n",
    "<br><br> $-\\int_{u = x}^{u = -\\infty}\\frac{e^{u}(-1)}{-u}\\,du\n",
    "= \\int_{-\\infty}^{x}\\frac{e^{u}}{u}\\,du\n",
    "=\\int_{-\\infty}^{x}\\frac{e^{t}}t\\,dt$\n",
    "</font>"
   ]
  },
  {
   "cell_type": "code",
   "execution_count": 142,
   "metadata": {
    "collapsed": true
   },
   "outputs": [],
   "source": [
    "import mpmath"
   ]
  },
  {
   "cell_type": "code",
   "execution_count": 143,
   "metadata": {},
   "outputs": [
    {
     "data": {
      "text/plain": [
       "mpf('1.8951178163559368')"
      ]
     },
     "execution_count": 143,
     "metadata": {},
     "output_type": "execute_result"
    }
   ],
   "source": [
    "mpmath.ei(1)"
   ]
  },
  {
   "cell_type": "code",
   "execution_count": 144,
   "metadata": {},
   "outputs": [
    {
     "data": {
      "image/png": "[encoded data removed]",
      "text/latex": [
       "$$1.8951178163559368$$"
      ],
      "text/plain": [
       "1.8951178163559368"
      ]
     },
     "execution_count": 144,
     "metadata": {},
     "output_type": "execute_result"
    }
   ],
   "source": [
    "float(mpmath.ei(1))"
   ]
  },
  {
   "cell_type": "markdown",
   "metadata": {},
   "source": [
    "We may double check the value from <a href =\"https://goo.gl/EkWriV\">http://www.ams.org</a>"
   ]
  },
  {
   "cell_type": "markdown",
   "metadata": {},
   "source": [
    "## At what x, Ei(x) = 1.00000"
   ]
  },
  {
   "cell_type": "code",
   "execution_count": 145,
   "metadata": {
    "collapsed": true
   },
   "outputs": [],
   "source": [
    "x = np.linspace(0,1,1000)\n",
    "y = list(map(mpmath.ei,x))"
   ]
  },
  {
   "cell_type": "code",
   "execution_count": 146,
   "metadata": {},
   "outputs": [
    {
     "data": {
      "image/png": "[encoded data removed]",
      "text/plain": [
       "<matplotlib.figure.Figure at 0x7fc267e94080>"
      ]
     },
     "metadata": {},
     "output_type": "display_data"
    }
   ],
   "source": [
    "plt.figure()\n",
    "plt.plot(x,y)\n",
    "plt.show()"
   ]
  },
  {
   "cell_type": "code",
   "execution_count": 147,
   "metadata": {},
   "outputs": [
    {
     "data": {
      "image/png": "[encoded data removed]",
      "text/latex": [
       "$$0.6775499178144685$$"
      ],
      "text/plain": [
       "0.6775499178144685"
      ]
     },
     "execution_count": 147,
     "metadata": {},
     "output_type": "execute_result"
    }
   ],
   "source": [
    "ans = scipy.optimize.bisect(lambda x: float(mpmath.ei(x)) - 1,0.1,0.9,xtol=1e-14)\n",
    "ans"
   ]
  },
  {
   "cell_type": "code",
   "execution_count": 148,
   "metadata": {},
   "outputs": [
    {
     "data": {
      "text/plain": [
       "mpf('1.000000000000002')"
      ]
     },
     "execution_count": 148,
     "metadata": {},
     "output_type": "execute_result"
    }
   ],
   "source": [
    "mpmath.ei(ans)"
   ]
  },
  {
   "cell_type": "code",
   "execution_count": 149,
   "metadata": {},
   "outputs": [
    {
     "data": {
      "image/png": "[encoded data removed]",
      "text/latex": [
       "$$0.677549917814$$"
      ],
      "text/plain": [
       "0.677549917814"
      ]
     },
     "execution_count": 149,
     "metadata": {},
     "output_type": "execute_result"
    }
   ],
   "source": [
    "ans = scipy.optimize.fsolve(lambda x: float(mpmath.ei(float(x))) - 1,0.9,xtol=1e-14)\n",
    "ans[0]"
   ]
  },
  {
   "cell_type": "code",
   "execution_count": 150,
   "metadata": {},
   "outputs": [
    {
     "name": "stdout",
     "output_type": "stream",
     "text": [
      "cannot create mpf from array([ 0.9])\n",
      "<class 'TypeError'>\n"
     ]
    }
   ],
   "source": [
    "try:\n",
    "    ans = scipy.optimize.fsolve(lambda x: float(mpmath.ei(x)) - 1,0.9,xtol=1e-14)\n",
    "except Exception as e:\n",
    "    print(e)\n",
    "    print(sys.exc_info()[0])"
   ]
  },
  {
   "cell_type": "markdown",
   "metadata": {},
   "source": [
    "We previously solve 'TypeError' by forcing the input type to mpmath.ei to be float (not array)"
   ]
  }
 ],
 "metadata": {
  "kernelspec": {
   "display_name": "Python 3",
   "language": "python",
   "name": "python3"
  },
  "language_info": {
   "codemirror_mode": {
    "name": "ipython",
    "version": 3
   },
   "file_extension": ".py",
   "mimetype": "text/x-python",
   "name": "python",
   "nbconvert_exporter": "python",
   "pygments_lexer": "ipython3",
   "version": "3.6.2"
  }
 },
 "nbformat": 4,
 "nbformat_minor": 2
}
