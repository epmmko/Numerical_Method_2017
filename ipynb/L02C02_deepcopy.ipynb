{
 "cells": [
  {
   "cell_type": "code",
   "execution_count": 1,
   "metadata": {},
   "outputs": [
    {
     "name": "stdout",
     "output_type": "stream",
     "text": [
      "140641884644968 c[ 0 ]\n",
      "140641884644968 d[ 0 ]\n",
      "140641884645192 e[ 0 ]\n",
      "140641884644968 f[ 0 ]\n",
      "140641990752704 c[ 1 ]\n",
      "140641990752704 d[ 1 ]\n",
      "140641990752704 e[ 1 ]\n",
      "140641990752704 f[ 1 ]\n",
      "140641990752736 c[ 2 ]\n",
      "140641990752736 d[ 2 ]\n",
      "140641990752736 e[ 2 ]\n",
      "140641990752736 f[ 2 ]\n",
      "140641990752768 c[ 3 ]\n",
      "140641990752768 d[ 3 ]\n",
      "140641990752768 e[ 3 ]\n",
      "140641990752768 f[ 3 ]\n",
      "140641990752800 c[ 4 ]\n",
      "140641990752800 d[ 4 ]\n",
      "140641990752800 e[ 4 ]\n",
      "140641990752800 f[ 4 ]\n",
      "\n",
      "140641794921352 c\n",
      "140641794921288 d\n",
      "140641794921224 e\n",
      "140641794921352 f\n"
     ]
    }
   ],
   "source": [
    "import copy\n",
    "A = {'a', 'e'}\n",
    "c = [A, 1,2,3,4]\n",
    "d = c.copy() #shallow copy\n",
    "e = copy.deepcopy(c)\n",
    "f = c\n",
    "for i in range(len(c)):\n",
    "    print(id(c[i]), 'c[',i,']')\n",
    "    print(id(d[i]), 'd[',i,']')\n",
    "    print(id(e[i]), 'e[',i,']')\n",
    "    print(id(f[i]), 'f[',i,']')\n",
    "\n",
    "print('')\n",
    "print(id(c), 'c')\n",
    "print(id(d), 'd')\n",
    "print(id(e), 'e')\n",
    "print(id(f), 'f')"
   ]
  },
  {
   "cell_type": "code",
   "execution_count": 2,
   "metadata": {},
   "outputs": [
    {
     "name": "stdout",
     "output_type": "stream",
     "text": [
      "The change in c can impact the variable that point to the same location\n",
      "id c =  140641794921352 c =  [{'a', 'e'}, 1, 2, 3, 4, 20]\n",
      "id d =  140641794921288 d =  [{'a', 'e'}, 1, 2, 3, 4]\n",
      "id e =  140641794921224 e =  [{'a', 'e'}, 1, 2, 3, 4]\n",
      "id f =  140641794921352 f =  [{'a', 'e'}, 1, 2, 3, 4, 20]\n",
      "\n",
      "140641884644968   A  =  {'a', 'e'}\n",
      "140641884644968 c[0] =  {'a', 'e'}\n",
      "140641884644968 d[0] =  {'a', 'e'}\n",
      "140641884645192 e[0] =  {'a', 'e'}\n",
      "140641884644968 f[0] =  {'a', 'e'}\n",
      "\n",
      "The change in A impact can impact shallow copy\n",
      "140641884644968   A  =  {'u', 'a', 'e'}\n",
      "140641884644968 c[0] =  {'u', 'a', 'e'} c =  [{'u', 'a', 'e'}, 1, 2, 3, 4, 20]\n",
      "140641884644968 d[0] =  {'u', 'a', 'e'} d =  [{'u', 'a', 'e'}, 1, 2, 3, 4]\n",
      "140641884645192 e[0] =  {'a', 'e'}      e =  [{'a', 'e'}, 1, 2, 3, 4]\n",
      "140641884644968 f[0] =  {'u', 'a', 'e'} f =  [{'u', 'a', 'e'}, 1, 2, 3, 4, 20]\n"
     ]
    }
   ],
   "source": [
    "c.append(20)\n",
    "print('The change in c can impact the variable that point to the same location')\n",
    "print('id c = ', id(c), 'c = ', c)\n",
    "print('id d = ', id(d), 'd = ', d)\n",
    "print('id e = ', id(e), 'e = ', e)\n",
    "print('id f = ', id(f), 'f = ', f)\n",
    "print('')\n",
    "print(id(A),    '  A  = ', A)\n",
    "print(id(c[0]), 'c[0] = ', c[0])\n",
    "print(id(d[0]), 'd[0] = ', d[0])\n",
    "print(id(e[0]), 'e[0] = ', e[0])\n",
    "print(id(f[0]), 'f[0] = ', f[0])\n",
    "print('')\n",
    "A.add('u')\n",
    "print('The change in A impact can impact shallow copy')\n",
    "print(id(A),    '  A  = ', A)\n",
    "print(id(c[0]), 'c[0] = ', c[0], 'c = ', c)\n",
    "print(id(d[0]), 'd[0] = ', d[0], 'd = ', d)\n",
    "print(id(e[0]), 'e[0] = ', e[0], '     e = ', e)\n",
    "print(id(f[0]), 'f[0] = ', f[0], 'f = ', f)\n"
   ]
  },
  {
   "cell_type": "markdown",
   "metadata": {},
   "source": [
    "# When =, copy, and deepcopy work just like a deepcopy\n",
    "When ID(c) change, but the rest still points to the previous location\n",
    "Then, the content of the previous memory address does not change"
   ]
  },
  {
   "cell_type": "code",
   "execution_count": 3,
   "metadata": {},
   "outputs": [
    {
     "name": "stdout",
     "output_type": "stream",
     "text": [
      "id c =  140641829812808 c =  [1, 2, 3, 4]\n",
      "id d =  140641829813256 d =  [1, 2, 3, 4]\n",
      "id e =  140641829813064 e =  [1, 2, 3, 4]\n",
      "id f =  140641829812808 f =  [1, 2, 3, 4]\n",
      "\n",
      "id c =  140641829819448 c =  {'d': 30}\n",
      "id d =  140641829813256 d =  [1, 2, 3, 4]\n",
      "id e =  140641829813064 e =  [1, 2, 3, 4]\n",
      "id f =  140641829812808 f =  [1, 2, 3, 4]\n"
     ]
    }
   ],
   "source": [
    "c = [1,2,3,4]\n",
    "d = c.copy()\n",
    "e = copy.deepcopy(c)\n",
    "f = c\n",
    "\n",
    "print('id c = ', id(c), 'c = ', c)\n",
    "print('id d = ', id(d), 'd = ', d)\n",
    "print('id e = ', id(e), 'e = ', e)\n",
    "print('id f = ', id(f), 'f = ', f)\n",
    "print('')\n",
    "\n",
    "c = {'d':30}\n",
    "\n",
    "print('id c = ', id(c), 'c = ', c)\n",
    "print('id d = ', id(d), 'd = ', d)\n",
    "print('id e = ', id(e), 'e = ', e)\n",
    "print('id f = ', id(f), 'f = ', f)"
   ]
  }
 ],
 "metadata": {
  "kernelspec": {
   "display_name": "Python 3",
   "language": "python",
   "name": "python3"
  },
  "language_info": {
   "codemirror_mode": {
    "name": "ipython",
    "version": 3
   },
   "file_extension": ".py",
   "mimetype": "text/x-python",
   "name": "python",
   "nbconvert_exporter": "python",
   "pygments_lexer": "ipython3",
   "version": "3.6.1"
  }
 },
 "nbformat": 4,
 "nbformat_minor": 2
}
