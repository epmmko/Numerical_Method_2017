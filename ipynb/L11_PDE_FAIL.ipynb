{
 "cells": [
  {
   "cell_type": "code",
   "execution_count": 70,
   "metadata": {
    "collapsed": true
   },
   "outputs": [],
   "source": [
    "#Notebook setup: import statement\n",
    "import fenics as fn\n",
    "import numpy as np\n",
    "import matplotlib.pyplot as plt\n",
    "from IPython.display import Math\n",
    "from IPython.display import display\n",
    "from scipy import linalg\n",
    "from scipy import sparse\n",
    "import scipy.sparse.linalg"
   ]
  },
  {
   "cell_type": "markdown",
   "metadata": {},
   "source": [
    "# Partial Differential Equation (PDE)\n",
    "## We will cover\n",
    "* <b>Finite Difference</b> (at the surface)\n",
    "* <b>Finite Volume</b> (just a very very quick look)\n",
    "* <b>Finite Element</b> (just a quick look)"
   ]
  },
  {
   "cell_type": "markdown",
   "metadata": {},
   "source": [
    "# Type of PDE\n",
    "* Elliptic - time-independent\n",
    "* Hyperbolic - time-dependent and wavelike\n",
    "* Parabolic - time-dependent and diffusive \n",
    "* Other types\n",
    "<font size = 3>\n",
    "<p>$a \\frac{\\partial^2 u}{\\partial x_1^2} + 2b \\frac{\\partial^2 u}{\\partial x_1\\partial x_2} +\n",
    "    c \\frac{\\partial^2 u}{\\partial x_2^2} + d \\frac{\\partial u}{\\partial x_1} +\n",
    "    e \\frac{\\partial u}{\\partial x_2} + f u = g$<p>\n",
    "a,b,c,d,e,f, and g are functions of $x_1$ and $x_2$\n",
    "</font>\n",
    "\n",
    "### Elliptic PDE\n",
    "$b^2 - 4ac < 0$<br>\n",
    "Example: Poisson's equation (e.g. Gauss's law for electricity)<p>\n",
    "$\\nabla^2 u = f(x)$<p>\n",
    "Example: Laplace equation (e.g. steady state heat transfer):<p>\n",
    "$\\nabla^2 u = 0$<p>\n",
    "Solution is smooth, even if IC and BC are rough. One value at BC affect all solution points\n",
    "\n",
    "### Parabolic PDE\n",
    "$b^2 - 4ac = 0$<br>\n",
    "Example: Heat Equation (transient heat conduction in solid)<p>\n",
    "$\\dfrac{\\partial u}{\\partial t} = \\alpha \\nabla^2 u$<p>\n",
    "This gives one-way communication in time (the past impacts the future, but the future does not impact the past)\n",
    "\n",
    "### Hyperbolic PDE\n",
    "$b^2 - 4ac > 0$<br>\n",
    "Example: Wave equation<p>\n",
    "$\\dfrac{\\partial^2u}{\\partial t^2} = c^2 \\dfrac{\\partial^2u}{\\partial x^2}$<p>\n",
    "The disturbance in BC cause wave to travel (propagate) at speed C. Not every points feel the disturbance all at once (Elliptic PDE is equivalent to every point feel the disturbance in BC, all at once).\n",
    "\n",
    "<p>http://mathworld.wolfram.com/EllipticPartialDifferentialEquation.html\n",
    "<br>https://en.wikipedia.org/wiki/Partial_differential_equation#Equations_of_second_order"
   ]
  },
  {
   "cell_type": "code",
   "execution_count": null,
   "metadata": {
    "collapsed": true
   },
   "outputs": [],
   "source": []
  },
  {
   "cell_type": "markdown",
   "metadata": {
    "collapsed": true
   },
   "source": [
    "# <font color = 000EBB>Finite Difference</font>\n",
    "## <font color = 016D09>Basic Steps</font>\n",
    "0) Optional (but suggested) - Non-dimensionalize the PDE (into 0 to 1 if possible)<br>\n",
    "1) Discretize the domain into discreate point in time and space<br>\n",
    "2) Use finite difference formula transform all partial derivatives into algebraic expressions as a function of point value<br>\n",
    "3) Arrange all algebraic equations into matrix form<br>\n",
    "4) Use numerical method in solving system of linear equation to get solution at each point<br>\n",
    "5) Visualize the solution at time-slice or space-slice<br>\n"
   ]
  },
  {
   "cell_type": "markdown",
   "metadata": {
    "collapsed": true
   },
   "source": [
    "# <font color = 0366FF>Finite Difference formula</font>\n",
    "How to use wikipedia table\n",
    "https://en.wikipedia.org/wiki/Finite_difference_coefficient\n",
    "Approximation can be done in various way, depending on what point in space that is available. In this example, we will solve 1 dimension transient heat transfer copper. For 3 cm 1D copper bar, what will happen if we attach it to a hot heat source (at 50 C), if the copper bar temperature is at 20 C, initially.<p>\n",
    "$\\dfrac{\\partial T}{\\partial t} = \\alpha \\dfrac{\\partial^2 T}{\\partial x^2}$<p>\n",
    "Initial condition: At $t = 0$, $T = 20,\\quad \\forall T \\in \\Omega;\\quad \\Omega = [0, 0.03]\\quad$ \n",
    "or $\\quad T_i = 20$<br>\n",
    "Boundary condition1: At $x = 0$ m., $T = 50,\\quad \\text{at any time}$ $\\quad \\text{or} \\quad T_0 = 50$<p>\n",
    "Boundary condition2: At $x = 0.03$ m., $\\dfrac{\\partial T}{\\partial x} = 0,\\quad \\text{at any time}$<p>\n",
    "Assume no heat loss at $x = 0.03$ m<p>\n",
    "\n",
    "$T$ is temperature in degree Celsius $[ \\,C\\, ]$<br>\n",
    "$T_i$ is the initial temperature<br>\n",
    "$T_0$ is the temperature at $x = 0$<br>\n",
    "$x$ is a distance in centimeter [$m$]<br>\n",
    "$a$ is $x$ at the left boundary<br>\n",
    "$b$ is $x$ at the right boundary<br>\n",
    "$\\alpha$ is thermal diffusivity of copper [$m^2/s$]<br>\n",
    "$\\alpha = \\dfrac{k}{\\rho \\hat C_p}$<br>\n",
    "For copper, $\\:\\alpha = 1.11 \\times 10^{-4}\\:\\: m^2/s$<br>\n",
    "$t$ is time in second [$s$]"
   ]
  },
  {
   "cell_type": "markdown",
   "metadata": {},
   "source": [
    "# Step 0: Non-dimentionalize PDE (optional)\n",
    "The dimensionless PDE form can be used for other question that has the same dimensionless form<p>\n",
    "Define<p>\n",
    "$\\tilde T = \\dfrac{T-T_i}{T_0-T_i}\\qquad$ This way, the solution will be in between 0 and 1 (hopefully)<p>\n",
    "$\\tilde x = \\dfrac{x - a}{b - a} = \\dfrac{x - 0}{0.03 - 0}\\quad\\text{or}\\quad \\partial \\tilde x = \\dfrac{1}{b-a}\\partial x$<p>\n",
    "Thus,<p>\n",
    "$\\dfrac{\\partial}{\\partial x} = \\dfrac{1}{b-a}\\dfrac{\\partial}{\\partial \\tilde x}$<p>\n",
    "Then, we have<p>\n",
    "$\\dfrac{\\partial \\tilde T}{\\partial t} = \\dfrac{1}{T_0-T_i}\\dfrac{\\partial T}{\\partial t}$<p>\n",
    "$\\dfrac{\\partial \\tilde T}{\\partial \\tilde x} = \\dfrac{\\partial \\tilde T}{\\partial x}\\dfrac{\\partial x}{\\partial \\tilde x} = \\dfrac{b-a}{T_0-T_i}\\dfrac{\\partial T}{\\partial x}$<p>\n",
    "\n",
    "$\\dfrac{\\partial}{\\partial \\tilde x}\\dfrac{\\partial \\tilde T}{\\partial \\tilde x} = \\dfrac{\\partial}{\\partial \\tilde x} \\dfrac{b-a}{T_0-T_i}\\dfrac{\\partial T}{\\partial x}\n",
    "= \\dfrac{(b-a)^2}{T_0-T_i}\\dfrac{\\partial^2 T}{\\partial x^2}$<p>\n",
    "Substitute the dimensionless form, we have<p>\n",
    "$(T_0-T_i)\\dfrac{\\partial \\tilde T}{\\partial t} = \\dfrac{\\partial  T}{\\partial t}$ $\\quad\\text{and}\\quad$ \n",
    "$\\dfrac{T_0-T_i}{(b-a)^2}  \\dfrac{\\partial^2 \\tilde T}{\\partial \\tilde x^2} = \\dfrac{\\partial^2 T}{\\partial x^2}$<p>\n",
    "Substitute the above expressions into the governing equation, we have<p>\n",
    "$(T_0-T_i)\\dfrac{\\partial \\tilde T}{\\partial t} = \\alpha \\dfrac{T_0-T_i}{(b-a)^2}  \\dfrac{\\partial^2 \\tilde T}{\\partial \\tilde x^2}\\quad\\text{or}$<p>\n",
    "$\\dfrac{(b-a)^2}{\\alpha} \\dfrac{\\partial \\tilde T}{\\partial t} =    \\dfrac{\\partial^2 \\tilde T}{\\partial \\tilde x^2}$<p>\n",
    "By defining the dimensionless time as,<p>\n",
    "$\\tilde t = \\dfrac{\\alpha}{(b-a)^2} t$<p>\n",
    "We have,<p>\n",
    "$\\dfrac{\\partial \\tilde T}{\\partial \\tilde t} =    \\dfrac{\\partial^2 \\tilde T}{\\partial \\tilde x^2}$<p>\n"
   ]
  },
  {
   "cell_type": "markdown",
   "metadata": {},
   "source": [
    "With the dimensionless form, the boundary conditions become,<p>\n",
    "At $x = 0,\\:\\: \\tilde x = 0, \\:\\:T = T_0 \\quad\\text{or}\\quad \\tilde T = 1$<p>\n",
    "At $x = b,\\:\\: \\tilde x = 1, \\:\\: \\dfrac{\\partial T}{\\partial x} = 0 \\quad\\text{or}\\quad \\dfrac{\\partial \\tilde T}{\\partial \\tilde x} = 0$<p>\n",
    "The dimensionless initial condition becomes,<p>\n",
    "$\\tilde T = 0\\quad\\text{at}\\quad \\tilde t = 0$"
   ]
  },
  {
   "cell_type": "markdown",
   "metadata": {},
   "source": [
    "# Step 1: PDE approximation\n",
    "$\\dfrac{\\partial \\tilde T}{\\partial \\tilde t} \\approx\n",
    "\\dfrac{\\tilde T_{n+1} - T_{n}}{\\Delta t}\\quad$ This is a forward difference in time (first order approximation).<p>\n",
    "What if we want a better approximation? like second order approximation, what shall we do? <b>Use finite difference forward scheme table.</b><p>"
   ]
  },
  {
   "cell_type": "markdown",
   "metadata": {
    "collapsed": true
   },
   "source": [
    "https://en.wikipedia.org/wiki/Finite_difference_coefficient<p>\n",
    "$\\text{Forward finite difference formulas (uniform grid spacing)}$\n",
    "$\\begin{array}{ |c|c|ccccc| } \n",
    " \\hline\n",
    " \\text{Derivative} & \\text{Accuracy} &  Points \\\\ \n",
    "  &  & 0 & 1& 2& 3& 4& 5\\\\ \n",
    " \\hline\n",
    " 1 & 1 & -1 & 1 &  &  &  &  \\\\ \n",
    " 1 & 2 & -3/2 &  2 & -1/2 & & & \\\\ \n",
    " 1 & 3 & -11/6 &3&\t−3/2&\t1/3\t\\\\\n",
    " 1 & 4 &\t−25/12\t&4&\t−3\t&4/3\t&−1/4\\\\\n",
    " \\hline\n",
    "2&1&\t1\t&−2\t&1\t \t \t \t \t \t \\\\\n",
    "2&2&\t2\t&−5\t&4\t&−1\t \t \t \t \t \\\\\n",
    "2&3&\t35/12\t&−26/3\t&19/2\t&−14/3\t&11/12\t \t \t\\\\ \t \n",
    "2&4&\t15/4\t&−77/6\t&107/6\t&−13\t&61/12\t&−5/6\\\\\n",
    " \\hline\n",
    "\\end{array}$\n",
    "<p>\n",
    "For backward difference, give all odd derivative coefficient with the opposite sign.<p>\n",
    "For backward difference<p>\n",
    "Point 0 becomes point 0,<br>\n",
    "Point 1 becomes point -1<br>\n",
    "Point 2 becomes point -2<br>\n",
    "Point 3 becomes point -3<br>\n",
    "and so on, ...<p>\n",
    "Thus we have<p>\n",
    "\n",
    "$\\text{Backward finite difference formulas (uniform grid spacing)}$\n",
    "$\\begin{array}{ |c|c|ccccc| } \n",
    " \\hline\n",
    " \\text{Derivative} & \\text{Accuracy} &  Points \\\\ \n",
    "  &  & 0 & -1& -2& -3& -4& -5\\\\ \n",
    " \\hline\n",
    " 1 & 1 & 1 & -1 &  &  &  &  \\\\ \n",
    " 1 & 2 & 3/2 &  -2 & 1/2 & & & \\\\ \n",
    " 1 & 3 & 11/6 &3&\t3/2&\t-1/3\t\\\\\n",
    " 1 & 4 &\t25/12\t&-4&\t3\t&-4/3\t&1/4\\\\\n",
    " \\hline\n",
    "2&1&\t1\t&−2\t&1\t \t \t \t \t \t \\\\\n",
    "2&2&\t2\t&−5\t&4\t&−1\t \t \t \t \t \\\\\n",
    "2&3&\t35/12\t&−26/3\t&19/2\t&−14/3\t&11/12\t \t \t\\\\ \t \n",
    "2&4&\t15/4\t&−77/6\t&107/6\t&−13\t&61/12\t&−5/6\\\\\n",
    " \\hline\n",
    "\\end{array}$\n",
    "\n",
    "\n",
    "$\\text{Central finite difference formulas (uniform grid spacing)}$\n",
    "<font size = 1>\n",
    "$\\begin{array}{ |c|c|ccccccccc| } \n",
    " \\hline\n",
    " \\text{Derivative} & \\text{Accuracy} &  Points \\\\ \n",
    "  &  & -4 & -3& -2& -1& 0& 1& 2& 3& 4\\\\ \n",
    " \\hline\n",
    "1&2&\t  & \t  & \t &\t−1/2&0&\t1/2\t \t \t \\\\\n",
    "1&4&\t  &\t \t  & 1/12 &\t−2/3&0&\t2/3&−1/12\t \t\\\\ \n",
    "1&6&\t  &\t −1/60&\t3/20 &\t−3/4&0&\t3/4&−3/20&\t1/60 \t \\\\\n",
    "1&8& 1/280&\t−4/105&\t1/5\t &  −4/5&0&\t4/5&−1/5 &\t4/105&\t−1/280 \\\\\n",
    " \\hline\n",
    "2&2&\t \t  &\t \t &       &    1&     −2& 1\t \t \t \\\\\n",
    "2&4&\t \t  &\t     &  −1/12&\t4/3&   −5/2& 4/3& −1/12\t \t \\\\\n",
    "2&6&\t \t  & 1/90 &\t−3/20&\t3/2& −49/18& 3/2& −3/20& 1/90 \t \\\\\n",
    "2&8&\t−1/560&\t8/315&\t−1/5 &\t8/5&−205/72& 8/5& −1/5 & 8/315&\t−1/560 \\\\\n",
    " \\hline\n",
    "\\end{array}$\n",
    "</font>\n",
    "<p>For the second order derivative, devide the expression (point value * coefficient) by $h^2$"
   ]
  },
  {
   "cell_type": "markdown",
   "metadata": {
    "collapsed": true
   },
   "source": [
    "# Step 1: Strategy\n",
    "The difficulty is not about using the finite difference table. The difficulty comes when we want to rearrange all equation together.\n",
    "\n",
    "If we use forward scheme in time, this is explicit scheme and it will not be stable (need small step according to CFL condition)<p>\n",
    "\n",
    "https://en.wikipedia.org/wiki/Courant%E2%80%93Friedrichs%E2%80%93Lewy_condition\n",
    "\n",
    "For explicit scheme in time, we can directly calculate T at the next time, but it won't be stable (can be accurate). For implicit scheme, we need equation for everypoints then solved the point that are linked together simultaneously."
   ]
  },
  {
   "cell_type": "markdown",
   "metadata": {
    "collapsed": true
   },
   "source": [
    "## Forward scheme in time and central scheme in space\n",
    "Let $i$ be an index for space and $n$ be an index for time, we have<p>\n",
    "$\\dfrac{\\partial \\tilde T}{\\partial \\tilde t} \\approx\n",
    "\\dfrac{\\tilde T_{n+1} - T_{n}}{\\Delta \\tilde t} \\Bigg \\vert_{@ i}$\n",
    "\n",
    "$\\dfrac{\\partial^2 \\tilde T}{\\partial \\tilde x^2} \\approx \n",
    "\\dfrac{T_{i-1} - 2 T_{i} + T_{i+1}}{(\\Delta \\tilde x)^2} \\Bigg \\vert_{@ n}\n",
    "$\n",
    "<p> Forward scheme it time means that everything else is defined at the old time step"
   ]
  },
  {
   "cell_type": "markdown",
   "metadata": {
    "collapsed": true
   },
   "source": [
    "### Rearranging\n",
    "We have,\n",
    "<p>$\n",
    "\\dfrac{\\tilde T_{n+1} - \\tilde T_{n}}{\\Delta \\tilde t} \\Bigg \\vert_{@ i} = \\dfrac{\\tilde T_{i-1} - 2 \\tilde T_{i} + \\tilde T_{i+1}}{(\\Delta \\tilde x)^2} \\Bigg \\vert_{@ n}$"
   ]
  },
  {
   "cell_type": "markdown",
   "metadata": {
    "collapsed": true
   },
   "source": [
    "$\\tilde T_{n+1} = \\left(\\tilde T_i + \\Delta \\tilde t \\dfrac{\\tilde T_{i-1} - 2 \\tilde T_{i} +\\tilde T_{i+1}}{(\\Delta \\tilde x)^2} \\right) \\Bigg \\vert_{@ n}$"
   ]
  },
  {
   "cell_type": "markdown",
   "metadata": {
    "collapsed": true
   },
   "source": [
    "$\\tilde T_{n+1}\\Bigg\\vert_{@i} =\\left( \\dfrac{\\Delta \\tilde t}{(\\Delta \\tilde x)^2}\\tilde T_{i-1} + \\left(1-\\dfrac{2\\Delta \\tilde t}{(\\Delta \\tilde x)^2}\\right) \\tilde T_i + \\dfrac{\\Delta \\tilde t}{(\\Delta \\tilde x)^2}\\tilde T_{i+1}\\right)\\Bigg \\vert_{@n}$"
   ]
  },
  {
   "cell_type": "markdown",
   "metadata": {},
   "source": [
    "Notice that we can calculate the Temperature at the next time-step right away if we know the temperature at the current time-step"
   ]
  },
  {
   "cell_type": "markdown",
   "metadata": {},
   "source": [
    "## Boundary Condition\n",
    "### Dirichlet Boundary Condition\n",
    "Constant T boundary condition<br>\n",
    "At $\\tilde x = 0$, we have, $\\tilde T = 1$\n",
    "<br>Thus, we have $T_{i=0} = 1$ at every $n$\n",
    "### Neumann Boundary COndition\n",
    "Constant flux at the boundary<p>\n",
    "At $\\tilde x = 1, \\quad \\dfrac{\\partial \\tilde T}{\\partial \\tilde x} = 0$<p>\n",
    "From backward scheme, we have,<p>\n",
    "$\\dfrac{-\\tilde T_{B-1} + \\tilde T_{B}}{\\tilde x} = 0$<p>\n",
    "or $\\tilde T_{B-1} = \\tilde T_{B}$ where $B$ is the point on the right boundary"
   ]
  },
  {
   "cell_type": "markdown",
   "metadata": {
    "collapsed": true
   },
   "source": [
    "### CFL Condition (Courant-Friedrichs-Lewy Condition)\n",
    "CFL condition is necessary but not sufficient for the convergence, meaning that even if the step size satisfies CFL condition, it can be still unstable<p>\n",
    "For heat equation: CFL Condition becomes<p>\n",
    "\n",
    "$\\dfrac{\\Delta \\tilde t}{(\\Delta \\tilde x)^2}<C$ With C = 1, get unstable result, let's use C = 0.5\n",
    "\n",
    "https://webcourse.cs.technion.ac.il/236861/Winter2007-2008/ho/WCFiles/numerical_schemes.pdf\n",
    "<br>\n",
    "https://en.wikipedia.org/wiki/Talk%3ACourant%E2%80%93Friedrichs%E2%80%93Lewy_condition\n",
    "<br>\n",
    "https://people.maths.ox.ac.uk/trefethen/4all.pdf\n",
    "This means that if the space step-size is small, the time step-size must be small too, so that CFL condition holds. In our case we select, <p>\n",
    "$\\Delta \\tilde x = 0.1 \\quad \\text{and} \\quad \\Delta \\tilde t = 0.0045$"
   ]
  },
  {
   "cell_type": "markdown",
   "metadata": {
    "collapsed": true
   },
   "source": [
    "$\\tilde T_{n+1}\\Bigg\\vert_{@i} =\\left( \\dfrac{\\Delta \\tilde t}{(\\Delta \\tilde x)^2}\\tilde T_{i-1} + \\left(1-\\dfrac{2\\Delta \\tilde t}{(\\Delta \\tilde x)^2}\\right) \\tilde T_i + \\dfrac{\\Delta \\tilde t}{(\\Delta \\tilde x)^2}\\tilde T_{i+1}\\right)\\Bigg \\vert_{@n}$\n",
    "\n",
    "$\\tilde T_{n+1}\\Bigg\\vert_{@i} =\\left( r \\tilde T_{i-1} + \\left(1-2r\\right) \\tilde T_i + r\\tilde T_{i+1}\\right)\\Bigg \\vert_{@n}$"
   ]
  },
  {
   "cell_type": "code",
   "execution_count": null,
   "metadata": {
    "collapsed": true
   },
   "outputs": [],
   "source": []
  },
  {
   "cell_type": "code",
   "execution_count": 71,
   "metadata": {
    "collapsed": true
   },
   "outputs": [],
   "source": [
    "def forward_heat(i,row,dt,dx):\n",
    "    #row is the whole row\n",
    "    #i is the location the calculat T @ n+1\n",
    "    r = dt/dx**2\n",
    "    T_np1 =  (r * row[i-1] + (1 - 2*r) * row[i]\n",
    "              + r * row[i+1])\n",
    "    return T_np1\n",
    "\n",
    "def cal_heat_forward():\n",
    "    #Initialize domain x with 11 point, 10 section interval of 1\n",
    "    dt = 0.009/2\n",
    "    dx = 0.1\n",
    "    tt = np.arange(0,2,dt)\n",
    "    xx = np.linspace(0,1,11)\n",
    "\n",
    "    Nx = xx.shape[0]\n",
    "    #Data in each row is the data at the same time step\n",
    "    TT = np.empty([tt.shape[0],xx.shape[0]])\n",
    "    #specify the initial condition\n",
    "    TT[0,:] = 0\n",
    "    #specify the BC\n",
    "    TT[0,0] = 1\n",
    "\n",
    "    for j in range(1, tt.shape[0]):\n",
    "        body = np.array([forward_heat(i,TT[j-1,:],dt,dx) \n",
    "                         for i in range(1,Nx-1)])\n",
    "        left_bc = np.array([1])\n",
    "        right_bc = np.array([body[-1]])\n",
    "        next_T = np.r_[left_bc, body, right_bc]\n",
    "        #np.r_[] work just like append for 1D array\n",
    "        TT[j,:] = next_T\n",
    "    return TT, xx, tt\n",
    "TT, xx, tt = cal_heat_forward()"
   ]
  },
  {
   "cell_type": "code",
   "execution_count": 72,
   "metadata": {},
   "outputs": [
    {
     "data": {
      "image/png": "[encoded data removed]",
      "text/plain": [
       "<matplotlib.figure.Figure at 0x7f63ba8b1ef0>"
      ]
     },
     "metadata": {},
     "output_type": "display_data"
    }
   ],
   "source": [
    "xx_m, tt_m = np.meshgrid(xx,tt)\n",
    "plt.pcolor(xx_m,tt_m,TT, cmap='jet')\n",
    "plt.xlabel('dimensionless x')\n",
    "plt.ylabel('dimensionless t')\n",
    "plt.colorbar()\n",
    "plt.show()"
   ]
  },
  {
   "cell_type": "code",
   "execution_count": 73,
   "metadata": {},
   "outputs": [
    {
     "data": {
      "image/png": "[encoded data removed]",
      "text/plain": [
       "<matplotlib.figure.Figure at 0x7f63ba8b1e10>"
      ]
     },
     "metadata": {},
     "output_type": "display_data"
    }
   ],
   "source": [
    "plt.pcolor(xx_m[0:140,:],tt_m[0:140,:],TT[0:140,:], cmap='jet')\n",
    "plt.xlabel('dimensionless x')\n",
    "plt.ylabel('dimensionless t')\n",
    "plt.colorbar()\n",
    "plt.show()"
   ]
  },
  {
   "cell_type": "markdown",
   "metadata": {
    "collapsed": true
   },
   "source": [
    "## Obtaining the dimensional result\n",
    "For copper, $\\:\\alpha = 1.11 \\times 10^{-4}\\:\\: m^2/s$<br>\n",
    "$\\tilde t = \\dfrac{1.11 \\times 10^{-4}}{(0.03)^2} t$<p>\n",
    "$\\tilde x = \\dfrac{x - a}{b - a} = \\dfrac{x}{0.03}$<p>\n",
    "$\\tilde T = \\dfrac{T-T_i}{T_0-T_i} = \\dfrac{T-20}{50-20}$"
   ]
  },
  {
   "cell_type": "code",
   "execution_count": 74,
   "metadata": {},
   "outputs": [
    {
     "data": {
      "image/png": "[encoded data removed]",
      "text/plain": [
       "<matplotlib.figure.Figure at 0x7f63ba5facf8>"
      ]
     },
     "metadata": {},
     "output_type": "display_data"
    }
   ],
   "source": [
    "tt_m_d = tt_m * 0.03**2 / 1.11e-4\n",
    "xx_m_d = xx_m * 0.03\n",
    "TT_d = TT * 30 + 20\n",
    "\n",
    "plt.pcolor(xx_m_d[0:300,:],tt_m_d[0:300,:]\n",
    "           ,TT_d[0:300,:], cmap='jet')\n",
    "plt.xlabel('x [m]')\n",
    "plt.ylabel('t [s]')\n",
    "plt.colorbar()\n",
    "plt.show()"
   ]
  },
  {
   "cell_type": "code",
   "execution_count": 75,
   "metadata": {},
   "outputs": [
    {
     "data": {
      "text/plain": [
       "47.0"
      ]
     },
     "execution_count": 75,
     "metadata": {},
     "output_type": "execute_result"
    }
   ],
   "source": [
    "30*.9 + 20"
   ]
  },
  {
   "cell_type": "code",
   "execution_count": 76,
   "metadata": {
    "scrolled": true
   },
   "outputs": [
    {
     "data": {
      "text/plain": [
       "206"
      ]
     },
     "execution_count": 76,
     "metadata": {},
     "output_type": "execute_result"
    }
   ],
   "source": [
    "np.where(TT_d[:,-1] > 47)[0][0]"
   ]
  },
  {
   "cell_type": "code",
   "execution_count": 77,
   "metadata": {},
   "outputs": [
    {
     "data": {
      "text/plain": [
       "array([ 46.98032966,  47.01739559,  47.05400654,  47.0901681 ,  47.12588578])"
      ]
     },
     "execution_count": 77,
     "metadata": {},
     "output_type": "execute_result"
    }
   ],
   "source": [
    "TT_d[205:210,-1]"
   ]
  },
  {
   "cell_type": "code",
   "execution_count": 78,
   "metadata": {},
   "outputs": [
    {
     "data": {
      "text/plain": [
       "7.5162162162162156"
      ]
     },
     "execution_count": 78,
     "metadata": {},
     "output_type": "execute_result"
    }
   ],
   "source": [
    "tt_m_d[206][0]"
   ]
  },
  {
   "cell_type": "markdown",
   "metadata": {},
   "source": [
    "At about 7.5 second, T of the right edge reach 90% of the maximum possible temperature increment"
   ]
  },
  {
   "cell_type": "code",
   "execution_count": null,
   "metadata": {
    "collapsed": true
   },
   "outputs": [],
   "source": []
  },
  {
   "cell_type": "markdown",
   "metadata": {},
   "source": [
    "# More stable method\n",
    "This allows us to use a smaller space step without doing too small time step size\n",
    "## Backward finite difference in time\n",
    "This require solving system of linear equations (equations from all points that are at the same time steps) to get the next time step temperature data."
   ]
  },
  {
   "cell_type": "markdown",
   "metadata": {},
   "source": [
    "$\\dfrac{\\partial \\tilde T}{\\partial \\tilde t} \\approx\n",
    "\\dfrac{\\tilde T_{n+1} - \\tilde  T_{n}}{\\Delta \\tilde t} \\Bigg \\vert_{@ i}$\n",
    "\n",
    "$\\dfrac{\\partial^2 \\tilde T}{\\partial \\tilde x^2} \\approx \n",
    "\\dfrac{\\tilde T_{i-1} - 2 \\tilde T_{i} + \\tilde T_{i+1}}{(\\Delta \\tilde x)^2} \\Bigg \\vert_{@ n+1}\n",
    "$"
   ]
  },
  {
   "cell_type": "markdown",
   "metadata": {},
   "source": [
    "$\\dfrac{\\tilde T_{n+1} - \\tilde T_{n}}{\\Delta \\tilde t} \\Bigg \\vert_{@ i} =\n",
    "\\dfrac{\\tilde T_{i-1} - 2 \\tilde T_{i} + T_{i+1}}{(\\Delta \\tilde x)^2} \\Bigg \\vert_{@ n+1}\n",
    "$"
   ]
  },
  {
   "cell_type": "markdown",
   "metadata": {},
   "source": [
    "$ \\left(-r\\tilde T_{i-1} + (1+2r) \\tilde T_i -r\\tilde T_{i+1} \\right)_{n+1}= \\left(\\tilde T_{i}\\right)_{n} $ <p>\n",
    "$ \\left(-r\\tilde T_{i-1} + q \\tilde T_i -r\\tilde T_{i+1} \\right)_{n+1}= \\left(\\tilde T_{i}\\right)_{n} $\n",
    "<p>where $r = \\dfrac{\\Delta \\tilde t}{(\\Delta \\tilde x)^2}$ and $q = 1+2r$\n",
    "<p>BC: at $x = 0,\\quad \\tilde T = 1$ (Dirichlet BC)\n",
    "<p>BC: at $x = 0,\\quad \\tilde T_{mx} = \\tilde T_{mx-1}$ (Backward - Neumann BC)"
   ]
  },
  {
   "cell_type": "markdown",
   "metadata": {},
   "source": [
    "# Matrix form of the discretized equations\n",
    "\n",
    "$\\underbrace{\n",
    "\\begin{matrix}\n",
    "\\tilde T_0 & & & & & &\\\\\n",
    "-r \\tilde T_0 & +q\\tilde T_1 & -r \\tilde T_2 & & & &\\\\\n",
    " & -r \\tilde T_1 & +q \\tilde T_2 & -r \\tilde T_3 & & &\\\\\n",
    " & & -r \\tilde T_2 & +q \\tilde T_3 & -r \\tilde T_4 &&\\\\\n",
    " & & & \\ddots & \\ddots & \\ddots  &\\\\\n",
    "  & & && -r \\tilde T_{mx-2} & +q \\tilde T_{mx-1} & -r \\tilde T_{mx}\\\\\n",
    "   && & &&  -\\tilde T_{mx-1} & +\\tilde T_{mx}\\\\\n",
    "\\end{matrix}}_{at \\:\\, n+1}\n",
    "\\begin{matrix}\n",
    "=& 1\\\\\n",
    "=& \\tilde T_{1n}\\\\\n",
    "=& \\tilde T_{2n}\\\\\n",
    "=& \\tilde T_{3n}\\\\\n",
    "=& \\vdots \\\\\n",
    "=& \\tilde T_{mx-1,n}\\\\\n",
    "=& 0\\\\\n",
    "\\end{matrix}\n",
    "$"
   ]
  },
  {
   "cell_type": "markdown",
   "metadata": {
    "collapsed": true
   },
   "source": [
    "$\n",
    "\\begin{bmatrix}\n",
    "1 & & & & & &\\\\\n",
    "-r & q& -r & & & &\\\\\n",
    " & -r & q& -r& & &\\\\\n",
    " & & -r & q& -r&&\\\\\n",
    " & & & \\ddots & \\ddots & \\ddots  &\\\\\n",
    "  & & && -r& q& -r\\\\\n",
    "   && & &&  -1 & 1\\\\\n",
    "\\end{bmatrix}\n",
    "\\underbrace{\n",
    "\\begin{bmatrix}\n",
    "\\tilde T_0\\\\\n",
    "\\tilde T_1\\\\\n",
    "\\tilde T_2\\\\\n",
    "\\tilde T_3\\\\\n",
    "\\vdots\\\\\n",
    "\\tilde T_{mx-1}\\\\\n",
    "\\tilde T_{mx}\\\\\n",
    "\\end{bmatrix}}_{at \\: n+1}\n",
    "=\n",
    "\\begin{bmatrix}\n",
    "1\\\\\n",
    "\\tilde T_{1n}\\\\\n",
    "\\tilde T_{2n}\\\\\n",
    "\\tilde T_{3n}\\\\\n",
    "\\vdots\\\\\n",
    "\\tilde T_{mx-1,n}\\\\\n",
    "0\\\\\n",
    "\\end{bmatrix}\n",
    "$<p>Number of point in x-space is $Nx$ points or 0 to $m$<br>\n",
    "<p>Now, our linear system is in the form<br>\n",
    "$Ax = b$\n",
    "<p>Notice that we can create the coefficient matrix just once.<br>\n",
    "Then, we use LU decomposition of the coefficient matrix<br>\n",
    "Use forward and backward substitution to solve for T at the next time step<br>\n",
    "Update the current time step to be the next time step<br>\n",
    "Redo the forward/backward substitution process (no need to redo the decomposition process)\n",
    "<p>\n",
    "<b>Please note that we should not use LU decomposition</b>, but we should use Thomas Algorithm instead (this will be more efficient and faster). Yet, this is for either homework or exam."
   ]
  },
  {
   "cell_type": "markdown",
   "metadata": {
    "collapsed": true
   },
   "source": [
    "## Solving the backward finite difference scheme"
   ]
  },
  {
   "cell_type": "code",
   "execution_count": null,
   "metadata": {
    "collapsed": true
   },
   "outputs": [],
   "source": []
  },
  {
   "cell_type": "code",
   "execution_count": 99,
   "metadata": {
    "collapsed": true
   },
   "outputs": [],
   "source": [
    "def cal_heat_backward():\n",
    "    #specify the number of points\n",
    "    Nx = 51\n",
    "    Nt = 101\n",
    "    #initialize space and time grids\n",
    "    x = np.linspace(0,1,Nx)\n",
    "    t = np.linspace(0,2,Nt)\n",
    "    #calculate dx and dt\n",
    "    dx = x[1]-x[0]\n",
    "    dt = t[1]-t[0]\n",
    "    #make empty output matrix (row = t, col = x)\n",
    "    TT = np.empty([Nt,Nx])\n",
    "    TT[0,:] = np.linspace(0,0,Nx)\n",
    "    r = dt/dx**2\n",
    "    q = 1+2*r\n",
    "\n",
    "    mid_dia = [1]+[q for i in range(Nx-2)]+[1]\n",
    "    up_dia = [0] +[-r for i in range(Nx-2)]\n",
    "    lw_dia = [-r for i in range(Nx-2)] + [-1]\n",
    "    mat_A = sparse.diags([mid_dia,up_dia,lw_dia],[0,1,-1])\n",
    "    lu,piv = linalg.lu_factor(mat_A.todense())\n",
    "    #create coefficient matrix once and do LU decomposition\n",
    "    for j in range(1,Nt):\n",
    "        mat_B = TT[j-1,:].copy()\n",
    "        mat_B[0] = 1\n",
    "        mat_B[-1] = 0\n",
    "        #cheaply do forward and backward substitution\n",
    "        TT[j,:] = linalg.lu_solve((lu,piv),mat_B)\n",
    "    return TT, x, t\n",
    "TT2, x2, t2 = cal_heat_backward()"
   ]
  },
  {
   "cell_type": "code",
   "execution_count": 100,
   "metadata": {},
   "outputs": [
    {
     "data": {
      "image/png": "[encoded data removed]",
      "text/plain": [
       "<matplotlib.figure.Figure at 0x7f63b9c08908>"
      ]
     },
     "metadata": {},
     "output_type": "display_data"
    }
   ],
   "source": [
    "xx_m2, tt_m2 = np.meshgrid(x2,t2)\n",
    "plt.pcolor(xx_m2,tt_m2,TT2, cmap='jet')\n",
    "plt.xlabel('dimensionless x')\n",
    "plt.ylabel('dimensionless t')\n",
    "plt.colorbar()\n",
    "plt.show()"
   ]
  },
  {
   "cell_type": "code",
   "execution_count": 101,
   "metadata": {},
   "outputs": [
    {
     "data": {
      "image/png": "[encoded data removed]",
      "text/plain": [
       "<matplotlib.figure.Figure at 0x7f63b9c5aa90>"
      ]
     },
     "metadata": {},
     "output_type": "display_data"
    }
   ],
   "source": [
    "plt.figure(figsize=(12,10))\n",
    "plt.subplot(221)\n",
    "plt.pcolor(xx_m2,tt_m2,TT2, cmap='jet')\n",
    "plt.xlabel('dimensionless x')\n",
    "plt.ylabel('dimensionless t')\n",
    "plt.title('backward scheme')\n",
    "plt.colorbar()\n",
    "\n",
    "plt.subplot(222)\n",
    "plt.pcolor(xx_m,tt_m,TT, cmap='jet')\n",
    "plt.xlabel('dimensionless x')\n",
    "plt.ylabel('dimensionless t')\n",
    "plt.title('forward scheme')\n",
    "plt.colorbar()\n",
    "\n",
    "plt.subplot(223)\n",
    "plt.pcolor(xx_m2,tt_m2,TT2, cmap='jet')\n",
    "plt.xlabel('dimensionless x')\n",
    "plt.ylabel('dimensionless t')\n",
    "plt.title('backward scheme')\n",
    "plt.ylim(0,0.6)\n",
    "plt.colorbar()\n",
    "\n",
    "plt.subplot(224)\n",
    "plt.pcolor(xx_m,tt_m,TT, cmap='jet')\n",
    "plt.xlabel('dimensionless x')\n",
    "plt.ylabel('dimensionless t')\n",
    "plt.title('forward scheme')\n",
    "plt.ylim(0,0.6)\n",
    "plt.colorbar()\n",
    "plt.show()"
   ]
  },
  {
   "cell_type": "code",
   "execution_count": 109,
   "metadata": {},
   "outputs": [
    {
     "data": {
      "image/png": "[encoded data removed]",
      "text/plain": [
       "<matplotlib.figure.Figure at 0x7f63b9988128>"
      ]
     },
     "metadata": {},
     "output_type": "display_data"
    }
   ],
   "source": [
    "tt_m_d2 = tt_m2 * 0.03**2 / 1.11e-4\n",
    "xx_m_d2 = xx_m2 * 0.03\n",
    "TT_d2 = TT2 * 30 + 20\n",
    "plt.figure(figsize = (12,10))\n",
    "\n",
    "plt.subplot(221)\n",
    "plt.pcolor(xx_m_d2,tt_m_d2\n",
    "           ,TT_d2, cmap='jet')\n",
    "plt.xlabel('x [m]')\n",
    "plt.ylabel('t [s]')\n",
    "plt.ylim(0,8)\n",
    "plt.title('backward scheme')\n",
    "plt.colorbar()\n",
    "\n",
    "plt.subplot(222)\n",
    "plt.pcolor(xx_m_d,tt_m_d\n",
    "           ,TT_d, cmap='jet')\n",
    "plt.xlabel('x [m]')\n",
    "plt.ylabel('t [s]')\n",
    "plt.ylim(0,8)\n",
    "plt.title('forward scheme')\n",
    "plt.colorbar()\n",
    "\n",
    "plt.subplot(223)\n",
    "plt.pcolor(xx_m_d2,tt_m_d2\n",
    "           ,TT_d2, cmap='jet')\n",
    "plt.xlabel('x [m]')\n",
    "plt.ylabel('t [s]')\n",
    "plt.ylim(0,4)\n",
    "plt.title('backward scheme')\n",
    "plt.colorbar()\n",
    "\n",
    "plt.subplot(224)\n",
    "plt.pcolor(xx_m_d,tt_m_d\n",
    "           ,TT_d, cmap='jet')\n",
    "plt.xlabel('x [m]')\n",
    "plt.ylabel('t [s]')\n",
    "plt.ylim(0,4)\n",
    "plt.title('forward scheme')\n",
    "plt.colorbar()\n",
    "\n",
    "\n",
    "plt.show()"
   ]
  },
  {
   "cell_type": "code",
   "execution_count": 113,
   "metadata": {},
   "outputs": [
    {
     "data": {
      "text/plain": [
       "50.0"
      ]
     },
     "execution_count": 113,
     "metadata": {},
     "output_type": "execute_result"
    }
   ],
   "source": [
    "#CFL number for backward scheme case\n",
    "dx2 = x2[1] - x2[0]\n",
    "dt2 = t2[1] - t2[0]\n",
    "dt2/dx2**2"
   ]
  },
  {
   "cell_type": "code",
   "execution_count": 114,
   "metadata": {
    "collapsed": true
   },
   "outputs": [],
   "source": [
    "#CFL = 50 >> 0.5\n",
    "#We get more accuracy along x-axis\n",
    "#Without the need to move slow!"
   ]
  },
  {
   "cell_type": "code",
   "execution_count": null,
   "metadata": {
    "collapsed": true
   },
   "outputs": [],
   "source": []
  },
  {
   "cell_type": "markdown",
   "metadata": {},
   "source": [
    "# Better Accuracy Scheme\n",
    "We can get a better accuracy by using Crank-Nicolson method (second order in time). Forward and backward scheme are first order in time and second order accuracy in space.\n",
    "<p>https://en.wikipedia.org/wiki/Finite_difference_method#Accuracy_and_order\n",
    "<br>https://en.wikipedia.org/wiki/Crank%E2%80%93Nicolson_method\n",
    "<p>Roughly speaking, Crank-Nicolson method is the average between forward and backward scheme.<p>\n",
    "\n",
    "We are free to use any combination of the scheme shown in the Finite Difference Coefficient Table. However, it could be somewhat lengthly to get the matrix form.\n",
    "\n",
    "## Second order in time and space\n",
    "Be aware that the combination of methods cause the overall accuracy to be at the lowest accuracy of the method being used.  Thus, if we use first order backward difference to get point at $t_1$, and use second order backward difference to get point at $t_2$ and the rest of the domain. Then, using second order later on, does not help much. The accuracy in time is still the first order (because we use the first order method first).<p>\n",
    "This means that if we really need second order in both time and space, we need to use second order scheme everywhere including the boundary condition!\n",
    "\n",
    "## Second order backward difference\n",
    "Second order backward difference need 3 points in total (two previous history).<p>\n",
    "$\\dfrac{\\partial T}{\\partial t} \\approx \\dfrac{1.5 T_n - 2 T_{n-1} + 0.5 T_{n-2}}{\\Delta t}$<p>\n",
    "We have only 1 initial condition which is at $n = 0$. We need the information at $n = 1$ in order to use the second order backward in time. We can get around this problem by combining other scheme to get 1 equation for each point and solve one big-matrix."
   ]
  },
  {
   "cell_type": "markdown",
   "metadata": {},
   "source": [
    "### <font color = 48BA20>Discretization of 2nd order accuracy (everywhere)</font>\n",
    "<p>\n",
    "We just drop tilde (~) sign, but the following discretization is still for the dimension less form (so that we do not need to worry about the coefficient $\\alpha$.\n",
    "<p>\n",
    "<font color = 'blue'>Backward 2nd scheme on n = 2 </font> &nbsp;&nbsp;\n",
    "$\\dfrac{\\partial T}{\\partial t} \\approx \\dfrac{1.5 T_2 - 2 T_1 + 0.5 T_0}{\\Delta t}$<font face = monospace>\n",
    "<br>n = 3 . . . . 1-- -- -- -- -- --N--N--N\n",
    "<br>n = 2 . . . . 1-- -- --T-- -- --N--N--N\n",
    "<br>n = 1 . . . . 1-- -- --T-- -- --N--N--N\n",
    "<br>n = 0 . . . . 0--0--0--T--0--0--0--0--0\n",
    "</font>\n",
    "<p>N shows the grids point used in Neumann Boundary condition\n",
    "<br>T shows the points used in backward 2nd order scheme\n",
    "<p>\n",
    "<font color = 'blue'>central 2nd scheme on n = 1 </font>&nbsp;&nbsp;\n",
    "$\\dfrac{\\partial T}{\\partial t} \\approx \\dfrac{0.5 T_2 - 0.5 T_0}{\\Delta t}$<font face = monospace>  \n",
    "n = 3 . . . . 1-- -- -- -- -- --N--N--N\n",
    "<br>n = 2 . . . . 1-- -- --T-- -- --N--N--N\n",
    "<br>n = 1 . . . . 1-- -- -- -- -- --N--N--N\n",
    "<br>n = 0 . . . . 0--0--0--T--0--0--0--0--0\n",
    "</font>\n",
    "<p><font color = 'blue'>central 2nd scheme on n = 1 </font>&nbsp;&nbsp;\n",
    "$\\dfrac{\\partial^2 T}{\\partial x^2} \\approx \\dfrac{T_{i-1} - 2 T_{i} + T_{i+1}}{(\\Delta x)^2}$<font face = monospace>  \n",
    "n = 3 . . . . 1-- -- -- -- -- --N--N--N\n",
    "<br>n = 2 . . . . 1-- -- -- -- -- --N--N--N\n",
    "<br>n = 1 . . . . 1-- --T--T--T-- --N--N--N\n",
    "<br>n = 0 . . . . 0--0--0--0--0--0--0--0--0\n",
    "</font>"
   ]
  },
  {
   "cell_type": "markdown",
   "metadata": {},
   "source": [
    "For n = 1, we have:<p>\n",
    "$\\dfrac{0.5 T_{2} - 0.5 T_{0}}{\\Delta t}_{@i} = \\dfrac{T_{i-1} - 2 T_{i} + T_{i+1}}{(\\Delta x)^2}_{@n=1}\n",
    "$\n",
    "<font face = monospace>  \n",
    "n = 3 . . . . 1-- -- -- -- -- --N--N--N\n",
    "<br>n = 2 . . . . 1-- -- --T-- -- --N--N--N\n",
    "<br>n = 1 . . . . 1-- --T--T--T-- --N--N--N\n",
    "<br>n = 0 . . . . 0--0--0--T--0--0--0--0--0\n",
    "</font>"
   ]
  },
  {
   "cell_type": "markdown",
   "metadata": {},
   "source": [
    "$0.5 T_{i,2}  - r T_{i-1,1} + 2r T_{i,1} - r T_{i+1,1} = 0.5 T_{i,0}\n",
    "$"
   ]
  },
  {
   "cell_type": "markdown",
   "metadata": {},
   "source": [
    "For n = 2, we have:<p>\n",
    "$\\dfrac{1.5 T_{2} - 2 T_{1} + 0.5 T_{0}}{\\Delta t}_{@i} = \\dfrac{T_{i-1} - 2 T_{i} + T_{i+1}}{(\\Delta x)^2}_{@n}{}\n",
    "$"
   ]
  },
  {
   "cell_type": "markdown",
   "metadata": {},
   "source": [
    "$1.5 T_{i,2} - 2 T_{i,1} + 0.5 T_{i,0} = r T_{i-1,2} -2r T_{i,2} + r T_{i+1,2}$"
   ]
  },
  {
   "cell_type": "markdown",
   "metadata": {},
   "source": [
    "$(1.5 + 2r)T_{i,2} - 2 T_{i,1} -r T_{i-1,2} - r T_{i+1,2}= - 0.5 T_{i,0}$\n",
    "<font face = monospace>  \n",
    "n = 3 . . . . 1-- -- -- -- -- --N--N--N\n",
    "<br>n = 2 . . . . 1-- -- --T-- -- --N--N--N\n",
    "<br>n = 1 . . . . 1-- --T--T--T-- --N--N--N\n",
    "<br>n = 0 . . . . 0--0--0--T--0--0--0--0--0\n",
    "</font>"
   ]
  },
  {
   "cell_type": "markdown",
   "metadata": {},
   "source": [
    "BC: <p>\n",
    "$0 = \\dfrac{1.5 T_{mx} - 2 T_{mx-1} + 0.5 T_{mx-2}}{\\Delta x}_{@n}\n",
    "$"
   ]
  },
  {
   "cell_type": "markdown",
   "metadata": {},
   "source": [
    "We will need to solve the equations below simultaneously<p>\n",
    "$0.5 T_{i,2}  - r T_{i-1,1} + 2r T_{i,1} - r T_{i+1,1} = 0.5 T_{i,0}$ <br>\n",
    "$qT_{i,2} - 2 T_{i,1} -r T_{i-1,2} - r T_{i+1,2}= - 0.5 T_{i,0}$\n",
    "<p>$q = 1.5+2r$\n",
    "<p>BC:<p>\n",
    "$1 = T_{0,n}$<br>\n",
    "$0 = 1.5 T_{mx,n} - 2 T_{mx-1,n} + 0.5 T_{mx-2,n}$"
   ]
  },
  {
   "cell_type": "markdown",
   "metadata": {},
   "source": [
    "<font size = 1>\n",
    "$\\begin{bmatrix}\n",
    "1&&&&&&&&&&&&&\\\\\n",
    "-r&2&-r&&&&&&0.5&&&&&\\\\\n",
    "&-r&2&-r&&&&&&0.5&&&&\\\\\n",
    "&&\\ddots&\\ddots&\\ddots&&&&&&\\ddots&&&\\\\\n",
    "&&&-r&2&-r&&&&&&0.5&&\\\\\n",
    "&&&&-r&2&-r&&&&&&0.5&\\\\\n",
    "&&&&0.5&-2&1.5&&&&&&&\\\\\n",
    "&&&&&&&1&&&&&&\\\\\n",
    "&-2&&&&&&-r&q&-r&&&&\\\\\n",
    "&&-2&&&&&&-r&q&-r&&&\\\\\n",
    "&&&\\ddots&&&&&&\\ddots&\\ddots&\\ddots&&\\\\\n",
    "&&&&-2&&&&&&-r&q&-r&\\\\\n",
    "&&&&&-2&&&&&&-r&q&-r\\\\\n",
    "&&&&&&&&&&&0.5&-2&1.5\\\\\n",
    "\\end{bmatrix}\n",
    "\\begin{bmatrix}\n",
    "T_{0,1}\\\\\n",
    "T_{1,1}\\\\\n",
    "T_{2,1}\\\\\n",
    "\\vdots \\\\\n",
    "T_{m-2,1}\\\\\n",
    "T_{m-1,1}\\\\\n",
    "T_{m,1}\\\\\n",
    "T_{0,2}\\\\\n",
    "T_{1,2}\\\\\n",
    "T_{2,2}\\\\\n",
    "\\vdots \\\\\n",
    "T_{m-2,2}\\\\\n",
    "T_{m-1,2}\\\\\n",
    "T_{m,2}\\\\\n",
    "\\end{bmatrix}\n",
    "=\n",
    "\\begin{bmatrix}\n",
    "1\\\\\n",
    "0.5 T_{1,0}\\\\\n",
    "0.5 T_{2,0}\\\\\n",
    "\\vdots\\\\\n",
    "0.5 T_{m-2,0}\\\\\n",
    "0.5 T_{m-1,0}\\\\\n",
    "0\\\\\n",
    "1\\\\\n",
    "-0.5 T_{1,0}\\\\\n",
    "-0.5 T_{2,0}\\\\\n",
    "\\vdots\\\\\n",
    "-0.5 T_{m-2,0}\\\\\n",
    "-0.5 T_{m-1,0}\\\\\n",
    "0\\\\\n",
    "\\end{bmatrix}\n",
    "$\n",
    "</font>"
   ]
  },
  {
   "cell_type": "code",
   "execution_count": 236,
   "metadata": {
    "collapsed": true
   },
   "outputs": [],
   "source": [
    "#specify the number of points\n",
    "Nx = 11\n",
    "Nt = 101\n",
    "#initialize space and time grids\n",
    "x = np.linspace(0,1,Nx)\n",
    "t = np.linspace(0,2,Nt)\n",
    "#calculate dx and dt\n",
    "dx = x[1]-x[0]\n",
    "dt = t[1]-t[0]\n",
    "#make empty output matrix (row = t, col = x)\n",
    "TT = np.empty([Nt,Nx])\n",
    "TT[0,:] = np.linspace(0,0,Nx)\n",
    "r = dt/dx**2\n",
    "q = 1.5+2*r\n",
    "#diagonal term, part 1\n",
    "d0_1 = np.r_[np.array([1]),np.ones(Nx-2)*2,np.array([1.5])]\n",
    "#diagonal term, part 2\n",
    "d0_2 = np.r_[np.array([1]),np.ones(Nx-2)*q,np.array([1.5])]\n",
    "d0 = np.r_[d0_1,d0_2]\n",
    "#diagonal term offset +1\n",
    "dp1 = np.r_[np.array([0]),np.ones(Nx-2)*(-r),\n",
    "      np.array([0,0]),np.ones(Nx-2)*(-r)]\n",
    "dm1 = np.r_[np.ones(Nx-2)*(-r),np.array([-2,0]),\n",
    "      np.ones(Nx-2)*(-r),np.array([-2])]\n",
    "dm2 = np.r_[np.zeros(Nx-3),np.array([0.5]),\n",
    "            np.zeros(Nx-1),np.array([0.5])]\n",
    "dpNx = np.r_[np.array([0]),np.ones(Nx-2)*0.5,\n",
    "             np.array([0])]\n",
    "dmNx = np.r_[np.array([0]),np.ones(Nx-2)*(-2),\n",
    "             np.array([0])]\n",
    "mat_A = sparse.diags([d0,dp1,dpNx,dm1,dm2,dmNx],[0,1,Nx,-1,-2,-Nx])\n",
    "mat_A = mat_A.tocsc()\n",
    "rhs = np.zeros(2*Nx)\n",
    "rhs[0] = 1\n",
    "rhs[Nx] = 1"
   ]
  },
  {
   "cell_type": "code",
   "execution_count": 242,
   "metadata": {},
   "outputs": [
    {
     "data": {
      "text/plain": [
       "array([ 1.        ,  0.54303216, -0.32788536, -0.90169874, -0.70557286,\n",
       "        0.08999318,  0.81185385,  0.85028652,  0.1723525 , -0.65065197,\n",
       "       -0.9249868 ,  1.        ,  0.51632992, -0.12312487, -0.52703795,\n",
       "       -0.42453077,  0.06515121,  0.51370341,  0.53567931,  0.10912818,\n",
       "       -0.40792931, -0.58028181])"
      ]
     },
     "execution_count": 242,
     "metadata": {},
     "output_type": "execute_result"
    }
   ],
   "source": [
    "lu,piv = linalg.lu_factor(mat_A.todense())\n",
    "linalg.lu_solve((lu,piv),rhs)"
   ]
  },
  {
   "cell_type": "code",
   "execution_count": 243,
   "metadata": {
    "collapsed": true
   },
   "outputs": [],
   "source": [
    "splu_obj = sparse.linalg.splu(mat_A)"
   ]
  },
  {
   "cell_type": "code",
   "execution_count": 245,
   "metadata": {},
   "outputs": [
    {
     "data": {
      "text/plain": [
       "array([ 1.        ,  0.54303216, -0.32788536, -0.90169874, -0.70557286,\n",
       "        0.08999318,  0.81185385,  0.85028652,  0.1723525 , -0.65065197,\n",
       "       -0.9249868 ,  1.        ,  0.51632992, -0.12312487, -0.52703795,\n",
       "       -0.42453077,  0.06515121,  0.51370341,  0.53567931,  0.10912818,\n",
       "       -0.40792931, -0.58028181])"
      ]
     },
     "execution_count": 245,
     "metadata": {},
     "output_type": "execute_result"
    }
   ],
   "source": [
    "ans = splu_obj.solve(rhs)\n",
    "ans"
   ]
  },
  {
   "cell_type": "code",
   "execution_count": 203,
   "metadata": {},
   "outputs": [
    {
     "data": {
      "text/plain": [
       "array([ 1.        , -8.65978211, -1.33988497,  8.61285844,  1.69197256,\n",
       "       -8.53992271, -2.03114815,  8.4617512 ,  2.37425041, -8.36383692,\n",
       "       -2.70840893,  8.25670358,  3.04180762, -8.13318197, -3.36772808,\n",
       "        7.99867266,  3.69002088, -7.84970895, -4.00506449,  7.6891412 ,\n",
       "        4.31454613, -7.51538038, -4.61640984,  7.33001673,  4.91126983,\n",
       "       -7.13242226, -5.19786889,  6.92357339,  5.47629689, -6.70334215,\n",
       "       -5.74571204,  6.47241426,  6.00595657, -6.2309292 , -6.25641309,\n",
       "        5.97944298,  6.49681643, -5.71824439, -6.72667891,  5.44783921,\n",
       "        6.94569967, -5.16860474, -7.15347416,  4.88103521,  7.34970322,\n",
       "       -4.585564  , -7.53404266,  4.28269217,  7.7062153 , -3.97289067,\n",
       "       -7.86592599])"
      ]
     },
     "execution_count": 203,
     "metadata": {},
     "output_type": "execute_result"
    }
   ],
   "source": [
    "ans[0:Nx]"
   ]
  },
  {
   "cell_type": "code",
   "execution_count": 204,
   "metadata": {},
   "outputs": [
    {
     "data": {
      "text/plain": [
       "array([ 1.        ,  0.65063136,  0.66717295,  0.75732513,  0.52568272,\n",
       "        0.2421319 ,  0.30744193,  0.46322116,  0.29442696,  0.03949556,\n",
       "        0.12030251,  0.31305489,  0.18493077, -0.05931774,  0.01998151,\n",
       "        0.23458932,  0.13628791, -0.1055257 , -0.03651673,  0.19159932,\n",
       "        0.11789771, -0.12484882, -0.0707256 ,  0.16593225,  0.11436739,\n",
       "       -0.13021724, -0.09341149,  0.14850667,  0.11793709, -0.12814625,\n",
       "       -0.10994029,  0.13479594,  0.12467948, -0.12193487, -0.12297008,\n",
       "        0.12256212,  0.13259347, -0.11327004, -0.13380187,  0.1107194 ,\n",
       "        0.14064868, -0.10303057, -0.14305654,  0.09876476,  0.14830759,\n",
       "       -0.09168848, -0.15101264,  0.08649452,  0.15528883, -0.0795068 ,\n",
       "       -0.15777201])"
      ]
     },
     "execution_count": 204,
     "metadata": {},
     "output_type": "execute_result"
    }
   ],
   "source": [
    "ans[Nx:]"
   ]
  },
  {
   "cell_type": "code",
   "execution_count": 174,
   "metadata": {},
   "outputs": [
    {
     "data": {
      "text/plain": [
       "(10,)"
      ]
     },
     "execution_count": 174,
     "metadata": {},
     "output_type": "execute_result"
    }
   ],
   "source": [
    "lu,piv = sparse.linalg.splu\n",
    "#create coefficient matrix once and do LU decomposition\n",
    "for j in range(1,Nt):\n",
    "    mat_B = TT[j-1,:].copy()\n",
    "    mat_B[0] = 1\n",
    "    mat_B[-1] = 0\n",
    "    #cheaply do forward and backward substitution\n",
    "    TT[j,:] = linalg.lu_solve((lu,piv),mat_B)\n"
   ]
  },
  {
   "cell_type": "code",
   "execution_count": 175,
   "metadata": {},
   "outputs": [
    {
     "data": {
      "text/plain": [
       "array([ 0. ,  0.5,  0.5,  0.5,  0. ])"
      ]
     },
     "execution_count": 175,
     "metadata": {},
     "output_type": "execute_result"
    }
   ],
   "source": [
    "dpNx"
   ]
  },
  {
   "cell_type": "code",
   "execution_count": 183,
   "metadata": {
    "collapsed": true
   },
   "outputs": [],
   "source": []
  },
  {
   "cell_type": "code",
   "execution_count": 182,
   "metadata": {},
   "outputs": [
    {
     "data": {
      "text/plain": [
       "matrix([[ 10,   0,   0,   0,   0,   0,   0,   0,   0,   0],\n",
       "        [ -3,  20,  -3,   0,   0,   0,   5,   0,   0,   0],\n",
       "        [  0,  -3,  20,  -3,   0,   0,   0,   5,   0,   0],\n",
       "        [  0,   0,  -3,  20,  -3,   0,   0,   0,   5,   0],\n",
       "        [  0,   0,   5, -20,  15,   0,   0,   0,   0,   0],\n",
       "        [  0,   0,   0,   0,   0,  10,   0,   0,   0,   0],\n",
       "        [  0, -20,   0,   0,   0,  -3,  21,  -3,   0,   0],\n",
       "        [  0,   0, -20,   0,   0,   0,  -3,  21,  -3,   0],\n",
       "        [  0,   0,   0, -20,   0,   0,   0,  -3,  21,  -3],\n",
       "        [  0,   0,   0,   0,   0,   0,   0,   5, -20,  15]])"
      ]
     },
     "execution_count": 182,
     "metadata": {},
     "output_type": "execute_result"
    }
   ],
   "source": [
    "(mat_A.todense()*10).astype(int)"
   ]
  },
  {
   "cell_type": "code",
   "execution_count": 151,
   "metadata": {},
   "outputs": [
    {
     "data": {
      "text/plain": [
       "(8,)"
      ]
     },
     "execution_count": 151,
     "metadata": {},
     "output_type": "execute_result"
    }
   ],
   "source": [
    "dm2.shape"
   ]
  },
  {
   "cell_type": "code",
   "execution_count": null,
   "metadata": {
    "collapsed": true
   },
   "outputs": [],
   "source": []
  },
  {
   "cell_type": "markdown",
   "metadata": {},
   "source": [
    "# <font color = 'blue'> First Tuitorial of FEniCS Project </font>\n",
    "# <font color = 'magenta'> Use FEniCS as a blackbox PDE solver </font>\n",
    "The section below shows the first example in FEniCS project. This is just a first look at FEniCS project. Your computer (Windows) probably won't run any of the code below. Yet, you <font color = 'red'> need </font> to understand the concept.\n",
    "## Finics use Finite Element Method (FEM) to solve PDE\n",
    "https://fenicsproject.org/pub/tutorial/html/._ftut1004.html<br>\n",
    "https://fenicsproject.org/qa/7316/print-values-numerical-solution-neumann-boundary-problem<br>\n",
    "https://fenicsproject.org/qa/6450/get-field-value-at-mesh-vertex\n",
    "<p><font size = 4>\n",
    "$-\\nabla^2u(x) = -6$\n",
    "<p>$-\\dfrac{\\partial^2u}{\\partial x^2} - \\dfrac{\\partial^2u}{\\partial y^2} = -6$\n",
    "<p>BC: $1 + x^2 + 2 * y^2$\n",
    "<p>$\\Omega = [0,1]\\times[0,1]$\n",
    "</font>"
   ]
  },
  {
   "cell_type": "markdown",
   "metadata": {},
   "source": [
    "# FEM Introduction (Dirichlet BC)\n",
    "Dirichlet Boundary condition means the values at the boundary are known\n",
    "<font size = 3><p><p>\n",
    "$\\begin{align*}\n",
    "-\\Delta u(\\mathbf x) & = f(\\mathbf x),\\quad\\:\\:\\: \\mathbf x \\: \\text{in} \\: \\Omega \\\\\n",
    "u(\\mathbf x) & = u_D(\\mathbf x), \\quad \\mathbf x \\: \\text{on} \\: \\partial \\Omega\n",
    "\\end{align*}$ <p>\n",
    "$\\Delta$ is Laplace operator (or $\\nabla^2$) <p>\n",
    "$u(\\mathbf x)$ is unknown function<p>\n",
    "$\\Omega$ is spatial domain<p>\n",
    "$\\partial\\Omega$ is the boundary of $\\Omega$<p>\n",
    "First step in FEM is ti turning PDE into a variational problem by multiplying the PDE by a function $v$, integrating the resulting equation over the domain $\\Omega$, and perform integration by parts of terms with second-order derivatives.<p>\n",
    "$v$ is a test function<p>\n",
    "$-\\Delta u(\\mathbf x) = f(\\mathbf x)$<p>\n",
    "By transforming PDE into variational problem, we get,<p>\n",
    "$-\\int_\\Omega(\\Delta u)vdx=\\int_\\Omega f v dx$<p>\n",
    "From integration by parts, we have<p>\n",
    "$\\nabla \\cdot \\big(a\\vec b\\big) = a\\big(\\nabla \\cdot \\vec b\\big) + \\vec b \\cdot \\big(\\nabla a\\big)$<p>\n",
    "Therefore,<p>\n",
    "$\\nabla \\cdot \\big(v (\\nabla u) \\big) = v(\\nabla^2u) + (\\nabla u)\\cdot (\\nabla v)$<p>\n",
    "Rearranging, we have<p>\n",
    "$-v(\\nabla^2u) = (\\nabla u)\\cdot (\\nabla v) - \\nabla \\cdot \\big(v (\\nabla u) \\big)$<p>\n",
    "or<p>\n",
    "$-\\int_\\Omega v(\\nabla^2u)dx = \\int_\\Omega \\nabla u\\cdot \\nabla v dx- \\int_\\Omega \\nabla \\cdot (v \\nabla u) dx$<p>\n",
    "From divergence theorem (change from volume to surface integration),<p>\n",
    "$\\iiint_\\Omega (\\nabla \\cdot \\vec F) \\, dV = \\oint_{\\partial\\Omega} ( \\vec F \\cdot \\hat n ) \\, dS$<p>\n",
    "Thus, we have<p>\n",
    "\n",
    "$-\\int_\\Omega v(\\nabla^2u)dx = \\int_\\Omega \\nabla u\\cdot \\nabla v dx- \\oint_{\\partial \\Omega} (v \\nabla u)\\cdot \\hat n dS$<p>\n",
    "$\\nabla u \\cdot \\hat n = \\dfrac{\\partial u}{\\partial n}$ &nbsp; n is the unit normal vector pointing outward, so we have<p>\n",
    "$-\\int_\\Omega v(\\nabla^2u)dx = \\int_\\Omega \\nabla u\\cdot \\nabla v dx- \\oint_{\\partial \\Omega} \\frac{\\partial u}{\\partial n} v dS$<p>\n",
    "</font>\n",
    "<p>http://sfepy.org/doc-devel/solving_pdes_by_fem.html#sec-solving-pdes-fem\n",
    "<br>https://en.wikipedia.org/wiki/Integration_by_parts"
   ]
  },
  {
   "cell_type": "markdown",
   "metadata": {},
   "source": [
    "<font size = 3>\n",
    "At the boundary, we have<p><br>\n",
    "$u(\\mathbf x) = u_D(\\mathbf x)$<p>\n",
    "By requring $v$ to vanish (be zero) at $\\partial \\Omega$, we have<p>\n",
    "$\\int_\\Omega \\nabla u\\cdot \\nabla v dx = \\int_\\Omega f v dx \\quad\\text{  This is the weak form or variational form of the BVP}$<p>\n",
    "This equation should hold for all test function $v$ in some suitable space $\\hat V$ (so-called test space). The solution $u$  is in function space $V$ (so-called trial space). The test space $\\hat V$ and the trial space can be defined as<p>\n",
    "$V = \\{ v\\in H^1(\\Omega): v = u_D \\:\\text{on}\\: \\partial \\Omega \\}$<p>\n",
    "$\\hat V = \\{ v \\in H^1(\\Omega): v = 0 \\:\\text{on}\\: \\partial \\Omega \\}$<p>\n",
    "$H^1(\\Omega)$ is the Sobolev space containing $v$ such that $v^2$ and $|\\nabla v|^2$ have finite integrals over $\\Omega$ (functions are continuous). Sobolev space $H^1(\\Omega)$ allows functions with discontinuous derivatives.<p>\n",
    "After obtaining the variational form of $\\int_\\Omega \\nabla u\\cdot \\nabla v dx = \\int_\\Omega f v dx \\:\\: \\forall v \\in \\hat V$ Then, FEniCS can solve it by using <p>\n",
    "```\n",
    "a = fn.dot(fn.grad(u), fn.grad(v))*fn.dx\n",
    "L = f*v*fn.dx\n",
    "u = fn.Function(V)\n",
    "fn.solve(a == L, u, bc)\n",
    "```\n",
    "</font>"
   ]
  },
  {
   "cell_type": "code",
   "execution_count": null,
   "metadata": {
    "collapsed": true
   },
   "outputs": [],
   "source": []
  },
  {
   "cell_type": "markdown",
   "metadata": {},
   "source": [
    "## FEniCS code implementation\n",
    "For full explanation, please see<p>\n",
    "https://fenicsproject.org/pub/tutorial/html/._ftut1004.html"
   ]
  },
  {
   "cell_type": "code",
   "execution_count": null,
   "metadata": {
    "collapsed": true
   },
   "outputs": [],
   "source": []
  },
  {
   "cell_type": "code",
   "execution_count": 1,
   "metadata": {
    "collapsed": true
   },
   "outputs": [],
   "source": []
  },
  {
   "cell_type": "code",
   "execution_count": 166,
   "metadata": {
    "collapsed": true
   },
   "outputs": [],
   "source": [
    "mesh = fn.UnitSquareMesh(8,8)"
   ]
  },
  {
   "cell_type": "code",
   "execution_count": 167,
   "metadata": {},
   "outputs": [
    {
     "data": {
      "image/svg+xml": [
       "\n",
       "    <svg xmlns=\"http://www.w3.org/2000/svg\" version=\"1.1\" width=\"840\" height=\"840\">\n",
       "    <line x1=\"20\" y1=\"820\" x2=\"120\" y2=\"820\" style=\"fill:none; stroke:black; stroke-width:\"2\" />\n",
       "<line x1=\"20\" y1=\"820\" x2=\"20\" y2=\"720\" style=\"fill:none; stroke:black; stroke-width:\"2\" />\n",
       "<line x1=\"20\" y1=\"820\" x2=\"120\" y2=\"720\" style=\"fill:none; stroke:black; stroke-width:\"2\" />\n",
       "<line x1=\"120\" y1=\"820\" x2=\"220\" y2=\"820\" style=\"fill:none; stroke:black; stroke-width:\"2\" />\n",
       "<line x1=\"120\" y1=\"820\" x2=\"120\" y2=\"720\" style=\"fill:none; stroke:black; stroke-width:\"2\" />\n",
       "<line x1=\"120\" y1=\"820\" x2=\"220\" y2=\"720\" style=\"fill:none; stroke:black; stroke-width:\"2\" />\n",
       "<line x1=\"220\" y1=\"820\" x2=\"320\" y2=\"820\" style=\"fill:none; stroke:black; stroke-width:\"2\" />\n",
       "<line x1=\"220\" y1=\"820\" x2=\"220\" y2=\"720\" style=\"fill:none; stroke:black; stroke-width:\"2\" />\n",
       "<line x1=\"220\" y1=\"820\" x2=\"320\" y2=\"720\" style=\"fill:none; stroke:black; stroke-width:\"2\" />\n",
       "<line x1=\"320\" y1=\"820\" x2=\"420\" y2=\"820\" style=\"fill:none; stroke:black; stroke-width:\"2\" />\n",
       "<line x1=\"320\" y1=\"820\" x2=\"320\" y2=\"720\" style=\"fill:none; stroke:black; stroke-width:\"2\" />\n",
       "<line x1=\"320\" y1=\"820\" x2=\"420\" y2=\"720\" style=\"fill:none; stroke:black; stroke-width:\"2\" />\n",
       "<line x1=\"420\" y1=\"820\" x2=\"520\" y2=\"820\" style=\"fill:none; stroke:black; stroke-width:\"2\" />\n",
       "<line x1=\"420\" y1=\"820\" x2=\"420\" y2=\"720\" style=\"fill:none; stroke:black; stroke-width:\"2\" />\n",
       "<line x1=\"420\" y1=\"820\" x2=\"520\" y2=\"720\" style=\"fill:none; stroke:black; stroke-width:\"2\" />\n",
       "<line x1=\"520\" y1=\"820\" x2=\"620\" y2=\"820\" style=\"fill:none; stroke:black; stroke-width:\"2\" />\n",
       "<line x1=\"520\" y1=\"820\" x2=\"520\" y2=\"720\" style=\"fill:none; stroke:black; stroke-width:\"2\" />\n",
       "<line x1=\"520\" y1=\"820\" x2=\"620\" y2=\"720\" style=\"fill:none; stroke:black; stroke-width:\"2\" />\n",
       "<line x1=\"620\" y1=\"820\" x2=\"720\" y2=\"820\" style=\"fill:none; stroke:black; stroke-width:\"2\" />\n",
       "<line x1=\"620\" y1=\"820\" x2=\"620\" y2=\"720\" style=\"fill:none; stroke:black; stroke-width:\"2\" />\n",
       "<line x1=\"620\" y1=\"820\" x2=\"720\" y2=\"720\" style=\"fill:none; stroke:black; stroke-width:\"2\" />\n",
       "<line x1=\"720\" y1=\"820\" x2=\"820\" y2=\"820\" style=\"fill:none; stroke:black; stroke-width:\"2\" />\n",
       "<line x1=\"720\" y1=\"820\" x2=\"720\" y2=\"720\" style=\"fill:none; stroke:black; stroke-width:\"2\" />\n",
       "<line x1=\"720\" y1=\"820\" x2=\"820\" y2=\"720\" style=\"fill:none; stroke:black; stroke-width:\"2\" />\n",
       "<line x1=\"820\" y1=\"820\" x2=\"820\" y2=\"720\" style=\"fill:none; stroke:black; stroke-width:\"2\" />\n",
       "<line x1=\"20\" y1=\"720\" x2=\"120\" y2=\"720\" style=\"fill:none; stroke:black; stroke-width:\"2\" />\n",
       "<line x1=\"20\" y1=\"720\" x2=\"20\" y2=\"620\" style=\"fill:none; stroke:black; stroke-width:\"2\" />\n",
       "<line x1=\"20\" y1=\"720\" x2=\"120\" y2=\"620\" style=\"fill:none; stroke:black; stroke-width:\"2\" />\n",
       "<line x1=\"120\" y1=\"720\" x2=\"220\" y2=\"720\" style=\"fill:none; stroke:black; stroke-width:\"2\" />\n",
       "<line x1=\"120\" y1=\"720\" x2=\"120\" y2=\"620\" style=\"fill:none; stroke:black; stroke-width:\"2\" />\n",
       "<line x1=\"120\" y1=\"720\" x2=\"220\" y2=\"620\" style=\"fill:none; stroke:black; stroke-width:\"2\" />\n",
       "<line x1=\"220\" y1=\"720\" x2=\"320\" y2=\"720\" style=\"fill:none; stroke:black; stroke-width:\"2\" />\n",
       "<line x1=\"220\" y1=\"720\" x2=\"220\" y2=\"620\" style=\"fill:none; stroke:black; stroke-width:\"2\" />\n",
       "<line x1=\"220\" y1=\"720\" x2=\"320\" y2=\"620\" style=\"fill:none; stroke:black; stroke-width:\"2\" />\n",
       "<line x1=\"320\" y1=\"720\" x2=\"420\" y2=\"720\" style=\"fill:none; stroke:black; stroke-width:\"2\" />\n",
       "<line x1=\"320\" y1=\"720\" x2=\"320\" y2=\"620\" style=\"fill:none; stroke:black; stroke-width:\"2\" />\n",
       "<line x1=\"320\" y1=\"720\" x2=\"420\" y2=\"620\" style=\"fill:none; stroke:black; stroke-width:\"2\" />\n",
       "<line x1=\"420\" y1=\"720\" x2=\"520\" y2=\"720\" style=\"fill:none; stroke:black; stroke-width:\"2\" />\n",
       "<line x1=\"420\" y1=\"720\" x2=\"420\" y2=\"620\" style=\"fill:none; stroke:black; stroke-width:\"2\" />\n",
       "<line x1=\"420\" y1=\"720\" x2=\"520\" y2=\"620\" style=\"fill:none; stroke:black; stroke-width:\"2\" />\n",
       "<line x1=\"520\" y1=\"720\" x2=\"620\" y2=\"720\" style=\"fill:none; stroke:black; stroke-width:\"2\" />\n",
       "<line x1=\"520\" y1=\"720\" x2=\"520\" y2=\"620\" style=\"fill:none; stroke:black; stroke-width:\"2\" />\n",
       "<line x1=\"520\" y1=\"720\" x2=\"620\" y2=\"620\" style=\"fill:none; stroke:black; stroke-width:\"2\" />\n",
       "<line x1=\"620\" y1=\"720\" x2=\"720\" y2=\"720\" style=\"fill:none; stroke:black; stroke-width:\"2\" />\n",
       "<line x1=\"620\" y1=\"720\" x2=\"620\" y2=\"620\" style=\"fill:none; stroke:black; stroke-width:\"2\" />\n",
       "<line x1=\"620\" y1=\"720\" x2=\"720\" y2=\"620\" style=\"fill:none; stroke:black; stroke-width:\"2\" />\n",
       "<line x1=\"720\" y1=\"720\" x2=\"820\" y2=\"720\" style=\"fill:none; stroke:black; stroke-width:\"2\" />\n",
       "<line x1=\"720\" y1=\"720\" x2=\"720\" y2=\"620\" style=\"fill:none; stroke:black; stroke-width:\"2\" />\n",
       "<line x1=\"720\" y1=\"720\" x2=\"820\" y2=\"620\" style=\"fill:none; stroke:black; stroke-width:\"2\" />\n",
       "<line x1=\"820\" y1=\"720\" x2=\"820\" y2=\"620\" style=\"fill:none; stroke:black; stroke-width:\"2\" />\n",
       "<line x1=\"20\" y1=\"620\" x2=\"120\" y2=\"620\" style=\"fill:none; stroke:black; stroke-width:\"2\" />\n",
       "<line x1=\"20\" y1=\"620\" x2=\"20\" y2=\"520\" style=\"fill:none; stroke:black; stroke-width:\"2\" />\n",
       "<line x1=\"20\" y1=\"620\" x2=\"120\" y2=\"520\" style=\"fill:none; stroke:black; stroke-width:\"2\" />\n",
       "<line x1=\"120\" y1=\"620\" x2=\"220\" y2=\"620\" style=\"fill:none; stroke:black; stroke-width:\"2\" />\n",
       "<line x1=\"120\" y1=\"620\" x2=\"120\" y2=\"520\" style=\"fill:none; stroke:black; stroke-width:\"2\" />\n",
       "<line x1=\"120\" y1=\"620\" x2=\"220\" y2=\"520\" style=\"fill:none; stroke:black; stroke-width:\"2\" />\n",
       "<line x1=\"220\" y1=\"620\" x2=\"320\" y2=\"620\" style=\"fill:none; stroke:black; stroke-width:\"2\" />\n",
       "<line x1=\"220\" y1=\"620\" x2=\"220\" y2=\"520\" style=\"fill:none; stroke:black; stroke-width:\"2\" />\n",
       "<line x1=\"220\" y1=\"620\" x2=\"320\" y2=\"520\" style=\"fill:none; stroke:black; stroke-width:\"2\" />\n",
       "<line x1=\"320\" y1=\"620\" x2=\"420\" y2=\"620\" style=\"fill:none; stroke:black; stroke-width:\"2\" />\n",
       "<line x1=\"320\" y1=\"620\" x2=\"320\" y2=\"520\" style=\"fill:none; stroke:black; stroke-width:\"2\" />\n",
       "<line x1=\"320\" y1=\"620\" x2=\"420\" y2=\"520\" style=\"fill:none; stroke:black; stroke-width:\"2\" />\n",
       "<line x1=\"420\" y1=\"620\" x2=\"520\" y2=\"620\" style=\"fill:none; stroke:black; stroke-width:\"2\" />\n",
       "<line x1=\"420\" y1=\"620\" x2=\"420\" y2=\"520\" style=\"fill:none; stroke:black; stroke-width:\"2\" />\n",
       "<line x1=\"420\" y1=\"620\" x2=\"520\" y2=\"520\" style=\"fill:none; stroke:black; stroke-width:\"2\" />\n",
       "<line x1=\"520\" y1=\"620\" x2=\"620\" y2=\"620\" style=\"fill:none; stroke:black; stroke-width:\"2\" />\n",
       "<line x1=\"520\" y1=\"620\" x2=\"520\" y2=\"520\" style=\"fill:none; stroke:black; stroke-width:\"2\" />\n",
       "<line x1=\"520\" y1=\"620\" x2=\"620\" y2=\"520\" style=\"fill:none; stroke:black; stroke-width:\"2\" />\n",
       "<line x1=\"620\" y1=\"620\" x2=\"720\" y2=\"620\" style=\"fill:none; stroke:black; stroke-width:\"2\" />\n",
       "<line x1=\"620\" y1=\"620\" x2=\"620\" y2=\"520\" style=\"fill:none; stroke:black; stroke-width:\"2\" />\n",
       "<line x1=\"620\" y1=\"620\" x2=\"720\" y2=\"520\" style=\"fill:none; stroke:black; stroke-width:\"2\" />\n",
       "<line x1=\"720\" y1=\"620\" x2=\"820\" y2=\"620\" style=\"fill:none; stroke:black; stroke-width:\"2\" />\n",
       "<line x1=\"720\" y1=\"620\" x2=\"720\" y2=\"520\" style=\"fill:none; stroke:black; stroke-width:\"2\" />\n",
       "<line x1=\"720\" y1=\"620\" x2=\"820\" y2=\"520\" style=\"fill:none; stroke:black; stroke-width:\"2\" />\n",
       "<line x1=\"820\" y1=\"620\" x2=\"820\" y2=\"520\" style=\"fill:none; stroke:black; stroke-width:\"2\" />\n",
       "<line x1=\"20\" y1=\"520\" x2=\"120\" y2=\"520\" style=\"fill:none; stroke:black; stroke-width:\"2\" />\n",
       "<line x1=\"20\" y1=\"520\" x2=\"20\" y2=\"420\" style=\"fill:none; stroke:black; stroke-width:\"2\" />\n",
       "<line x1=\"20\" y1=\"520\" x2=\"120\" y2=\"420\" style=\"fill:none; stroke:black; stroke-width:\"2\" />\n",
       "<line x1=\"120\" y1=\"520\" x2=\"220\" y2=\"520\" style=\"fill:none; stroke:black; stroke-width:\"2\" />\n",
       "<line x1=\"120\" y1=\"520\" x2=\"120\" y2=\"420\" style=\"fill:none; stroke:black; stroke-width:\"2\" />\n",
       "<line x1=\"120\" y1=\"520\" x2=\"220\" y2=\"420\" style=\"fill:none; stroke:black; stroke-width:\"2\" />\n",
       "<line x1=\"220\" y1=\"520\" x2=\"320\" y2=\"520\" style=\"fill:none; stroke:black; stroke-width:\"2\" />\n",
       "<line x1=\"220\" y1=\"520\" x2=\"220\" y2=\"420\" style=\"fill:none; stroke:black; stroke-width:\"2\" />\n",
       "<line x1=\"220\" y1=\"520\" x2=\"320\" y2=\"420\" style=\"fill:none; stroke:black; stroke-width:\"2\" />\n",
       "<line x1=\"320\" y1=\"520\" x2=\"420\" y2=\"520\" style=\"fill:none; stroke:black; stroke-width:\"2\" />\n",
       "<line x1=\"320\" y1=\"520\" x2=\"320\" y2=\"420\" style=\"fill:none; stroke:black; stroke-width:\"2\" />\n",
       "<line x1=\"320\" y1=\"520\" x2=\"420\" y2=\"420\" style=\"fill:none; stroke:black; stroke-width:\"2\" />\n",
       "<line x1=\"420\" y1=\"520\" x2=\"520\" y2=\"520\" style=\"fill:none; stroke:black; stroke-width:\"2\" />\n",
       "<line x1=\"420\" y1=\"520\" x2=\"420\" y2=\"420\" style=\"fill:none; stroke:black; stroke-width:\"2\" />\n",
       "<line x1=\"420\" y1=\"520\" x2=\"520\" y2=\"420\" style=\"fill:none; stroke:black; stroke-width:\"2\" />\n",
       "<line x1=\"520\" y1=\"520\" x2=\"620\" y2=\"520\" style=\"fill:none; stroke:black; stroke-width:\"2\" />\n",
       "<line x1=\"520\" y1=\"520\" x2=\"520\" y2=\"420\" style=\"fill:none; stroke:black; stroke-width:\"2\" />\n",
       "<line x1=\"520\" y1=\"520\" x2=\"620\" y2=\"420\" style=\"fill:none; stroke:black; stroke-width:\"2\" />\n",
       "<line x1=\"620\" y1=\"520\" x2=\"720\" y2=\"520\" style=\"fill:none; stroke:black; stroke-width:\"2\" />\n",
       "<line x1=\"620\" y1=\"520\" x2=\"620\" y2=\"420\" style=\"fill:none; stroke:black; stroke-width:\"2\" />\n",
       "<line x1=\"620\" y1=\"520\" x2=\"720\" y2=\"420\" style=\"fill:none; stroke:black; stroke-width:\"2\" />\n",
       "<line x1=\"720\" y1=\"520\" x2=\"820\" y2=\"520\" style=\"fill:none; stroke:black; stroke-width:\"2\" />\n",
       "<line x1=\"720\" y1=\"520\" x2=\"720\" y2=\"420\" style=\"fill:none; stroke:black; stroke-width:\"2\" />\n",
       "<line x1=\"720\" y1=\"520\" x2=\"820\" y2=\"420\" style=\"fill:none; stroke:black; stroke-width:\"2\" />\n",
       "<line x1=\"820\" y1=\"520\" x2=\"820\" y2=\"420\" style=\"fill:none; stroke:black; stroke-width:\"2\" />\n",
       "<line x1=\"20\" y1=\"420\" x2=\"120\" y2=\"420\" style=\"fill:none; stroke:black; stroke-width:\"2\" />\n",
       "<line x1=\"20\" y1=\"420\" x2=\"20\" y2=\"320\" style=\"fill:none; stroke:black; stroke-width:\"2\" />\n",
       "<line x1=\"20\" y1=\"420\" x2=\"120\" y2=\"320\" style=\"fill:none; stroke:black; stroke-width:\"2\" />\n",
       "<line x1=\"120\" y1=\"420\" x2=\"220\" y2=\"420\" style=\"fill:none; stroke:black; stroke-width:\"2\" />\n",
       "<line x1=\"120\" y1=\"420\" x2=\"120\" y2=\"320\" style=\"fill:none; stroke:black; stroke-width:\"2\" />\n",
       "<line x1=\"120\" y1=\"420\" x2=\"220\" y2=\"320\" style=\"fill:none; stroke:black; stroke-width:\"2\" />\n",
       "<line x1=\"220\" y1=\"420\" x2=\"320\" y2=\"420\" style=\"fill:none; stroke:black; stroke-width:\"2\" />\n",
       "<line x1=\"220\" y1=\"420\" x2=\"220\" y2=\"320\" style=\"fill:none; stroke:black; stroke-width:\"2\" />\n",
       "<line x1=\"220\" y1=\"420\" x2=\"320\" y2=\"320\" style=\"fill:none; stroke:black; stroke-width:\"2\" />\n",
       "<line x1=\"320\" y1=\"420\" x2=\"420\" y2=\"420\" style=\"fill:none; stroke:black; stroke-width:\"2\" />\n",
       "<line x1=\"320\" y1=\"420\" x2=\"320\" y2=\"320\" style=\"fill:none; stroke:black; stroke-width:\"2\" />\n",
       "<line x1=\"320\" y1=\"420\" x2=\"420\" y2=\"320\" style=\"fill:none; stroke:black; stroke-width:\"2\" />\n",
       "<line x1=\"420\" y1=\"420\" x2=\"520\" y2=\"420\" style=\"fill:none; stroke:black; stroke-width:\"2\" />\n",
       "<line x1=\"420\" y1=\"420\" x2=\"420\" y2=\"320\" style=\"fill:none; stroke:black; stroke-width:\"2\" />\n",
       "<line x1=\"420\" y1=\"420\" x2=\"520\" y2=\"320\" style=\"fill:none; stroke:black; stroke-width:\"2\" />\n",
       "<line x1=\"520\" y1=\"420\" x2=\"620\" y2=\"420\" style=\"fill:none; stroke:black; stroke-width:\"2\" />\n",
       "<line x1=\"520\" y1=\"420\" x2=\"520\" y2=\"320\" style=\"fill:none; stroke:black; stroke-width:\"2\" />\n",
       "<line x1=\"520\" y1=\"420\" x2=\"620\" y2=\"320\" style=\"fill:none; stroke:black; stroke-width:\"2\" />\n",
       "<line x1=\"620\" y1=\"420\" x2=\"720\" y2=\"420\" style=\"fill:none; stroke:black; stroke-width:\"2\" />\n",
       "<line x1=\"620\" y1=\"420\" x2=\"620\" y2=\"320\" style=\"fill:none; stroke:black; stroke-width:\"2\" />\n",
       "<line x1=\"620\" y1=\"420\" x2=\"720\" y2=\"320\" style=\"fill:none; stroke:black; stroke-width:\"2\" />\n",
       "<line x1=\"720\" y1=\"420\" x2=\"820\" y2=\"420\" style=\"fill:none; stroke:black; stroke-width:\"2\" />\n",
       "<line x1=\"720\" y1=\"420\" x2=\"720\" y2=\"320\" style=\"fill:none; stroke:black; stroke-width:\"2\" />\n",
       "<line x1=\"720\" y1=\"420\" x2=\"820\" y2=\"320\" style=\"fill:none; stroke:black; stroke-width:\"2\" />\n",
       "<line x1=\"820\" y1=\"420\" x2=\"820\" y2=\"320\" style=\"fill:none; stroke:black; stroke-width:\"2\" />\n",
       "<line x1=\"20\" y1=\"320\" x2=\"120\" y2=\"320\" style=\"fill:none; stroke:black; stroke-width:\"2\" />\n",
       "<line x1=\"20\" y1=\"320\" x2=\"20\" y2=\"220\" style=\"fill:none; stroke:black; stroke-width:\"2\" />\n",
       "<line x1=\"20\" y1=\"320\" x2=\"120\" y2=\"220\" style=\"fill:none; stroke:black; stroke-width:\"2\" />\n",
       "<line x1=\"120\" y1=\"320\" x2=\"220\" y2=\"320\" style=\"fill:none; stroke:black; stroke-width:\"2\" />\n",
       "<line x1=\"120\" y1=\"320\" x2=\"120\" y2=\"220\" style=\"fill:none; stroke:black; stroke-width:\"2\" />\n",
       "<line x1=\"120\" y1=\"320\" x2=\"220\" y2=\"220\" style=\"fill:none; stroke:black; stroke-width:\"2\" />\n",
       "<line x1=\"220\" y1=\"320\" x2=\"320\" y2=\"320\" style=\"fill:none; stroke:black; stroke-width:\"2\" />\n",
       "<line x1=\"220\" y1=\"320\" x2=\"220\" y2=\"220\" style=\"fill:none; stroke:black; stroke-width:\"2\" />\n",
       "<line x1=\"220\" y1=\"320\" x2=\"320\" y2=\"220\" style=\"fill:none; stroke:black; stroke-width:\"2\" />\n",
       "<line x1=\"320\" y1=\"320\" x2=\"420\" y2=\"320\" style=\"fill:none; stroke:black; stroke-width:\"2\" />\n",
       "<line x1=\"320\" y1=\"320\" x2=\"320\" y2=\"220\" style=\"fill:none; stroke:black; stroke-width:\"2\" />\n",
       "<line x1=\"320\" y1=\"320\" x2=\"420\" y2=\"220\" style=\"fill:none; stroke:black; stroke-width:\"2\" />\n",
       "<line x1=\"420\" y1=\"320\" x2=\"520\" y2=\"320\" style=\"fill:none; stroke:black; stroke-width:\"2\" />\n",
       "<line x1=\"420\" y1=\"320\" x2=\"420\" y2=\"220\" style=\"fill:none; stroke:black; stroke-width:\"2\" />\n",
       "<line x1=\"420\" y1=\"320\" x2=\"520\" y2=\"220\" style=\"fill:none; stroke:black; stroke-width:\"2\" />\n",
       "<line x1=\"520\" y1=\"320\" x2=\"620\" y2=\"320\" style=\"fill:none; stroke:black; stroke-width:\"2\" />\n",
       "<line x1=\"520\" y1=\"320\" x2=\"520\" y2=\"220\" style=\"fill:none; stroke:black; stroke-width:\"2\" />\n",
       "<line x1=\"520\" y1=\"320\" x2=\"620\" y2=\"220\" style=\"fill:none; stroke:black; stroke-width:\"2\" />\n",
       "<line x1=\"620\" y1=\"320\" x2=\"720\" y2=\"320\" style=\"fill:none; stroke:black; stroke-width:\"2\" />\n",
       "<line x1=\"620\" y1=\"320\" x2=\"620\" y2=\"220\" style=\"fill:none; stroke:black; stroke-width:\"2\" />\n",
       "<line x1=\"620\" y1=\"320\" x2=\"720\" y2=\"220\" style=\"fill:none; stroke:black; stroke-width:\"2\" />\n",
       "<line x1=\"720\" y1=\"320\" x2=\"820\" y2=\"320\" style=\"fill:none; stroke:black; stroke-width:\"2\" />\n",
       "<line x1=\"720\" y1=\"320\" x2=\"720\" y2=\"220\" style=\"fill:none; stroke:black; stroke-width:\"2\" />\n",
       "<line x1=\"720\" y1=\"320\" x2=\"820\" y2=\"220\" style=\"fill:none; stroke:black; stroke-width:\"2\" />\n",
       "<line x1=\"820\" y1=\"320\" x2=\"820\" y2=\"220\" style=\"fill:none; stroke:black; stroke-width:\"2\" />\n",
       "<line x1=\"20\" y1=\"220\" x2=\"120\" y2=\"220\" style=\"fill:none; stroke:black; stroke-width:\"2\" />\n",
       "<line x1=\"20\" y1=\"220\" x2=\"20\" y2=\"120\" style=\"fill:none; stroke:black; stroke-width:\"2\" />\n",
       "<line x1=\"20\" y1=\"220\" x2=\"120\" y2=\"120\" style=\"fill:none; stroke:black; stroke-width:\"2\" />\n",
       "<line x1=\"120\" y1=\"220\" x2=\"220\" y2=\"220\" style=\"fill:none; stroke:black; stroke-width:\"2\" />\n",
       "<line x1=\"120\" y1=\"220\" x2=\"120\" y2=\"120\" style=\"fill:none; stroke:black; stroke-width:\"2\" />\n",
       "<line x1=\"120\" y1=\"220\" x2=\"220\" y2=\"120\" style=\"fill:none; stroke:black; stroke-width:\"2\" />\n",
       "<line x1=\"220\" y1=\"220\" x2=\"320\" y2=\"220\" style=\"fill:none; stroke:black; stroke-width:\"2\" />\n",
       "<line x1=\"220\" y1=\"220\" x2=\"220\" y2=\"120\" style=\"fill:none; stroke:black; stroke-width:\"2\" />\n",
       "<line x1=\"220\" y1=\"220\" x2=\"320\" y2=\"120\" style=\"fill:none; stroke:black; stroke-width:\"2\" />\n",
       "<line x1=\"320\" y1=\"220\" x2=\"420\" y2=\"220\" style=\"fill:none; stroke:black; stroke-width:\"2\" />\n",
       "<line x1=\"320\" y1=\"220\" x2=\"320\" y2=\"120\" style=\"fill:none; stroke:black; stroke-width:\"2\" />\n",
       "<line x1=\"320\" y1=\"220\" x2=\"420\" y2=\"120\" style=\"fill:none; stroke:black; stroke-width:\"2\" />\n",
       "<line x1=\"420\" y1=\"220\" x2=\"520\" y2=\"220\" style=\"fill:none; stroke:black; stroke-width:\"2\" />\n",
       "<line x1=\"420\" y1=\"220\" x2=\"420\" y2=\"120\" style=\"fill:none; stroke:black; stroke-width:\"2\" />\n",
       "<line x1=\"420\" y1=\"220\" x2=\"520\" y2=\"120\" style=\"fill:none; stroke:black; stroke-width:\"2\" />\n",
       "<line x1=\"520\" y1=\"220\" x2=\"620\" y2=\"220\" style=\"fill:none; stroke:black; stroke-width:\"2\" />\n",
       "<line x1=\"520\" y1=\"220\" x2=\"520\" y2=\"120\" style=\"fill:none; stroke:black; stroke-width:\"2\" />\n",
       "<line x1=\"520\" y1=\"220\" x2=\"620\" y2=\"120\" style=\"fill:none; stroke:black; stroke-width:\"2\" />\n",
       "<line x1=\"620\" y1=\"220\" x2=\"720\" y2=\"220\" style=\"fill:none; stroke:black; stroke-width:\"2\" />\n",
       "<line x1=\"620\" y1=\"220\" x2=\"620\" y2=\"120\" style=\"fill:none; stroke:black; stroke-width:\"2\" />\n",
       "<line x1=\"620\" y1=\"220\" x2=\"720\" y2=\"120\" style=\"fill:none; stroke:black; stroke-width:\"2\" />\n",
       "<line x1=\"720\" y1=\"220\" x2=\"820\" y2=\"220\" style=\"fill:none; stroke:black; stroke-width:\"2\" />\n",
       "<line x1=\"720\" y1=\"220\" x2=\"720\" y2=\"120\" style=\"fill:none; stroke:black; stroke-width:\"2\" />\n",
       "<line x1=\"720\" y1=\"220\" x2=\"820\" y2=\"120\" style=\"fill:none; stroke:black; stroke-width:\"2\" />\n",
       "<line x1=\"820\" y1=\"220\" x2=\"820\" y2=\"120\" style=\"fill:none; stroke:black; stroke-width:\"2\" />\n",
       "<line x1=\"20\" y1=\"120\" x2=\"120\" y2=\"120\" style=\"fill:none; stroke:black; stroke-width:\"2\" />\n",
       "<line x1=\"20\" y1=\"120\" x2=\"20\" y2=\"20\" style=\"fill:none; stroke:black; stroke-width:\"2\" />\n",
       "<line x1=\"20\" y1=\"120\" x2=\"120\" y2=\"20\" style=\"fill:none; stroke:black; stroke-width:\"2\" />\n",
       "<line x1=\"120\" y1=\"120\" x2=\"220\" y2=\"120\" style=\"fill:none; stroke:black; stroke-width:\"2\" />\n",
       "<line x1=\"120\" y1=\"120\" x2=\"120\" y2=\"20\" style=\"fill:none; stroke:black; stroke-width:\"2\" />\n",
       "<line x1=\"120\" y1=\"120\" x2=\"220\" y2=\"20\" style=\"fill:none; stroke:black; stroke-width:\"2\" />\n",
       "<line x1=\"220\" y1=\"120\" x2=\"320\" y2=\"120\" style=\"fill:none; stroke:black; stroke-width:\"2\" />\n",
       "<line x1=\"220\" y1=\"120\" x2=\"220\" y2=\"20\" style=\"fill:none; stroke:black; stroke-width:\"2\" />\n",
       "<line x1=\"220\" y1=\"120\" x2=\"320\" y2=\"20\" style=\"fill:none; stroke:black; stroke-width:\"2\" />\n",
       "<line x1=\"320\" y1=\"120\" x2=\"420\" y2=\"120\" style=\"fill:none; stroke:black; stroke-width:\"2\" />\n",
       "<line x1=\"320\" y1=\"120\" x2=\"320\" y2=\"20\" style=\"fill:none; stroke:black; stroke-width:\"2\" />\n",
       "<line x1=\"320\" y1=\"120\" x2=\"420\" y2=\"20\" style=\"fill:none; stroke:black; stroke-width:\"2\" />\n",
       "<line x1=\"420\" y1=\"120\" x2=\"520\" y2=\"120\" style=\"fill:none; stroke:black; stroke-width:\"2\" />\n",
       "<line x1=\"420\" y1=\"120\" x2=\"420\" y2=\"20\" style=\"fill:none; stroke:black; stroke-width:\"2\" />\n",
       "<line x1=\"420\" y1=\"120\" x2=\"520\" y2=\"20\" style=\"fill:none; stroke:black; stroke-width:\"2\" />\n",
       "<line x1=\"520\" y1=\"120\" x2=\"620\" y2=\"120\" style=\"fill:none; stroke:black; stroke-width:\"2\" />\n",
       "<line x1=\"520\" y1=\"120\" x2=\"520\" y2=\"20\" style=\"fill:none; stroke:black; stroke-width:\"2\" />\n",
       "<line x1=\"520\" y1=\"120\" x2=\"620\" y2=\"20\" style=\"fill:none; stroke:black; stroke-width:\"2\" />\n",
       "<line x1=\"620\" y1=\"120\" x2=\"720\" y2=\"120\" style=\"fill:none; stroke:black; stroke-width:\"2\" />\n",
       "<line x1=\"620\" y1=\"120\" x2=\"620\" y2=\"20\" style=\"fill:none; stroke:black; stroke-width:\"2\" />\n",
       "<line x1=\"620\" y1=\"120\" x2=\"720\" y2=\"20\" style=\"fill:none; stroke:black; stroke-width:\"2\" />\n",
       "<line x1=\"720\" y1=\"120\" x2=\"820\" y2=\"120\" style=\"fill:none; stroke:black; stroke-width:\"2\" />\n",
       "<line x1=\"720\" y1=\"120\" x2=\"720\" y2=\"20\" style=\"fill:none; stroke:black; stroke-width:\"2\" />\n",
       "<line x1=\"720\" y1=\"120\" x2=\"820\" y2=\"20\" style=\"fill:none; stroke:black; stroke-width:\"2\" />\n",
       "<line x1=\"820\" y1=\"120\" x2=\"820\" y2=\"20\" style=\"fill:none; stroke:black; stroke-width:\"2\" />\n",
       "<line x1=\"20\" y1=\"20\" x2=\"120\" y2=\"20\" style=\"fill:none; stroke:black; stroke-width:\"2\" />\n",
       "<line x1=\"120\" y1=\"20\" x2=\"220\" y2=\"20\" style=\"fill:none; stroke:black; stroke-width:\"2\" />\n",
       "<line x1=\"220\" y1=\"20\" x2=\"320\" y2=\"20\" style=\"fill:none; stroke:black; stroke-width:\"2\" />\n",
       "<line x1=\"320\" y1=\"20\" x2=\"420\" y2=\"20\" style=\"fill:none; stroke:black; stroke-width:\"2\" />\n",
       "<line x1=\"420\" y1=\"20\" x2=\"520\" y2=\"20\" style=\"fill:none; stroke:black; stroke-width:\"2\" />\n",
       "<line x1=\"520\" y1=\"20\" x2=\"620\" y2=\"20\" style=\"fill:none; stroke:black; stroke-width:\"2\" />\n",
       "<line x1=\"620\" y1=\"20\" x2=\"720\" y2=\"20\" style=\"fill:none; stroke:black; stroke-width:\"2\" />\n",
       "<line x1=\"720\" y1=\"20\" x2=\"820\" y2=\"20\" style=\"fill:none; stroke:black; stroke-width:\"2\" />\n",
       "    <circle cx=\"20\" cy=\"820\" r=\"2\" stroke=\"black\" stroke-width=\"0\" fill=\"red\" />\n",
       "<circle cx=\"120\" cy=\"820\" r=\"2\" stroke=\"black\" stroke-width=\"0\" fill=\"red\" />\n",
       "<circle cx=\"220\" cy=\"820\" r=\"2\" stroke=\"black\" stroke-width=\"0\" fill=\"red\" />\n",
       "<circle cx=\"320\" cy=\"820\" r=\"2\" stroke=\"black\" stroke-width=\"0\" fill=\"red\" />\n",
       "<circle cx=\"420\" cy=\"820\" r=\"2\" stroke=\"black\" stroke-width=\"0\" fill=\"red\" />\n",
       "<circle cx=\"520\" cy=\"820\" r=\"2\" stroke=\"black\" stroke-width=\"0\" fill=\"red\" />\n",
       "<circle cx=\"620\" cy=\"820\" r=\"2\" stroke=\"black\" stroke-width=\"0\" fill=\"red\" />\n",
       "<circle cx=\"720\" cy=\"820\" r=\"2\" stroke=\"black\" stroke-width=\"0\" fill=\"red\" />\n",
       "<circle cx=\"820\" cy=\"820\" r=\"2\" stroke=\"black\" stroke-width=\"0\" fill=\"red\" />\n",
       "<circle cx=\"20\" cy=\"720\" r=\"2\" stroke=\"black\" stroke-width=\"0\" fill=\"red\" />\n",
       "<circle cx=\"120\" cy=\"720\" r=\"2\" stroke=\"black\" stroke-width=\"0\" fill=\"red\" />\n",
       "<circle cx=\"220\" cy=\"720\" r=\"2\" stroke=\"black\" stroke-width=\"0\" fill=\"red\" />\n",
       "<circle cx=\"320\" cy=\"720\" r=\"2\" stroke=\"black\" stroke-width=\"0\" fill=\"red\" />\n",
       "<circle cx=\"420\" cy=\"720\" r=\"2\" stroke=\"black\" stroke-width=\"0\" fill=\"red\" />\n",
       "<circle cx=\"520\" cy=\"720\" r=\"2\" stroke=\"black\" stroke-width=\"0\" fill=\"red\" />\n",
       "<circle cx=\"620\" cy=\"720\" r=\"2\" stroke=\"black\" stroke-width=\"0\" fill=\"red\" />\n",
       "<circle cx=\"720\" cy=\"720\" r=\"2\" stroke=\"black\" stroke-width=\"0\" fill=\"red\" />\n",
       "<circle cx=\"820\" cy=\"720\" r=\"2\" stroke=\"black\" stroke-width=\"0\" fill=\"red\" />\n",
       "<circle cx=\"20\" cy=\"620\" r=\"2\" stroke=\"black\" stroke-width=\"0\" fill=\"red\" />\n",
       "<circle cx=\"120\" cy=\"620\" r=\"2\" stroke=\"black\" stroke-width=\"0\" fill=\"red\" />\n",
       "<circle cx=\"220\" cy=\"620\" r=\"2\" stroke=\"black\" stroke-width=\"0\" fill=\"red\" />\n",
       "<circle cx=\"320\" cy=\"620\" r=\"2\" stroke=\"black\" stroke-width=\"0\" fill=\"red\" />\n",
       "<circle cx=\"420\" cy=\"620\" r=\"2\" stroke=\"black\" stroke-width=\"0\" fill=\"red\" />\n",
       "<circle cx=\"520\" cy=\"620\" r=\"2\" stroke=\"black\" stroke-width=\"0\" fill=\"red\" />\n",
       "<circle cx=\"620\" cy=\"620\" r=\"2\" stroke=\"black\" stroke-width=\"0\" fill=\"red\" />\n",
       "<circle cx=\"720\" cy=\"620\" r=\"2\" stroke=\"black\" stroke-width=\"0\" fill=\"red\" />\n",
       "<circle cx=\"820\" cy=\"620\" r=\"2\" stroke=\"black\" stroke-width=\"0\" fill=\"red\" />\n",
       "<circle cx=\"20\" cy=\"520\" r=\"2\" stroke=\"black\" stroke-width=\"0\" fill=\"red\" />\n",
       "<circle cx=\"120\" cy=\"520\" r=\"2\" stroke=\"black\" stroke-width=\"0\" fill=\"red\" />\n",
       "<circle cx=\"220\" cy=\"520\" r=\"2\" stroke=\"black\" stroke-width=\"0\" fill=\"red\" />\n",
       "<circle cx=\"320\" cy=\"520\" r=\"2\" stroke=\"black\" stroke-width=\"0\" fill=\"red\" />\n",
       "<circle cx=\"420\" cy=\"520\" r=\"2\" stroke=\"black\" stroke-width=\"0\" fill=\"red\" />\n",
       "<circle cx=\"520\" cy=\"520\" r=\"2\" stroke=\"black\" stroke-width=\"0\" fill=\"red\" />\n",
       "<circle cx=\"620\" cy=\"520\" r=\"2\" stroke=\"black\" stroke-width=\"0\" fill=\"red\" />\n",
       "<circle cx=\"720\" cy=\"520\" r=\"2\" stroke=\"black\" stroke-width=\"0\" fill=\"red\" />\n",
       "<circle cx=\"820\" cy=\"520\" r=\"2\" stroke=\"black\" stroke-width=\"0\" fill=\"red\" />\n",
       "<circle cx=\"20\" cy=\"420\" r=\"2\" stroke=\"black\" stroke-width=\"0\" fill=\"red\" />\n",
       "<circle cx=\"120\" cy=\"420\" r=\"2\" stroke=\"black\" stroke-width=\"0\" fill=\"red\" />\n",
       "<circle cx=\"220\" cy=\"420\" r=\"2\" stroke=\"black\" stroke-width=\"0\" fill=\"red\" />\n",
       "<circle cx=\"320\" cy=\"420\" r=\"2\" stroke=\"black\" stroke-width=\"0\" fill=\"red\" />\n",
       "<circle cx=\"420\" cy=\"420\" r=\"2\" stroke=\"black\" stroke-width=\"0\" fill=\"red\" />\n",
       "<circle cx=\"520\" cy=\"420\" r=\"2\" stroke=\"black\" stroke-width=\"0\" fill=\"red\" />\n",
       "<circle cx=\"620\" cy=\"420\" r=\"2\" stroke=\"black\" stroke-width=\"0\" fill=\"red\" />\n",
       "<circle cx=\"720\" cy=\"420\" r=\"2\" stroke=\"black\" stroke-width=\"0\" fill=\"red\" />\n",
       "<circle cx=\"820\" cy=\"420\" r=\"2\" stroke=\"black\" stroke-width=\"0\" fill=\"red\" />\n",
       "<circle cx=\"20\" cy=\"320\" r=\"2\" stroke=\"black\" stroke-width=\"0\" fill=\"red\" />\n",
       "<circle cx=\"120\" cy=\"320\" r=\"2\" stroke=\"black\" stroke-width=\"0\" fill=\"red\" />\n",
       "<circle cx=\"220\" cy=\"320\" r=\"2\" stroke=\"black\" stroke-width=\"0\" fill=\"red\" />\n",
       "<circle cx=\"320\" cy=\"320\" r=\"2\" stroke=\"black\" stroke-width=\"0\" fill=\"red\" />\n",
       "<circle cx=\"420\" cy=\"320\" r=\"2\" stroke=\"black\" stroke-width=\"0\" fill=\"red\" />\n",
       "<circle cx=\"520\" cy=\"320\" r=\"2\" stroke=\"black\" stroke-width=\"0\" fill=\"red\" />\n",
       "<circle cx=\"620\" cy=\"320\" r=\"2\" stroke=\"black\" stroke-width=\"0\" fill=\"red\" />\n",
       "<circle cx=\"720\" cy=\"320\" r=\"2\" stroke=\"black\" stroke-width=\"0\" fill=\"red\" />\n",
       "<circle cx=\"820\" cy=\"320\" r=\"2\" stroke=\"black\" stroke-width=\"0\" fill=\"red\" />\n",
       "<circle cx=\"20\" cy=\"220\" r=\"2\" stroke=\"black\" stroke-width=\"0\" fill=\"red\" />\n",
       "<circle cx=\"120\" cy=\"220\" r=\"2\" stroke=\"black\" stroke-width=\"0\" fill=\"red\" />\n",
       "<circle cx=\"220\" cy=\"220\" r=\"2\" stroke=\"black\" stroke-width=\"0\" fill=\"red\" />\n",
       "<circle cx=\"320\" cy=\"220\" r=\"2\" stroke=\"black\" stroke-width=\"0\" fill=\"red\" />\n",
       "<circle cx=\"420\" cy=\"220\" r=\"2\" stroke=\"black\" stroke-width=\"0\" fill=\"red\" />\n",
       "<circle cx=\"520\" cy=\"220\" r=\"2\" stroke=\"black\" stroke-width=\"0\" fill=\"red\" />\n",
       "<circle cx=\"620\" cy=\"220\" r=\"2\" stroke=\"black\" stroke-width=\"0\" fill=\"red\" />\n",
       "<circle cx=\"720\" cy=\"220\" r=\"2\" stroke=\"black\" stroke-width=\"0\" fill=\"red\" />\n",
       "<circle cx=\"820\" cy=\"220\" r=\"2\" stroke=\"black\" stroke-width=\"0\" fill=\"red\" />\n",
       "<circle cx=\"20\" cy=\"120\" r=\"2\" stroke=\"black\" stroke-width=\"0\" fill=\"red\" />\n",
       "<circle cx=\"120\" cy=\"120\" r=\"2\" stroke=\"black\" stroke-width=\"0\" fill=\"red\" />\n",
       "<circle cx=\"220\" cy=\"120\" r=\"2\" stroke=\"black\" stroke-width=\"0\" fill=\"red\" />\n",
       "<circle cx=\"320\" cy=\"120\" r=\"2\" stroke=\"black\" stroke-width=\"0\" fill=\"red\" />\n",
       "<circle cx=\"420\" cy=\"120\" r=\"2\" stroke=\"black\" stroke-width=\"0\" fill=\"red\" />\n",
       "<circle cx=\"520\" cy=\"120\" r=\"2\" stroke=\"black\" stroke-width=\"0\" fill=\"red\" />\n",
       "<circle cx=\"620\" cy=\"120\" r=\"2\" stroke=\"black\" stroke-width=\"0\" fill=\"red\" />\n",
       "<circle cx=\"720\" cy=\"120\" r=\"2\" stroke=\"black\" stroke-width=\"0\" fill=\"red\" />\n",
       "<circle cx=\"820\" cy=\"120\" r=\"2\" stroke=\"black\" stroke-width=\"0\" fill=\"red\" />\n",
       "<circle cx=\"20\" cy=\"20\" r=\"2\" stroke=\"black\" stroke-width=\"0\" fill=\"red\" />\n",
       "<circle cx=\"120\" cy=\"20\" r=\"2\" stroke=\"black\" stroke-width=\"0\" fill=\"red\" />\n",
       "<circle cx=\"220\" cy=\"20\" r=\"2\" stroke=\"black\" stroke-width=\"0\" fill=\"red\" />\n",
       "<circle cx=\"320\" cy=\"20\" r=\"2\" stroke=\"black\" stroke-width=\"0\" fill=\"red\" />\n",
       "<circle cx=\"420\" cy=\"20\" r=\"2\" stroke=\"black\" stroke-width=\"0\" fill=\"red\" />\n",
       "<circle cx=\"520\" cy=\"20\" r=\"2\" stroke=\"black\" stroke-width=\"0\" fill=\"red\" />\n",
       "<circle cx=\"620\" cy=\"20\" r=\"2\" stroke=\"black\" stroke-width=\"0\" fill=\"red\" />\n",
       "<circle cx=\"720\" cy=\"20\" r=\"2\" stroke=\"black\" stroke-width=\"0\" fill=\"red\" />\n",
       "<circle cx=\"820\" cy=\"20\" r=\"2\" stroke=\"black\" stroke-width=\"0\" fill=\"red\" />\n",
       "    </svg>\n",
       "    "
      ],
      "text/html": [
       "<!DOCTYPE html>\n",
       "<html>\n",
       "  <head>\n",
       "    <meta http-equiv=\"content-type\" content=\"text/html;charset=UTF-8\" />\n",
       "    <meta name=\"generator\" content=\"FEniCS/DOLFIN (http://fenicsproject.org)\" />\n",
       "    <title>FEniCS/DOLFIN X3DOM plot</title>\n",
       "    <script type=\"text/javascript\" src=\"http://www.x3dom.org/download/x3dom.js\"></script>\n",
       "    <script type=\"text/javascript\" src=\"https://code.jquery.com/jquery-3.1.0.js\"></script>\n",
       "    <script type=\"text/javascript\" src=\"https://rawgit.com/plscott/fenics-x3dom/master/x3dom_support.js\"></script>\n",
       "    <link rel=\"stylesheet\" type=\"text/css\" href=\"http://www.x3dom.org/download/x3dom.css\" />\n",
       "    <link rel=\"stylesheet\" type=\"text/css\" href=\"https://rawgit.com/plscott/fenics-x3dom/master/x3dom_support.css\" />\n",
       "  </head>\n",
       "  <body>\n",
       "    <x3d showStat=\"false\" xmlns=\"http://www.web3d.org/specifications/x3d-namespace\" width=\"500.000000px\" height=\"400.000000px\">\n",
       "      <scene>\n",
       "        <shape>\n",
       "          <appearance>\n",
       "            <material diffuseColor=\"1.000000 1.000000 1.000000\" emissiveColor=\"0.000000 0.000000 0.000000\" specularColor=\"0.000000 0.000000 0.000000\" ambientIntensity=\"0\" shininess=\"0.5\" transparency=\"0\"></material>\n",
       "          </appearance>\n",
       "          <indexedFaceSet solid=\"false\" colorPerVertex=\"false\" coordIndex=\"0 1 10 -1 0 9 10 -1 1 2 11 -1 1 10 11 -1 2 3 12 -1 2 11 12 -1 3 4 13 -1 3 12 13 -1 4 5 14 -1 4 13 14 -1 5 6 15 -1 5 14 15 -1 6 7 16 -1 6 15 16 -1 7 8 17 -1 7 16 17 -1 9 10 19 -1 9 18 19 -1 10 11 20 -1 10 19 20 -1 11 12 21 -1 11 20 21 -1 12 13 22 -1 12 21 22 -1 13 14 23 -1 13 22 23 -1 14 15 24 -1 14 23 24 -1 15 16 25 -1 15 24 25 -1 16 17 26 -1 16 25 26 -1 18 19 28 -1 18 27 28 -1 19 20 29 -1 19 28 29 -1 20 21 30 -1 20 29 30 -1 21 22 31 -1 21 30 31 -1 22 23 32 -1 22 31 32 -1 23 24 33 -1 23 32 33 -1 24 25 34 -1 24 33 34 -1 25 26 35 -1 25 34 35 -1 27 28 37 -1 27 36 37 -1 28 29 38 -1 28 37 38 -1 29 30 39 -1 29 38 39 -1 30 31 40 -1 30 39 40 -1 31 32 41 -1 31 40 41 -1 32 33 42 -1 32 41 42 -1 33 34 43 -1 33 42 43 -1 34 35 44 -1 34 43 44 -1 36 37 46 -1 36 45 46 -1 37 38 47 -1 37 46 47 -1 38 39 48 -1 38 47 48 -1 39 40 49 -1 39 48 49 -1 40 41 50 -1 40 49 50 -1 41 42 51 -1 41 50 51 -1 42 43 52 -1 42 51 52 -1 43 44 53 -1 43 52 53 -1 45 46 55 -1 45 54 55 -1 46 47 56 -1 46 55 56 -1 47 48 57 -1 47 56 57 -1 48 49 58 -1 48 57 58 -1 49 50 59 -1 49 58 59 -1 50 51 60 -1 50 59 60 -1 51 52 61 -1 51 60 61 -1 52 53 62 -1 52 61 62 -1 54 55 64 -1 54 63 64 -1 55 56 65 -1 55 64 65 -1 56 57 66 -1 56 65 66 -1 57 58 67 -1 57 66 67 -1 58 59 68 -1 58 67 68 -1 59 60 69 -1 59 68 69 -1 60 61 70 -1 60 69 70 -1 61 62 71 -1 61 70 71 -1 63 64 73 -1 63 72 73 -1 64 65 74 -1 64 73 74 -1 65 66 75 -1 65 74 75 -1 66 67 76 -1 66 75 76 -1 67 68 77 -1 67 76 77 -1 68 69 78 -1 68 77 78 -1 69 70 79 -1 69 78 79 -1 70 71 80 -1 70 79 80 -1 \">\n",
       "            <coordinate point=\"0 0 0 0.125 0 0 0.25 0 0 0.375 0 0 0.5 0 0 0.625 0 0 0.75 0 0 0.875 0 0 1 0 0 0 0.125 0 0.125 0.125 0 0.25 0.125 0 0.375 0.125 0 0.5 0.125 0 0.625 0.125 0 0.75 0.125 0 0.875 0.125 0 1 0.125 0 0 0.25 0 0.125 0.25 0 0.25 0.25 0 0.375 0.25 0 0.5 0.25 0 0.625 0.25 0 0.75 0.25 0 0.875 0.25 0 1 0.25 0 0 0.375 0 0.125 0.375 0 0.25 0.375 0 0.375 0.375 0 0.5 0.375 0 0.625 0.375 0 0.75 0.375 0 0.875 0.375 0 1 0.375 0 0 0.5 0 0.125 0.5 0 0.25 0.5 0 0.375 0.5 0 0.5 0.5 0 0.625 0.5 0 0.75 0.5 0 0.875 0.5 0 1 0.5 0 0 0.625 0 0.125 0.625 0 0.25 0.625 0 0.375 0.625 0 0.5 0.625 0 0.625 0.625 0 0.75 0.625 0 0.875 0.625 0 1 0.625 0 0 0.75 0 0.125 0.75 0 0.25 0.75 0 0.375 0.75 0 0.5 0.75 0 0.625 0.75 0 0.75 0.75 0 0.875 0.75 0 1 0.75 0 0 0.875 0 0.125 0.875 0 0.25 0.875 0 0.375 0.875 0 0.5 0.875 0 0.625 0.875 0 0.75 0.875 0 0.875 0.875 0 1 0.875 0 0 1 0 0.125 1 0 0.25 1 0 0.375 1 0 0.5 1 0 0.625 1 0 0.75 1 0 0.875 1 0 1 1 0 \"></coordinate>\n",
       "          </indexedFaceSet>\n",
       "        </shape>\n",
       "        <shape>\n",
       "          <appearance>\n",
       "            <material emissiveColor=\"0.000000 0.000000 0.000000\" specularColor=\"0.000000 0.000000 0.000000\" ambientIntensity=\"0\" shininess=\"0.5\" transparency=\"0\"></material>\n",
       "          </appearance>\n",
       "          <indexedLineSet solid=\"false\" colorPerVertex=\"false\" coordIndex=\"0 1 -1 0 9 -1 0 10 -1 1 2 -1 1 10 -1 1 11 -1 2 3 -1 2 11 -1 2 12 -1 3 4 -1 3 12 -1 3 13 -1 4 5 -1 4 13 -1 4 14 -1 5 6 -1 5 14 -1 5 15 -1 6 7 -1 6 15 -1 6 16 -1 7 8 -1 7 16 -1 7 17 -1 8 17 -1 9 10 -1 9 18 -1 9 19 -1 10 11 -1 10 19 -1 10 20 -1 11 12 -1 11 20 -1 11 21 -1 12 13 -1 12 21 -1 12 22 -1 13 14 -1 13 22 -1 13 23 -1 14 15 -1 14 23 -1 14 24 -1 15 16 -1 15 24 -1 15 25 -1 16 17 -1 16 25 -1 16 26 -1 17 26 -1 18 19 -1 18 27 -1 18 28 -1 19 20 -1 19 28 -1 19 29 -1 20 21 -1 20 29 -1 20 30 -1 21 22 -1 21 30 -1 21 31 -1 22 23 -1 22 31 -1 22 32 -1 23 24 -1 23 32 -1 23 33 -1 24 25 -1 24 33 -1 24 34 -1 25 26 -1 25 34 -1 25 35 -1 26 35 -1 27 28 -1 27 36 -1 27 37 -1 28 29 -1 28 37 -1 28 38 -1 29 30 -1 29 38 -1 29 39 -1 30 31 -1 30 39 -1 30 40 -1 31 32 -1 31 40 -1 31 41 -1 32 33 -1 32 41 -1 32 42 -1 33 34 -1 33 42 -1 33 43 -1 34 35 -1 34 43 -1 34 44 -1 35 44 -1 36 37 -1 36 45 -1 36 46 -1 37 38 -1 37 46 -1 37 47 -1 38 39 -1 38 47 -1 38 48 -1 39 40 -1 39 48 -1 39 49 -1 40 41 -1 40 49 -1 40 50 -1 41 42 -1 41 50 -1 41 51 -1 42 43 -1 42 51 -1 42 52 -1 43 44 -1 43 52 -1 43 53 -1 44 53 -1 45 46 -1 45 54 -1 45 55 -1 46 47 -1 46 55 -1 46 56 -1 47 48 -1 47 56 -1 47 57 -1 48 49 -1 48 57 -1 48 58 -1 49 50 -1 49 58 -1 49 59 -1 50 51 -1 50 59 -1 50 60 -1 51 52 -1 51 60 -1 51 61 -1 52 53 -1 52 61 -1 52 62 -1 53 62 -1 54 55 -1 54 63 -1 54 64 -1 55 56 -1 55 64 -1 55 65 -1 56 57 -1 56 65 -1 56 66 -1 57 58 -1 57 66 -1 57 67 -1 58 59 -1 58 67 -1 58 68 -1 59 60 -1 59 68 -1 59 69 -1 60 61 -1 60 69 -1 60 70 -1 61 62 -1 61 70 -1 61 71 -1 62 71 -1 63 64 -1 63 72 -1 63 73 -1 64 65 -1 64 73 -1 64 74 -1 65 66 -1 65 74 -1 65 75 -1 66 67 -1 66 75 -1 66 76 -1 67 68 -1 67 76 -1 67 77 -1 68 69 -1 68 77 -1 68 78 -1 69 70 -1 69 78 -1 69 79 -1 70 71 -1 70 79 -1 70 80 -1 71 80 -1 72 73 -1 73 74 -1 74 75 -1 75 76 -1 76 77 -1 77 78 -1 78 79 -1 79 80 -1 \">\n",
       "            <coordinate point=\"0 0 0 0.125 0 0 0.25 0 0 0.375 0 0 0.5 0 0 0.625 0 0 0.75 0 0 0.875 0 0 1 0 0 0 0.125 0 0.125 0.125 0 0.25 0.125 0 0.375 0.125 0 0.5 0.125 0 0.625 0.125 0 0.75 0.125 0 0.875 0.125 0 1 0.125 0 0 0.25 0 0.125 0.25 0 0.25 0.25 0 0.375 0.25 0 0.5 0.25 0 0.625 0.25 0 0.75 0.25 0 0.875 0.25 0 1 0.25 0 0 0.375 0 0.125 0.375 0 0.25 0.375 0 0.375 0.375 0 0.5 0.375 0 0.625 0.375 0 0.75 0.375 0 0.875 0.375 0 1 0.375 0 0 0.5 0 0.125 0.5 0 0.25 0.5 0 0.375 0.5 0 0.5 0.5 0 0.625 0.5 0 0.75 0.5 0 0.875 0.5 0 1 0.5 0 0 0.625 0 0.125 0.625 0 0.25 0.625 0 0.375 0.625 0 0.5 0.625 0 0.625 0.625 0 0.75 0.625 0 0.875 0.625 0 1 0.625 0 0 0.75 0 0.125 0.75 0 0.25 0.75 0 0.375 0.75 0 0.5 0.75 0 0.625 0.75 0 0.75 0.75 0 0.875 0.75 0 1 0.75 0 0 0.875 0 0.125 0.875 0 0.25 0.875 0 0.375 0.875 0 0.5 0.875 0 0.625 0.875 0 0.75 0.875 0 0.875 0.875 0 1 0.875 0 0 1 0 0.125 1 0 0.25 1 0 0.375 1 0 0.5 1 0 0.625 1 0 0.75 1 0 0.875 1 0 1 1 0 \"></coordinate>\n",
       "          </indexedLineSet>\n",
       "        </shape>\n",
       "        <viewpoint id=\"default\" position=\"1.914214 1.914214 1.414214\" orientation=\"-0.7071067812 0.7071067812 0 1\" fieldOfView=\"0.785398\" centerOfRotation=\"0.500000 0.500000 0.000000\" zNear=\"-1\" zFar=\"-1\"></viewpoint>\n",
       "        <viewpoint id=\"top\" position=\"0.500000 2.500000 0.000000\" orientation=\"-1 0 0 1.5707963267948\" fieldOfView=\"0.785398\" centerOfRotation=\"0.500000 0.500000 0.000000\" zNear=\"-1\" zFar=\"-1\"></viewpoint>\n",
       "        <viewpoint id=\"bottom\" position=\"0.500000 -1.500000 0.000000\" orientation=\"1 0 0 1.5707963267948\" fieldOfView=\"0.785398\" centerOfRotation=\"0.500000 0.500000 0.000000\" zNear=\"-1\" zFar=\"-1\"></viewpoint>\n",
       "        <viewpoint id=\"left\" position=\"2.500000 0.500000 0.000000\" orientation=\"0 1 0 1.5707963267948\" fieldOfView=\"0.785398\" centerOfRotation=\"0.500000 0.500000 0.000000\" zNear=\"-1\" zFar=\"-1\"></viewpoint>\n",
       "        <viewpoint id=\"right\" position=\"-1.500000 0.500000 0.000000\" orientation=\"0 -1 0 1.5707963267948\" fieldOfView=\"0.785398\" centerOfRotation=\"0.500000 0.500000 0.000000\" zNear=\"-1\" zFar=\"-1\"></viewpoint>\n",
       "        <viewpoint id=\"back\" position=\"0.500000 0.500000 -2.000000\" orientation=\"0 1 0 3.1415926535898\" fieldOfView=\"0.785398\" centerOfRotation=\"0.500000 0.500000 0.000000\" zNear=\"-1\" zFar=\"-1\"></viewpoint>\n",
       "        <viewpoint id=\"front\" position=\"0.500000 0.500000 2.000000\" orientation=\"0 0 0 1\" fieldOfView=\"0.785398\" centerOfRotation=\"0.500000 0.500000 0.000000\" zNear=\"-1\" zFar=\"-1\"></viewpoint>\n",
       "        <background skyColor=\"0.950000 0.950000 0.950000\"></background>\n",
       "        <directionalLight ambientIntensity=\"0\" intensity=\"1\"></directionalLight>\n",
       "      </scene>\n",
       "    </x3d>\n",
       "    <div id=\"menu\"><form id=\"menu-items\"><input type=\"radio\" id=\"button-options\" name=\"menu\" checked=\"\" />\n",
       "        <label for=\"button-options\">Options</label>\n",
       "        <input type=\"radio\" id=\"button-summary\" name=\"menu\" />\n",
       "        <label for=\"button-summary\" style=\"display: none;\">Summary</label>\n",
       "        <input type=\"radio\" id=\"button-color\" name=\"menu\" />\n",
       "        <label for=\"button-color\" style=\"display: none;\">Color</label>\n",
       "        <input type=\"radio\" id=\"button-warp\" name=\"menu\" />\n",
       "        <label for=\"button-warp\" style=\"display: none;\">Warp</label>\n",
       "        <input type=\"radio\" id=\"button-viewpoints\" name=\"menu\" />\n",
       "        <label for=\"button-viewpoints\" style=\"display: none;\">Viewpoints</label>\n",
       "      </form>\n",
       "      <div id=\"menu-content\"><div id=\"content-options\" for=\"button-options\"><span>Menu Options</span>\n",
       "          <br />\n",
       "          <form class=\"options\"><input type=\"checkbox\" id=\"select-summary\" />\n",
       "            <label for=\"select-summary\">Summary</label>\n",
       "          </form>\n",
       "          <br />\n",
       "          <form class=\"options\"><input type=\"checkbox\" id=\"select-color\" />\n",
       "            <label for=\"select-color\">Color</label>\n",
       "          </form>\n",
       "          <br />\n",
       "          <form class=\"options\"><input type=\"checkbox\" id=\"select-warp\" />\n",
       "            <label for=\"select-warp\">Warp</label>\n",
       "          </form>\n",
       "          <br />\n",
       "          <form class=\"options\"><input type=\"checkbox\" id=\"select-viewpoints\" />\n",
       "            <label for=\"select-viewpoints\">Viewpoints</label>\n",
       "          </form>\n",
       "        </div>\n",
       "        <div id=\"content-summary\" for=\"button-summary\" hidden=\"\">Number of vertices: 81<br />Number of cells: 128</div>\n",
       "        <div id=\"content-color\" for=\"button-color\" hidden=\"\"><form>\n",
       "            <input id=\"color-checkbox\" type=\"checkbox\" checked=\"\" />\n",
       "            <label for=\"color-checkbox\">Show Color</label>\n",
       "          </form>Current Color Map:<br />\n",
       "          <span id=\"min-color-value\"></span>\n",
       "          <span id=\"color-map\"></span>\n",
       "          <span id=\"max-color-value\"></span>\n",
       "        </div>\n",
       "        <div id=\"content-warp\" for=\"button-warp\" hidden=\"\"><form>\n",
       "            <input id=\"warp-checkbox\" type=\"checkbox\" />\n",
       "            <label for=\"warp-checkbox\">Warp By Scalar</label>\n",
       "            <br />\n",
       "            <input id=\"warp-slider\" type=\"range\" min=\"0\" max=\"5\" step=\"0.01\" value=\"1\" disabled=\"\" />\n",
       "            <br />\n",
       "            <label id=\"warp-slider-val\" for=\"warp-slider\">1</label>\n",
       "          </form>\n",
       "        </div>\n",
       "        <div id=\"content-viewpoints\" for=\"button-viewpoints\" hidden=\"\"><span>Viewpoint Options</span>\n",
       "          <br />\n",
       "          <button class=\"viewpoint\">front</button>\n",
       "          <button class=\"viewpoint\">back</button>\n",
       "          <button class=\"viewpoint\">left</button>\n",
       "          <br />\n",
       "          <button class=\"viewpoint\">right</button>\n",
       "          <button class=\"viewpoint\">top</button>\n",
       "          <button class=\"viewpoint\">bottom</button>\n",
       "        </div>\n",
       "      </div>\n",
       "    </div>\n",
       "  </body>\n",
       "</html>\n"
      ],
      "text/plain": [
       "<dolfin.cpp.mesh.UnitSquareMesh; proxy of <Swig Object of type 'std::shared_ptr< dolfin::UnitSquareMesh > *' at 0x7f661ca12d20> >"
      ]
     },
     "execution_count": 167,
     "metadata": {},
     "output_type": "execute_result"
    }
   ],
   "source": [
    "mesh"
   ]
  },
  {
   "cell_type": "code",
   "execution_count": 4,
   "metadata": {
    "collapsed": true
   },
   "outputs": [],
   "source": [
    "V = fn.FunctionSpace(mesh, 'P', 1)"
   ]
  },
  {
   "cell_type": "code",
   "execution_count": 5,
   "metadata": {},
   "outputs": [
    {
     "data": {
      "text/plain": [
       "FunctionSpace(Mesh(VectorElement(FiniteElement('Lagrange', triangle, 1), dim=2), 0), FiniteElement('Lagrange', triangle, 1))"
      ]
     },
     "execution_count": 5,
     "metadata": {},
     "output_type": "execute_result"
    }
   ],
   "source": [
    "V"
   ]
  },
  {
   "cell_type": "code",
   "execution_count": 6,
   "metadata": {
    "collapsed": true
   },
   "outputs": [],
   "source": [
    "u_D = fn.Expression('1 + x[0]*x[0] + 2*x[1]*x[1]', degree=2)"
   ]
  },
  {
   "cell_type": "code",
   "execution_count": 7,
   "metadata": {},
   "outputs": [
    {
     "data": {
      "image/png": "[encoded data removed]",
      "text/latex": [
       "${w_h^4}$"
      ],
      "text/plain": [
       "Coefficient(FunctionSpace(None, FiniteElement('Lagrange', None, 2)), 4)"
      ]
     },
     "execution_count": 7,
     "metadata": {},
     "output_type": "execute_result"
    }
   ],
   "source": [
    "u_D"
   ]
  },
  {
   "cell_type": "code",
   "execution_count": 8,
   "metadata": {
    "collapsed": true
   },
   "outputs": [],
   "source": [
    "def boundary(x, on_boundary):\n",
    "    return on_boundary"
   ]
  },
  {
   "cell_type": "code",
   "execution_count": 9,
   "metadata": {},
   "outputs": [
    {
     "data": {
      "text/plain": [
       "<dolfin.fem.bcs.DirichletBC; proxy of <Swig Object of type 'std::shared_ptr< dolfin::DirichletBC > *' at 0x7fd6c6ca0e40> >"
      ]
     },
     "execution_count": 9,
     "metadata": {},
     "output_type": "execute_result"
    }
   ],
   "source": [
    "bc = fn.DirichletBC(V, u_D, boundary)\n",
    "bc"
   ]
  },
  {
   "cell_type": "code",
   "execution_count": 10,
   "metadata": {
    "collapsed": true
   },
   "outputs": [],
   "source": [
    "# Define variational problem\n",
    "u = fn.TrialFunction(V)\n",
    "v = fn.TestFunction(V)\n",
    "f = fn.Constant(-6.0)\n",
    "a = fn.dot(fn.grad(u), fn.grad(v))*fn.dx\n",
    "L = f*v*fn.dx"
   ]
  },
  {
   "cell_type": "code",
   "execution_count": 11,
   "metadata": {},
   "outputs": [
    {
     "data": {
      "image/png": "[encoded data removed]",
      "text/latex": [
       "${v_h^{1}}$"
      ],
      "text/plain": [
       "Argument(FunctionSpace(Mesh(VectorElement(FiniteElement('Lagrange', triangle, 1), dim=2), 0), FiniteElement('Lagrange', triangle, 1)), 1, None)"
      ]
     },
     "execution_count": 11,
     "metadata": {},
     "output_type": "execute_result"
    }
   ],
   "source": [
    "u"
   ]
  },
  {
   "cell_type": "code",
   "execution_count": 12,
   "metadata": {},
   "outputs": [
    {
     "data": {
      "image/png": "[encoded data removed]",
      "text/latex": [
       "${v_h^{0}}$"
      ],
      "text/plain": [
       "Argument(FunctionSpace(Mesh(VectorElement(FiniteElement('Lagrange', triangle, 1), dim=2), 0), FiniteElement('Lagrange', triangle, 1)), 0, None)"
      ]
     },
     "execution_count": 12,
     "metadata": {},
     "output_type": "execute_result"
    }
   ],
   "source": [
    "v"
   ]
  },
  {
   "cell_type": "code",
   "execution_count": 13,
   "metadata": {},
   "outputs": [
    {
     "data": {
      "image/png": "[encoded data removed]",
      "text/latex": [
       "${w_h^6}$"
      ],
      "text/plain": [
       "Coefficient(FunctionSpace(None, FiniteElement('Real', None, 0)), 6)"
      ]
     },
     "execution_count": 13,
     "metadata": {},
     "output_type": "execute_result"
    }
   ],
   "source": [
    "f"
   ]
  },
  {
   "cell_type": "code",
   "execution_count": 14,
   "metadata": {},
   "outputs": [
    {
     "data": {
      "text/plain": [
       "Form([Integral(Dot(Grad(Argument(FunctionSpace(Mesh(VectorElement(FiniteElement('Lagrange', triangle, 1), dim=2), 0), FiniteElement('Lagrange', triangle, 1)), 1, None)), Grad(Argument(FunctionSpace(Mesh(VectorElement(FiniteElement('Lagrange', triangle, 1), dim=2), 0), FiniteElement('Lagrange', triangle, 1)), 0, None))), 'cell', Mesh(VectorElement(FiniteElement('Lagrange', triangle, 1), dim=2), 0), 'everywhere', {}, None)])"
      ]
     },
     "execution_count": 14,
     "metadata": {},
     "output_type": "execute_result"
    }
   ],
   "source": [
    "a"
   ]
  },
  {
   "cell_type": "code",
   "execution_count": 15,
   "metadata": {},
   "outputs": [
    {
     "data": {
      "text/plain": [
       "Form([Integral(Product(Argument(FunctionSpace(Mesh(VectorElement(FiniteElement('Lagrange', triangle, 1), dim=2), 0), FiniteElement('Lagrange', triangle, 1)), 0, None), Coefficient(FunctionSpace(None, FiniteElement('Real', None, 0)), 6)), 'cell', Mesh(VectorElement(FiniteElement('Lagrange', triangle, 1), dim=2), 0), 'everywhere', {}, None)])"
      ]
     },
     "execution_count": 15,
     "metadata": {},
     "output_type": "execute_result"
    }
   ],
   "source": [
    "L"
   ]
  },
  {
   "cell_type": "code",
   "execution_count": 16,
   "metadata": {
    "collapsed": true
   },
   "outputs": [],
   "source": [
    "# Compute solution\n",
    "u = fn.Function(V)\n",
    "fn.solve(a == L, u, bc)"
   ]
  },
  {
   "cell_type": "code",
   "execution_count": 17,
   "metadata": {},
   "outputs": [
    {
     "data": {
      "image/png": "[encoded data removed]",
      "text/latex": [
       "${w_h^7}$"
      ],
      "text/plain": [
       "Coefficient(FunctionSpace(Mesh(VectorElement(FiniteElement('Lagrange', triangle, 1), dim=2), 0), FiniteElement('Lagrange', triangle, 1)), 7)"
      ]
     },
     "execution_count": 17,
     "metadata": {},
     "output_type": "execute_result"
    }
   ],
   "source": [
    "u"
   ]
  },
  {
   "cell_type": "code",
   "execution_count": 18,
   "metadata": {},
   "outputs": [
    {
     "data": {
      "image/png": "[encoded data removed]",
      "text/plain": [
       "<matplotlib.figure.Figure at 0x7fd6c6c39390>"
      ]
     },
     "metadata": {},
     "output_type": "display_data"
    }
   ],
   "source": [
    "fn.plot(u)\n",
    "fn.plot(mesh)\n",
    "fn.interactive()\n",
    "plt.show()"
   ]
  },
  {
   "cell_type": "code",
   "execution_count": 19,
   "metadata": {
    "collapsed": true
   },
   "outputs": [],
   "source": [
    "# Save solution to file in VTK format\n",
    "vtkfile = fn.File('poisson/solution.pvd')\n",
    "vtkfile << u"
   ]
  },
  {
   "cell_type": "code",
   "execution_count": 20,
   "metadata": {
    "collapsed": true
   },
   "outputs": [],
   "source": [
    "#manually extracting the data\n",
    "X = []; Y = []; U = []\n",
    "for v in fn.vertices(mesh):\n",
    "    x = v.point().x()\n",
    "    y = v.point().y()\n",
    "    X.append(x)\n",
    "    Y.append(y)\n",
    "    U.append(u(x,y))\n",
    "U = np.array(U).reshape(9,9)\n",
    "X = np.array(X).reshape(9,9)\n",
    "Y = np.array(Y).reshape(9,9)"
   ]
  },
  {
   "cell_type": "code",
   "execution_count": 21,
   "metadata": {},
   "outputs": [
    {
     "data": {
      "text/plain": [
       "array([[ 1.      ,  1.015625,  1.0625  ,  1.140625,  1.25    ,  1.390625,\n",
       "         1.5625  ,  1.765625,  2.      ],\n",
       "       [ 1.03125 ,  1.046875,  1.09375 ,  1.171875,  1.28125 ,  1.421875,\n",
       "         1.59375 ,  1.796875,  2.03125 ],\n",
       "       [ 1.125   ,  1.140625,  1.1875  ,  1.265625,  1.375   ,  1.515625,\n",
       "         1.6875  ,  1.890625,  2.125   ],\n",
       "       [ 1.28125 ,  1.296875,  1.34375 ,  1.421875,  1.53125 ,  1.671875,\n",
       "         1.84375 ,  2.046875,  2.28125 ],\n",
       "       [ 1.5     ,  1.515625,  1.5625  ,  1.640625,  1.75    ,  1.890625,\n",
       "         2.0625  ,  2.265625,  2.5     ],\n",
       "       [ 1.78125 ,  1.796875,  1.84375 ,  1.921875,  2.03125 ,  2.171875,\n",
       "         2.34375 ,  2.546875,  2.78125 ],\n",
       "       [ 2.125   ,  2.140625,  2.1875  ,  2.265625,  2.375   ,  2.515625,\n",
       "         2.6875  ,  2.890625,  3.125   ],\n",
       "       [ 2.53125 ,  2.546875,  2.59375 ,  2.671875,  2.78125 ,  2.921875,\n",
       "         3.09375 ,  3.296875,  3.53125 ],\n",
       "       [ 3.      ,  3.015625,  3.0625  ,  3.140625,  3.25    ,  3.390625,\n",
       "         3.5625  ,  3.765625,  4.      ]])"
      ]
     },
     "execution_count": 21,
     "metadata": {},
     "output_type": "execute_result"
    }
   ],
   "source": [
    "U"
   ]
  },
  {
   "cell_type": "code",
   "execution_count": 22,
   "metadata": {},
   "outputs": [
    {
     "data": {
      "text/plain": [
       "array([[ 0.   ,  0.125,  0.25 ,  0.375,  0.5  ,  0.625,  0.75 ,  0.875,  1.   ],\n",
       "       [ 0.   ,  0.125,  0.25 ,  0.375,  0.5  ,  0.625,  0.75 ,  0.875,  1.   ],\n",
       "       [ 0.   ,  0.125,  0.25 ,  0.375,  0.5  ,  0.625,  0.75 ,  0.875,  1.   ],\n",
       "       [ 0.   ,  0.125,  0.25 ,  0.375,  0.5  ,  0.625,  0.75 ,  0.875,  1.   ],\n",
       "       [ 0.   ,  0.125,  0.25 ,  0.375,  0.5  ,  0.625,  0.75 ,  0.875,  1.   ],\n",
       "       [ 0.   ,  0.125,  0.25 ,  0.375,  0.5  ,  0.625,  0.75 ,  0.875,  1.   ],\n",
       "       [ 0.   ,  0.125,  0.25 ,  0.375,  0.5  ,  0.625,  0.75 ,  0.875,  1.   ],\n",
       "       [ 0.   ,  0.125,  0.25 ,  0.375,  0.5  ,  0.625,  0.75 ,  0.875,  1.   ],\n",
       "       [ 0.   ,  0.125,  0.25 ,  0.375,  0.5  ,  0.625,  0.75 ,  0.875,  1.   ]])"
      ]
     },
     "execution_count": 22,
     "metadata": {},
     "output_type": "execute_result"
    }
   ],
   "source": [
    "X"
   ]
  },
  {
   "cell_type": "code",
   "execution_count": 23,
   "metadata": {},
   "outputs": [
    {
     "data": {
      "text/plain": [
       "array([[ 0.   ,  0.   ,  0.   ,  0.   ,  0.   ,  0.   ,  0.   ,  0.   ,  0.   ],\n",
       "       [ 0.125,  0.125,  0.125,  0.125,  0.125,  0.125,  0.125,  0.125,\n",
       "         0.125],\n",
       "       [ 0.25 ,  0.25 ,  0.25 ,  0.25 ,  0.25 ,  0.25 ,  0.25 ,  0.25 ,\n",
       "         0.25 ],\n",
       "       [ 0.375,  0.375,  0.375,  0.375,  0.375,  0.375,  0.375,  0.375,\n",
       "         0.375],\n",
       "       [ 0.5  ,  0.5  ,  0.5  ,  0.5  ,  0.5  ,  0.5  ,  0.5  ,  0.5  ,\n",
       "         0.5  ],\n",
       "       [ 0.625,  0.625,  0.625,  0.625,  0.625,  0.625,  0.625,  0.625,\n",
       "         0.625],\n",
       "       [ 0.75 ,  0.75 ,  0.75 ,  0.75 ,  0.75 ,  0.75 ,  0.75 ,  0.75 ,\n",
       "         0.75 ],\n",
       "       [ 0.875,  0.875,  0.875,  0.875,  0.875,  0.875,  0.875,  0.875,\n",
       "         0.875],\n",
       "       [ 1.   ,  1.   ,  1.   ,  1.   ,  1.   ,  1.   ,  1.   ,  1.   ,  1.   ]])"
      ]
     },
     "execution_count": 23,
     "metadata": {},
     "output_type": "execute_result"
    }
   ],
   "source": [
    "Y"
   ]
  },
  {
   "cell_type": "code",
   "execution_count": 24,
   "metadata": {},
   "outputs": [
    {
     "data": {
      "image/png": "[encoded data removed]",
      "text/plain": [
       "<matplotlib.figure.Figure at 0x7fd6c63d0278>"
      ]
     },
     "metadata": {},
     "output_type": "display_data"
    }
   ],
   "source": [
    "plt.pcolor(X,Y,U)\n",
    "plt.colorbar()\n",
    "plt.xlabel('x')\n",
    "plt.ylabel('y')\n",
    "plt.show()"
   ]
  },
  {
   "cell_type": "markdown",
   "metadata": {},
   "source": [
    "## Checking BC at y = 0"
   ]
  },
  {
   "cell_type": "code",
   "execution_count": 25,
   "metadata": {},
   "outputs": [
    {
     "data": {
      "text/plain": [
       "array([ 3.        ,  3.00277008,  3.01108033,  3.02493075,  3.04432133,\n",
       "        3.06925208,  3.09972299,  3.13573407,  3.17728532,  3.22437673,\n",
       "        3.27700831,  3.33518006,  3.39889197,  3.46814404,  3.54293629,\n",
       "        3.6232687 ,  3.70914127,  3.80055402,  3.89750693,  4.        ])"
      ]
     },
     "execution_count": 25,
     "metadata": {},
     "output_type": "execute_result"
    }
   ],
   "source": [
    "x_bc = np.linspace(0,1,20)\n",
    "y_bc = np.array([1])\n",
    "u_bc = 1 + x_bc**2 + 2 * y_bc**2\n",
    "u_bc"
   ]
  },
  {
   "cell_type": "code",
   "execution_count": 26,
   "metadata": {},
   "outputs": [
    {
     "data": {
      "image/png": "[encoded data removed]",
      "text/plain": [
       "<matplotlib.figure.Figure at 0x7fd6c2a33518>"
      ]
     },
     "metadata": {},
     "output_type": "display_data"
    }
   ],
   "source": [
    "plt.plot(X[0],U[-1,:],'-ob',label = 'FEM')\n",
    "plt.plot(x_bc,u_bc,'r', label = 'given boundary condition')\n",
    "plt.title('U value at y = 1')\n",
    "plt.legend()\n",
    "plt.xlabel('x')\n",
    "plt.ylabel('u')\n",
    "plt.show()"
   ]
  },
  {
   "cell_type": "markdown",
   "metadata": {},
   "source": [
    "# Checking BC at x = 1"
   ]
  },
  {
   "cell_type": "code",
   "execution_count": 27,
   "metadata": {},
   "outputs": [
    {
     "data": {
      "image/png": "[encoded data removed]",
      "text/plain": [
       "<matplotlib.figure.Figure at 0x7fd6c299a128>"
      ]
     },
     "metadata": {},
     "output_type": "display_data"
    }
   ],
   "source": [
    "x_bc = np.array([1])\n",
    "y_bc = np.linspace(0,1,20)\n",
    "u_bc = 1 + x_bc**2 + 2 * y_bc**2\n",
    "\n",
    "plt.plot(Y[:,0],U[:,-1],'-ob',label = 'FEniCS solution')\n",
    "plt.plot(y_bc,u_bc,'r', label = 'given boundary condition')\n",
    "plt.title('U value at x = 1')\n",
    "plt.legend()\n",
    "plt.xlabel('y')\n",
    "plt.ylabel('u')\n",
    "plt.show()"
   ]
  },
  {
   "cell_type": "markdown",
   "metadata": {},
   "source": [
    "# Check if PDE is satisfied or not at point x = 0.5, y = 0"
   ]
  },
  {
   "cell_type": "code",
   "execution_count": 28,
   "metadata": {},
   "outputs": [
    {
     "data": {
      "text/plain": [
       "0.5"
      ]
     },
     "execution_count": 28,
     "metadata": {},
     "output_type": "execute_result"
    }
   ],
   "source": [
    "X[0,4]"
   ]
  },
  {
   "cell_type": "code",
   "execution_count": 29,
   "metadata": {},
   "outputs": [
    {
     "data": {
      "text/plain": [
       "0.0"
      ]
     },
     "execution_count": 29,
     "metadata": {},
     "output_type": "execute_result"
    }
   ],
   "source": [
    "Y[0,4]"
   ]
  },
  {
   "cell_type": "code",
   "execution_count": 30,
   "metadata": {},
   "outputs": [
    {
     "data": {
      "text/plain": [
       "array([[ 0.   ,  0.125,  0.25 ,  0.375,  0.5  ,  0.625,  0.75 ,  0.875,  1.   ],\n",
       "       [ 0.   ,  0.125,  0.25 ,  0.375,  0.5  ,  0.625,  0.75 ,  0.875,  1.   ],\n",
       "       [ 0.   ,  0.125,  0.25 ,  0.375,  0.5  ,  0.625,  0.75 ,  0.875,  1.   ],\n",
       "       [ 0.   ,  0.125,  0.25 ,  0.375,  0.5  ,  0.625,  0.75 ,  0.875,  1.   ],\n",
       "       [ 0.   ,  0.125,  0.25 ,  0.375,  0.5  ,  0.625,  0.75 ,  0.875,  1.   ],\n",
       "       [ 0.   ,  0.125,  0.25 ,  0.375,  0.5  ,  0.625,  0.75 ,  0.875,  1.   ],\n",
       "       [ 0.   ,  0.125,  0.25 ,  0.375,  0.5  ,  0.625,  0.75 ,  0.875,  1.   ],\n",
       "       [ 0.   ,  0.125,  0.25 ,  0.375,  0.5  ,  0.625,  0.75 ,  0.875,  1.   ],\n",
       "       [ 0.   ,  0.125,  0.25 ,  0.375,  0.5  ,  0.625,  0.75 ,  0.875,  1.   ]])"
      ]
     },
     "execution_count": 30,
     "metadata": {},
     "output_type": "execute_result"
    }
   ],
   "source": [
    "X"
   ]
  },
  {
   "cell_type": "code",
   "execution_count": 31,
   "metadata": {},
   "outputs": [
    {
     "data": {
      "text/plain": [
       "array([[ 0.   ,  0.   ,  0.   ,  0.   ,  0.   ,  0.   ,  0.   ,  0.   ,  0.   ],\n",
       "       [ 0.125,  0.125,  0.125,  0.125,  0.125,  0.125,  0.125,  0.125,\n",
       "         0.125],\n",
       "       [ 0.25 ,  0.25 ,  0.25 ,  0.25 ,  0.25 ,  0.25 ,  0.25 ,  0.25 ,\n",
       "         0.25 ],\n",
       "       [ 0.375,  0.375,  0.375,  0.375,  0.375,  0.375,  0.375,  0.375,\n",
       "         0.375],\n",
       "       [ 0.5  ,  0.5  ,  0.5  ,  0.5  ,  0.5  ,  0.5  ,  0.5  ,  0.5  ,\n",
       "         0.5  ],\n",
       "       [ 0.625,  0.625,  0.625,  0.625,  0.625,  0.625,  0.625,  0.625,\n",
       "         0.625],\n",
       "       [ 0.75 ,  0.75 ,  0.75 ,  0.75 ,  0.75 ,  0.75 ,  0.75 ,  0.75 ,\n",
       "         0.75 ],\n",
       "       [ 0.875,  0.875,  0.875,  0.875,  0.875,  0.875,  0.875,  0.875,\n",
       "         0.875],\n",
       "       [ 1.   ,  1.   ,  1.   ,  1.   ,  1.   ,  1.   ,  1.   ,  1.   ,  1.   ]])"
      ]
     },
     "execution_count": 31,
     "metadata": {},
     "output_type": "execute_result"
    }
   ],
   "source": [
    "Y"
   ]
  },
  {
   "cell_type": "markdown",
   "metadata": {},
   "source": [
    "### Estimate $\\dfrac{\\partial^2 u}{\\partial x^2}$ Using Centrail and Forward Difference <p> With 9 Points\n",
    "https://en.wikipedia.org/wiki/Finite_difference_coefficient"
   ]
  },
  {
   "cell_type": "code",
   "execution_count": 32,
   "metadata": {},
   "outputs": [
    {
     "data": {
      "text/plain": [
       "array([ -1.78571429e-03,   2.53968254e-02,  -2.00000000e-01,\n",
       "         1.60000000e+00,  -2.84722222e+00,   1.60000000e+00,\n",
       "        -2.00000000e-01,   2.53968254e-02,  -1.78571429e-03])"
      ]
     },
     "execution_count": 32,
     "metadata": {},
     "output_type": "execute_result"
    }
   ],
   "source": [
    "cf_d2C = np.array([-1/560, 8/315, -1/5, 8/5,\n",
    "        -205/72, 8/5, -1/5, 8/315, -1/560])\n",
    "cf_d2C"
   ]
  },
  {
   "cell_type": "code",
   "execution_count": 33,
   "metadata": {},
   "outputs": [
    {
     "data": {
      "text/plain": [
       "0.125"
      ]
     },
     "execution_count": 33,
     "metadata": {},
     "output_type": "execute_result"
    }
   ],
   "source": [
    "dx = X[0,1]-X[0,0]\n",
    "dx"
   ]
  },
  {
   "cell_type": "code",
   "execution_count": 34,
   "metadata": {},
   "outputs": [
    {
     "data": {
      "text/plain": [
       "2.0000000000000204"
      ]
     },
     "execution_count": 34,
     "metadata": {},
     "output_type": "execute_result"
    }
   ],
   "source": [
    "first_term = U[0].dot(cf_d2C)/dx**2\n",
    "first_term"
   ]
  },
  {
   "cell_type": "markdown",
   "metadata": {},
   "source": [
    "### Estimate $\\dfrac{\\partial^2u}{\\partial y^2}$ with 8 points forward scheme"
   ]
  },
  {
   "cell_type": "code",
   "execution_count": 35,
   "metadata": {
    "collapsed": true
   },
   "outputs": [],
   "source": [
    "cf_d2F = np.array([469/90,-223/10,879/20,\n",
    "            -949/18,41,-201/10,1019/180,-7/10])"
   ]
  },
  {
   "cell_type": "code",
   "execution_count": 36,
   "metadata": {},
   "outputs": [
    {
     "data": {
      "text/plain": [
       "3.999999999998181"
      ]
     },
     "execution_count": 36,
     "metadata": {},
     "output_type": "execute_result"
    }
   ],
   "source": [
    "second_term = U[0:8,4].dot(cf_d2F)/dx**2\n",
    "second_term\n",
    "#dx = dy in our case"
   ]
  },
  {
   "cell_type": "code",
   "execution_count": 37,
   "metadata": {},
   "outputs": [
    {
     "data": {
      "text/plain": [
       "-5.9999999999982014"
      ]
     },
     "execution_count": 37,
     "metadata": {},
     "output_type": "execute_result"
    }
   ],
   "source": [
    "- first_term - second_term"
   ]
  },
  {
   "cell_type": "code",
   "execution_count": 38,
   "metadata": {},
   "outputs": [
    {
     "name": "stdout",
     "output_type": "stream",
     "text": [
      "almost -6 as required by the PDE!\n"
     ]
    },
    {
     "data": {
      "text/latex": [
       "$$\\text{PDE:}\\:\\:\n",
       "    -\\dfrac{\\partial^2u}{\\partial x^2} \n",
       "    - \\dfrac{\\partial^2u}{\\partial y^2} = -6$$"
      ],
      "text/plain": [
       "<IPython.core.display.Math object>"
      ]
     },
     "metadata": {},
     "output_type": "display_data"
    }
   ],
   "source": [
    "print('almost -6 as required by the PDE!')\n",
    "display(Math(r'''\\text{PDE:}\\:\\:\n",
    "    -\\dfrac{\\partial^2u}{\\partial x^2} \n",
    "    - \\dfrac{\\partial^2u}{\\partial y^2} = -6'''))\n"
   ]
  }
 ],
 "metadata": {
  "kernelspec": {
   "display_name": "Python 3",
   "language": "python",
   "name": "python3"
  },
  "language_info": {
   "codemirror_mode": {
    "name": "ipython",
    "version": 3
   },
   "file_extension": ".py",
   "mimetype": "text/x-python",
   "name": "python",
   "nbconvert_exporter": "python",
   "pygments_lexer": "ipython3",
   "version": "3.6.3"
  }
 },
 "nbformat": 4,
 "nbformat_minor": 2
}
