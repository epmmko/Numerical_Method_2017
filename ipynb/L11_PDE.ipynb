{
 "cells": [
  {
   "cell_type": "code",
   "execution_count": 1,
   "metadata": {
    "collapsed": true
   },
   "outputs": [],
   "source": [
    "#Notebook setup: import statement\n",
    "import matplotlib.animation as animation\n",
    "import fenics as fn\n",
    "import numpy as np\n",
    "import matplotlib.pyplot as plt\n",
    "from IPython.display import Math\n",
    "from IPython.display import display\n",
    "from IPython.display import Markdown\n",
    "from scipy import linalg\n",
    "from scipy import sparse\n",
    "import scipy.sparse.linalg\n",
    "#dependency\n",
    "# Mat_2D_PDE.png \n",
    "#  (created by print-screen+crop matrix picture)"
   ]
  },
  {
   "cell_type": "markdown",
   "metadata": {},
   "source": [
    "# Partial Differential Equation (PDE)\n",
    "## We will cover\n",
    "<b>Partial derivative approximation</b>\n",
    "* <b>Use Finite Difference Formulas</b>\n",
    "<p>\n",
    "\n",
    "<b>Solving PDE with</b>\n",
    "\n",
    "* <b>Finite Difference</b> (to a certain depth)\n",
    "* <b>Finite Element</b> (just a quick look)"
   ]
  },
  {
   "cell_type": "markdown",
   "metadata": {},
   "source": [
    "# Partial derivative approximation\n",
    "Forward finite difference<p>\n",
    "$\n",
    "\\dfrac{\\partial f(x,y,z)}{\\partial z}_{\\text{at x,y,z}} \\approx \\dfrac{f(x,y,z+\\varepsilon)-f(x,y,z)}{\\varepsilon}\n",
    "$"
   ]
  },
  {
   "cell_type": "markdown",
   "metadata": {},
   "source": [
    "https://en.wikipedia.org/wiki/Finite_difference_coefficient<p>\n",
    "$\\text{Forward finite difference formulas (uniform grid spacing)}$\n",
    "$\\begin{array}{ |c|c|ccccc| } \n",
    " \\hline\n",
    " \\text{Derivative} & \\text{Accuracy} &  Points \\\\ \n",
    "  &  & 0 & 1& 2& 3& 4& 5\\\\ \n",
    " \\hline\n",
    " 1 & 1 & -1 & 1 &  &  &  &  \\\\ \n",
    " 1 & 2 & -3/2 &  2 & -1/2 & & & \\\\ \n",
    " 1 & 3 & -11/6 &3&\t−3/2&\t1/3\t\\\\\n",
    " 1 & 4 &\t−25/12\t&4&\t−3\t&4/3\t&−1/4\\\\\n",
    " \\hline\n",
    "2&1&\t1\t&−2\t&1\t \t \t \t \t \t \\\\\n",
    "2&2&\t2\t&−5\t&4\t&−1\t \t \t \t \t \\\\\n",
    "2&3&\t35/12\t&−26/3\t&19/2\t&−14/3\t&11/12\t \t \t\\\\ \t \n",
    "2&4&\t15/4\t&−77/6\t&107/6\t&−13\t&61/12\t&−5/6\\\\\n",
    " \\hline\n",
    "\\end{array}$\n",
    "<p>\n",
    "For backward difference, give all odd derivative coefficient with the opposite sign.<p>\n",
    "For backward difference<p>\n",
    "Point 0 becomes point 0,<br>\n",
    "Point 1 becomes point -1<br>\n",
    "Point 2 becomes point -2<br>\n",
    "Point 3 becomes point -3<br>\n",
    "and so on, ...<p>\n",
    "Thus we have<p>\n",
    "\n",
    "$\\text{Backward finite difference formulas (uniform grid spacing)}$\n",
    "$\\begin{array}{ |c|c|ccccc| } \n",
    " \\hline\n",
    " \\text{Derivative} & \\text{Accuracy} &  Points \\\\ \n",
    "  &  & 0 & -1& -2& -3& -4& -5\\\\ \n",
    " \\hline\n",
    " 1 & 1 & 1 & -1 &  &  &  &  \\\\ \n",
    " 1 & 2 & 3/2 &  -2 & 1/2 & & & \\\\ \n",
    " 1 & 3 & 11/6 &3&\t3/2&\t-1/3\t\\\\\n",
    " 1 & 4 &\t25/12\t&-4&\t3\t&-4/3\t&1/4\\\\\n",
    " \\hline\n",
    "2&1&\t1\t&−2\t&1\t \t \t \t \t \t \\\\\n",
    "2&2&\t2\t&−5\t&4\t&−1\t \t \t \t \t \\\\\n",
    "2&3&\t35/12\t&−26/3\t&19/2\t&−14/3\t&11/12\t \t \t\\\\ \t \n",
    "2&4&\t15/4\t&−77/6\t&107/6\t&−13\t&61/12\t&−5/6\\\\\n",
    " \\hline\n",
    "\\end{array}$\n",
    "\n",
    "\n",
    "$\\text{Central finite difference formulas (uniform grid spacing)}$\n",
    "<font size = 1>\n",
    "$\\begin{array}{ |c|c|ccccccccc| } \n",
    " \\hline\n",
    " \\text{Derivative} & \\text{Accuracy} &  Points \\\\ \n",
    "  &  & -4 & -3& -2& -1& 0& 1& 2& 3& 4\\\\ \n",
    " \\hline\n",
    "1&2&\t  & \t  & \t &\t−1/2&0&\t1/2\t \t \t \\\\\n",
    "1&4&\t  &\t \t  & 1/12 &\t−2/3&0&\t2/3&−1/12\t \t\\\\ \n",
    "1&6&\t  &\t −1/60&\t3/20 &\t−3/4&0&\t3/4&−3/20&\t1/60 \t \\\\\n",
    "1&8& 1/280&\t−4/105&\t1/5\t &  −4/5&0&\t4/5&−1/5 &\t4/105&\t−1/280 \\\\\n",
    " \\hline\n",
    "2&2&\t \t  &\t \t &       &    1&     −2& 1\t \t \t \\\\\n",
    "2&4&\t \t  &\t     &  −1/12&\t4/3&   −5/2& 4/3& −1/12\t \t \\\\\n",
    "2&6&\t \t  & 1/90 &\t−3/20&\t3/2& −49/18& 3/2& −3/20& 1/90 \t \\\\\n",
    "2&8&\t−1/560&\t8/315&\t−1/5 &\t8/5&−205/72& 8/5& −1/5 & 8/315&\t−1/560 \\\\\n",
    " \\hline\n",
    "\\end{array}$\n",
    "</font>\n",
    "<p>For the second order derivative, devide the expression (point value * coefficient) by $h^2$"
   ]
  },
  {
   "cell_type": "markdown",
   "metadata": {},
   "source": [
    "# Type of PDE\n",
    "* Elliptic - time-independent\n",
    "* Hyperbolic - time-dependent and wavelike\n",
    "* Parabolic - time-dependent and diffusive \n",
    "* Other types\n",
    "<font size = 3>\n",
    "<p>$a \\frac{\\partial^2 u}{\\partial x_1^2} + 2b \\frac{\\partial^2 u}{\\partial x_1\\partial x_2} +\n",
    "    c \\frac{\\partial^2 u}{\\partial x_2^2} + d \\frac{\\partial u}{\\partial x_1} +\n",
    "    e \\frac{\\partial u}{\\partial x_2} + f u = g$<p>\n",
    "a,b,c,d,e,f, and g are functions of $x_1$ and $x_2$\n",
    "</font>\n",
    "\n",
    "### Elliptic PDE\n",
    "$b^2 - 4ac < 0$<br>\n",
    "Example: Poisson's equation (e.g. Gauss's law for electricity)<p>\n",
    "$\\nabla^2 u = f(x)$<p>\n",
    "Example: Laplace equation (e.g. steady state heat transfer):<p>\n",
    "$\\nabla^2 u = 0$<p>\n",
    "Solution is smooth, even if IC and BC are rough. One value at BC affect all solution points\n",
    "\n",
    "### Parabolic PDE\n",
    "$b^2 - 4ac = 0$<br>\n",
    "Example: Heat Equation (transient heat conduction in solid)<p>\n",
    "$\\dfrac{\\partial u}{\\partial t} = \\alpha \\nabla^2 u$<p>\n",
    "This gives one-way communication in time (the past impacts the future, but the future does not impact the past)\n",
    "\n",
    "### Hyperbolic PDE\n",
    "$b^2 - 4ac > 0$<br>\n",
    "Example: Wave equation<p>\n",
    "$\\dfrac{\\partial^2u}{\\partial t^2} = c^2 \\dfrac{\\partial^2u}{\\partial x^2}$<p>\n",
    "The disturbance in BC cause wave to travel (propagate) at speed C. Not every points feel the disturbance all at once (Elliptic PDE is equivalent to every point feel the disturbance in BC, all at once).\n",
    "\n",
    "<p>http://mathworld.wolfram.com/EllipticPartialDifferentialEquation.html\n",
    "<br>https://en.wikipedia.org/wiki/Partial_differential_equation#Equations_of_second_order"
   ]
  },
  {
   "cell_type": "code",
   "execution_count": null,
   "metadata": {
    "collapsed": true
   },
   "outputs": [],
   "source": []
  },
  {
   "cell_type": "markdown",
   "metadata": {
    "collapsed": true
   },
   "source": [
    "# <font color = 000EBB>Finite Difference</font>\n",
    "## <font color = 016D09>Basic Steps</font>\n",
    "0) Optional (but suggested) - Non-dimensionalize the PDE<br>\n",
    "1) Discretize the domain into discrete point in time and space<br>\n",
    "2) Use finite difference formula transform all partial derivatives into algebraic expressions as a function of point value<br>\n",
    "3) Arrange all algebraic equations into matrix form<br>\n",
    "4) Use numerical method in solving system of linear equation to get solution at each point<br>\n",
    "5) Visualize the solution at time-slice or space-slice<br>\n"
   ]
  },
  {
   "cell_type": "markdown",
   "metadata": {
    "collapsed": true
   },
   "source": [
    "# <font color = 0366FF>Finite Difference formula</font>\n",
    "How to use wikipedia table\n",
    "https://en.wikipedia.org/wiki/Finite_difference_coefficient\n",
    "Approximation can be done in various way, depending on what point in space that is available. In this example, we will solve 1 dimension transient heat transfer copper. For 3 cm 1D copper bar, what will happen if we attach it to a hot heat source (at 50 C), if the copper bar temperature is at 20 C, initially.<p>\n",
    "$\\dfrac{\\partial T}{\\partial t} = \\alpha \\dfrac{\\partial^2 T}{\\partial x^2}$<p>\n",
    "Initial condition: At $t = 0$, $T = 20,\\quad \\forall T \\in \\Omega;\\quad \\Omega = [0, 0.03]\\quad$ \n",
    "or $\\quad T_i = 20$<br>\n",
    "Boundary condition1: At $x = 0$ m., $T = 50,\\quad \\text{at any time}$ $\\quad \\text{or} \\quad T_0 = 50$<p>\n",
    "Boundary condition2: At $x = 0.03$ m., $\\dfrac{\\partial T}{\\partial x} = 0,\\quad \\text{at any time}$<p>\n",
    "Assume no heat loss at $x = 0.03$ m<p>\n",
    "\n",
    "$T$ is temperature in degree Celsius $[ \\,C\\, ]$<br>\n",
    "$T_i$ is the initial temperature<br>\n",
    "$T_0$ is the temperature at $x = 0$<br>\n",
    "$x$ is a distance in centimeter [$m$]<br>\n",
    "$a$ is $x$ at the left boundary<br>\n",
    "$b$ is $x$ at the right boundary<br>\n",
    "$\\alpha$ is thermal diffusivity of copper [$m^2/s$]<br>\n",
    "$\\alpha = \\dfrac{k}{\\rho \\hat C_p}$<br>\n",
    "For copper, $\\:\\alpha = 1.11 \\times 10^{-4}\\:\\: m^2/s$<br>\n",
    "$t$ is time in second [$s$]"
   ]
  },
  {
   "cell_type": "markdown",
   "metadata": {},
   "source": [
    "# Step 0: Non-dimentionalize PDE (optional)\n",
    "The dimensionless PDE form can be used for other question that has the same dimensionless form<p>\n",
    "Define<p>\n",
    "$\\tilde T = \\dfrac{T-T_i}{T_0-T_i}\\qquad$ This way, the solution will be in between 0 and 1 (hopefully)<p>\n",
    "$\\tilde x = \\dfrac{x - a}{b - a} = \\dfrac{x - 0}{0.03 - 0}\\quad\\text{or}\\quad \\partial \\tilde x = \\dfrac{1}{b-a}\\partial x$<p>\n",
    "Thus,<p>\n",
    "$\\dfrac{\\partial}{\\partial x} = \\dfrac{1}{b-a}\\dfrac{\\partial}{\\partial \\tilde x}$<p>\n",
    "Then, we have<p>\n",
    "$\\dfrac{\\partial \\tilde T}{\\partial t} = \\dfrac{1}{T_0-T_i}\\dfrac{\\partial T}{\\partial t}$<p>\n",
    "$\\dfrac{\\partial \\tilde T}{\\partial \\tilde x} = \\dfrac{\\partial \\tilde T}{\\partial x}\\dfrac{\\partial x}{\\partial \\tilde x} = \\dfrac{b-a}{T_0-T_i}\\dfrac{\\partial T}{\\partial x}$<p>\n",
    "\n",
    "$\\dfrac{\\partial}{\\partial \\tilde x}\\dfrac{\\partial \\tilde T}{\\partial \\tilde x} = \\dfrac{\\partial}{\\partial \\tilde x} \\dfrac{b-a}{T_0-T_i}\\dfrac{\\partial T}{\\partial x}\n",
    "= \\dfrac{(b-a)^2}{T_0-T_i}\\dfrac{\\partial^2 T}{\\partial x^2}$<p>\n",
    "Substitute the dimensionless form, we have<p>\n",
    "$(T_0-T_i)\\dfrac{\\partial \\tilde T}{\\partial t} = \\dfrac{\\partial  T}{\\partial t}$ $\\quad\\text{and}\\quad$ \n",
    "$\\dfrac{T_0-T_i}{(b-a)^2}  \\dfrac{\\partial^2 \\tilde T}{\\partial \\tilde x^2} = \\dfrac{\\partial^2 T}{\\partial x^2}$<p>\n",
    "Substitute the above expressions into the governing equation, we have<p>\n",
    "$(T_0-T_i)\\dfrac{\\partial \\tilde T}{\\partial t} = \\alpha \\dfrac{T_0-T_i}{(b-a)^2}  \\dfrac{\\partial^2 \\tilde T}{\\partial \\tilde x^2}\\quad\\text{or}$<p>\n",
    "$\\dfrac{(b-a)^2}{\\alpha} \\dfrac{\\partial \\tilde T}{\\partial t} =    \\dfrac{\\partial^2 \\tilde T}{\\partial \\tilde x^2}$<p>\n",
    "By defining the dimensionless time as,<p>\n",
    "$\\tilde t = \\dfrac{\\alpha}{(b-a)^2} t$<p>\n",
    "We have,<p>\n",
    "$\\dfrac{\\partial \\tilde T}{\\partial \\tilde t} =    \\dfrac{\\partial^2 \\tilde T}{\\partial \\tilde x^2}$<p>\n"
   ]
  },
  {
   "cell_type": "markdown",
   "metadata": {},
   "source": [
    "With the dimensionless form, the boundary conditions become,<p>\n",
    "At $x = 0,\\:\\: \\tilde x = 0, \\:\\:T = T_0 \\quad\\text{or}\\quad \\tilde T = 1$<p>\n",
    "At $x = b,\\:\\: \\tilde x = 1, \\:\\: \\dfrac{\\partial T}{\\partial x} = 0 \\quad\\text{or}\\quad \\dfrac{\\partial \\tilde T}{\\partial \\tilde x} = 0$<p>\n",
    "The dimensionless initial condition becomes,<p>\n",
    "$\\tilde T = 0\\quad\\text{at}\\quad \\tilde t = 0$"
   ]
  },
  {
   "cell_type": "markdown",
   "metadata": {},
   "source": [
    "# Step 1: PDE approximation\n",
    "$\\dfrac{\\partial \\tilde T}{\\partial \\tilde t} \\approx\n",
    "\\dfrac{\\tilde T_{n+1} - T_{n}}{\\Delta t}\\quad$ This is a forward difference in time (first order approximation).<p>\n",
    "What if we want a better approximation? like second order approximation, what shall we do? <b>Directly use finite difference  table with higher order may not be a good idea.</b><p>\n",
    "\n",
    "A better way of doing this is to use the numerical scheme that is proven to work."
   ]
  },
  {
   "cell_type": "markdown",
   "metadata": {
    "collapsed": true
   },
   "source": [
    "# Step 1: Strategy\n",
    "The difficulty is not about using the finite difference table. The difficulty comes when we want to rearrange all equation together.\n",
    "\n",
    "If we use forward scheme in time, this is explicit scheme and it will not be stable (need small step according to CFL condition)<p>\n",
    "\n",
    "https://en.wikipedia.org/wiki/Courant%E2%80%93Friedrichs%E2%80%93Lewy_condition\n",
    "\n",
    "For explicit scheme in time, we can directly calculate T at the next time, but it won't be stable (can be accurate). For implicit scheme, we need equation for everypoints then solved the point that are linked together simultaneously."
   ]
  },
  {
   "cell_type": "markdown",
   "metadata": {
    "collapsed": true
   },
   "source": [
    "## Forward scheme in time and central scheme in space\n",
    "Let $i$ be an index for space and $n$ be an index for time, we have<p>\n",
    "$\\dfrac{\\partial \\tilde T}{\\partial \\tilde t} \\approx\n",
    "\\dfrac{\\tilde T_{n+1} - T_{n}}{\\Delta \\tilde t} \\Bigg \\vert_{@ i}$\n",
    "\n",
    "$\\dfrac{\\partial^2 \\tilde T}{\\partial \\tilde x^2} \\approx \n",
    "\\dfrac{T_{i-1} - 2 T_{i} + T_{i+1}}{(\\Delta \\tilde x)^2} \\Bigg \\vert_{@ n}\n",
    "$\n",
    "<p> Forward scheme it time means that everything else is defined at the old time step"
   ]
  },
  {
   "cell_type": "markdown",
   "metadata": {
    "collapsed": true
   },
   "source": [
    "### Rearranging\n",
    "We have,\n",
    "<p>$\n",
    "\\dfrac{\\tilde T_{n+1} - \\tilde T_{n}}{\\Delta \\tilde t} \\Bigg \\vert_{@ i} = \\dfrac{\\tilde T_{i-1} - 2 \\tilde T_{i} + \\tilde T_{i+1}}{(\\Delta \\tilde x)^2} \\Bigg \\vert_{@ n}$"
   ]
  },
  {
   "cell_type": "markdown",
   "metadata": {
    "collapsed": true
   },
   "source": [
    "$\\tilde T_{n+1} = \\left(\\tilde T_i + \\Delta \\tilde t \\dfrac{\\tilde T_{i-1} - 2 \\tilde T_{i} +\\tilde T_{i+1}}{(\\Delta \\tilde x)^2} \\right) \\Bigg \\vert_{@ n}$"
   ]
  },
  {
   "cell_type": "markdown",
   "metadata": {
    "collapsed": true
   },
   "source": [
    "$\\tilde T_{n+1}\\Bigg\\vert_{@i} =\\left( \\dfrac{\\Delta \\tilde t}{(\\Delta \\tilde x)^2}\\tilde T_{i-1} + \\left(1-\\dfrac{2\\Delta \\tilde t}{(\\Delta \\tilde x)^2}\\right) \\tilde T_i + \\dfrac{\\Delta \\tilde t}{(\\Delta \\tilde x)^2}\\tilde T_{i+1}\\right)\\Bigg \\vert_{@n}$"
   ]
  },
  {
   "cell_type": "markdown",
   "metadata": {},
   "source": [
    "Notice that we can calculate the Temperature at the next time-step right away if we know the temperature at the current time-step"
   ]
  },
  {
   "cell_type": "markdown",
   "metadata": {},
   "source": [
    "## Boundary Condition\n",
    "### Dirichlet Boundary Condition\n",
    "Constant T boundary condition<br>\n",
    "At $\\tilde x = 0$, we have, $\\tilde T = 1$\n",
    "<br>Thus, we have $T_{i=0} = 1$ at every $n$\n",
    "### Neumann Boundary Condition\n",
    "Constant flux at the boundary<p>\n",
    "At $\\tilde x = 1, \\quad \\dfrac{\\partial \\tilde T}{\\partial \\tilde x} = 0$<p>\n",
    "From backward scheme, we have,<p>\n",
    "$\\dfrac{-\\tilde T_{B-1} + \\tilde T_{B}}{\\tilde x} = 0$<p>\n",
    "or $\\tilde T_{B-1} = \\tilde T_{B}$ where $B$ is the point on the right boundary"
   ]
  },
  {
   "cell_type": "markdown",
   "metadata": {
    "collapsed": true
   },
   "source": [
    "### CFL Condition (Courant-Friedrichs-Lewy Condition)\n",
    "CFL condition is necessary but not sufficient for the convergence, meaning that even if the step size satisfies CFL condition, it can be still unstable<p>\n",
    "For heat equation: CFL Condition becomes<p>\n",
    "\n",
    "$\\dfrac{\\Delta \\tilde t}{(\\Delta \\tilde x)^2}<C$ With C = 1, get unstable result, let's use C = 0.5\n",
    "\n",
    "https://webcourse.cs.technion.ac.il/236861/Winter2007-2008/ho/WCFiles/numerical_schemes.pdf\n",
    "<br>\n",
    "https://en.wikipedia.org/wiki/Talk%3ACourant%E2%80%93Friedrichs%E2%80%93Lewy_condition\n",
    "<br>\n",
    "https://people.maths.ox.ac.uk/trefethen/4all.pdf\n",
    "This means that if the space step-size is small, the time step-size must be small too, so that CFL condition holds. In our case we select, <p>\n",
    "$\\Delta \\tilde x = 0.1 \\quad \\text{and} \\quad \\Delta \\tilde t = 0.0045$"
   ]
  },
  {
   "cell_type": "markdown",
   "metadata": {
    "collapsed": true
   },
   "source": [
    "$\\tilde T_{n+1}\\Bigg\\vert_{@i} =\\left( \\dfrac{\\Delta \\tilde t}{(\\Delta \\tilde x)^2}\\tilde T_{i-1} + \\left(1-\\dfrac{2\\Delta \\tilde t}{(\\Delta \\tilde x)^2}\\right) \\tilde T_i + \\dfrac{\\Delta \\tilde t}{(\\Delta \\tilde x)^2}\\tilde T_{i+1}\\right)\\Bigg \\vert_{@n}$\n",
    "\n",
    "$\\tilde T_{n+1}\\Bigg\\vert_{@i} =\\left( r \\tilde T_{i-1} + \\left(1-2r\\right) \\tilde T_i + r\\tilde T_{i+1}\\right)\\Bigg \\vert_{@n}$"
   ]
  },
  {
   "cell_type": "code",
   "execution_count": null,
   "metadata": {
    "collapsed": true
   },
   "outputs": [],
   "source": []
  },
  {
   "cell_type": "code",
   "execution_count": 2,
   "metadata": {
    "collapsed": true
   },
   "outputs": [],
   "source": [
    "def forward_heat(i,row,dt,dx):\n",
    "    #row is the whole row\n",
    "    #i is the location the calculat T @ n+1\n",
    "    r = dt/dx**2\n",
    "    T_np1 =  (r * row[i-1] + (1 - 2*r) * row[i]\n",
    "              + r * row[i+1])\n",
    "    return T_np1\n",
    "\n",
    "def cal_heat_forward():\n",
    "    #Initialize domain x with 11 point, 10 section interval of 1\n",
    "    dt = 0.009/2\n",
    "    dx = 0.1\n",
    "    tt = np.arange(0,2,dt)\n",
    "    xx = np.linspace(0,1,11)\n",
    "\n",
    "    Nx = xx.shape[0]\n",
    "    #Data in each row is the data at the same time step\n",
    "    TT = np.empty([tt.shape[0],xx.shape[0]])\n",
    "    #specify the initial condition\n",
    "    TT[0,:] = 0\n",
    "    #specify the BC\n",
    "    TT[0,0] = 1\n",
    "\n",
    "    for j in range(1, tt.shape[0]):\n",
    "        body = np.array([forward_heat(i,TT[j-1,:],dt,dx) \n",
    "                         for i in range(1,Nx-1)])\n",
    "        left_bc = np.array([1])\n",
    "        right_bc = np.array([body[-1]])\n",
    "        next_T = np.r_[left_bc, body, right_bc]\n",
    "        #np.r_[] work just like append for 1D array\n",
    "        TT[j,:] = next_T\n",
    "    return TT, xx, tt\n",
    "TT, xx, tt = cal_heat_forward()"
   ]
  },
  {
   "cell_type": "code",
   "execution_count": 3,
   "metadata": {},
   "outputs": [
    {
     "data": {
      "image/png": "[encoded data removed]",
      "text/plain": [
       "<matplotlib.figure.Figure at 0x7f56bba95b38>"
      ]
     },
     "metadata": {},
     "output_type": "display_data"
    }
   ],
   "source": [
    "xx_m, tt_m = np.meshgrid(xx,tt)\n",
    "plt.figure()\n",
    "plt.pcolor(xx_m,tt_m,TT, cmap='jet')\n",
    "plt.xlabel('dimensionless x')\n",
    "plt.ylabel('dimensionless t')\n",
    "plt.colorbar()\n",
    "plt.show()"
   ]
  },
  {
   "cell_type": "code",
   "execution_count": 4,
   "metadata": {},
   "outputs": [
    {
     "data": {
      "image/png": "[encoded data removed]",
      "text/plain": [
       "<matplotlib.figure.Figure at 0x7f56bba956a0>"
      ]
     },
     "metadata": {},
     "output_type": "display_data"
    }
   ],
   "source": [
    "plt.figure()\n",
    "plt.pcolor(xx_m[0:140,:],tt_m[0:140,:],TT[0:140,:], cmap='jet')\n",
    "plt.xlabel('dimensionless x')\n",
    "plt.ylabel('dimensionless t')\n",
    "plt.colorbar()\n",
    "plt.show()"
   ]
  },
  {
   "cell_type": "markdown",
   "metadata": {
    "collapsed": true
   },
   "source": [
    "## Obtaining the dimensional result\n",
    "For copper, $\\:\\alpha = 1.11 \\times 10^{-4}\\:\\: m^2/s$<br>\n",
    "$\\tilde t = \\dfrac{1.11 \\times 10^{-4}}{(0.03)^2} t$<p>\n",
    "$\\tilde x = \\dfrac{x - a}{b - a} = \\dfrac{x}{0.03}$<p>\n",
    "$\\tilde T = \\dfrac{T-T_i}{T_0-T_i} = \\dfrac{T-20}{50-20}$"
   ]
  },
  {
   "cell_type": "code",
   "execution_count": 5,
   "metadata": {},
   "outputs": [
    {
     "data": {
      "image/png": "[encoded data removed]",
      "text/plain": [
       "<matplotlib.figure.Figure at 0x7f56b3256550>"
      ]
     },
     "metadata": {},
     "output_type": "display_data"
    }
   ],
   "source": [
    "tt_m_d = tt_m * 0.03**2 / 1.11e-4\n",
    "xx_m_d = xx_m * 0.03\n",
    "TT_d = TT * 30 + 20\n",
    "plt.figure()\n",
    "plt.pcolor(xx_m_d[0:300,:],tt_m_d[0:300,:]\n",
    "           ,TT_d[0:300,:], cmap='jet')\n",
    "plt.xlabel('x [m]')\n",
    "plt.ylabel('t [s]')\n",
    "plt.colorbar()\n",
    "plt.show()"
   ]
  },
  {
   "cell_type": "code",
   "execution_count": 6,
   "metadata": {},
   "outputs": [
    {
     "data": {
      "text/plain": [
       "47.0"
      ]
     },
     "execution_count": 6,
     "metadata": {},
     "output_type": "execute_result"
    }
   ],
   "source": [
    "30*.9 + 20"
   ]
  },
  {
   "cell_type": "code",
   "execution_count": 7,
   "metadata": {
    "scrolled": true
   },
   "outputs": [
    {
     "data": {
      "text/plain": [
       "206"
      ]
     },
     "execution_count": 7,
     "metadata": {},
     "output_type": "execute_result"
    }
   ],
   "source": [
    "np.where(TT_d[:,-1] > 47)[0][0]"
   ]
  },
  {
   "cell_type": "code",
   "execution_count": 8,
   "metadata": {},
   "outputs": [
    {
     "data": {
      "text/plain": [
       "array([ 46.98032966,  47.01739559,  47.05400654,  47.0901681 ,  47.12588578])"
      ]
     },
     "execution_count": 8,
     "metadata": {},
     "output_type": "execute_result"
    }
   ],
   "source": [
    "TT_d[205:210,-1]"
   ]
  },
  {
   "cell_type": "code",
   "execution_count": 9,
   "metadata": {},
   "outputs": [
    {
     "data": {
      "text/plain": [
       "7.5162162162162156"
      ]
     },
     "execution_count": 9,
     "metadata": {},
     "output_type": "execute_result"
    }
   ],
   "source": [
    "tt_m_d[206][0]"
   ]
  },
  {
   "cell_type": "markdown",
   "metadata": {},
   "source": [
    "At about 7.5 second, T of the right edge reach 90% of the maximum possible temperature increment"
   ]
  },
  {
   "cell_type": "code",
   "execution_count": null,
   "metadata": {
    "collapsed": true
   },
   "outputs": [],
   "source": []
  },
  {
   "cell_type": "markdown",
   "metadata": {},
   "source": [
    "# More stable method\n",
    "This allows us to use a smaller space step without doing too small time step size\n",
    "## Backward finite difference in time\n",
    "This require solving system of linear equations (equations from all points that are at the same time steps) to get the next time step temperature data."
   ]
  },
  {
   "cell_type": "markdown",
   "metadata": {},
   "source": [
    "$\\dfrac{\\partial \\tilde T}{\\partial \\tilde t} \\approx\n",
    "\\dfrac{\\tilde T_{n+1} - \\tilde  T_{n}}{\\Delta \\tilde t} \\Bigg \\vert_{@ i}$\n",
    "\n",
    "$\\dfrac{\\partial^2 \\tilde T}{\\partial \\tilde x^2} \\approx \n",
    "\\dfrac{\\tilde T_{i-1} - 2 \\tilde T_{i} + \\tilde T_{i+1}}{(\\Delta \\tilde x)^2} \\Bigg \\vert_{@ n+1}\n",
    "$"
   ]
  },
  {
   "cell_type": "markdown",
   "metadata": {},
   "source": [
    "$\\dfrac{\\tilde T_{n+1} - \\tilde T_{n}}{\\Delta \\tilde t} \\Bigg \\vert_{@ i} =\n",
    "\\dfrac{\\tilde T_{i-1} - 2 \\tilde T_{i} + T_{i+1}}{(\\Delta \\tilde x)^2} \\Bigg \\vert_{@ n+1}\n",
    "$"
   ]
  },
  {
   "cell_type": "markdown",
   "metadata": {},
   "source": [
    "$ \\left(-r\\tilde T_{i-1} + (1+2r) \\tilde T_i -r\\tilde T_{i+1} \\right)_{n+1}= \\left(\\tilde T_{i}\\right)_{n} $ <p>\n",
    "$ \\left(-r\\tilde T_{i-1} + q \\tilde T_i -r\\tilde T_{i+1} \\right)_{n+1}= \\left(\\tilde T_{i}\\right)_{n} $\n",
    "<p>where $r = \\dfrac{\\Delta \\tilde t}{(\\Delta \\tilde x)^2}$ and $q = 1+2r$\n",
    "<p>BC: at $x = 0,\\quad \\tilde T = 1$ (Dirichlet BC)\n",
    "<p>BC: at $x = 0,\\quad \\tilde T_{mx} = \\tilde T_{mx-1}$ (Backward - Neumann BC)"
   ]
  },
  {
   "cell_type": "markdown",
   "metadata": {},
   "source": [
    "# Matrix form of the discretized equations\n",
    "\n",
    "$\\underbrace{\n",
    "\\begin{matrix}\n",
    "\\tilde T_0 & & & & & &\\\\\n",
    "-r \\tilde T_0 & +q\\tilde T_1 & -r \\tilde T_2 & & & &\\\\\n",
    " & -r \\tilde T_1 & +q \\tilde T_2 & -r \\tilde T_3 & & &\\\\\n",
    " & & -r \\tilde T_2 & +q \\tilde T_3 & -r \\tilde T_4 &&\\\\\n",
    " & & & \\ddots & \\ddots & \\ddots  &\\\\\n",
    "  & & && -r \\tilde T_{mx-2} & +q \\tilde T_{mx-1} & -r \\tilde T_{mx}\\\\\n",
    "   && & &&  -\\tilde T_{mx-1} & +\\tilde T_{mx}\\\\\n",
    "\\end{matrix}}_{at \\:\\, n+1}\n",
    "\\begin{matrix}\n",
    "=& 1\\\\\n",
    "=& \\tilde T_{1n}\\\\\n",
    "=& \\tilde T_{2n}\\\\\n",
    "=& \\tilde T_{3n}\\\\\n",
    "=& \\vdots \\\\\n",
    "=& \\tilde T_{mx-1,n}\\\\\n",
    "=& 0\\\\\n",
    "\\end{matrix}\n",
    "$"
   ]
  },
  {
   "cell_type": "markdown",
   "metadata": {
    "collapsed": true
   },
   "source": [
    "$\n",
    "\\begin{bmatrix}\n",
    "1 & & & & & &\\\\\n",
    "-r & q& -r & & & &\\\\\n",
    " & -r & q& -r& & &\\\\\n",
    " & & -r & q& -r&&\\\\\n",
    " & & & \\ddots & \\ddots & \\ddots  &\\\\\n",
    "  & & && -r& q& -r\\\\\n",
    "   && & &&  -1 & 1\\\\\n",
    "\\end{bmatrix}\n",
    "\\underbrace{\n",
    "\\begin{bmatrix}\n",
    "\\tilde T_0\\\\\n",
    "\\tilde T_1\\\\\n",
    "\\tilde T_2\\\\\n",
    "\\tilde T_3\\\\\n",
    "\\vdots\\\\\n",
    "\\tilde T_{mx-1}\\\\\n",
    "\\tilde T_{mx}\\\\\n",
    "\\end{bmatrix}}_{at \\: n+1}\n",
    "=\n",
    "\\begin{bmatrix}\n",
    "1\\\\\n",
    "\\tilde T_{1n}\\\\\n",
    "\\tilde T_{2n}\\\\\n",
    "\\tilde T_{3n}\\\\\n",
    "\\vdots\\\\\n",
    "\\tilde T_{mx-1,n}\\\\\n",
    "0\\\\\n",
    "\\end{bmatrix}\n",
    "$<p>Number of point in x-space is $Nx$ points or 0 to $m$<br>\n",
    "<p>Now, our linear system is in the form<br>\n",
    "$Ax = b$\n",
    "<p>Notice that we can create the coefficient matrix just once.<br>\n",
    "Then, we use LU decomposition of the coefficient matrix<br>\n",
    "Use forward and backward substitution to solve for T at the next time step<br>\n",
    "Update the current time step to be the next time step<br>\n",
    "Redo the forward/backward substitution process (no need to redo the decomposition process)\n",
    "<p>\n",
    "<b>Please note that we should not use LU decomposition</b>, but we should use Thomas Algorithm instead (this will be more efficient and faster). Yet, this is for either homework or exam."
   ]
  },
  {
   "cell_type": "markdown",
   "metadata": {
    "collapsed": true
   },
   "source": [
    "## Solving the backward finite difference scheme"
   ]
  },
  {
   "cell_type": "code",
   "execution_count": null,
   "metadata": {
    "collapsed": true
   },
   "outputs": [],
   "source": []
  },
  {
   "cell_type": "code",
   "execution_count": 10,
   "metadata": {
    "collapsed": true
   },
   "outputs": [],
   "source": [
    "def cal_heat_backward():\n",
    "    #specify the number of points\n",
    "    Nx = 51\n",
    "    Nt = 101\n",
    "    #initialize space and time grids\n",
    "    x = np.linspace(0,1,Nx)\n",
    "    t = np.linspace(0,2,Nt)\n",
    "    #calculate dx and dt\n",
    "    dx = x[1]-x[0]\n",
    "    dt = t[1]-t[0]\n",
    "    #make empty output matrix (row = t, col = x)\n",
    "    TT = np.empty([Nt,Nx])\n",
    "    TT[0,:] = np.linspace(0,0,Nx)\n",
    "    r = dt/dx**2\n",
    "    q = 1+2*r\n",
    "\n",
    "    mid_dia = [1]+[q for i in range(Nx-2)]+[1]\n",
    "    up_dia = [0] +[-r for i in range(Nx-2)]\n",
    "    lw_dia = [-r for i in range(Nx-2)] + [-1]\n",
    "    mat_A = sparse.diags([mid_dia,up_dia,lw_dia],[0,1,-1])\n",
    "    lu,piv = linalg.lu_factor(mat_A.todense())\n",
    "    #create coefficient matrix once and do LU decomposition\n",
    "    for j in range(1,Nt):\n",
    "        mat_B = TT[j-1,:].copy()\n",
    "        mat_B[0] = 1\n",
    "        mat_B[-1] = 0\n",
    "        #cheaply do forward and backward substitution\n",
    "        TT[j,:] = linalg.lu_solve((lu,piv),mat_B)\n",
    "    return TT, x, t\n",
    "TT2, x2, t2 = cal_heat_backward()"
   ]
  },
  {
   "cell_type": "code",
   "execution_count": 11,
   "metadata": {},
   "outputs": [
    {
     "data": {
      "image/png": "[encoded data removed]",
      "text/plain": [
       "<matplotlib.figure.Figure at 0x7f56b300dd30>"
      ]
     },
     "metadata": {},
     "output_type": "display_data"
    }
   ],
   "source": [
    "xx_m2, tt_m2 = np.meshgrid(x2,t2)\n",
    "plt.figure()\n",
    "plt.pcolor(xx_m2,tt_m2,TT2, cmap='jet')\n",
    "plt.xlabel('dimensionless x')\n",
    "plt.ylabel('dimensionless t')\n",
    "plt.colorbar()\n",
    "plt.show()"
   ]
  },
  {
   "cell_type": "code",
   "execution_count": 12,
   "metadata": {},
   "outputs": [
    {
     "data": {
      "image/png": "[encoded data removed]",
      "text/plain": [
       "<matplotlib.figure.Figure at 0x7f56b0c0c550>"
      ]
     },
     "metadata": {},
     "output_type": "display_data"
    }
   ],
   "source": [
    "plt.figure(figsize=(12,10))\n",
    "plt.subplot(221)\n",
    "plt.pcolor(xx_m2,tt_m2,TT2, cmap='jet')\n",
    "plt.xlabel('dimensionless x')\n",
    "plt.ylabel('dimensionless t')\n",
    "plt.title('backward scheme')\n",
    "plt.colorbar()\n",
    "\n",
    "plt.subplot(222)\n",
    "plt.pcolor(xx_m,tt_m,TT, cmap='jet')\n",
    "plt.xlabel('dimensionless x')\n",
    "plt.ylabel('dimensionless t')\n",
    "plt.title('forward scheme')\n",
    "plt.colorbar()\n",
    "\n",
    "plt.subplot(223)\n",
    "plt.pcolor(xx_m2,tt_m2,TT2, cmap='jet')\n",
    "plt.xlabel('dimensionless x')\n",
    "plt.ylabel('dimensionless t')\n",
    "plt.title('backward scheme')\n",
    "plt.ylim(0,0.6)\n",
    "plt.colorbar()\n",
    "\n",
    "plt.subplot(224)\n",
    "plt.pcolor(xx_m,tt_m,TT, cmap='jet')\n",
    "plt.xlabel('dimensionless x')\n",
    "plt.ylabel('dimensionless t')\n",
    "plt.title('forward scheme')\n",
    "plt.ylim(0,0.6)\n",
    "plt.colorbar()\n",
    "plt.show()"
   ]
  },
  {
   "cell_type": "code",
   "execution_count": 13,
   "metadata": {},
   "outputs": [
    {
     "data": {
      "image/png": "[encoded data removed]",
      "text/plain": [
       "<matplotlib.figure.Figure at 0x7f56b2fcfcc0>"
      ]
     },
     "metadata": {},
     "output_type": "display_data"
    }
   ],
   "source": [
    "tt_m_d2 = tt_m2 * 0.03**2 / 1.11e-4\n",
    "xx_m_d2 = xx_m2 * 0.03\n",
    "TT_d2 = TT2 * 30 + 20\n",
    "plt.figure(figsize = (12,10))\n",
    "\n",
    "plt.subplot(221)\n",
    "plt.pcolor(xx_m_d2,tt_m_d2\n",
    "           ,TT_d2, cmap='jet')\n",
    "plt.xlabel('x [m]')\n",
    "plt.ylabel('t [s]')\n",
    "plt.ylim(0,8)\n",
    "plt.title('backward scheme')\n",
    "plt.colorbar()\n",
    "\n",
    "plt.subplot(222)\n",
    "plt.pcolor(xx_m_d,tt_m_d\n",
    "           ,TT_d, cmap='jet')\n",
    "plt.xlabel('x [m]')\n",
    "plt.ylabel('t [s]')\n",
    "plt.ylim(0,8)\n",
    "plt.title('forward scheme')\n",
    "plt.colorbar()\n",
    "\n",
    "plt.subplot(223)\n",
    "plt.pcolor(xx_m_d2,tt_m_d2\n",
    "           ,TT_d2, cmap='jet')\n",
    "plt.xlabel('x [m]')\n",
    "plt.ylabel('t [s]')\n",
    "plt.ylim(0,4)\n",
    "plt.title('backward scheme')\n",
    "plt.colorbar()\n",
    "\n",
    "plt.subplot(224)\n",
    "plt.pcolor(xx_m_d,tt_m_d\n",
    "           ,TT_d, cmap='jet')\n",
    "plt.xlabel('x [m]')\n",
    "plt.ylabel('t [s]')\n",
    "plt.ylim(0,4)\n",
    "plt.title('forward scheme')\n",
    "plt.colorbar()\n",
    "\n",
    "\n",
    "plt.show()"
   ]
  },
  {
   "cell_type": "code",
   "execution_count": 14,
   "metadata": {},
   "outputs": [
    {
     "data": {
      "text/plain": [
       "50.0"
      ]
     },
     "execution_count": 14,
     "metadata": {},
     "output_type": "execute_result"
    }
   ],
   "source": [
    "#CFL number for backward scheme case\n",
    "dx2 = x2[1] - x2[0]\n",
    "dt2 = t2[1] - t2[0]\n",
    "dt2/dx2**2"
   ]
  },
  {
   "cell_type": "code",
   "execution_count": 15,
   "metadata": {
    "collapsed": true
   },
   "outputs": [],
   "source": [
    "#CFL = 50 >> 0.5\n",
    "#We get more accuracy along x-axis\n",
    "#Without the need to move slow!"
   ]
  },
  {
   "cell_type": "code",
   "execution_count": null,
   "metadata": {
    "collapsed": true
   },
   "outputs": [],
   "source": []
  },
  {
   "cell_type": "markdown",
   "metadata": {},
   "source": [
    "# Better Accuracy Scheme\n",
    "We can get a better accuracy by using Crank-Nicolson method (second order in time). Forward and backward scheme are first order in time. Central scheme for $\\frac{\\partial^2 T}{\\partial x^2}$ is second order accuracy in space.\n",
    "<p>https://en.wikipedia.org/wiki/Finite_difference_method#Accuracy_and_order\n",
    "<br>https://en.wikipedia.org/wiki/Crank%E2%80%93Nicolson_method\n",
    "<p>Roughly speaking, Crank-Nicolson method is the average between forward and backward scheme.<p>\n",
    "\n",
    "We are free to use any combination of the scheme shown in the Finite Difference Coefficient Table. However, it could be somewhat lengthly to get the matrix form.\n",
    "\n",
    "## Second order in time and space\n",
    "Be aware that the combination of methods cause the overall accuracy to be at the lowest accuracy of the method being used.  Thus, if we use first order backward difference to get point at $t_1$, and use second order backward difference to get point at $t_2$ and the rest of the domain. Then, using second order later on, does not help much. The accuracy in time is still the first order (because we use the first order method first).<p>\n",
    "This means that if we really need second order in both time and space, we need to use second order scheme everywhere including the boundary condition!"
   ]
  },
  {
   "cell_type": "code",
   "execution_count": null,
   "metadata": {
    "collapsed": true
   },
   "outputs": [],
   "source": []
  },
  {
   "cell_type": "markdown",
   "metadata": {},
   "source": [
    "# Crank-Nicolson (second order in time)\n",
    "\n",
    "<font face = 'monospace'>\n",
    "i-1,n+1-------i,n+1-------i+1,n+1<br>\n",
    "&nbsp;&nbsp;&nbsp;&nbsp;&nbsp;&nbsp;&nbsp;&nbsp;&nbsp;&nbsp;&nbsp;&nbsp;&nbsp;&nbsp;&nbsp;&nbsp;|<br>\n",
    "&nbsp;&nbsp;&nbsp;&nbsp;&nbsp;&nbsp;&nbsp;&nbsp;&nbsp;&nbsp;&nbsp;&nbsp;&nbsp;&nbsp;&nbsp;&nbsp;|<br>\n",
    "i-1,n----------i,n--------i+1,n\n",
    "</font>\n",
    "<br>\n",
    "<br>\n",
    "We need 3 points in the current time step (i-1, i, i+1)@ {n+1} and another 3 points in the previous time step (i-1, i, i+1)@ {n} to get the equation for the point at i,{n+1}. Crank-Nicolson is unconditionally stable, but can contain some <b>oscillation</b> if $\\dfrac{\\alpha \\Delta t}{(\\Delta x)^2} > 0.5$\n",
    "<br>"
   ]
  },
  {
   "cell_type": "markdown",
   "metadata": {},
   "source": [
    "$\\frac{u_{i}^{n + 1} - u_{i}^{n}}{\\Delta t} = \n",
    "F_{i}^{n}\\left(u,\\, x,\\, t,\\, \\frac{\\partial u}{\\partial x},\\, \\frac{\\partial^2 u}{\\partial x^2}\\right) \\qquad \\mbox{(forward Euler)}$\n",
    "\n",
    "$\\frac{u_{i}^{n + 1} - u_{i}^{n}}{\\Delta t} = \n",
    "F_{i}^{n + 1}\\left(u,\\, x,\\, t,\\, \\frac{\\partial u}{\\partial x},\\, \\frac{\\partial^2 u}{\\partial x^2}\\right) \\qquad \\mbox{(backward Euler)}$\n",
    "\n",
    "$\\frac{u_{i}^{n + 1} - u_{i}^{n}}{\\Delta t} = \n",
    "\\frac{1}{2}\\left[\n",
    "F_{i}^{n + 1}\\left(u,\\, x,\\, t,\\, \\frac{\\partial u}{\\partial x},\\, \\frac{\\partial^2 u}{\\partial x^2}\\right) + \n",
    "F_{i}^{n}\\left(u,\\, x,\\, t,\\, \\frac{\\partial u}{\\partial x},\\, \\frac{\\partial^2 u}{\\partial x^2}\\right)\n",
    "\\right] \\quad \\mbox{(Crank--Nicolson)}.$"
   ]
  },
  {
   "cell_type": "markdown",
   "metadata": {},
   "source": [
    "$\\dfrac{\\partial u}{\\partial t} = \\alpha \\dfrac{\\partial^2 u}{\\partial x^2}$<p>\n",
    "$\\dfrac{u_{i}^{n + 1} - u_{i}^{n}}{\\Delta t} = \\dfrac{\\alpha}{2 (\\Delta x)^2}\\left(\n",
    "(u_{i + 1}^{n + 1} - 2 u_{i}^{n + 1} + u_{i - 1}^{n + 1}) + \n",
    "(u_{i + 1}^{n} - 2 u_{i}^{n} + u_{i - 1}^{n})\n",
    "\\right)$"
   ]
  },
  {
   "cell_type": "markdown",
   "metadata": {},
   "source": [
    "For our dimensionless PDE, dropping ~ sign and $\\alpha$, we have"
   ]
  },
  {
   "cell_type": "markdown",
   "metadata": {},
   "source": [
    "$T_{i}^{n + 1} - T_{i}^{n} = r \\left(\n",
    "(T_{i + 1}^{n + 1} - 2 T_{i}^{n + 1} + T_{i - 1}^{n + 1}) + \n",
    "(T_{i + 1}^{n} - 2 T_{i}^{n} + T_{i - 1}^{n})\n",
    "\\right)$\n",
    "<p>where $\\quad r = \\dfrac{\\Delta t}{2(\\Delta x)^2}$"
   ]
  },
  {
   "cell_type": "markdown",
   "metadata": {},
   "source": [
    "$\\left(-r T_{i-1} + (1+2r) T_i - r T_{i+1}\\right)_{n+1} = \\left(r T_{i-1} + (1-2r)T_i + r T_{i+1}\\right)_n$"
   ]
  },
  {
   "cell_type": "markdown",
   "metadata": {},
   "source": [
    "For $q = 1+2r\\quad\\text{and}\\quad p = 1-2r$ <p>\n",
    "We have <p>\n",
    "$\\left(-r T_{i-1} + q T_i - r T_{i+1}\\right)_{n+1} = \\left(r T_{i-1} + p T_i + r T_{i+1}\\right)_n$ <p>\n",
    "This time, we also need 2nd order at the Neumann boundary condition.\n",
    "<p>\n",
    "Right BC: <p>\n",
    "$0 = \\dfrac{1.5 T_{mx} - 2 T_{mx-1} + 0.5 T_{mx-2}}{\\Delta x}_{@n}\n",
    "$"
   ]
  },
  {
   "cell_type": "markdown",
   "metadata": {},
   "source": [
    "<font size = 1>\n",
    "$\n",
    "\\begin{bmatrix}\n",
    "1 & & & & & &\\\\\n",
    "-r & q& -r & & & &\\\\\n",
    " & -r & q& -r& & &\\\\\n",
    " & & -r & q& -r&&\\\\\n",
    " & & & \\ddots & \\ddots & \\ddots  &\\\\\n",
    "  & & && -r& q& -r\\\\\n",
    "   && & &0.5&  -2 & 1.5\\\\\n",
    "\\end{bmatrix}\n",
    "\\underbrace{\n",
    "\\begin{bmatrix}\n",
    "T_0\\\\\n",
    "T_1\\\\\n",
    "T_2\\\\\n",
    "T_3\\\\\n",
    "\\vdots\\\\\n",
    "T_{mx-1}\\\\\n",
    "T_{mx}\\\\\n",
    "\\end{bmatrix}}_{at \\: n+1}\n",
    "=\n",
    "\\begin{bmatrix}\n",
    "1 & & & & & &\\\\\n",
    "r & p& r & & & &\\\\\n",
    " & r & p& r& & &\\\\\n",
    " & & r & p& r&&\\\\\n",
    " & & & \\ddots & \\ddots & \\ddots  &\\\\\n",
    "  & & && r& p& r\\\\\n",
    "  0 &\\cdots& & &&\\cdots & 0\\\\\n",
    "\\end{bmatrix}\n",
    "\\underbrace{\n",
    "\\begin{bmatrix}\n",
    "1\\\\\n",
    "T_1\\\\\n",
    "T_2\\\\\n",
    "T_3\\\\\n",
    "\\vdots\\\\\n",
    "T_{mx-1}\\\\\n",
    "T_{mx}\\\\\n",
    "\\end{bmatrix}}_{at \\: n}$\n",
    "</font>"
   ]
  },
  {
   "cell_type": "code",
   "execution_count": 16,
   "metadata": {
    "collapsed": true
   },
   "outputs": [],
   "source": [
    "def cal_heat_Crank_Nicolson(Nx = 11, Nt = 101):\n",
    "    #initialize space and time grids\n",
    "    x = np.linspace(0,1,Nx)\n",
    "    t = np.linspace(0,2,Nt)\n",
    "    #calculate dx and dt\n",
    "    dx = x[1]-x[0]\n",
    "    dt = t[1]-t[0]\n",
    "    #make empty output matrix (row = t, col = x)\n",
    "    TT = np.empty([Nt,Nx])\n",
    "    TT[0,:] = np.linspace(0,0,Nx)\n",
    "    r = 0.5*dt/dx**2\n",
    "    q = 1+2*r\n",
    "    p = 1-2*r\n",
    "    mid_dia = [1]+[q for i in range(Nx-2)]+[1.5]\n",
    "    up_dia = [0] +[-r for i in range(Nx-2)]\n",
    "    lw_dia = [-r for i in range(Nx-2)] + [-2]\n",
    "    lw2_dia = [0 for i in range(Nx-3)] + [0.5]\n",
    "    mat_A = sparse.diags([mid_dia,up_dia,lw_dia,lw2_dia],[0,1,-1,-2])\n",
    "    mat_A = mat_A.tocsc()\n",
    "    #creating part of the rhs\n",
    "    mid_diaB =[1]+[p for i in range(Nx-2)]+[0]\n",
    "    up_diaB = [0]+[r for i in range(Nx-2)]\n",
    "    lw_diaB = [r for i in range(Nx-2)] + [0]\n",
    "    mat_B1 = sparse.diags([mid_diaB,up_diaB,lw_diaB],[0,1,-1])\n",
    "    #create sparse LU which has method solve\n",
    "    splu_obj = sparse.linalg.splu(mat_A)\n",
    "\n",
    "    for j in range(1,Nt):\n",
    "        mat_B2 = TT[j-1,:].copy()\n",
    "        mat_B2[0] = 1\n",
    "        mat_B = mat_B1.dot(mat_B2)\n",
    "        TT[j,:] = splu_obj.solve(mat_B)\n",
    "    return TT, x, t\n",
    "TT3, x3, t3 = cal_heat_Crank_Nicolson()"
   ]
  },
  {
   "cell_type": "code",
   "execution_count": 17,
   "metadata": {},
   "outputs": [
    {
     "data": {
      "image/png": "[encoded data removed]",
      "text/plain": [
       "<matplotlib.figure.Figure at 0x7f56b0bf9e48>"
      ]
     },
     "metadata": {},
     "output_type": "display_data"
    }
   ],
   "source": [
    "xx_m3, tt_m3 = np.meshgrid(x3,t3)\n",
    "plt.figure()\n",
    "plt.pcolor(xx_m3,tt_m3,TT3, cmap='jet')\n",
    "plt.xlabel('dimensionless x')\n",
    "plt.ylabel('dimensionless t')\n",
    "plt.colorbar()\n",
    "plt.show()"
   ]
  },
  {
   "cell_type": "code",
   "execution_count": 18,
   "metadata": {},
   "outputs": [
    {
     "data": {
      "image/png": "[encoded data removed]",
      "text/plain": [
       "<matplotlib.figure.Figure at 0x7f56b02bdef0>"
      ]
     },
     "metadata": {},
     "output_type": "display_data"
    }
   ],
   "source": [
    "TT4, x4, t4 = cal_heat_Crank_Nicolson(Nx = 51, Nt = 101)\n",
    "xx_m4, tt_m4 = np.meshgrid(x4,t4)\n",
    "plt.figure()\n",
    "plt.pcolor(xx_m4,tt_m4,TT4, cmap='jet')\n",
    "plt.xlabel('dimensionless x')\n",
    "plt.ylabel('dimensionless t')\n",
    "plt.title('Crank-Nicolson')\n",
    "plt.colorbar()\n",
    "plt.show()"
   ]
  },
  {
   "cell_type": "code",
   "execution_count": 19,
   "metadata": {},
   "outputs": [
    {
     "data": {
      "image/png": "[encoded data removed]",
      "text/plain": [
       "<matplotlib.figure.Figure at 0x7f56b08402b0>"
      ]
     },
     "metadata": {},
     "output_type": "display_data"
    }
   ],
   "source": [
    "plt.figure()\n",
    "a = plt.pcolor(xx_m4,tt_m4,TT4, cmap='jet', vmin = 0, vmax = 1)\n",
    "plt.xlabel('dimensionless x')\n",
    "plt.ylabel('dimensionless t')\n",
    "plt.title('Crank-Nicolson')\n",
    "a.cmap.set_over('white')\n",
    "a.cmap.set_under('black')\n",
    "plt.colorbar()\n",
    "plt.show()"
   ]
  },
  {
   "cell_type": "code",
   "execution_count": 20,
   "metadata": {},
   "outputs": [
    {
     "data": {
      "text/plain": [
       "array([[ 0.        ,  0.        ,  0.        ,  0.        ],\n",
       "       [ 1.        ,  1.63800498,  1.34153015,  1.09871653],\n",
       "       [ 1.        ,  0.32597521,  0.53394902,  0.65595839],\n",
       "       [ 1.        ,  1.50906716,  1.18345939,  0.96979648],\n",
       "       [ 1.        ,  0.45686579,  0.70631846,  0.82474063],\n",
       "       [ 1.        ,  1.42649262,  1.09918343,  0.91861935],\n",
       "       [ 1.        ,  0.54090075,  0.80017962,  0.90075324],\n",
       "       [ 1.        ,  1.36622069,  1.04707605,  0.89651252],\n",
       "       [ 1.        ,  0.60248317,  0.85978216,  0.94100829],\n",
       "       [ 1.        ,  1.31941996,  1.01270156,  0.8881728 ],\n",
       "       [ 1.        ,  0.65066972,  0.90072778,  0.96411725],\n",
       "       [ 1.        ,  1.28175139,  0.98935769,  0.88717779],\n",
       "       [ 1.        ,  0.68989844,  0.93026785,  0.97805987],\n",
       "       [ 1.        ,  1.25068704,  0.97333465,  0.89028232],\n",
       "       [ 1.        ,  0.72267841,  0.9522759 ,  0.98673099],\n",
       "       [ 1.        ,  1.22459824,  0.96235421,  0.89565571],\n",
       "       [ 1.        ,  0.75057317,  0.96902762,  0.99220347],\n",
       "       [ 1.        ,  1.20237078,  0.95493217,  0.90220836],\n",
       "       [ 1.        ,  0.77463052,  0.98196081,  0.99565746],\n",
       "       [ 1.        ,  1.18321058,  0.9500646 ,  0.9092764 ],\n",
       "       [ 1.        ,  0.79559246,  0.99203675,  0.99780214],\n",
       "       [ 1.        ,  1.16653387,  0.94705357,  0.91645284],\n",
       "       [ 1.        ,  0.8140069 ,  0.99992689,  0.99908225],\n",
       "       [ 1.        ,  1.15190035,  0.94540334,  0.92349003],\n",
       "       [ 1.        ,  0.83029172,  1.00611646,  0.99978603],\n",
       "       [ 1.        ,  1.13897064,  0.94475542,  0.93024094],\n",
       "       [ 1.        ,  0.84477378,  1.01096555,  1.00010499],\n",
       "       [ 1.        ,  1.12747825,  0.9448467 ,  0.93662272],\n",
       "       [ 1.        ,  0.85771394,  1.01474712,  1.00016874],\n",
       "       [ 1.        ,  1.1172105 ,  0.94548163,  0.9425937 ],\n",
       "       [ 1.        ,  0.86932388,  1.01767166,  1.00006611],\n",
       "       [ 1.        ,  1.10799525,  0.94651344,  0.94813865],\n",
       "       [ 1.        ,  0.87977773,  1.01990381,  0.9998585 ],\n",
       "       [ 1.        ,  1.09969143,  0.94783105,  0.95325916],\n",
       "       [ 1.        ,  0.88922046,  1.02157389,  0.99958854],\n",
       "       [ 1.        ,  1.09218219,  0.94934989,  0.95796739],\n",
       "       [ 1.        ,  0.89777395,  1.02278606,  0.99928581],\n",
       "       [ 1.        ,  1.0853698 ,  0.95100526,  0.96228185],\n",
       "       [ 1.        ,  0.90554157,  1.02362434,  0.99897075],\n",
       "       [ 1.        ,  1.07917179,  0.95274758,  0.96622467],\n",
       "       [ 1.        ,  0.91261169,  1.02415697,  0.99865733],\n",
       "       [ 1.        ,  1.07351808,  0.95453882,  0.96981975],\n",
       "       [ 1.        ,  0.91906034,  1.02443971,  0.99835492],\n",
       "       [ 1.        ,  1.06834865,  0.95634981,  0.97309153],\n",
       "       [ 1.        ,  0.92495336,  1.02451841,  0.99806964],\n",
       "       [ 1.        ,  1.06361183,  0.95815831,  0.97606422],\n",
       "       [ 1.        ,  0.93034805,  1.0244309 ,  0.99780524],\n",
       "       [ 1.        ,  1.05926282,  0.95994745,  0.97876124],\n",
       "       [ 1.        ,  0.93529454,  1.02420855,  0.99756383],\n",
       "       [ 1.        ,  1.05526264,  0.96170452,  0.98120498],\n",
       "       [ 1.        ,  0.93983685,  1.02387741,  0.99734633],\n",
       "       [ 1.        ,  1.05157713,  0.96342016,  0.98341655],\n",
       "       [ 1.        ,  0.94401383,  1.02345923,  0.99715283],\n",
       "       [ 1.        ,  1.04817631,  0.96508755,  0.98541573],\n",
       "       [ 1.        ,  0.94785987,  1.02297215,  0.99698288],\n",
       "       [ 1.        ,  1.0450337 ,  0.96670194,  0.98722092],\n",
       "       [ 1.        ,  0.9514055 ,  1.02243133,  0.9968356 ],\n",
       "       [ 1.        ,  1.04212584,  0.96826016,  0.98884919],\n",
       "       [ 1.        ,  0.95467794,  1.02184949,  0.99670988],\n",
       "       [ 1.        ,  1.03943187,  0.96976029,  0.99031628],\n",
       "       [ 1.        ,  0.9577015 ,  1.02123724,  0.99660448],\n",
       "       [ 1.        ,  1.03693318,  0.9712014 ,  0.99163668],\n",
       "       [ 1.        ,  0.96049797,  1.02060349,  0.99651803],\n",
       "       [ 1.        ,  1.03461314,  0.97258333,  0.9928237 ],\n",
       "       [ 1.        ,  0.96308688,  1.01995567,  0.99644917],\n",
       "       [ 1.        ,  1.03245681,  0.97390651,  0.99388953],\n",
       "       [ 1.        ,  0.96548586,  1.01929998,  0.99639652],\n",
       "       [ 1.        ,  1.03045074,  0.97517181,  0.99484533],\n",
       "       [ 1.        ,  0.96771076,  1.01864158,  0.99635875],\n",
       "       [ 1.        ,  1.02858282,  0.97638046,  0.99570131],\n",
       "       [ 1.        ,  0.96977593,  1.01798476,  0.99633456],\n",
       "       [ 1.        ,  1.02684209,  0.97753392,  0.99646676],\n",
       "       [ 1.        ,  0.97169435,  1.01733306,  0.99632272],\n",
       "       [ 1.        ,  1.02521863,  0.97863387,  0.99715019],\n",
       "       [ 1.        ,  0.9734778 ,  1.01668936,  0.99632206],\n",
       "       [ 1.        ,  1.02370341,  0.97968209,  0.99775934],\n",
       "       [ 1.        ,  0.97513698,  1.01605603,  0.99633148],\n",
       "       [ 1.        ,  1.02228824,  0.98068045,  0.99830125],\n",
       "       [ 1.        ,  0.97668161,  1.01543498,  0.99634995],\n",
       "       [ 1.        ,  1.02096563,  0.98163087,  0.99878235],\n",
       "       [ 1.        ,  0.97812056,  1.01482772,  0.9963765 ],\n",
       "       [ 1.        ,  1.01972877,  0.98253528,  0.99920846],\n",
       "       [ 1.        ,  0.97946191,  1.01423542,  0.99641026],\n",
       "       [ 1.        ,  1.01857141,  0.98339562,  0.9995849 ],\n",
       "       [ 1.        ,  0.98071306,  1.01365899,  0.99645038],\n",
       "       [ 1.        ,  1.01748784,  0.9842138 ,  0.99991649],\n",
       "       [ 1.        ,  0.98188075,  1.01309909,  0.99649612],\n",
       "       [ 1.        ,  1.01647281,  0.98499171,  1.00020763],\n",
       "       [ 1.        ,  0.98297117,  1.01255618,  0.99654675],\n",
       "       [ 1.        ,  1.0155215 ,  0.98573117,  1.00046228],\n",
       "       [ 1.        ,  0.98398999,  1.01203055,  0.99660165],\n",
       "       [ 1.        ,  1.01462949,  0.98643398,  1.00068408],\n",
       "       [ 1.        ,  0.98494242,  1.01152235,  0.99666022],\n",
       "       [ 1.        ,  1.01379268,  0.98710187,  1.0008763 ],\n",
       "       [ 1.        ,  0.98583324,  1.0110316 ,  0.99672191],\n",
       "       [ 1.        ,  1.01300733,  0.9877365 ,  1.00104192],\n",
       "       [ 1.        ,  0.98666684,  1.01055823,  0.99678622],\n",
       "       [ 1.        ,  1.01226995,  0.98833948,  1.00118365],\n",
       "       [ 1.        ,  0.98744728,  1.01010207,  0.99685272],\n",
       "       [ 1.        ,  1.01157734,  0.98891236,  1.00130394],\n",
       "       [ 1.        ,  0.98817827,  1.00966289,  0.99692098]])"
      ]
     },
     "execution_count": 20,
     "metadata": {},
     "output_type": "execute_result"
    }
   ],
   "source": [
    "#oscillation of the answer near the boundary\n",
    "TT4[:,0:4]"
   ]
  },
  {
   "cell_type": "code",
   "execution_count": 21,
   "metadata": {},
   "outputs": [
    {
     "data": {
      "image/png": "[encoded data removed]",
      "text/plain": [
       "<matplotlib.figure.Figure at 0x7f56b0a6ca20>"
      ]
     },
     "metadata": {},
     "output_type": "display_data"
    }
   ],
   "source": [
    "plt.figure(figsize = (12,5))\n",
    "\n",
    "plt.subplot(121)\n",
    "a = plt.pcolor(xx_m4,tt_m4,TT4, cmap='jet', vmin = 0, vmax = 1)\n",
    "plt.xlabel('dimensionless x')\n",
    "plt.ylabel('dimensionless t')\n",
    "plt.title('Crank-Nicolson')\n",
    "a.cmap.set_over('white')\n",
    "a.cmap.set_under('black')\n",
    "plt.colorbar()\n",
    "\n",
    "plt.subplot(122)\n",
    "plt.pcolor(xx_m2,tt_m2,TT2, cmap='jet')\n",
    "plt.xlabel('dimensionless x')\n",
    "plt.ylabel('dimensionless t')\n",
    "plt.title('backward scheme')\n",
    "plt.colorbar()\n",
    "plt.show()"
   ]
  },
  {
   "cell_type": "code",
   "execution_count": 22,
   "metadata": {
    "collapsed": true
   },
   "outputs": [],
   "source": [
    "#you may try to estimate the slope at T_i by\n",
    "#using the weighted average of the slope at T_{i-1}\n",
    "# and T_{i+1}. The weight can be 1 4 1 (as in RK4 case)"
   ]
  },
  {
   "cell_type": "code",
   "execution_count": null,
   "metadata": {
    "collapsed": true
   },
   "outputs": [],
   "source": []
  },
  {
   "cell_type": "markdown",
   "metadata": {},
   "source": [
    "# 2D Transient Heat Transfer\n",
    "### Mass/Thermal diffusion in 2 D space\n",
    "<p>\n",
    "$\\dfrac{\\partial \\tilde T}{\\partial \\tilde t} = \\nabla^2 \\tilde T$\n"
   ]
  },
  {
   "cell_type": "markdown",
   "metadata": {},
   "source": [
    "By dropping the ~ sign,\n",
    "$\\dfrac{\\partial T}{\\partial t} = \\dfrac{\\partial^2 T}{\\partial x^2} + \\dfrac{\\partial^2 T}{\\partial y^2}$<p>\n",
    "Domain $\\Omega = [0,1]\\times[0,1]$<p>\n",
    "Initial condition: at t = 0, T = 0 everywhere but T = 1 at (0.5,0.5)<p>\n",
    "Boundary condition: no mass transfer at the boundary ($\\dfrac{\\partial \\:\\:}{\\partial k} = 0$ on k boundary)"
   ]
  },
  {
   "cell_type": "markdown",
   "metadata": {},
   "source": [
    "Discretized form:<p>\n",
    "\n",
    "$\\dfrac{\\partial^2 T}{\\partial x^2} \\approx \n",
    "\\dfrac{T_{i-1} - 2 T_{i} + T_{i+1}}{(\\Delta x)^2}$<p>\n",
    "\n",
    "$\\dfrac{\\partial^2 T}{\\partial y^2} \\approx \n",
    "\\dfrac{T_{j-1} - 2 T_{j} + T_{j+1}}{(\\Delta y)^2}$<p>\n",
    "Substituting the finite difference approximation into the governing equation, we have<p>\n",
    "Use backward scheme in time<p>\n",
    "$\\dfrac{T_{n+1}-T_{n}}{\\Delta t}_{i,j} = \\dfrac{T_{i-1} - 2 T_{i} + T_{i+1}}{(\\Delta x)^2}_{j,n+1}+\n",
    "\\dfrac{T_{j-1} - 2 T_{j} + T_{j+1}}{(\\Delta y)^2}_{i,n+1}$<p>"
   ]
  },
  {
   "cell_type": "markdown",
   "metadata": {},
   "source": [
    "Let $\\Delta y = \\Delta x$<p>\n",
    "We have, <p>\n",
    "$(T_{n+1}-T_{n})_{i,j} = r (T_{i-1} - 2 T_{i} + T_{i+1})_{j,n+1}+\n",
    "r(T_{j-1} - 2 T_{j} + T_{j+1})_{i,n+1}$<p>\n",
    "where $r = \\dfrac{\\Delta t}{(\\Delta x)^2} = \\dfrac{\\Delta t}{(\\Delta y)^2}$"
   ]
  },
  {
   "cell_type": "markdown",
   "metadata": {},
   "source": [
    "Rearranging (put n on rhs, n+1 on lhs), we have<p>\n",
    "$\n",
    "\\underbrace{\n",
    "(1+4r)T_{i,j}-r T_{i-1,j} - r T_{i+1,j} - r T_{i,j-1} - r T_{i,j+1}}_{n+1} = \\underbrace{ T_{i,j} }_{n}\n",
    "$"
   ]
  },
  {
   "cell_type": "markdown",
   "metadata": {},
   "source": [
    "By defining $q = 1+4r$, we have<p>\n",
    "$\n",
    "\\underbrace{\n",
    "qT_{i,j}-r T_{i-1,j} - r T_{i+1,j} - r T_{i,j-1} - r T_{i,j+1}}_{n+1} = \\underbrace{ T_{i,j} }_{n}\n",
    "$"
   ]
  },
  {
   "cell_type": "markdown",
   "metadata": {},
   "source": [
    "## Boundary condition:<p>\n",
    "$\\dfrac{\\partial T}{\\partial x}_{x = 0} = 0 \\quad\\text{or}\\quad\n",
    "T_{0,j} = T_{1,j}\n",
    "$<p>\n",
    "$\\dfrac{\\partial T}{\\partial x}_{x = 1} = 0 \\quad\\text{or}\\quad\n",
    "T_{N,j} = T_{N-1,j}$<p>\n",
    "$\\dfrac{\\partial T}{\\partial y}_{y = 0} = 0 \\quad\\text{or}\\quad\n",
    "T_{i,0} = T_{i,1}$<p>\n",
    "$\\dfrac{\\partial T}{\\partial y}_{y = 1} = 0 \\quad\\text{or}\\quad\n",
    "T_{i,N} = T_{i,N-1}$<p>\n",
    "Notice that he equation in the boundary node does not fully link all cell together. Thus, we do not need equation for the corner points."
   ]
  },
  {
   "cell_type": "markdown",
   "metadata": {},
   "source": [
    "In matrix form, we have<p>\n",
    "\n",
    "NxN * Nx1 = Nx1<p>\n",
    "We have N point in each dimension (point 0 to point m)<p>\n",
    "In the block form, we have the boundary conditions at $y = 0$ and $y = m$ as,\n",
    "<font size = 2>\n",
    "$\\begin{bmatrix}\n",
    "\\vec A_{00} & \\vec A_{01} &  &  &  &  & \\\\\n",
    "  &   &  &  &  &  & \\\\\n",
    "  &   &  &  &  &  & \\\\\n",
    "  &   &  &  &  &  & \\\\\n",
    "  &   &  &  &  &  & \\\\\n",
    "  &   &  &  &  &  & \\\\\n",
    "  &   &  &  &  & \\vec A_{m,m-1}  & \\vec A_{m,m} \\\\  \n",
    "\\end{bmatrix}$\n",
    "$\\begin{bmatrix}\n",
    "\\vec T_{i,j = 0}\\\\\n",
    "\\vec T_{i,j = 1}\\\\\n",
    "\\vec T_{i,j = 2}\\\\\n",
    "\\vdots \\\\\n",
    "\\vec T_{i,j = m-2}\\\\\n",
    "\\vec T_{i,j = m-1}\\\\\n",
    "\\vec T_{i,j = m}\\\\\n",
    "\\end{bmatrix}$\n",
    "$=$\n",
    "$\\begin{bmatrix}\n",
    "\\vec B_{i,j = 0}\\\\\n",
    "\\vec B_{i,j = 1}\\\\\n",
    "\\vec B_{i,j = 2}\\\\\n",
    "\\vdots \\\\\n",
    "\\vec B_{i,j = m-2}\\\\\n",
    "\\vec B_{i,j = m-1}\\\\\n",
    "\\vec B_{i,j = m}\\\\\n",
    "\\end{bmatrix}$\n",
    "</font>\n",
    "<p> or <p>\n",
    "$\\vec {\\vec A} \\vec {\\vec T} = \\vec {\\vec B}$"
   ]
  },
  {
   "cell_type": "markdown",
   "metadata": {},
   "source": [
    "### For Neumann boundary condition at $y=0$<p>\n",
    "$T_{i,j=0} - T_{i,j=1} = 0$\n",
    "<p>\n",
    "In matrix form, we have\n",
    "<p>\n",
    "$\\vec T_{i,j=0} = \\begin{bmatrix}\n",
    "T_{1,0}\\\\\n",
    "\\vdots \\\\\n",
    "T_{m-1,0}\\\\\n",
    "\\end{bmatrix}$ \n",
    "$\\text{,} \\:$\n",
    "$\\vec T_{i,j=1} = \\begin{bmatrix}\n",
    "T_{0,1}\\\\\n",
    "T_{1,1}\\\\\n",
    "\\vdots \\\\\n",
    "T_{m-1,1}\\\\\n",
    "T_{m,1}\\\\\n",
    "\\end{bmatrix}$ \n",
    "$\\text{,} \\:$\n",
    "$\\vec A_{00} =\n",
    "\\begin{bmatrix}\n",
    "1 &      &      \\\\\n",
    " &     \\ddots     &  \\\\\n",
    " &      &     1 \\\\\n",
    "\\end{bmatrix}\n",
    "$\n",
    "$\\text{,} \\:$\n",
    "$\\vec A_{01} =\n",
    "\\begin{bmatrix}\n",
    "0&-1 &     &     &0\\\\\n",
    "\\vdots& &    \\ddots    &  &\\vdots\\\\\n",
    "0& &     &    -1 &0\\\\\n",
    "\\end{bmatrix}\n",
    "$\n",
    "$\\text{,} \\:$\n",
    "$\\vec b_{i,j=0} = \\begin{bmatrix}\n",
    "0\\\\\n",
    "0\\\\\n",
    "\\vdots \\\\\n",
    "0\\\\\n",
    "0\\\\\n",
    "\\end{bmatrix}$ <p>\n",
    "Notice that at j = 0, we do not have equation for the cornor points."
   ]
  },
  {
   "cell_type": "markdown",
   "metadata": {},
   "source": [
    "### For Neumann boundary condition at y = 1, we have, <p>\n",
    "$T_{i,j = m-1} - T_{i,j = m} = 0$<p>\n",
    "In matrix form, we have<p>\n",
    "$\\vec T_{i,j=m-1} = \\begin{bmatrix}\n",
    "T_{0,m-1}\\\\\n",
    "T_{1,m-1}\\\\\n",
    "\\vdots \\\\\n",
    "T_{m-1,m-1}\\\\\n",
    "T_{m,m-1}\\\\\n",
    "\\end{bmatrix}$ \n",
    "$\\text{,} \\:$\n",
    "$\\vec T_{i,j=N} = \\begin{bmatrix}\n",
    "T_{1,m}\\\\\n",
    "\\vdots \\\\\n",
    "T_{m-1,m}\\\\\n",
    "\\end{bmatrix}$ \n",
    "$\\text{,} \\:$\n",
    "$\\vec A_{m,m-1} =\n",
    "\\begin{bmatrix}\n",
    "0&1 &      &  & 0    \\\\\n",
    "\\vdots& & \\ddots & &\\vdots \\\\\n",
    "0& &      &     1 &0 \\\\\n",
    "\\end{bmatrix}\n",
    "$\n",
    "$\\text{,} \\:$\n",
    "$\\vec A_{m,m} =\n",
    "\\begin{bmatrix}\n",
    "-1 &     &     \\\\\n",
    " &    \\ddots    &  \\\\\n",
    " &     &    -1 \\\\\n",
    "\\end{bmatrix}\n",
    "$\n",
    "$\\text{,} \\:$\n",
    "$\\vec b_{i,j=m} = \\begin{bmatrix}\n",
    "0\\\\\n",
    "0\\\\\n",
    "\\vdots \\\\\n",
    "0\\\\\n",
    "0\\\\\n",
    "\\end{bmatrix}$ \n",
    "<p>Notice that at $j = m$ we do not have cornor points in the calculation"
   ]
  },
  {
   "cell_type": "markdown",
   "metadata": {},
   "source": [
    "### For Neumann boundary condition at x = 0, we have,<p>\n",
    "$T_{i=0,j} - T_{i=1,j} = 0$<p>\n",
    "In matrix form, we have<p>\n",
    "$T_{i=\\{0,1\\},j}$ in $\\vec{\\vec T}$ are \n",
    "$ \\begin{bmatrix}\n",
    "T_{0,0}\\\\\n",
    "T_{1,0}\\\\\n",
    "\\text{skip N-2 terms}\\\\\n",
    "T_{0,1}\\\\\n",
    "T_{1,1}\\\\\n",
    "\\text{skip N-2 terms}\\\\\n",
    "T_{0,2}\\\\\n",
    "T_{1,2}\\\\\n",
    "\\text{skip N-2 terms}\\\\\n",
    "T_{0,3}\\\\\n",
    "T_{1,3}\\\\\n",
    "\\vdots \\\\\n",
    "\\text{repeat periodically}\\\\\n",
    "\\vdots\\\\\n",
    "T_{0,m}\\\\\n",
    "T_{1,m}\n",
    "\\end{bmatrix}$ "
   ]
  },
  {
   "cell_type": "markdown",
   "metadata": {},
   "source": [
    "$\\begin{bmatrix}\n",
    "0&   &  &  &  &  & \\\\\n",
    "  & \\begin{bmatrix} 1,-1 & 0 \\cdots \\\\ 0 \\vdots & \\ddots 0    \\end{bmatrix}  &  &  &  &  & \\\\\n",
    "  &   & \\ddots &  &    & \\\\\n",
    "  &   &  & \\ddots &    & \\\\\n",
    "  &   &  &  & \\begin{bmatrix} 1,-1 & 0 \\cdots \\\\ 0 \\vdots & \\ddots 0 \\end{bmatrix} & \\\\\n",
    "  &   &  &  &  &  0 \\\\\n",
    "\\end{bmatrix}$\n",
    "$\\begin{bmatrix}\n",
    "\\vec T_{i,j = 0}\\\\\n",
    "\\vec T_{i,j = 1}\\\\\n",
    "\\vec T_{i,j = 2}\\\\\n",
    "\\vdots \\\\\n",
    "\\vec T_{i,j = m-2}\\\\\n",
    "\\vec T_{i,j = m-1}\\\\\n",
    "\\vec T_{i,j = m}\\\\\n",
    "\\end{bmatrix}$\n",
    "$=$\n",
    "$\\begin{bmatrix}\n",
    "\\vec B_{i,j = 0} = \\begin{bmatrix} 0 \\\\ \\\\ \\end{bmatrix} \\\\\n",
    "\\vec B_{i,j = 1} = \\begin{bmatrix} 0 \\\\ \\\\ \\end{bmatrix} \\\\\n",
    "\\vec B_{i,j = 2} = \\begin{bmatrix} 0 \\\\ \\\\ \\end{bmatrix} \\\\\n",
    "\\vdots \\\\\n",
    "\\vec B_{i,j = m} = \\begin{bmatrix} 0 \\\\ \\\\ \\end{bmatrix} \\\\\n",
    "\\end{bmatrix}$"
   ]
  },
  {
   "cell_type": "markdown",
   "metadata": {},
   "source": [
    "Note that for x = 0, we do not include the corner point (0,0) and (0,m)"
   ]
  },
  {
   "cell_type": "markdown",
   "metadata": {},
   "source": [
    "### For Neumann boundary condition at x = 1, we have,<p>\n",
    "$T_{i=m-1,j} - T_{i=m,j} = 0$<p>\n",
    "In matrix form, we have<p>\n",
    "$T_{i=\\{m-1,m\\},j}$ in $\\vec{\\vec T}$ are \n",
    "$ \\begin{bmatrix}\n",
    "\\text{skip N-2 terms}\\\\\n",
    "T_{m-1,0}\\\\\n",
    "T_{m,0}\\\\\n",
    "\\text{skip N-2 terms}\\\\\n",
    "T_{m-1,1}\\\\\n",
    "T_{m,1}\\\\\n",
    "\\text{skip N-2 terms}\\\\\n",
    "T_{m-1,2}\\\\\n",
    "T_{m,2}\\\\\n",
    "\\text{skip N-2 terms}\\\\\n",
    "T_{m-1,3}\\\\\n",
    "T_{m,3}\\\\\n",
    "\\vdots \\\\\n",
    "\\text{repeat periodically}\\\\\n",
    "\\vdots\\\\\n",
    "T_{m-1,m}\\\\\n",
    "T_{m,m}\n",
    "\\end{bmatrix}$ "
   ]
  },
  {
   "cell_type": "markdown",
   "metadata": {},
   "source": [
    "$\\begin{bmatrix}\n",
    "0 &   &  &  &  &  & \\\\\n",
    "  & \\begin{bmatrix} \\ddots 0 & 0 \\cdots \\\\ 0 \\vdots & 1,-1    \\end{bmatrix}  &  &  &  &  & \\\\\n",
    "  &   & \\ddots &  &    & \\\\\n",
    "  &   &  & \\ddots &    & \\\\\n",
    "  &   &  &  & \\begin{bmatrix} \\ddots 0 & 0 \\cdots \\\\ 0 \\vdots & 1,-1 \\end{bmatrix}   & \\\\\n",
    "  &   &  &  &  & 0\\\\  \n",
    "\\end{bmatrix}$\n",
    "$\\begin{bmatrix}\n",
    "\\vec T_{i,j = 0}\\\\\n",
    "\\vec T_{i,j = 1}\\\\\n",
    "\\vec T_{i,j = 2}\\\\\n",
    "\\vdots \\\\\n",
    "\\vec T_{i,j = m-2}\\\\\n",
    "\\vec T_{i,j = m-1}\\\\\n",
    "\\vec T_{i,j = m}\\\\\n",
    "\\end{bmatrix}$\n",
    "$=$\n",
    "$\\begin{bmatrix}\n",
    "\\vec B_{i,j = 0} = \\begin{bmatrix}  \\\\ \\\\ 0\\end{bmatrix} \\\\\n",
    "\\vec B_{i,j = 1} = \\begin{bmatrix}  \\\\ \\\\ 0\\end{bmatrix} \\\\\n",
    "\\vec B_{i,j = 2} = \\begin{bmatrix}  \\\\ \\\\ 0\\end{bmatrix} \\\\\n",
    "\\vdots \\\\\n",
    "\\vec B_{i,j = m} = \\begin{bmatrix}  \\\\ \\\\ 0\\end{bmatrix} \\\\\n",
    "\\end{bmatrix}$"
   ]
  },
  {
   "cell_type": "markdown",
   "metadata": {},
   "source": [
    "Note that for x = 1, we do not include the cornor point (m,0) and (m,m)"
   ]
  },
  {
   "cell_type": "markdown",
   "metadata": {},
   "source": [
    "### For the non-BC points:\n",
    "From, <p>\n",
    "$\n",
    "\\underbrace{\n",
    "qT_{i,j}-r T_{i-1,j} - r T_{i+1,j} - r T_{i,j-1} - r T_{i,j+1}}_{n+1} = \\underbrace{ T_{i,j} }_{n}\n",
    "$"
   ]
  },
  {
   "cell_type": "markdown",
   "metadata": {},
   "source": [
    "<font size = 2>\n",
    "$\\vec{ A} = \\begin{bmatrix}\n",
    "-r&\\text{0:N-2 times}&-r&q&-r&\\text{0:N-2 times}&-r&0\\cdots \\\\\n",
    "0&\\ddots&\\ddots&\\ddots&\\ddots&\\ddots&\\ddots&\\ddots&0\\cdots \\\\\n",
    "0&0&-r&\\text{0:N-2 times}&-r&q&-r&\\text{0:N-2 times}&-r&0\\cdots \\\\\n",
    "\\end{bmatrix}$\n",
    "</font>"
   ]
  },
  {
   "cell_type": "code",
   "execution_count": 23,
   "metadata": {},
   "outputs": [
    {
     "data": {
      "text/markdown": [
       "# Combined Matrix for 4x4 mesh"
      ],
      "text/plain": [
       "<IPython.core.display.Markdown object>"
      ]
     },
     "metadata": {},
     "output_type": "display_data"
    },
    {
     "data": {
      "image/png": "[encoded data removed]",
      "text/plain": [
       "<matplotlib.figure.Figure at 0x7f56b0ac16d8>"
      ]
     },
     "metadata": {},
     "output_type": "display_data"
    }
   ],
   "source": [
    "#this cell is to create graph used in markdown explanation\n",
    "\n",
    "display(Markdown('# Combined Matrix for 4x4 mesh'))\n",
    "plt.figure()\n",
    "x = np.linspace(0,3,4)\n",
    "y = np.linspace(0,3,4)\n",
    "X,Y = np.meshgrid(x,y)\n",
    "X = X.reshape(-1).tolist()\n",
    "Y = Y.reshape(-1).tolist()\n",
    "X = [i for j,i in enumerate(X) if j not in [0,3,12,15]]\n",
    "Y = [i for j,i in enumerate(Y) if j not in [0,3,12,15]]\n",
    "plt.plot(X,Y,'bo')\n",
    "ax = plt.gca()\n",
    "ax.set_xticks([0,1,2,3])\n",
    "ax.set_yticks([0,1,2,3])\n",
    "plt.grid(color = 'k')\n",
    "ax.spines['top'].set_visible(False)\n",
    "ax.spines['left'].set_visible(False)\n",
    "ax.spines['right'].set_visible(False)\n",
    "ax.spines['bottom'].set_visible(False)\n",
    "plt.xlabel('j')\n",
    "plt.ylabel('i')\n",
    "plt.xlim(-0.1,3.1)\n",
    "plt.ylim(-0.1,3.1)\n",
    "plt.show()"
   ]
  },
  {
   "cell_type": "markdown",
   "metadata": {},
   "source": [
    "$\\begin{bmatrix}\n",
    "1&0&0&-1&0&0&0&0&0&0&0&0\\\\\n",
    "0&1&0&0&-1&0&0&0&0&0&0&0\\\\\n",
    "0&0&1&-1&0&0&0&0&0&0&0&0\\\\\n",
    "-r&0&-r&q&-r&0&0&-r&0&0&0&0\\\\\n",
    "0&-r&0&-r&q&-r&0&0&-r&0&0&0\\\\\n",
    "0&0&0&0&1&-1&0&0&0&0&0&0\\\\\n",
    "0&0&0&0&0&0&1&-1&0&0&0&0\\\\\n",
    "0&0&0&-r&0&0&-r&q&-r&0&-r&0\\\\\n",
    "0&0&0&0&-r&0&0&-r&q&-r&0&-r\\\\\n",
    "0&0&0&0&0&0&0&0&1&-1&0&0\\\\\n",
    "0&0&0&0&0&0&0&1&0&0&-1&0\\\\\n",
    "0&0&0&0&0&0&0&0&1&0&0&-1\n",
    "\\end{bmatrix}\n",
    "\\begin{bmatrix}\n",
    "T_{0,1}\\\\\n",
    "T_{0,2}\\\\\n",
    "T_{1,0}\\\\\n",
    "T_{1,1}\\\\\n",
    "T_{1,2}\\\\\n",
    "T_{1,3}\\\\\n",
    "T_{2,0}\\\\\n",
    "T_{2,1}\\\\\n",
    "T_{2,2}\\\\\n",
    "T_{2,3}\\\\\n",
    "T_{3,1}\\\\\n",
    "T_{3,2}\n",
    "\\end{bmatrix}_{n+1}\n",
    "=\n",
    "\\begin{bmatrix}\n",
    "0\\\\\n",
    "0\\\\\n",
    "0\\\\\n",
    "T_{1,1}\\\\\n",
    "T_{1,2}\\\\\n",
    "0\\\\\n",
    "0\\\\\n",
    "T_{2,1}\\\\\n",
    "T_{2,2}\\\\\n",
    "0\\\\\n",
    "0\\\\\n",
    "0\n",
    "\\end{bmatrix}_{n}\n",
    "$"
   ]
  },
  {
   "cell_type": "markdown",
   "metadata": {},
   "source": [
    "### Identification of each matrix block\n",
    "Notice that at the edge, the shape of $-r$ matrix become $4\\times2$, and inner point for Neumann BC become $2\\times4$"
   ]
  },
  {
   "cell_type": "markdown",
   "metadata": {},
   "source": [
    "<img src = './Mat_2D_PDE.png'>"
   ]
  },
  {
   "cell_type": "markdown",
   "metadata": {},
   "source": [
    "## Combine BC with GovEq + Exclude the corner"
   ]
  },
  {
   "cell_type": "markdown",
   "metadata": {},
   "source": [
    "<font size = 2>\n",
    "$\\begin{bmatrix}\n",
    "\\vec A_{00} & \\vec A_{01} &  &  &  &  & \\\\\n",
    "\\vec A_{10}  & \\vec A_{11}  & \\vec A_{12} &  &  &  & \\\\\n",
    "  & \\vec A_{21}  & \\vec A_{22} & \\vec A_{23} &  &  & \\\\\n",
    "  &   & \\ddots & \\ddots & \\ddots &  & \\\\\n",
    "  &   &  & \\vec A_{m-2,m-3} & \\vec A_{m-2,m-2} & \\vec A_{m-2,m-1} & \\\\\n",
    "  &   &  &  & \\vec A_{m-1,m-2} & \\vec A_{m-1,m-1} & \\vec A_{m-1,m}\\\\\n",
    "  &   &  &  &  & \\vec A_{m,m-1}  & \\vec A_{m,m} \\\\  \n",
    "\\end{bmatrix}$\n",
    "$\\begin{bmatrix}\n",
    "\\vec T_{i,j = 0}\\\\\n",
    "\\vec T_{i,j = 1}\\\\\n",
    "\\vec T_{i,j = 2}\\\\\n",
    "\\vdots \\\\\n",
    "\\vec T_{i,j = m-2}\\\\\n",
    "\\vec T_{i,j = m-1}\\\\\n",
    "\\vec T_{i,j = m}\\\\\n",
    "\\end{bmatrix}$\n",
    "$=$\n",
    "$\\begin{bmatrix}\n",
    "\\vec B_{i,j = 0}\\\\\n",
    "\\vec B_{i,j = 1}\\\\\n",
    "\\vec B_{i,j = 2}\\\\\n",
    "\\vdots \\\\\n",
    "\\vec B_{i,j = m-2}\\\\\n",
    "\\vec B_{i,j = m-1}\\\\\n",
    "\\vec B_{i,j = m}=[\\vec 0]\\\\\n",
    "\\end{bmatrix}$\n",
    "</font>"
   ]
  },
  {
   "cell_type": "markdown",
   "metadata": {},
   "source": [
    "$\\vec A_{00} =\n",
    "\\begin{bmatrix}\n",
    "1 &      &      \\\\\n",
    " &     \\ddots     &  \\\\\n",
    " &      &     1 \\\\\n",
    "\\end{bmatrix}\n",
    "$\n",
    "<p>\n",
    "$\\vec A_{00}$ is (N-2) x (N-2), to exclude the cornor points<br>\n",
    "$\\vec A_{00}$ is to be multiplied with $T_{i,0} = [T_{1,0},T_{2,0},\\dots,T_{m-1,0}]^T$. Notice that $T_{0,0}$ and $T_{0,N}$ are not in $\\vec{\\vec{T}}$<p>\n",
    "$\\vec A_{01} =\n",
    "\\begin{bmatrix}\n",
    "0&  -1& &  & &0 \\\\\n",
    "0&   & -1&  & &0 \\\\\n",
    "0&   & & \\ddots  & & 0\\\\\n",
    "0&   & & &-1 & 0\\\\\n",
    "\\end{bmatrix} = \\vec A_{m,m-1}\n",
    "$<p>\n",
    "$\\vec A_{01}$ is (N-2) x (N), The first and the last column is to exclude the connection to the corner points (the one above the corner point)<br>\n",
    "$\\vec A_{01}$ is to be multiplied with $T_{i,1} = [T_{0,1},T_{1,1},\\dots,T_{m,1}]^T$. "
   ]
  },
  {
   "cell_type": "markdown",
   "metadata": {},
   "source": [
    "$\\vec{A}_{10} =\n",
    "\\begin{bmatrix}\n",
    "0&\\cdots&0\\\\\n",
    "-r& & \\\\\n",
    "& \\ddots & \\\\\n",
    "& & -r\\\\\n",
    "0&\\cdots&0\\\\\n",
    "\\end{bmatrix} = \\vec{A}_{m-1,m}\n",
    "$"
   ]
  },
  {
   "cell_type": "markdown",
   "metadata": {},
   "source": [
    "$\\vec{\\vec A}_{10}$ is N x (N-2), the first and the last row of zeros is for left and right Neumann condition where the bottom point is not involved."
   ]
  },
  {
   "cell_type": "markdown",
   "metadata": {},
   "source": [
    "$\\vec{A}_{11}=\n",
    "\\begin{bmatrix}\n",
    "1&-1\\\\\n",
    "-r&q&-r\\\\\n",
    "&-r&q&-r\\\\\n",
    "&&\\ddots&\\ddots&\\ddots\\\\\n",
    "&&&-r&q&-r\\\\\n",
    "&&&&1&-1\\\\\n",
    "\\end{bmatrix} = \\vec{A}_{22} = \\vec{A}_{22} = ... = \\vec{A}_{m-1,m-1}\n",
    "$"
   ]
  },
  {
   "cell_type": "markdown",
   "metadata": {},
   "source": [
    "$\\vec{\\vec A}_{11}$ is NxN where the first and the last row is for BC of the left and right edge points"
   ]
  },
  {
   "cell_type": "markdown",
   "metadata": {},
   "source": [
    "$\\vec{A}_{21} =\n",
    "\\begin{bmatrix}\n",
    "0&&\\cdots&&0\\\\\n",
    "&-r& && \\\\\n",
    "\\vdots&& \\ddots & &\\vdots\\\\\n",
    "&& & -r&\\\\\n",
    "0&&\\cdots&&0\\\\\n",
    "\\end{bmatrix} = \\vec{A}_{32} = \\dots = \\vec A_{m-1,m-2} = \\vec A_{23} = \\vec A_{34} = \\dots = \\vec A_{m-2,m-1}\n",
    "$"
   ]
  },
  {
   "cell_type": "markdown",
   "metadata": {},
   "source": [
    "# Implementation (2D-backward, square domain)"
   ]
  },
  {
   "cell_type": "code",
   "execution_count": 24,
   "metadata": {
    "collapsed": true
   },
   "outputs": [],
   "source": [
    "def remove_corner(TT):\n",
    "    \"\"\"take N x N array\n",
    "    return (N-2 + N*(N-2) + N-2,1) array\"\"\"\n",
    "    N = TT.shape[0]\n",
    "    p1 = TT[0,1:N-1].reshape(-1,1)\n",
    "    p2 = TT[1:N-1,:].reshape(-1,1)\n",
    "    p3 = TT[N-1,1:N-1].reshape(-1,1)\n",
    "    return(np.r_[p1,p2,p3])\n",
    "\n",
    "def add_corner(TT):\n",
    "    \"\"\"reverse of remove_corner\n",
    "    the value to be added at the corner is 0\"\"\"\n",
    "    N = int((TT.shape[0]+4)**0.5)\n",
    "    p1 = TT[:N-2]\n",
    "    p2 = TT[N-2:N**2-4-(N-2)]\n",
    "    p3 = TT[N**2-4-(N-2):]\n",
    "    result = np.r_[[[0]],p1,[[0]],\n",
    "                p2,[[0]],p3,[[0]]].reshape(N,N)\n",
    "    return result\n",
    "\n",
    "#def cal_heat_backward_2D():\n",
    "#specify the number of points\n",
    "\n",
    "def heat_2D_Backward(Nx = 30, Nt = 101):\n",
    "    '''this is to solve a dimensionless problem only\n",
    "    the space must be square'''\n",
    "    Ny = Nx\n",
    "    #initialize space and time grids\n",
    "    x = np.linspace(0,1,Nx)\n",
    "    y = np.linspace(0,1,Ny)\n",
    "    t = np.linspace(0,0.15,Nt)\n",
    "    #calculate dx and dt\n",
    "    dx = x[1]-x[0]\n",
    "    dy = y[1]-y[0]\n",
    "    dt = t[1]-t[0]\n",
    "    #make empty output matrix (row = t, col = x)\n",
    "    TT = np.empty([Nt,Nx,Ny])\n",
    "    #specify the initial condition\n",
    "    TT[0,:,:] = 0\n",
    "    X,Y = np.meshgrid(x,y)\n",
    "    IC = np.zeros([Nx,Nx])\n",
    "    IC[((X>=0.45)&(X<=0.55))&((Y>=0.45)&(Y<=0.55))] = 1\n",
    "    TT[0,:,:] = IC\n",
    "\n",
    "    r = dt/dx**2\n",
    "    #q in 2D is different than q in 1D\n",
    "    q = 1+4*r\n",
    "    #creating the matrix A (combined discretized eqs.)\n",
    "    A_00 = np.eye(Nx-2,Nx-2)\n",
    "    A_01 = np.c_[np.zeros([Nx-2,1]),np.eye(Nx-2,Nx-2,dtype = int)*-1,\n",
    "                 np.zeros([Nx-2,1])]\n",
    "    A_10 = A_01.T*r\n",
    "    A_Nm1_N = A_10 #for A_{N-1,N}\n",
    "    A_11_mid = [1] + [q for i in range(Nx-2)] +[-1]\n",
    "    A_11_top = [-1] + [-r for i in range(Nx-2)]\n",
    "    A_11_bot = [-r for i in range(Nx-2)] + [1]\n",
    "    A_11 = sparse.diags([A_11_top, A_11_mid, A_11_bot], [1,0,-1])\n",
    "    A_N_Nm1 = (A_01.astype(int)*-1).astype(float)\n",
    "    A_NN = (A_00.astype(int)*-1).astype(float)\n",
    "    A_12 = np.c_[np.zeros([Nx,1]),A_10,np.zeros([Nx,1])]\n",
    "\n",
    "    A_11s = [A_11.todense() for i in range(Nx-2)]\n",
    "    AA = scipy.linalg.block_diag(*A_11s)\n",
    "    #creating the top part of the diagonal terms\n",
    "    indptr = np.array(range(Nx-2))\n",
    "    indices = np.array(range(1,Nx-2))\n",
    "    data = np.array([A_12 for i in range(Nx-3)])\n",
    "    A_12_top = np.array(sparse.bsr_matrix((data,indices,indptr),\n",
    "                  shape=(Nx*(Nx-3),Nx*(Nx-2))).todense())\n",
    "\n",
    "    fill_size = AA.shape[0]-A_12_top.shape[0]\n",
    "    fill_arr = np.zeros((fill_size,AA.shape[1]))\n",
    "    A_12_same_shape = np.r_[A_12_top,fill_arr]\n",
    "    AA_top_bot = A_12_same_shape + AA + A_12_same_shape.T\n",
    "    _A_ = scipy.linalg.block_diag(A_00,AA_top_bot,A_NN)\n",
    "    #fill non-square matrix in\n",
    "    _A_[0:Nx-2,Nx-2:2*Nx-2] = A_01\n",
    "    _A_[Nx-2:2*Nx-2,0:Nx-2] = A_10\n",
    "    _A_[Nx**2-4-(Nx-2):Nx**2-4,Nx**2-4-(2*Nx-2):Nx**2-4-(Nx-2)] = A_N_Nm1\n",
    "    _A_[Nx**2-4-(2*Nx-2):Nx**2-4-(Nx-2),Nx**2-4-(Nx-2):Nx**2-4] = A_Nm1_N\n",
    "\n",
    "    b0_idx = np.array([[i*Nx,i*Nx+Nx-1] \n",
    "                for i in range(Nx-2)]).reshape(-1) + Nx-2\n",
    "    b0_idx = np.r_[np.arange(Nx-2),b0_idx,np.arange(Nx-2)+Nx**2-4-Nx+2]\n",
    "    _A_super = sparse.linalg.splu(sparse.csc_matrix(_A_))\n",
    "    for j in range(1,Nt):\n",
    "        _B_ = remove_corner(TT[j-1,:,:])\n",
    "        _B_[b0_idx,0] = 0\n",
    "        tslice_img = _A_super.solve(_B_)\n",
    "        TT[j,:,:] = add_corner(tslice_img)\n",
    "    return TT,dx,dy,dt\n",
    "TT,dx,dy,dt = heat_2D_Backward()"
   ]
  },
  {
   "cell_type": "code",
   "execution_count": 25,
   "metadata": {
    "scrolled": false
   },
   "outputs": [
    {
     "data": {
      "image/png": "[encoded data removed]",
      "text/plain": [
       "<matplotlib.figure.Figure at 0x7f56b3293048>"
      ]
     },
     "metadata": {},
     "output_type": "display_data"
    }
   ],
   "source": [
    "fig = plt.figure(figsize = (12,10))\n",
    "\n",
    "plt.subplot(321)\n",
    "plt.pcolor(TT[0,:,:])\n",
    "plt.title('dimensionless t = {:.3e}\\n val_max = {:.3e}'.format(\n",
    "    dt*0,TT[0,:,:].max()))\n",
    "plt.colorbar()\n",
    "plt.xlabel('\\n')\n",
    "\n",
    "plt.subplot(322)\n",
    "plt.pcolor(TT[1,:,:])\n",
    "plt.title('dimensionless t = {:.3e}\\n val_max = {:.3e}'.format(\n",
    "    dt*1,TT[1,:,:].max()))\n",
    "plt.colorbar()\n",
    "plt.xlabel('\\n')\n",
    "\n",
    "plt.subplot(323)\n",
    "plt.pcolor(TT[2,:,:])\n",
    "plt.title('dimensionless t = {:.3e}\\n val_max = {:.3e}'.format(\n",
    "    dt*2,TT[2,:,:].max()))\n",
    "plt.colorbar()\n",
    "plt.xlabel('\\n')\n",
    "\n",
    "plt.subplot(324)\n",
    "plt.pcolor(TT[3,:,:])\n",
    "plt.title('dimensionless t = {:.3e}\\n val_max = {:.3e}'.format(\n",
    "    dt*3,TT[3,:,:].max()))\n",
    "plt.colorbar()\n",
    "plt.xlabel('\\n')\n",
    "\n",
    "plt.subplot(325)\n",
    "plt.pcolor(TT[10,:,:])\n",
    "plt.title('dimensionless t = {:.3e}\\n val_max = {:.3e}'.format(\n",
    "    dt*10,TT[10,:,:].max()))\n",
    "plt.colorbar()\n",
    "plt.xlabel('\\n')\n",
    "\n",
    "plt.subplot(326)\n",
    "plt.pcolor(TT[20,:,:])\n",
    "plt.title('dimensionless t = {:.3e}\\n val_max = {:.3e}'.format(\n",
    "    dt*20,TT[20,:,:].max()))\n",
    "plt.colorbar()\n",
    "plt.xlabel('\\n')\n",
    "\n",
    "plt.tight_layout()\n",
    "plt.show()"
   ]
  },
  {
   "cell_type": "markdown",
   "metadata": {},
   "source": [
    "<font size = 3>\n",
    "Realize that, even for 1 time step,\n",
    "roughly 4 cells around it get impact by the initial condition already\n",
    "</font>"
   ]
  },
  {
   "cell_type": "code",
   "execution_count": 26,
   "metadata": {
    "collapsed": true
   },
   "outputs": [],
   "source": [
    "#Use animation one at a time\n",
    "\n",
    "# # create the function that will do the plotting, where curr is the current frame\n",
    "# %matplotlib notebook\n",
    "# def update(curr):\n",
    "#     #Code is modified from Christopher Brooks, University of Michigan\n",
    "#     #Python plotting, coursera\n",
    "#     plt.cla()\n",
    "#     im = plt.pcolor(TT[curr,:,:])\n",
    "#     plt.clim(0,1)\n",
    "#     plt.gca().set_title('2D diffusion')\n",
    "#     plt.gca().set_ylabel('y')\n",
    "#     plt.gca().set_xlabel('x')\n",
    "#     plt.annotate('n = {}'.format(curr), [3,27])\n",
    "# fig = plt.figure(figsize=(10,8))\n",
    "# plt.pcolor(TT[0,:,:])\n",
    "# plt.colorbar()\n",
    "# a1 = animation.FuncAnimation(fig, update, interval=300, frames = 100)\n",
    "# a1.save('L11_absolute_T.mp4',fps=10, dpi=100)\n",
    "# plt.show()"
   ]
  },
  {
   "cell_type": "code",
   "execution_count": 27,
   "metadata": {},
   "outputs": [
    {
     "data": {
      "image/png": "[encoded data removed]",
      "text/plain": [
       "<matplotlib.figure.Figure at 0x7f56b0ac1518>"
      ]
     },
     "metadata": {},
     "output_type": "display_data"
    }
   ],
   "source": [
    "def update2(curr):\n",
    "    #Code is modified from Christopher Brooks, University of Michigan\n",
    "    #Python plotting, coursera\n",
    "    plt.cla()\n",
    "    im = plt.pcolor(TT[curr,:,:])\n",
    "    plt.clim(0,1)\n",
    "    vmax = np.max(TT[curr,:,:])\n",
    "    vmin = np.min(TT[curr,:,:])\n",
    "    plt.gca().set_title('2D diffusion')\n",
    "    plt.gca().set_ylabel('y')\n",
    "    plt.gca().set_xlabel('x')\n",
    "    plt.annotate('n = {}, max_val = {}'.format(curr,vmax), [3,27])\n",
    "    im.set_clim(vmin,vmax)\n",
    "fig = plt.figure(figsize=(10,8))\n",
    "plt.pcolor(TT[0,:,:])\n",
    "a2 = animation.FuncAnimation(fig, update2, interval=300, frames = 100)\n",
    "a2.save('L11_relative_T.mp4',fps=10, dpi=100)\n",
    "plt.show()"
   ]
  },
  {
   "cell_type": "code",
   "execution_count": 28,
   "metadata": {
    "collapsed": true
   },
   "outputs": [],
   "source": [
    "#This is the code to visualize numpy array, use to debug program\n",
    "# plt.figure(figsize=(30,24))\n",
    "# plt.pcolor(_A_,cmap = 'jet')\n",
    "# plt.gca().invert_yaxis()\n",
    "# plt.yticks(np.linspace(0,120,13))\n",
    "# plt.xticks(np.linspace(0,120,13))\n",
    "# plt.colorbar()\n",
    "# plt.grid()\n",
    "# plt.show()"
   ]
  },
  {
   "cell_type": "code",
   "execution_count": 29,
   "metadata": {
    "collapsed": true
   },
   "outputs": [],
   "source": [
    "# plt.figure(figsize=(12,8))\n",
    "# plt.pcolor(_A_,cmap='Greens')\n",
    "# plt.grid()\n",
    "# plt.colorbar()\n",
    "# plt.gca().invert_yaxis()\n",
    "# plt.ylabel('i')\n",
    "# plt.xlabel('j')\n",
    "# plt.show()"
   ]
  },
  {
   "cell_type": "code",
   "execution_count": null,
   "metadata": {
    "collapsed": true
   },
   "outputs": [],
   "source": []
  },
  {
   "cell_type": "code",
   "execution_count": null,
   "metadata": {
    "collapsed": true
   },
   "outputs": [],
   "source": []
  },
  {
   "cell_type": "code",
   "execution_count": null,
   "metadata": {
    "collapsed": true
   },
   "outputs": [],
   "source": []
  },
  {
   "cell_type": "code",
   "execution_count": null,
   "metadata": {
    "collapsed": true
   },
   "outputs": [],
   "source": []
  },
  {
   "cell_type": "markdown",
   "metadata": {},
   "source": [
    "# <font color = 'blue'> First Tuitorial of FEniCS Project </font>\n",
    "# <font color = 'magenta'> Use FEniCS as a blackbox PDE solver </font>\n",
    "The section below shows the first example in FEniCS project. This is just a first look at FEniCS project. Your computer (Windows) probably won't run any of the code below. Yet, you <font color = 'red'> need </font> to understand the concept.\n",
    "## Finics use Finite Element Method (FEM) to solve PDE\n",
    "https://fenicsproject.org/pub/tutorial/html/._ftut1004.html<br>\n",
    "https://fenicsproject.org/qa/7316/print-values-numerical-solution-neumann-boundary-problem<br>\n",
    "https://fenicsproject.org/qa/6450/get-field-value-at-mesh-vertex\n",
    "<p><font size = 4>\n",
    "$-\\nabla^2u(x) = -6$\n",
    "<p>$-\\dfrac{\\partial^2u}{\\partial x^2} - \\dfrac{\\partial^2u}{\\partial y^2} = -6$\n",
    "<p>BC: $1 + x^2 + 2 * y^2$\n",
    "<p>$\\Omega = [0,1]\\times[0,1]$\n",
    "</font>"
   ]
  },
  {
   "cell_type": "markdown",
   "metadata": {},
   "source": [
    "# FEM Introduction (Dirichlet BC)\n",
    "Dirichlet Boundary condition means the values at the boundary are known\n",
    "<font size = 3><p><p>\n",
    "$\\begin{align*}\n",
    "-\\Delta u(\\mathbf x) & = f(\\mathbf x),\\quad\\:\\:\\: \\mathbf x \\: \\text{in} \\: \\Omega \\\\\n",
    "u(\\mathbf x) & = u_D(\\mathbf x), \\quad \\mathbf x \\: \\text{on} \\: \\partial \\Omega\n",
    "\\end{align*}$ <p>\n",
    "$\\Delta$ is Laplace operator (or $\\nabla^2$) <p>\n",
    "$u(\\mathbf x)$ is unknown function<p>\n",
    "$\\Omega$ is spatial domain<p>\n",
    "$\\partial\\Omega$ is the boundary of $\\Omega$<p>\n",
    "First step in FEM is ti turning PDE into a variational problem by multiplying the PDE by a function $v$, integrating the resulting equation over the domain $\\Omega$, and perform integration by parts of terms with second-order derivatives.<p>\n",
    "$v$ is a test function<p>\n",
    "$-\\Delta u(\\mathbf x) = f(\\mathbf x)$<p>\n",
    "By transforming PDE into variational problem, we get,<p>\n",
    "$-\\int_\\Omega(\\Delta u)vdx=\\int_\\Omega f v dx$<p>\n",
    "From integration by parts, we have<p>\n",
    "$\\nabla \\cdot \\big(a\\vec b\\big) = a\\big(\\nabla \\cdot \\vec b\\big) + \\vec b \\cdot \\big(\\nabla a\\big)$<p>\n",
    "Therefore,<p>\n",
    "$\\nabla \\cdot \\big(v (\\nabla u) \\big) = v(\\nabla^2u) + (\\nabla u)\\cdot (\\nabla v)$<p>\n",
    "Rearranging, we have<p>\n",
    "$-v(\\nabla^2u) = (\\nabla u)\\cdot (\\nabla v) - \\nabla \\cdot \\big(v (\\nabla u) \\big)$<p>\n",
    "or<p>\n",
    "$-\\int_\\Omega v(\\nabla^2u)dx = \\int_\\Omega \\nabla u\\cdot \\nabla v dx- \\int_\\Omega \\nabla \\cdot (v \\nabla u) dx$<p>\n",
    "From divergence theorem (change from volume to surface integration),<p>\n",
    "$\\iiint_\\Omega (\\nabla \\cdot \\vec F) \\, dV = \\oint_{\\partial\\Omega} ( \\vec F \\cdot \\hat n ) \\, dS$<p>\n",
    "Thus, we have<p>\n",
    "\n",
    "$-\\int_\\Omega v(\\nabla^2u)dx = \\int_\\Omega \\nabla u\\cdot \\nabla v dx- \\oint_{\\partial \\Omega} (v \\nabla u)\\cdot \\hat n dS$<p>\n",
    "$\\nabla u \\cdot \\hat n = \\dfrac{\\partial u}{\\partial n}$ &nbsp; n is the unit normal vector pointing outward, so we have<p>\n",
    "$-\\int_\\Omega v(\\nabla^2u)dx = \\int_\\Omega \\nabla u\\cdot \\nabla v dx- \\oint_{\\partial \\Omega} \\frac{\\partial u}{\\partial n} v dS$<p>\n",
    "</font>\n",
    "<p>http://sfepy.org/doc-devel/solving_pdes_by_fem.html#sec-solving-pdes-fem\n",
    "<br>https://en.wikipedia.org/wiki/Integration_by_parts"
   ]
  },
  {
   "cell_type": "markdown",
   "metadata": {},
   "source": [
    "<font size = 3>\n",
    "At the boundary, we have<p><br>\n",
    "$u(\\mathbf x) = u_D(\\mathbf x)$<p>\n",
    "By requring $v$ to vanish (be zero) at $\\partial \\Omega$, we have<p>\n",
    "$\\int_\\Omega \\nabla u\\cdot \\nabla v dx = \\int_\\Omega f v dx \\quad\\text{  This is the weak form or variational form of the BVP}$<p>\n",
    "This equation should hold for all test function $v$ in some suitable space $\\hat V$ (so-called test space). The solution $u$  is in function space $V$ (so-called trial space). The test space $\\hat V$ and the trial space can be defined as<p>\n",
    "$V = \\{ v\\in H^1(\\Omega): v = u_D \\:\\text{on}\\: \\partial \\Omega \\}$<p>\n",
    "$\\hat V = \\{ v \\in H^1(\\Omega): v = 0 \\:\\text{on}\\: \\partial \\Omega \\}$<p>\n",
    "$H^1(\\Omega)$ is the Sobolev space containing $v$ such that $v^2$ and $|\\nabla v|^2$ have finite integrals over $\\Omega$ (functions are continuous). Sobolev space $H^1(\\Omega)$ allows functions with discontinuous derivatives.<p>\n",
    "After obtaining the variational form of $\\int_\\Omega \\nabla u\\cdot \\nabla v dx = \\int_\\Omega f v dx \\:\\: \\forall v \\in \\hat V$ Then, FEniCS can solve it by using <p>\n",
    "```\n",
    "a = fn.dot(fn.grad(u), fn.grad(v))*fn.dx\n",
    "L = f*v*fn.dx\n",
    "u = fn.Function(V)\n",
    "fn.solve(a == L, u, bc)\n",
    "```\n",
    "</font>"
   ]
  },
  {
   "cell_type": "code",
   "execution_count": null,
   "metadata": {
    "collapsed": true
   },
   "outputs": [],
   "source": []
  },
  {
   "cell_type": "markdown",
   "metadata": {},
   "source": [
    "## FEniCS code implementation\n",
    "For full explanation, please see<p>\n",
    "https://fenicsproject.org/pub/tutorial/html/._ftut1004.html"
   ]
  },
  {
   "cell_type": "code",
   "execution_count": null,
   "metadata": {
    "collapsed": true
   },
   "outputs": [],
   "source": []
  },
  {
   "cell_type": "code",
   "execution_count": null,
   "metadata": {
    "collapsed": true
   },
   "outputs": [],
   "source": []
  },
  {
   "cell_type": "code",
   "execution_count": 30,
   "metadata": {
    "collapsed": true
   },
   "outputs": [],
   "source": [
    "mesh = fn.UnitSquareMesh(8,8)"
   ]
  },
  {
   "cell_type": "code",
   "execution_count": 31,
   "metadata": {},
   "outputs": [
    {
     "data": {
      "image/svg+xml": [
       "\n",
       "    <svg xmlns=\"http://www.w3.org/2000/svg\" version=\"1.1\" width=\"840\" height=\"840\">\n",
       "    <line x1=\"20\" y1=\"820\" x2=\"120\" y2=\"820\" style=\"fill:none; stroke:black; stroke-width:\"2\" />\n",
       "<line x1=\"20\" y1=\"820\" x2=\"20\" y2=\"720\" style=\"fill:none; stroke:black; stroke-width:\"2\" />\n",
       "<line x1=\"20\" y1=\"820\" x2=\"120\" y2=\"720\" style=\"fill:none; stroke:black; stroke-width:\"2\" />\n",
       "<line x1=\"120\" y1=\"820\" x2=\"220\" y2=\"820\" style=\"fill:none; stroke:black; stroke-width:\"2\" />\n",
       "<line x1=\"120\" y1=\"820\" x2=\"120\" y2=\"720\" style=\"fill:none; stroke:black; stroke-width:\"2\" />\n",
       "<line x1=\"120\" y1=\"820\" x2=\"220\" y2=\"720\" style=\"fill:none; stroke:black; stroke-width:\"2\" />\n",
       "<line x1=\"220\" y1=\"820\" x2=\"320\" y2=\"820\" style=\"fill:none; stroke:black; stroke-width:\"2\" />\n",
       "<line x1=\"220\" y1=\"820\" x2=\"220\" y2=\"720\" style=\"fill:none; stroke:black; stroke-width:\"2\" />\n",
       "<line x1=\"220\" y1=\"820\" x2=\"320\" y2=\"720\" style=\"fill:none; stroke:black; stroke-width:\"2\" />\n",
       "<line x1=\"320\" y1=\"820\" x2=\"420\" y2=\"820\" style=\"fill:none; stroke:black; stroke-width:\"2\" />\n",
       "<line x1=\"320\" y1=\"820\" x2=\"320\" y2=\"720\" style=\"fill:none; stroke:black; stroke-width:\"2\" />\n",
       "<line x1=\"320\" y1=\"820\" x2=\"420\" y2=\"720\" style=\"fill:none; stroke:black; stroke-width:\"2\" />\n",
       "<line x1=\"420\" y1=\"820\" x2=\"520\" y2=\"820\" style=\"fill:none; stroke:black; stroke-width:\"2\" />\n",
       "<line x1=\"420\" y1=\"820\" x2=\"420\" y2=\"720\" style=\"fill:none; stroke:black; stroke-width:\"2\" />\n",
       "<line x1=\"420\" y1=\"820\" x2=\"520\" y2=\"720\" style=\"fill:none; stroke:black; stroke-width:\"2\" />\n",
       "<line x1=\"520\" y1=\"820\" x2=\"620\" y2=\"820\" style=\"fill:none; stroke:black; stroke-width:\"2\" />\n",
       "<line x1=\"520\" y1=\"820\" x2=\"520\" y2=\"720\" style=\"fill:none; stroke:black; stroke-width:\"2\" />\n",
       "<line x1=\"520\" y1=\"820\" x2=\"620\" y2=\"720\" style=\"fill:none; stroke:black; stroke-width:\"2\" />\n",
       "<line x1=\"620\" y1=\"820\" x2=\"720\" y2=\"820\" style=\"fill:none; stroke:black; stroke-width:\"2\" />\n",
       "<line x1=\"620\" y1=\"820\" x2=\"620\" y2=\"720\" style=\"fill:none; stroke:black; stroke-width:\"2\" />\n",
       "<line x1=\"620\" y1=\"820\" x2=\"720\" y2=\"720\" style=\"fill:none; stroke:black; stroke-width:\"2\" />\n",
       "<line x1=\"720\" y1=\"820\" x2=\"820\" y2=\"820\" style=\"fill:none; stroke:black; stroke-width:\"2\" />\n",
       "<line x1=\"720\" y1=\"820\" x2=\"720\" y2=\"720\" style=\"fill:none; stroke:black; stroke-width:\"2\" />\n",
       "<line x1=\"720\" y1=\"820\" x2=\"820\" y2=\"720\" style=\"fill:none; stroke:black; stroke-width:\"2\" />\n",
       "<line x1=\"820\" y1=\"820\" x2=\"820\" y2=\"720\" style=\"fill:none; stroke:black; stroke-width:\"2\" />\n",
       "<line x1=\"20\" y1=\"720\" x2=\"120\" y2=\"720\" style=\"fill:none; stroke:black; stroke-width:\"2\" />\n",
       "<line x1=\"20\" y1=\"720\" x2=\"20\" y2=\"620\" style=\"fill:none; stroke:black; stroke-width:\"2\" />\n",
       "<line x1=\"20\" y1=\"720\" x2=\"120\" y2=\"620\" style=\"fill:none; stroke:black; stroke-width:\"2\" />\n",
       "<line x1=\"120\" y1=\"720\" x2=\"220\" y2=\"720\" style=\"fill:none; stroke:black; stroke-width:\"2\" />\n",
       "<line x1=\"120\" y1=\"720\" x2=\"120\" y2=\"620\" style=\"fill:none; stroke:black; stroke-width:\"2\" />\n",
       "<line x1=\"120\" y1=\"720\" x2=\"220\" y2=\"620\" style=\"fill:none; stroke:black; stroke-width:\"2\" />\n",
       "<line x1=\"220\" y1=\"720\" x2=\"320\" y2=\"720\" style=\"fill:none; stroke:black; stroke-width:\"2\" />\n",
       "<line x1=\"220\" y1=\"720\" x2=\"220\" y2=\"620\" style=\"fill:none; stroke:black; stroke-width:\"2\" />\n",
       "<line x1=\"220\" y1=\"720\" x2=\"320\" y2=\"620\" style=\"fill:none; stroke:black; stroke-width:\"2\" />\n",
       "<line x1=\"320\" y1=\"720\" x2=\"420\" y2=\"720\" style=\"fill:none; stroke:black; stroke-width:\"2\" />\n",
       "<line x1=\"320\" y1=\"720\" x2=\"320\" y2=\"620\" style=\"fill:none; stroke:black; stroke-width:\"2\" />\n",
       "<line x1=\"320\" y1=\"720\" x2=\"420\" y2=\"620\" style=\"fill:none; stroke:black; stroke-width:\"2\" />\n",
       "<line x1=\"420\" y1=\"720\" x2=\"520\" y2=\"720\" style=\"fill:none; stroke:black; stroke-width:\"2\" />\n",
       "<line x1=\"420\" y1=\"720\" x2=\"420\" y2=\"620\" style=\"fill:none; stroke:black; stroke-width:\"2\" />\n",
       "<line x1=\"420\" y1=\"720\" x2=\"520\" y2=\"620\" style=\"fill:none; stroke:black; stroke-width:\"2\" />\n",
       "<line x1=\"520\" y1=\"720\" x2=\"620\" y2=\"720\" style=\"fill:none; stroke:black; stroke-width:\"2\" />\n",
       "<line x1=\"520\" y1=\"720\" x2=\"520\" y2=\"620\" style=\"fill:none; stroke:black; stroke-width:\"2\" />\n",
       "<line x1=\"520\" y1=\"720\" x2=\"620\" y2=\"620\" style=\"fill:none; stroke:black; stroke-width:\"2\" />\n",
       "<line x1=\"620\" y1=\"720\" x2=\"720\" y2=\"720\" style=\"fill:none; stroke:black; stroke-width:\"2\" />\n",
       "<line x1=\"620\" y1=\"720\" x2=\"620\" y2=\"620\" style=\"fill:none; stroke:black; stroke-width:\"2\" />\n",
       "<line x1=\"620\" y1=\"720\" x2=\"720\" y2=\"620\" style=\"fill:none; stroke:black; stroke-width:\"2\" />\n",
       "<line x1=\"720\" y1=\"720\" x2=\"820\" y2=\"720\" style=\"fill:none; stroke:black; stroke-width:\"2\" />\n",
       "<line x1=\"720\" y1=\"720\" x2=\"720\" y2=\"620\" style=\"fill:none; stroke:black; stroke-width:\"2\" />\n",
       "<line x1=\"720\" y1=\"720\" x2=\"820\" y2=\"620\" style=\"fill:none; stroke:black; stroke-width:\"2\" />\n",
       "<line x1=\"820\" y1=\"720\" x2=\"820\" y2=\"620\" style=\"fill:none; stroke:black; stroke-width:\"2\" />\n",
       "<line x1=\"20\" y1=\"620\" x2=\"120\" y2=\"620\" style=\"fill:none; stroke:black; stroke-width:\"2\" />\n",
       "<line x1=\"20\" y1=\"620\" x2=\"20\" y2=\"520\" style=\"fill:none; stroke:black; stroke-width:\"2\" />\n",
       "<line x1=\"20\" y1=\"620\" x2=\"120\" y2=\"520\" style=\"fill:none; stroke:black; stroke-width:\"2\" />\n",
       "<line x1=\"120\" y1=\"620\" x2=\"220\" y2=\"620\" style=\"fill:none; stroke:black; stroke-width:\"2\" />\n",
       "<line x1=\"120\" y1=\"620\" x2=\"120\" y2=\"520\" style=\"fill:none; stroke:black; stroke-width:\"2\" />\n",
       "<line x1=\"120\" y1=\"620\" x2=\"220\" y2=\"520\" style=\"fill:none; stroke:black; stroke-width:\"2\" />\n",
       "<line x1=\"220\" y1=\"620\" x2=\"320\" y2=\"620\" style=\"fill:none; stroke:black; stroke-width:\"2\" />\n",
       "<line x1=\"220\" y1=\"620\" x2=\"220\" y2=\"520\" style=\"fill:none; stroke:black; stroke-width:\"2\" />\n",
       "<line x1=\"220\" y1=\"620\" x2=\"320\" y2=\"520\" style=\"fill:none; stroke:black; stroke-width:\"2\" />\n",
       "<line x1=\"320\" y1=\"620\" x2=\"420\" y2=\"620\" style=\"fill:none; stroke:black; stroke-width:\"2\" />\n",
       "<line x1=\"320\" y1=\"620\" x2=\"320\" y2=\"520\" style=\"fill:none; stroke:black; stroke-width:\"2\" />\n",
       "<line x1=\"320\" y1=\"620\" x2=\"420\" y2=\"520\" style=\"fill:none; stroke:black; stroke-width:\"2\" />\n",
       "<line x1=\"420\" y1=\"620\" x2=\"520\" y2=\"620\" style=\"fill:none; stroke:black; stroke-width:\"2\" />\n",
       "<line x1=\"420\" y1=\"620\" x2=\"420\" y2=\"520\" style=\"fill:none; stroke:black; stroke-width:\"2\" />\n",
       "<line x1=\"420\" y1=\"620\" x2=\"520\" y2=\"520\" style=\"fill:none; stroke:black; stroke-width:\"2\" />\n",
       "<line x1=\"520\" y1=\"620\" x2=\"620\" y2=\"620\" style=\"fill:none; stroke:black; stroke-width:\"2\" />\n",
       "<line x1=\"520\" y1=\"620\" x2=\"520\" y2=\"520\" style=\"fill:none; stroke:black; stroke-width:\"2\" />\n",
       "<line x1=\"520\" y1=\"620\" x2=\"620\" y2=\"520\" style=\"fill:none; stroke:black; stroke-width:\"2\" />\n",
       "<line x1=\"620\" y1=\"620\" x2=\"720\" y2=\"620\" style=\"fill:none; stroke:black; stroke-width:\"2\" />\n",
       "<line x1=\"620\" y1=\"620\" x2=\"620\" y2=\"520\" style=\"fill:none; stroke:black; stroke-width:\"2\" />\n",
       "<line x1=\"620\" y1=\"620\" x2=\"720\" y2=\"520\" style=\"fill:none; stroke:black; stroke-width:\"2\" />\n",
       "<line x1=\"720\" y1=\"620\" x2=\"820\" y2=\"620\" style=\"fill:none; stroke:black; stroke-width:\"2\" />\n",
       "<line x1=\"720\" y1=\"620\" x2=\"720\" y2=\"520\" style=\"fill:none; stroke:black; stroke-width:\"2\" />\n",
       "<line x1=\"720\" y1=\"620\" x2=\"820\" y2=\"520\" style=\"fill:none; stroke:black; stroke-width:\"2\" />\n",
       "<line x1=\"820\" y1=\"620\" x2=\"820\" y2=\"520\" style=\"fill:none; stroke:black; stroke-width:\"2\" />\n",
       "<line x1=\"20\" y1=\"520\" x2=\"120\" y2=\"520\" style=\"fill:none; stroke:black; stroke-width:\"2\" />\n",
       "<line x1=\"20\" y1=\"520\" x2=\"20\" y2=\"420\" style=\"fill:none; stroke:black; stroke-width:\"2\" />\n",
       "<line x1=\"20\" y1=\"520\" x2=\"120\" y2=\"420\" style=\"fill:none; stroke:black; stroke-width:\"2\" />\n",
       "<line x1=\"120\" y1=\"520\" x2=\"220\" y2=\"520\" style=\"fill:none; stroke:black; stroke-width:\"2\" />\n",
       "<line x1=\"120\" y1=\"520\" x2=\"120\" y2=\"420\" style=\"fill:none; stroke:black; stroke-width:\"2\" />\n",
       "<line x1=\"120\" y1=\"520\" x2=\"220\" y2=\"420\" style=\"fill:none; stroke:black; stroke-width:\"2\" />\n",
       "<line x1=\"220\" y1=\"520\" x2=\"320\" y2=\"520\" style=\"fill:none; stroke:black; stroke-width:\"2\" />\n",
       "<line x1=\"220\" y1=\"520\" x2=\"220\" y2=\"420\" style=\"fill:none; stroke:black; stroke-width:\"2\" />\n",
       "<line x1=\"220\" y1=\"520\" x2=\"320\" y2=\"420\" style=\"fill:none; stroke:black; stroke-width:\"2\" />\n",
       "<line x1=\"320\" y1=\"520\" x2=\"420\" y2=\"520\" style=\"fill:none; stroke:black; stroke-width:\"2\" />\n",
       "<line x1=\"320\" y1=\"520\" x2=\"320\" y2=\"420\" style=\"fill:none; stroke:black; stroke-width:\"2\" />\n",
       "<line x1=\"320\" y1=\"520\" x2=\"420\" y2=\"420\" style=\"fill:none; stroke:black; stroke-width:\"2\" />\n",
       "<line x1=\"420\" y1=\"520\" x2=\"520\" y2=\"520\" style=\"fill:none; stroke:black; stroke-width:\"2\" />\n",
       "<line x1=\"420\" y1=\"520\" x2=\"420\" y2=\"420\" style=\"fill:none; stroke:black; stroke-width:\"2\" />\n",
       "<line x1=\"420\" y1=\"520\" x2=\"520\" y2=\"420\" style=\"fill:none; stroke:black; stroke-width:\"2\" />\n",
       "<line x1=\"520\" y1=\"520\" x2=\"620\" y2=\"520\" style=\"fill:none; stroke:black; stroke-width:\"2\" />\n",
       "<line x1=\"520\" y1=\"520\" x2=\"520\" y2=\"420\" style=\"fill:none; stroke:black; stroke-width:\"2\" />\n",
       "<line x1=\"520\" y1=\"520\" x2=\"620\" y2=\"420\" style=\"fill:none; stroke:black; stroke-width:\"2\" />\n",
       "<line x1=\"620\" y1=\"520\" x2=\"720\" y2=\"520\" style=\"fill:none; stroke:black; stroke-width:\"2\" />\n",
       "<line x1=\"620\" y1=\"520\" x2=\"620\" y2=\"420\" style=\"fill:none; stroke:black; stroke-width:\"2\" />\n",
       "<line x1=\"620\" y1=\"520\" x2=\"720\" y2=\"420\" style=\"fill:none; stroke:black; stroke-width:\"2\" />\n",
       "<line x1=\"720\" y1=\"520\" x2=\"820\" y2=\"520\" style=\"fill:none; stroke:black; stroke-width:\"2\" />\n",
       "<line x1=\"720\" y1=\"520\" x2=\"720\" y2=\"420\" style=\"fill:none; stroke:black; stroke-width:\"2\" />\n",
       "<line x1=\"720\" y1=\"520\" x2=\"820\" y2=\"420\" style=\"fill:none; stroke:black; stroke-width:\"2\" />\n",
       "<line x1=\"820\" y1=\"520\" x2=\"820\" y2=\"420\" style=\"fill:none; stroke:black; stroke-width:\"2\" />\n",
       "<line x1=\"20\" y1=\"420\" x2=\"120\" y2=\"420\" style=\"fill:none; stroke:black; stroke-width:\"2\" />\n",
       "<line x1=\"20\" y1=\"420\" x2=\"20\" y2=\"320\" style=\"fill:none; stroke:black; stroke-width:\"2\" />\n",
       "<line x1=\"20\" y1=\"420\" x2=\"120\" y2=\"320\" style=\"fill:none; stroke:black; stroke-width:\"2\" />\n",
       "<line x1=\"120\" y1=\"420\" x2=\"220\" y2=\"420\" style=\"fill:none; stroke:black; stroke-width:\"2\" />\n",
       "<line x1=\"120\" y1=\"420\" x2=\"120\" y2=\"320\" style=\"fill:none; stroke:black; stroke-width:\"2\" />\n",
       "<line x1=\"120\" y1=\"420\" x2=\"220\" y2=\"320\" style=\"fill:none; stroke:black; stroke-width:\"2\" />\n",
       "<line x1=\"220\" y1=\"420\" x2=\"320\" y2=\"420\" style=\"fill:none; stroke:black; stroke-width:\"2\" />\n",
       "<line x1=\"220\" y1=\"420\" x2=\"220\" y2=\"320\" style=\"fill:none; stroke:black; stroke-width:\"2\" />\n",
       "<line x1=\"220\" y1=\"420\" x2=\"320\" y2=\"320\" style=\"fill:none; stroke:black; stroke-width:\"2\" />\n",
       "<line x1=\"320\" y1=\"420\" x2=\"420\" y2=\"420\" style=\"fill:none; stroke:black; stroke-width:\"2\" />\n",
       "<line x1=\"320\" y1=\"420\" x2=\"320\" y2=\"320\" style=\"fill:none; stroke:black; stroke-width:\"2\" />\n",
       "<line x1=\"320\" y1=\"420\" x2=\"420\" y2=\"320\" style=\"fill:none; stroke:black; stroke-width:\"2\" />\n",
       "<line x1=\"420\" y1=\"420\" x2=\"520\" y2=\"420\" style=\"fill:none; stroke:black; stroke-width:\"2\" />\n",
       "<line x1=\"420\" y1=\"420\" x2=\"420\" y2=\"320\" style=\"fill:none; stroke:black; stroke-width:\"2\" />\n",
       "<line x1=\"420\" y1=\"420\" x2=\"520\" y2=\"320\" style=\"fill:none; stroke:black; stroke-width:\"2\" />\n",
       "<line x1=\"520\" y1=\"420\" x2=\"620\" y2=\"420\" style=\"fill:none; stroke:black; stroke-width:\"2\" />\n",
       "<line x1=\"520\" y1=\"420\" x2=\"520\" y2=\"320\" style=\"fill:none; stroke:black; stroke-width:\"2\" />\n",
       "<line x1=\"520\" y1=\"420\" x2=\"620\" y2=\"320\" style=\"fill:none; stroke:black; stroke-width:\"2\" />\n",
       "<line x1=\"620\" y1=\"420\" x2=\"720\" y2=\"420\" style=\"fill:none; stroke:black; stroke-width:\"2\" />\n",
       "<line x1=\"620\" y1=\"420\" x2=\"620\" y2=\"320\" style=\"fill:none; stroke:black; stroke-width:\"2\" />\n",
       "<line x1=\"620\" y1=\"420\" x2=\"720\" y2=\"320\" style=\"fill:none; stroke:black; stroke-width:\"2\" />\n",
       "<line x1=\"720\" y1=\"420\" x2=\"820\" y2=\"420\" style=\"fill:none; stroke:black; stroke-width:\"2\" />\n",
       "<line x1=\"720\" y1=\"420\" x2=\"720\" y2=\"320\" style=\"fill:none; stroke:black; stroke-width:\"2\" />\n",
       "<line x1=\"720\" y1=\"420\" x2=\"820\" y2=\"320\" style=\"fill:none; stroke:black; stroke-width:\"2\" />\n",
       "<line x1=\"820\" y1=\"420\" x2=\"820\" y2=\"320\" style=\"fill:none; stroke:black; stroke-width:\"2\" />\n",
       "<line x1=\"20\" y1=\"320\" x2=\"120\" y2=\"320\" style=\"fill:none; stroke:black; stroke-width:\"2\" />\n",
       "<line x1=\"20\" y1=\"320\" x2=\"20\" y2=\"220\" style=\"fill:none; stroke:black; stroke-width:\"2\" />\n",
       "<line x1=\"20\" y1=\"320\" x2=\"120\" y2=\"220\" style=\"fill:none; stroke:black; stroke-width:\"2\" />\n",
       "<line x1=\"120\" y1=\"320\" x2=\"220\" y2=\"320\" style=\"fill:none; stroke:black; stroke-width:\"2\" />\n",
       "<line x1=\"120\" y1=\"320\" x2=\"120\" y2=\"220\" style=\"fill:none; stroke:black; stroke-width:\"2\" />\n",
       "<line x1=\"120\" y1=\"320\" x2=\"220\" y2=\"220\" style=\"fill:none; stroke:black; stroke-width:\"2\" />\n",
       "<line x1=\"220\" y1=\"320\" x2=\"320\" y2=\"320\" style=\"fill:none; stroke:black; stroke-width:\"2\" />\n",
       "<line x1=\"220\" y1=\"320\" x2=\"220\" y2=\"220\" style=\"fill:none; stroke:black; stroke-width:\"2\" />\n",
       "<line x1=\"220\" y1=\"320\" x2=\"320\" y2=\"220\" style=\"fill:none; stroke:black; stroke-width:\"2\" />\n",
       "<line x1=\"320\" y1=\"320\" x2=\"420\" y2=\"320\" style=\"fill:none; stroke:black; stroke-width:\"2\" />\n",
       "<line x1=\"320\" y1=\"320\" x2=\"320\" y2=\"220\" style=\"fill:none; stroke:black; stroke-width:\"2\" />\n",
       "<line x1=\"320\" y1=\"320\" x2=\"420\" y2=\"220\" style=\"fill:none; stroke:black; stroke-width:\"2\" />\n",
       "<line x1=\"420\" y1=\"320\" x2=\"520\" y2=\"320\" style=\"fill:none; stroke:black; stroke-width:\"2\" />\n",
       "<line x1=\"420\" y1=\"320\" x2=\"420\" y2=\"220\" style=\"fill:none; stroke:black; stroke-width:\"2\" />\n",
       "<line x1=\"420\" y1=\"320\" x2=\"520\" y2=\"220\" style=\"fill:none; stroke:black; stroke-width:\"2\" />\n",
       "<line x1=\"520\" y1=\"320\" x2=\"620\" y2=\"320\" style=\"fill:none; stroke:black; stroke-width:\"2\" />\n",
       "<line x1=\"520\" y1=\"320\" x2=\"520\" y2=\"220\" style=\"fill:none; stroke:black; stroke-width:\"2\" />\n",
       "<line x1=\"520\" y1=\"320\" x2=\"620\" y2=\"220\" style=\"fill:none; stroke:black; stroke-width:\"2\" />\n",
       "<line x1=\"620\" y1=\"320\" x2=\"720\" y2=\"320\" style=\"fill:none; stroke:black; stroke-width:\"2\" />\n",
       "<line x1=\"620\" y1=\"320\" x2=\"620\" y2=\"220\" style=\"fill:none; stroke:black; stroke-width:\"2\" />\n",
       "<line x1=\"620\" y1=\"320\" x2=\"720\" y2=\"220\" style=\"fill:none; stroke:black; stroke-width:\"2\" />\n",
       "<line x1=\"720\" y1=\"320\" x2=\"820\" y2=\"320\" style=\"fill:none; stroke:black; stroke-width:\"2\" />\n",
       "<line x1=\"720\" y1=\"320\" x2=\"720\" y2=\"220\" style=\"fill:none; stroke:black; stroke-width:\"2\" />\n",
       "<line x1=\"720\" y1=\"320\" x2=\"820\" y2=\"220\" style=\"fill:none; stroke:black; stroke-width:\"2\" />\n",
       "<line x1=\"820\" y1=\"320\" x2=\"820\" y2=\"220\" style=\"fill:none; stroke:black; stroke-width:\"2\" />\n",
       "<line x1=\"20\" y1=\"220\" x2=\"120\" y2=\"220\" style=\"fill:none; stroke:black; stroke-width:\"2\" />\n",
       "<line x1=\"20\" y1=\"220\" x2=\"20\" y2=\"120\" style=\"fill:none; stroke:black; stroke-width:\"2\" />\n",
       "<line x1=\"20\" y1=\"220\" x2=\"120\" y2=\"120\" style=\"fill:none; stroke:black; stroke-width:\"2\" />\n",
       "<line x1=\"120\" y1=\"220\" x2=\"220\" y2=\"220\" style=\"fill:none; stroke:black; stroke-width:\"2\" />\n",
       "<line x1=\"120\" y1=\"220\" x2=\"120\" y2=\"120\" style=\"fill:none; stroke:black; stroke-width:\"2\" />\n",
       "<line x1=\"120\" y1=\"220\" x2=\"220\" y2=\"120\" style=\"fill:none; stroke:black; stroke-width:\"2\" />\n",
       "<line x1=\"220\" y1=\"220\" x2=\"320\" y2=\"220\" style=\"fill:none; stroke:black; stroke-width:\"2\" />\n",
       "<line x1=\"220\" y1=\"220\" x2=\"220\" y2=\"120\" style=\"fill:none; stroke:black; stroke-width:\"2\" />\n",
       "<line x1=\"220\" y1=\"220\" x2=\"320\" y2=\"120\" style=\"fill:none; stroke:black; stroke-width:\"2\" />\n",
       "<line x1=\"320\" y1=\"220\" x2=\"420\" y2=\"220\" style=\"fill:none; stroke:black; stroke-width:\"2\" />\n",
       "<line x1=\"320\" y1=\"220\" x2=\"320\" y2=\"120\" style=\"fill:none; stroke:black; stroke-width:\"2\" />\n",
       "<line x1=\"320\" y1=\"220\" x2=\"420\" y2=\"120\" style=\"fill:none; stroke:black; stroke-width:\"2\" />\n",
       "<line x1=\"420\" y1=\"220\" x2=\"520\" y2=\"220\" style=\"fill:none; stroke:black; stroke-width:\"2\" />\n",
       "<line x1=\"420\" y1=\"220\" x2=\"420\" y2=\"120\" style=\"fill:none; stroke:black; stroke-width:\"2\" />\n",
       "<line x1=\"420\" y1=\"220\" x2=\"520\" y2=\"120\" style=\"fill:none; stroke:black; stroke-width:\"2\" />\n",
       "<line x1=\"520\" y1=\"220\" x2=\"620\" y2=\"220\" style=\"fill:none; stroke:black; stroke-width:\"2\" />\n",
       "<line x1=\"520\" y1=\"220\" x2=\"520\" y2=\"120\" style=\"fill:none; stroke:black; stroke-width:\"2\" />\n",
       "<line x1=\"520\" y1=\"220\" x2=\"620\" y2=\"120\" style=\"fill:none; stroke:black; stroke-width:\"2\" />\n",
       "<line x1=\"620\" y1=\"220\" x2=\"720\" y2=\"220\" style=\"fill:none; stroke:black; stroke-width:\"2\" />\n",
       "<line x1=\"620\" y1=\"220\" x2=\"620\" y2=\"120\" style=\"fill:none; stroke:black; stroke-width:\"2\" />\n",
       "<line x1=\"620\" y1=\"220\" x2=\"720\" y2=\"120\" style=\"fill:none; stroke:black; stroke-width:\"2\" />\n",
       "<line x1=\"720\" y1=\"220\" x2=\"820\" y2=\"220\" style=\"fill:none; stroke:black; stroke-width:\"2\" />\n",
       "<line x1=\"720\" y1=\"220\" x2=\"720\" y2=\"120\" style=\"fill:none; stroke:black; stroke-width:\"2\" />\n",
       "<line x1=\"720\" y1=\"220\" x2=\"820\" y2=\"120\" style=\"fill:none; stroke:black; stroke-width:\"2\" />\n",
       "<line x1=\"820\" y1=\"220\" x2=\"820\" y2=\"120\" style=\"fill:none; stroke:black; stroke-width:\"2\" />\n",
       "<line x1=\"20\" y1=\"120\" x2=\"120\" y2=\"120\" style=\"fill:none; stroke:black; stroke-width:\"2\" />\n",
       "<line x1=\"20\" y1=\"120\" x2=\"20\" y2=\"20\" style=\"fill:none; stroke:black; stroke-width:\"2\" />\n",
       "<line x1=\"20\" y1=\"120\" x2=\"120\" y2=\"20\" style=\"fill:none; stroke:black; stroke-width:\"2\" />\n",
       "<line x1=\"120\" y1=\"120\" x2=\"220\" y2=\"120\" style=\"fill:none; stroke:black; stroke-width:\"2\" />\n",
       "<line x1=\"120\" y1=\"120\" x2=\"120\" y2=\"20\" style=\"fill:none; stroke:black; stroke-width:\"2\" />\n",
       "<line x1=\"120\" y1=\"120\" x2=\"220\" y2=\"20\" style=\"fill:none; stroke:black; stroke-width:\"2\" />\n",
       "<line x1=\"220\" y1=\"120\" x2=\"320\" y2=\"120\" style=\"fill:none; stroke:black; stroke-width:\"2\" />\n",
       "<line x1=\"220\" y1=\"120\" x2=\"220\" y2=\"20\" style=\"fill:none; stroke:black; stroke-width:\"2\" />\n",
       "<line x1=\"220\" y1=\"120\" x2=\"320\" y2=\"20\" style=\"fill:none; stroke:black; stroke-width:\"2\" />\n",
       "<line x1=\"320\" y1=\"120\" x2=\"420\" y2=\"120\" style=\"fill:none; stroke:black; stroke-width:\"2\" />\n",
       "<line x1=\"320\" y1=\"120\" x2=\"320\" y2=\"20\" style=\"fill:none; stroke:black; stroke-width:\"2\" />\n",
       "<line x1=\"320\" y1=\"120\" x2=\"420\" y2=\"20\" style=\"fill:none; stroke:black; stroke-width:\"2\" />\n",
       "<line x1=\"420\" y1=\"120\" x2=\"520\" y2=\"120\" style=\"fill:none; stroke:black; stroke-width:\"2\" />\n",
       "<line x1=\"420\" y1=\"120\" x2=\"420\" y2=\"20\" style=\"fill:none; stroke:black; stroke-width:\"2\" />\n",
       "<line x1=\"420\" y1=\"120\" x2=\"520\" y2=\"20\" style=\"fill:none; stroke:black; stroke-width:\"2\" />\n",
       "<line x1=\"520\" y1=\"120\" x2=\"620\" y2=\"120\" style=\"fill:none; stroke:black; stroke-width:\"2\" />\n",
       "<line x1=\"520\" y1=\"120\" x2=\"520\" y2=\"20\" style=\"fill:none; stroke:black; stroke-width:\"2\" />\n",
       "<line x1=\"520\" y1=\"120\" x2=\"620\" y2=\"20\" style=\"fill:none; stroke:black; stroke-width:\"2\" />\n",
       "<line x1=\"620\" y1=\"120\" x2=\"720\" y2=\"120\" style=\"fill:none; stroke:black; stroke-width:\"2\" />\n",
       "<line x1=\"620\" y1=\"120\" x2=\"620\" y2=\"20\" style=\"fill:none; stroke:black; stroke-width:\"2\" />\n",
       "<line x1=\"620\" y1=\"120\" x2=\"720\" y2=\"20\" style=\"fill:none; stroke:black; stroke-width:\"2\" />\n",
       "<line x1=\"720\" y1=\"120\" x2=\"820\" y2=\"120\" style=\"fill:none; stroke:black; stroke-width:\"2\" />\n",
       "<line x1=\"720\" y1=\"120\" x2=\"720\" y2=\"20\" style=\"fill:none; stroke:black; stroke-width:\"2\" />\n",
       "<line x1=\"720\" y1=\"120\" x2=\"820\" y2=\"20\" style=\"fill:none; stroke:black; stroke-width:\"2\" />\n",
       "<line x1=\"820\" y1=\"120\" x2=\"820\" y2=\"20\" style=\"fill:none; stroke:black; stroke-width:\"2\" />\n",
       "<line x1=\"20\" y1=\"20\" x2=\"120\" y2=\"20\" style=\"fill:none; stroke:black; stroke-width:\"2\" />\n",
       "<line x1=\"120\" y1=\"20\" x2=\"220\" y2=\"20\" style=\"fill:none; stroke:black; stroke-width:\"2\" />\n",
       "<line x1=\"220\" y1=\"20\" x2=\"320\" y2=\"20\" style=\"fill:none; stroke:black; stroke-width:\"2\" />\n",
       "<line x1=\"320\" y1=\"20\" x2=\"420\" y2=\"20\" style=\"fill:none; stroke:black; stroke-width:\"2\" />\n",
       "<line x1=\"420\" y1=\"20\" x2=\"520\" y2=\"20\" style=\"fill:none; stroke:black; stroke-width:\"2\" />\n",
       "<line x1=\"520\" y1=\"20\" x2=\"620\" y2=\"20\" style=\"fill:none; stroke:black; stroke-width:\"2\" />\n",
       "<line x1=\"620\" y1=\"20\" x2=\"720\" y2=\"20\" style=\"fill:none; stroke:black; stroke-width:\"2\" />\n",
       "<line x1=\"720\" y1=\"20\" x2=\"820\" y2=\"20\" style=\"fill:none; stroke:black; stroke-width:\"2\" />\n",
       "    <circle cx=\"20\" cy=\"820\" r=\"2\" stroke=\"black\" stroke-width=\"0\" fill=\"red\" />\n",
       "<circle cx=\"120\" cy=\"820\" r=\"2\" stroke=\"black\" stroke-width=\"0\" fill=\"red\" />\n",
       "<circle cx=\"220\" cy=\"820\" r=\"2\" stroke=\"black\" stroke-width=\"0\" fill=\"red\" />\n",
       "<circle cx=\"320\" cy=\"820\" r=\"2\" stroke=\"black\" stroke-width=\"0\" fill=\"red\" />\n",
       "<circle cx=\"420\" cy=\"820\" r=\"2\" stroke=\"black\" stroke-width=\"0\" fill=\"red\" />\n",
       "<circle cx=\"520\" cy=\"820\" r=\"2\" stroke=\"black\" stroke-width=\"0\" fill=\"red\" />\n",
       "<circle cx=\"620\" cy=\"820\" r=\"2\" stroke=\"black\" stroke-width=\"0\" fill=\"red\" />\n",
       "<circle cx=\"720\" cy=\"820\" r=\"2\" stroke=\"black\" stroke-width=\"0\" fill=\"red\" />\n",
       "<circle cx=\"820\" cy=\"820\" r=\"2\" stroke=\"black\" stroke-width=\"0\" fill=\"red\" />\n",
       "<circle cx=\"20\" cy=\"720\" r=\"2\" stroke=\"black\" stroke-width=\"0\" fill=\"red\" />\n",
       "<circle cx=\"120\" cy=\"720\" r=\"2\" stroke=\"black\" stroke-width=\"0\" fill=\"red\" />\n",
       "<circle cx=\"220\" cy=\"720\" r=\"2\" stroke=\"black\" stroke-width=\"0\" fill=\"red\" />\n",
       "<circle cx=\"320\" cy=\"720\" r=\"2\" stroke=\"black\" stroke-width=\"0\" fill=\"red\" />\n",
       "<circle cx=\"420\" cy=\"720\" r=\"2\" stroke=\"black\" stroke-width=\"0\" fill=\"red\" />\n",
       "<circle cx=\"520\" cy=\"720\" r=\"2\" stroke=\"black\" stroke-width=\"0\" fill=\"red\" />\n",
       "<circle cx=\"620\" cy=\"720\" r=\"2\" stroke=\"black\" stroke-width=\"0\" fill=\"red\" />\n",
       "<circle cx=\"720\" cy=\"720\" r=\"2\" stroke=\"black\" stroke-width=\"0\" fill=\"red\" />\n",
       "<circle cx=\"820\" cy=\"720\" r=\"2\" stroke=\"black\" stroke-width=\"0\" fill=\"red\" />\n",
       "<circle cx=\"20\" cy=\"620\" r=\"2\" stroke=\"black\" stroke-width=\"0\" fill=\"red\" />\n",
       "<circle cx=\"120\" cy=\"620\" r=\"2\" stroke=\"black\" stroke-width=\"0\" fill=\"red\" />\n",
       "<circle cx=\"220\" cy=\"620\" r=\"2\" stroke=\"black\" stroke-width=\"0\" fill=\"red\" />\n",
       "<circle cx=\"320\" cy=\"620\" r=\"2\" stroke=\"black\" stroke-width=\"0\" fill=\"red\" />\n",
       "<circle cx=\"420\" cy=\"620\" r=\"2\" stroke=\"black\" stroke-width=\"0\" fill=\"red\" />\n",
       "<circle cx=\"520\" cy=\"620\" r=\"2\" stroke=\"black\" stroke-width=\"0\" fill=\"red\" />\n",
       "<circle cx=\"620\" cy=\"620\" r=\"2\" stroke=\"black\" stroke-width=\"0\" fill=\"red\" />\n",
       "<circle cx=\"720\" cy=\"620\" r=\"2\" stroke=\"black\" stroke-width=\"0\" fill=\"red\" />\n",
       "<circle cx=\"820\" cy=\"620\" r=\"2\" stroke=\"black\" stroke-width=\"0\" fill=\"red\" />\n",
       "<circle cx=\"20\" cy=\"520\" r=\"2\" stroke=\"black\" stroke-width=\"0\" fill=\"red\" />\n",
       "<circle cx=\"120\" cy=\"520\" r=\"2\" stroke=\"black\" stroke-width=\"0\" fill=\"red\" />\n",
       "<circle cx=\"220\" cy=\"520\" r=\"2\" stroke=\"black\" stroke-width=\"0\" fill=\"red\" />\n",
       "<circle cx=\"320\" cy=\"520\" r=\"2\" stroke=\"black\" stroke-width=\"0\" fill=\"red\" />\n",
       "<circle cx=\"420\" cy=\"520\" r=\"2\" stroke=\"black\" stroke-width=\"0\" fill=\"red\" />\n",
       "<circle cx=\"520\" cy=\"520\" r=\"2\" stroke=\"black\" stroke-width=\"0\" fill=\"red\" />\n",
       "<circle cx=\"620\" cy=\"520\" r=\"2\" stroke=\"black\" stroke-width=\"0\" fill=\"red\" />\n",
       "<circle cx=\"720\" cy=\"520\" r=\"2\" stroke=\"black\" stroke-width=\"0\" fill=\"red\" />\n",
       "<circle cx=\"820\" cy=\"520\" r=\"2\" stroke=\"black\" stroke-width=\"0\" fill=\"red\" />\n",
       "<circle cx=\"20\" cy=\"420\" r=\"2\" stroke=\"black\" stroke-width=\"0\" fill=\"red\" />\n",
       "<circle cx=\"120\" cy=\"420\" r=\"2\" stroke=\"black\" stroke-width=\"0\" fill=\"red\" />\n",
       "<circle cx=\"220\" cy=\"420\" r=\"2\" stroke=\"black\" stroke-width=\"0\" fill=\"red\" />\n",
       "<circle cx=\"320\" cy=\"420\" r=\"2\" stroke=\"black\" stroke-width=\"0\" fill=\"red\" />\n",
       "<circle cx=\"420\" cy=\"420\" r=\"2\" stroke=\"black\" stroke-width=\"0\" fill=\"red\" />\n",
       "<circle cx=\"520\" cy=\"420\" r=\"2\" stroke=\"black\" stroke-width=\"0\" fill=\"red\" />\n",
       "<circle cx=\"620\" cy=\"420\" r=\"2\" stroke=\"black\" stroke-width=\"0\" fill=\"red\" />\n",
       "<circle cx=\"720\" cy=\"420\" r=\"2\" stroke=\"black\" stroke-width=\"0\" fill=\"red\" />\n",
       "<circle cx=\"820\" cy=\"420\" r=\"2\" stroke=\"black\" stroke-width=\"0\" fill=\"red\" />\n",
       "<circle cx=\"20\" cy=\"320\" r=\"2\" stroke=\"black\" stroke-width=\"0\" fill=\"red\" />\n",
       "<circle cx=\"120\" cy=\"320\" r=\"2\" stroke=\"black\" stroke-width=\"0\" fill=\"red\" />\n",
       "<circle cx=\"220\" cy=\"320\" r=\"2\" stroke=\"black\" stroke-width=\"0\" fill=\"red\" />\n",
       "<circle cx=\"320\" cy=\"320\" r=\"2\" stroke=\"black\" stroke-width=\"0\" fill=\"red\" />\n",
       "<circle cx=\"420\" cy=\"320\" r=\"2\" stroke=\"black\" stroke-width=\"0\" fill=\"red\" />\n",
       "<circle cx=\"520\" cy=\"320\" r=\"2\" stroke=\"black\" stroke-width=\"0\" fill=\"red\" />\n",
       "<circle cx=\"620\" cy=\"320\" r=\"2\" stroke=\"black\" stroke-width=\"0\" fill=\"red\" />\n",
       "<circle cx=\"720\" cy=\"320\" r=\"2\" stroke=\"black\" stroke-width=\"0\" fill=\"red\" />\n",
       "<circle cx=\"820\" cy=\"320\" r=\"2\" stroke=\"black\" stroke-width=\"0\" fill=\"red\" />\n",
       "<circle cx=\"20\" cy=\"220\" r=\"2\" stroke=\"black\" stroke-width=\"0\" fill=\"red\" />\n",
       "<circle cx=\"120\" cy=\"220\" r=\"2\" stroke=\"black\" stroke-width=\"0\" fill=\"red\" />\n",
       "<circle cx=\"220\" cy=\"220\" r=\"2\" stroke=\"black\" stroke-width=\"0\" fill=\"red\" />\n",
       "<circle cx=\"320\" cy=\"220\" r=\"2\" stroke=\"black\" stroke-width=\"0\" fill=\"red\" />\n",
       "<circle cx=\"420\" cy=\"220\" r=\"2\" stroke=\"black\" stroke-width=\"0\" fill=\"red\" />\n",
       "<circle cx=\"520\" cy=\"220\" r=\"2\" stroke=\"black\" stroke-width=\"0\" fill=\"red\" />\n",
       "<circle cx=\"620\" cy=\"220\" r=\"2\" stroke=\"black\" stroke-width=\"0\" fill=\"red\" />\n",
       "<circle cx=\"720\" cy=\"220\" r=\"2\" stroke=\"black\" stroke-width=\"0\" fill=\"red\" />\n",
       "<circle cx=\"820\" cy=\"220\" r=\"2\" stroke=\"black\" stroke-width=\"0\" fill=\"red\" />\n",
       "<circle cx=\"20\" cy=\"120\" r=\"2\" stroke=\"black\" stroke-width=\"0\" fill=\"red\" />\n",
       "<circle cx=\"120\" cy=\"120\" r=\"2\" stroke=\"black\" stroke-width=\"0\" fill=\"red\" />\n",
       "<circle cx=\"220\" cy=\"120\" r=\"2\" stroke=\"black\" stroke-width=\"0\" fill=\"red\" />\n",
       "<circle cx=\"320\" cy=\"120\" r=\"2\" stroke=\"black\" stroke-width=\"0\" fill=\"red\" />\n",
       "<circle cx=\"420\" cy=\"120\" r=\"2\" stroke=\"black\" stroke-width=\"0\" fill=\"red\" />\n",
       "<circle cx=\"520\" cy=\"120\" r=\"2\" stroke=\"black\" stroke-width=\"0\" fill=\"red\" />\n",
       "<circle cx=\"620\" cy=\"120\" r=\"2\" stroke=\"black\" stroke-width=\"0\" fill=\"red\" />\n",
       "<circle cx=\"720\" cy=\"120\" r=\"2\" stroke=\"black\" stroke-width=\"0\" fill=\"red\" />\n",
       "<circle cx=\"820\" cy=\"120\" r=\"2\" stroke=\"black\" stroke-width=\"0\" fill=\"red\" />\n",
       "<circle cx=\"20\" cy=\"20\" r=\"2\" stroke=\"black\" stroke-width=\"0\" fill=\"red\" />\n",
       "<circle cx=\"120\" cy=\"20\" r=\"2\" stroke=\"black\" stroke-width=\"0\" fill=\"red\" />\n",
       "<circle cx=\"220\" cy=\"20\" r=\"2\" stroke=\"black\" stroke-width=\"0\" fill=\"red\" />\n",
       "<circle cx=\"320\" cy=\"20\" r=\"2\" stroke=\"black\" stroke-width=\"0\" fill=\"red\" />\n",
       "<circle cx=\"420\" cy=\"20\" r=\"2\" stroke=\"black\" stroke-width=\"0\" fill=\"red\" />\n",
       "<circle cx=\"520\" cy=\"20\" r=\"2\" stroke=\"black\" stroke-width=\"0\" fill=\"red\" />\n",
       "<circle cx=\"620\" cy=\"20\" r=\"2\" stroke=\"black\" stroke-width=\"0\" fill=\"red\" />\n",
       "<circle cx=\"720\" cy=\"20\" r=\"2\" stroke=\"black\" stroke-width=\"0\" fill=\"red\" />\n",
       "<circle cx=\"820\" cy=\"20\" r=\"2\" stroke=\"black\" stroke-width=\"0\" fill=\"red\" />\n",
       "    </svg>\n",
       "    "
      ],
      "text/html": [
       "<!DOCTYPE html>\n",
       "<html>\n",
       "  <head>\n",
       "    <meta http-equiv=\"content-type\" content=\"text/html;charset=UTF-8\" />\n",
       "    <meta name=\"generator\" content=\"FEniCS/DOLFIN (http://fenicsproject.org)\" />\n",
       "    <title>FEniCS/DOLFIN X3DOM plot</title>\n",
       "    <script type=\"text/javascript\" src=\"http://www.x3dom.org/download/x3dom.js\"></script>\n",
       "    <script type=\"text/javascript\" src=\"https://code.jquery.com/jquery-3.1.0.js\"></script>\n",
       "    <script type=\"text/javascript\" src=\"https://rawgit.com/plscott/fenics-x3dom/master/x3dom_support.js\"></script>\n",
       "    <link rel=\"stylesheet\" type=\"text/css\" href=\"http://www.x3dom.org/download/x3dom.css\" />\n",
       "    <link rel=\"stylesheet\" type=\"text/css\" href=\"https://rawgit.com/plscott/fenics-x3dom/master/x3dom_support.css\" />\n",
       "  </head>\n",
       "  <body>\n",
       "    <x3d showStat=\"false\" xmlns=\"http://www.web3d.org/specifications/x3d-namespace\" width=\"500.000000px\" height=\"400.000000px\">\n",
       "      <scene>\n",
       "        <shape>\n",
       "          <appearance>\n",
       "            <material diffuseColor=\"1.000000 1.000000 1.000000\" emissiveColor=\"0.000000 0.000000 0.000000\" specularColor=\"0.000000 0.000000 0.000000\" ambientIntensity=\"0\" shininess=\"0.5\" transparency=\"0\"></material>\n",
       "          </appearance>\n",
       "          <indexedFaceSet solid=\"false\" colorPerVertex=\"false\" coordIndex=\"0 1 10 -1 0 9 10 -1 1 2 11 -1 1 10 11 -1 2 3 12 -1 2 11 12 -1 3 4 13 -1 3 12 13 -1 4 5 14 -1 4 13 14 -1 5 6 15 -1 5 14 15 -1 6 7 16 -1 6 15 16 -1 7 8 17 -1 7 16 17 -1 9 10 19 -1 9 18 19 -1 10 11 20 -1 10 19 20 -1 11 12 21 -1 11 20 21 -1 12 13 22 -1 12 21 22 -1 13 14 23 -1 13 22 23 -1 14 15 24 -1 14 23 24 -1 15 16 25 -1 15 24 25 -1 16 17 26 -1 16 25 26 -1 18 19 28 -1 18 27 28 -1 19 20 29 -1 19 28 29 -1 20 21 30 -1 20 29 30 -1 21 22 31 -1 21 30 31 -1 22 23 32 -1 22 31 32 -1 23 24 33 -1 23 32 33 -1 24 25 34 -1 24 33 34 -1 25 26 35 -1 25 34 35 -1 27 28 37 -1 27 36 37 -1 28 29 38 -1 28 37 38 -1 29 30 39 -1 29 38 39 -1 30 31 40 -1 30 39 40 -1 31 32 41 -1 31 40 41 -1 32 33 42 -1 32 41 42 -1 33 34 43 -1 33 42 43 -1 34 35 44 -1 34 43 44 -1 36 37 46 -1 36 45 46 -1 37 38 47 -1 37 46 47 -1 38 39 48 -1 38 47 48 -1 39 40 49 -1 39 48 49 -1 40 41 50 -1 40 49 50 -1 41 42 51 -1 41 50 51 -1 42 43 52 -1 42 51 52 -1 43 44 53 -1 43 52 53 -1 45 46 55 -1 45 54 55 -1 46 47 56 -1 46 55 56 -1 47 48 57 -1 47 56 57 -1 48 49 58 -1 48 57 58 -1 49 50 59 -1 49 58 59 -1 50 51 60 -1 50 59 60 -1 51 52 61 -1 51 60 61 -1 52 53 62 -1 52 61 62 -1 54 55 64 -1 54 63 64 -1 55 56 65 -1 55 64 65 -1 56 57 66 -1 56 65 66 -1 57 58 67 -1 57 66 67 -1 58 59 68 -1 58 67 68 -1 59 60 69 -1 59 68 69 -1 60 61 70 -1 60 69 70 -1 61 62 71 -1 61 70 71 -1 63 64 73 -1 63 72 73 -1 64 65 74 -1 64 73 74 -1 65 66 75 -1 65 74 75 -1 66 67 76 -1 66 75 76 -1 67 68 77 -1 67 76 77 -1 68 69 78 -1 68 77 78 -1 69 70 79 -1 69 78 79 -1 70 71 80 -1 70 79 80 -1 \">\n",
       "            <coordinate point=\"0 0 0 0.125 0 0 0.25 0 0 0.375 0 0 0.5 0 0 0.625 0 0 0.75 0 0 0.875 0 0 1 0 0 0 0.125 0 0.125 0.125 0 0.25 0.125 0 0.375 0.125 0 0.5 0.125 0 0.625 0.125 0 0.75 0.125 0 0.875 0.125 0 1 0.125 0 0 0.25 0 0.125 0.25 0 0.25 0.25 0 0.375 0.25 0 0.5 0.25 0 0.625 0.25 0 0.75 0.25 0 0.875 0.25 0 1 0.25 0 0 0.375 0 0.125 0.375 0 0.25 0.375 0 0.375 0.375 0 0.5 0.375 0 0.625 0.375 0 0.75 0.375 0 0.875 0.375 0 1 0.375 0 0 0.5 0 0.125 0.5 0 0.25 0.5 0 0.375 0.5 0 0.5 0.5 0 0.625 0.5 0 0.75 0.5 0 0.875 0.5 0 1 0.5 0 0 0.625 0 0.125 0.625 0 0.25 0.625 0 0.375 0.625 0 0.5 0.625 0 0.625 0.625 0 0.75 0.625 0 0.875 0.625 0 1 0.625 0 0 0.75 0 0.125 0.75 0 0.25 0.75 0 0.375 0.75 0 0.5 0.75 0 0.625 0.75 0 0.75 0.75 0 0.875 0.75 0 1 0.75 0 0 0.875 0 0.125 0.875 0 0.25 0.875 0 0.375 0.875 0 0.5 0.875 0 0.625 0.875 0 0.75 0.875 0 0.875 0.875 0 1 0.875 0 0 1 0 0.125 1 0 0.25 1 0 0.375 1 0 0.5 1 0 0.625 1 0 0.75 1 0 0.875 1 0 1 1 0 \"></coordinate>\n",
       "          </indexedFaceSet>\n",
       "        </shape>\n",
       "        <shape>\n",
       "          <appearance>\n",
       "            <material emissiveColor=\"0.000000 0.000000 0.000000\" specularColor=\"0.000000 0.000000 0.000000\" ambientIntensity=\"0\" shininess=\"0.5\" transparency=\"0\"></material>\n",
       "          </appearance>\n",
       "          <indexedLineSet solid=\"false\" colorPerVertex=\"false\" coordIndex=\"0 1 -1 0 9 -1 0 10 -1 1 2 -1 1 10 -1 1 11 -1 2 3 -1 2 11 -1 2 12 -1 3 4 -1 3 12 -1 3 13 -1 4 5 -1 4 13 -1 4 14 -1 5 6 -1 5 14 -1 5 15 -1 6 7 -1 6 15 -1 6 16 -1 7 8 -1 7 16 -1 7 17 -1 8 17 -1 9 10 -1 9 18 -1 9 19 -1 10 11 -1 10 19 -1 10 20 -1 11 12 -1 11 20 -1 11 21 -1 12 13 -1 12 21 -1 12 22 -1 13 14 -1 13 22 -1 13 23 -1 14 15 -1 14 23 -1 14 24 -1 15 16 -1 15 24 -1 15 25 -1 16 17 -1 16 25 -1 16 26 -1 17 26 -1 18 19 -1 18 27 -1 18 28 -1 19 20 -1 19 28 -1 19 29 -1 20 21 -1 20 29 -1 20 30 -1 21 22 -1 21 30 -1 21 31 -1 22 23 -1 22 31 -1 22 32 -1 23 24 -1 23 32 -1 23 33 -1 24 25 -1 24 33 -1 24 34 -1 25 26 -1 25 34 -1 25 35 -1 26 35 -1 27 28 -1 27 36 -1 27 37 -1 28 29 -1 28 37 -1 28 38 -1 29 30 -1 29 38 -1 29 39 -1 30 31 -1 30 39 -1 30 40 -1 31 32 -1 31 40 -1 31 41 -1 32 33 -1 32 41 -1 32 42 -1 33 34 -1 33 42 -1 33 43 -1 34 35 -1 34 43 -1 34 44 -1 35 44 -1 36 37 -1 36 45 -1 36 46 -1 37 38 -1 37 46 -1 37 47 -1 38 39 -1 38 47 -1 38 48 -1 39 40 -1 39 48 -1 39 49 -1 40 41 -1 40 49 -1 40 50 -1 41 42 -1 41 50 -1 41 51 -1 42 43 -1 42 51 -1 42 52 -1 43 44 -1 43 52 -1 43 53 -1 44 53 -1 45 46 -1 45 54 -1 45 55 -1 46 47 -1 46 55 -1 46 56 -1 47 48 -1 47 56 -1 47 57 -1 48 49 -1 48 57 -1 48 58 -1 49 50 -1 49 58 -1 49 59 -1 50 51 -1 50 59 -1 50 60 -1 51 52 -1 51 60 -1 51 61 -1 52 53 -1 52 61 -1 52 62 -1 53 62 -1 54 55 -1 54 63 -1 54 64 -1 55 56 -1 55 64 -1 55 65 -1 56 57 -1 56 65 -1 56 66 -1 57 58 -1 57 66 -1 57 67 -1 58 59 -1 58 67 -1 58 68 -1 59 60 -1 59 68 -1 59 69 -1 60 61 -1 60 69 -1 60 70 -1 61 62 -1 61 70 -1 61 71 -1 62 71 -1 63 64 -1 63 72 -1 63 73 -1 64 65 -1 64 73 -1 64 74 -1 65 66 -1 65 74 -1 65 75 -1 66 67 -1 66 75 -1 66 76 -1 67 68 -1 67 76 -1 67 77 -1 68 69 -1 68 77 -1 68 78 -1 69 70 -1 69 78 -1 69 79 -1 70 71 -1 70 79 -1 70 80 -1 71 80 -1 72 73 -1 73 74 -1 74 75 -1 75 76 -1 76 77 -1 77 78 -1 78 79 -1 79 80 -1 \">\n",
       "            <coordinate point=\"0 0 0 0.125 0 0 0.25 0 0 0.375 0 0 0.5 0 0 0.625 0 0 0.75 0 0 0.875 0 0 1 0 0 0 0.125 0 0.125 0.125 0 0.25 0.125 0 0.375 0.125 0 0.5 0.125 0 0.625 0.125 0 0.75 0.125 0 0.875 0.125 0 1 0.125 0 0 0.25 0 0.125 0.25 0 0.25 0.25 0 0.375 0.25 0 0.5 0.25 0 0.625 0.25 0 0.75 0.25 0 0.875 0.25 0 1 0.25 0 0 0.375 0 0.125 0.375 0 0.25 0.375 0 0.375 0.375 0 0.5 0.375 0 0.625 0.375 0 0.75 0.375 0 0.875 0.375 0 1 0.375 0 0 0.5 0 0.125 0.5 0 0.25 0.5 0 0.375 0.5 0 0.5 0.5 0 0.625 0.5 0 0.75 0.5 0 0.875 0.5 0 1 0.5 0 0 0.625 0 0.125 0.625 0 0.25 0.625 0 0.375 0.625 0 0.5 0.625 0 0.625 0.625 0 0.75 0.625 0 0.875 0.625 0 1 0.625 0 0 0.75 0 0.125 0.75 0 0.25 0.75 0 0.375 0.75 0 0.5 0.75 0 0.625 0.75 0 0.75 0.75 0 0.875 0.75 0 1 0.75 0 0 0.875 0 0.125 0.875 0 0.25 0.875 0 0.375 0.875 0 0.5 0.875 0 0.625 0.875 0 0.75 0.875 0 0.875 0.875 0 1 0.875 0 0 1 0 0.125 1 0 0.25 1 0 0.375 1 0 0.5 1 0 0.625 1 0 0.75 1 0 0.875 1 0 1 1 0 \"></coordinate>\n",
       "          </indexedLineSet>\n",
       "        </shape>\n",
       "        <viewpoint id=\"default\" position=\"1.914214 1.914214 1.414214\" orientation=\"-0.7071067812 0.7071067812 0 1\" fieldOfView=\"0.785398\" centerOfRotation=\"0.500000 0.500000 0.000000\" zNear=\"-1\" zFar=\"-1\"></viewpoint>\n",
       "        <viewpoint id=\"top\" position=\"0.500000 2.500000 0.000000\" orientation=\"-1 0 0 1.5707963267948\" fieldOfView=\"0.785398\" centerOfRotation=\"0.500000 0.500000 0.000000\" zNear=\"-1\" zFar=\"-1\"></viewpoint>\n",
       "        <viewpoint id=\"bottom\" position=\"0.500000 -1.500000 0.000000\" orientation=\"1 0 0 1.5707963267948\" fieldOfView=\"0.785398\" centerOfRotation=\"0.500000 0.500000 0.000000\" zNear=\"-1\" zFar=\"-1\"></viewpoint>\n",
       "        <viewpoint id=\"left\" position=\"2.500000 0.500000 0.000000\" orientation=\"0 1 0 1.5707963267948\" fieldOfView=\"0.785398\" centerOfRotation=\"0.500000 0.500000 0.000000\" zNear=\"-1\" zFar=\"-1\"></viewpoint>\n",
       "        <viewpoint id=\"right\" position=\"-1.500000 0.500000 0.000000\" orientation=\"0 -1 0 1.5707963267948\" fieldOfView=\"0.785398\" centerOfRotation=\"0.500000 0.500000 0.000000\" zNear=\"-1\" zFar=\"-1\"></viewpoint>\n",
       "        <viewpoint id=\"back\" position=\"0.500000 0.500000 -2.000000\" orientation=\"0 1 0 3.1415926535898\" fieldOfView=\"0.785398\" centerOfRotation=\"0.500000 0.500000 0.000000\" zNear=\"-1\" zFar=\"-1\"></viewpoint>\n",
       "        <viewpoint id=\"front\" position=\"0.500000 0.500000 2.000000\" orientation=\"0 0 0 1\" fieldOfView=\"0.785398\" centerOfRotation=\"0.500000 0.500000 0.000000\" zNear=\"-1\" zFar=\"-1\"></viewpoint>\n",
       "        <background skyColor=\"0.950000 0.950000 0.950000\"></background>\n",
       "        <directionalLight ambientIntensity=\"0\" intensity=\"1\"></directionalLight>\n",
       "      </scene>\n",
       "    </x3d>\n",
       "    <div id=\"menu\"><form id=\"menu-items\"><input type=\"radio\" id=\"button-options\" name=\"menu\" checked=\"\" />\n",
       "        <label for=\"button-options\">Options</label>\n",
       "        <input type=\"radio\" id=\"button-summary\" name=\"menu\" />\n",
       "        <label for=\"button-summary\" style=\"display: none;\">Summary</label>\n",
       "        <input type=\"radio\" id=\"button-color\" name=\"menu\" />\n",
       "        <label for=\"button-color\" style=\"display: none;\">Color</label>\n",
       "        <input type=\"radio\" id=\"button-warp\" name=\"menu\" />\n",
       "        <label for=\"button-warp\" style=\"display: none;\">Warp</label>\n",
       "        <input type=\"radio\" id=\"button-viewpoints\" name=\"menu\" />\n",
       "        <label for=\"button-viewpoints\" style=\"display: none;\">Viewpoints</label>\n",
       "      </form>\n",
       "      <div id=\"menu-content\"><div id=\"content-options\" for=\"button-options\"><span>Menu Options</span>\n",
       "          <br />\n",
       "          <form class=\"options\"><input type=\"checkbox\" id=\"select-summary\" />\n",
       "            <label for=\"select-summary\">Summary</label>\n",
       "          </form>\n",
       "          <br />\n",
       "          <form class=\"options\"><input type=\"checkbox\" id=\"select-color\" />\n",
       "            <label for=\"select-color\">Color</label>\n",
       "          </form>\n",
       "          <br />\n",
       "          <form class=\"options\"><input type=\"checkbox\" id=\"select-warp\" />\n",
       "            <label for=\"select-warp\">Warp</label>\n",
       "          </form>\n",
       "          <br />\n",
       "          <form class=\"options\"><input type=\"checkbox\" id=\"select-viewpoints\" />\n",
       "            <label for=\"select-viewpoints\">Viewpoints</label>\n",
       "          </form>\n",
       "        </div>\n",
       "        <div id=\"content-summary\" for=\"button-summary\" hidden=\"\">Number of vertices: 81<br />Number of cells: 128</div>\n",
       "        <div id=\"content-color\" for=\"button-color\" hidden=\"\"><form>\n",
       "            <input id=\"color-checkbox\" type=\"checkbox\" checked=\"\" />\n",
       "            <label for=\"color-checkbox\">Show Color</label>\n",
       "          </form>Current Color Map:<br />\n",
       "          <span id=\"min-color-value\"></span>\n",
       "          <span id=\"color-map\"></span>\n",
       "          <span id=\"max-color-value\"></span>\n",
       "        </div>\n",
       "        <div id=\"content-warp\" for=\"button-warp\" hidden=\"\"><form>\n",
       "            <input id=\"warp-checkbox\" type=\"checkbox\" />\n",
       "            <label for=\"warp-checkbox\">Warp By Scalar</label>\n",
       "            <br />\n",
       "            <input id=\"warp-slider\" type=\"range\" min=\"0\" max=\"5\" step=\"0.01\" value=\"1\" disabled=\"\" />\n",
       "            <br />\n",
       "            <label id=\"warp-slider-val\" for=\"warp-slider\">1</label>\n",
       "          </form>\n",
       "        </div>\n",
       "        <div id=\"content-viewpoints\" for=\"button-viewpoints\" hidden=\"\"><span>Viewpoint Options</span>\n",
       "          <br />\n",
       "          <button class=\"viewpoint\">front</button>\n",
       "          <button class=\"viewpoint\">back</button>\n",
       "          <button class=\"viewpoint\">left</button>\n",
       "          <br />\n",
       "          <button class=\"viewpoint\">right</button>\n",
       "          <button class=\"viewpoint\">top</button>\n",
       "          <button class=\"viewpoint\">bottom</button>\n",
       "        </div>\n",
       "      </div>\n",
       "    </div>\n",
       "  </body>\n",
       "</html>\n"
      ],
      "text/plain": [
       "<dolfin.cpp.mesh.UnitSquareMesh; proxy of <Swig Object of type 'std::shared_ptr< dolfin::UnitSquareMesh > *' at 0x7f56b33b29f0> >"
      ]
     },
     "execution_count": 31,
     "metadata": {},
     "output_type": "execute_result"
    }
   ],
   "source": [
    "mesh"
   ]
  },
  {
   "cell_type": "code",
   "execution_count": 32,
   "metadata": {
    "collapsed": true
   },
   "outputs": [],
   "source": [
    "V = fn.FunctionSpace(mesh, 'P', 1)"
   ]
  },
  {
   "cell_type": "code",
   "execution_count": 33,
   "metadata": {},
   "outputs": [
    {
     "data": {
      "text/plain": [
       "FunctionSpace(Mesh(VectorElement(FiniteElement('Lagrange', triangle, 1), dim=2), 0), FiniteElement('Lagrange', triangle, 1))"
      ]
     },
     "execution_count": 33,
     "metadata": {},
     "output_type": "execute_result"
    }
   ],
   "source": [
    "V"
   ]
  },
  {
   "cell_type": "code",
   "execution_count": 34,
   "metadata": {
    "collapsed": true
   },
   "outputs": [],
   "source": [
    "u_D = fn.Expression('1 + x[0]*x[0] + 2*x[1]*x[1]', degree=2)"
   ]
  },
  {
   "cell_type": "code",
   "execution_count": 35,
   "metadata": {},
   "outputs": [
    {
     "data": {
      "image/png": "[encoded data removed]",
      "text/latex": [
       "${w_h^4}$"
      ],
      "text/plain": [
       "Coefficient(FunctionSpace(None, FiniteElement('Lagrange', None, 2)), 4)"
      ]
     },
     "execution_count": 35,
     "metadata": {},
     "output_type": "execute_result"
    }
   ],
   "source": [
    "u_D"
   ]
  },
  {
   "cell_type": "code",
   "execution_count": 36,
   "metadata": {
    "collapsed": true
   },
   "outputs": [],
   "source": [
    "def boundary(x, on_boundary):\n",
    "    return on_boundary"
   ]
  },
  {
   "cell_type": "code",
   "execution_count": 37,
   "metadata": {},
   "outputs": [
    {
     "data": {
      "text/plain": [
       "<dolfin.fem.bcs.DirichletBC; proxy of <Swig Object of type 'std::shared_ptr< dolfin::DirichletBC > *' at 0x7f56b0ad8a80> >"
      ]
     },
     "execution_count": 37,
     "metadata": {},
     "output_type": "execute_result"
    }
   ],
   "source": [
    "bc = fn.DirichletBC(V, u_D, boundary)\n",
    "bc"
   ]
  },
  {
   "cell_type": "code",
   "execution_count": 38,
   "metadata": {
    "collapsed": true
   },
   "outputs": [],
   "source": [
    "# Define variational problem\n",
    "u = fn.TrialFunction(V)\n",
    "v = fn.TestFunction(V)\n",
    "f = fn.Constant(-6.0)\n",
    "a = fn.dot(fn.grad(u), fn.grad(v))*fn.dx\n",
    "L = f*v*fn.dx"
   ]
  },
  {
   "cell_type": "code",
   "execution_count": 39,
   "metadata": {},
   "outputs": [
    {
     "data": {
      "image/png": "[encoded data removed]",
      "text/latex": [
       "${v_h^{1}}$"
      ],
      "text/plain": [
       "Argument(FunctionSpace(Mesh(VectorElement(FiniteElement('Lagrange', triangle, 1), dim=2), 0), FiniteElement('Lagrange', triangle, 1)), 1, None)"
      ]
     },
     "execution_count": 39,
     "metadata": {},
     "output_type": "execute_result"
    }
   ],
   "source": [
    "u"
   ]
  },
  {
   "cell_type": "code",
   "execution_count": 40,
   "metadata": {},
   "outputs": [
    {
     "data": {
      "image/png": "[encoded data removed]",
      "text/latex": [
       "${v_h^{0}}$"
      ],
      "text/plain": [
       "Argument(FunctionSpace(Mesh(VectorElement(FiniteElement('Lagrange', triangle, 1), dim=2), 0), FiniteElement('Lagrange', triangle, 1)), 0, None)"
      ]
     },
     "execution_count": 40,
     "metadata": {},
     "output_type": "execute_result"
    }
   ],
   "source": [
    "v"
   ]
  },
  {
   "cell_type": "code",
   "execution_count": 41,
   "metadata": {},
   "outputs": [
    {
     "data": {
      "image/png": "[encoded data removed]",
      "text/latex": [
       "${w_h^6}$"
      ],
      "text/plain": [
       "Coefficient(FunctionSpace(None, FiniteElement('Real', None, 0)), 6)"
      ]
     },
     "execution_count": 41,
     "metadata": {},
     "output_type": "execute_result"
    }
   ],
   "source": [
    "f"
   ]
  },
  {
   "cell_type": "code",
   "execution_count": 42,
   "metadata": {},
   "outputs": [
    {
     "data": {
      "text/plain": [
       "Form([Integral(Dot(Grad(Argument(FunctionSpace(Mesh(VectorElement(FiniteElement('Lagrange', triangle, 1), dim=2), 0), FiniteElement('Lagrange', triangle, 1)), 1, None)), Grad(Argument(FunctionSpace(Mesh(VectorElement(FiniteElement('Lagrange', triangle, 1), dim=2), 0), FiniteElement('Lagrange', triangle, 1)), 0, None))), 'cell', Mesh(VectorElement(FiniteElement('Lagrange', triangle, 1), dim=2), 0), 'everywhere', {}, None)])"
      ]
     },
     "execution_count": 42,
     "metadata": {},
     "output_type": "execute_result"
    }
   ],
   "source": [
    "a"
   ]
  },
  {
   "cell_type": "code",
   "execution_count": 43,
   "metadata": {},
   "outputs": [
    {
     "data": {
      "text/plain": [
       "Form([Integral(Product(Argument(FunctionSpace(Mesh(VectorElement(FiniteElement('Lagrange', triangle, 1), dim=2), 0), FiniteElement('Lagrange', triangle, 1)), 0, None), Coefficient(FunctionSpace(None, FiniteElement('Real', None, 0)), 6)), 'cell', Mesh(VectorElement(FiniteElement('Lagrange', triangle, 1), dim=2), 0), 'everywhere', {}, None)])"
      ]
     },
     "execution_count": 43,
     "metadata": {},
     "output_type": "execute_result"
    }
   ],
   "source": [
    "L"
   ]
  },
  {
   "cell_type": "code",
   "execution_count": 44,
   "metadata": {
    "collapsed": true
   },
   "outputs": [],
   "source": [
    "# Compute solution\n",
    "u = fn.Function(V)\n",
    "fn.solve(a == L, u, bc)"
   ]
  },
  {
   "cell_type": "code",
   "execution_count": 45,
   "metadata": {},
   "outputs": [
    {
     "data": {
      "image/png": "[encoded data removed]",
      "text/latex": [
       "${w_h^7}$"
      ],
      "text/plain": [
       "Coefficient(FunctionSpace(Mesh(VectorElement(FiniteElement('Lagrange', triangle, 1), dim=2), 0), FiniteElement('Lagrange', triangle, 1)), 7)"
      ]
     },
     "execution_count": 45,
     "metadata": {},
     "output_type": "execute_result"
    }
   ],
   "source": [
    "u"
   ]
  },
  {
   "cell_type": "code",
   "execution_count": 46,
   "metadata": {},
   "outputs": [
    {
     "data": {
      "image/png": "[encoded data removed]",
      "text/plain": [
       "<matplotlib.figure.Figure at 0x7f56b341b940>"
      ]
     },
     "metadata": {},
     "output_type": "display_data"
    }
   ],
   "source": [
    "fn.plot(u)\n",
    "fn.plot(mesh)\n",
    "fn.interactive()\n",
    "plt.show()"
   ]
  },
  {
   "cell_type": "code",
   "execution_count": 47,
   "metadata": {
    "collapsed": true
   },
   "outputs": [],
   "source": [
    "# Save solution to file in VTK format\n",
    "vtkfile = fn.File('poisson/solution.pvd')\n",
    "vtkfile << u"
   ]
  },
  {
   "cell_type": "code",
   "execution_count": 48,
   "metadata": {
    "collapsed": true
   },
   "outputs": [],
   "source": [
    "#manually extracting the data\n",
    "X = []; Y = []; U = []\n",
    "for v in fn.vertices(mesh):\n",
    "    x = v.point().x()\n",
    "    y = v.point().y()\n",
    "    X.append(x)\n",
    "    Y.append(y)\n",
    "    U.append(u(x,y))\n",
    "U = np.array(U).reshape(9,9)\n",
    "X = np.array(X).reshape(9,9)\n",
    "Y = np.array(Y).reshape(9,9)"
   ]
  },
  {
   "cell_type": "code",
   "execution_count": 49,
   "metadata": {},
   "outputs": [
    {
     "data": {
      "text/plain": [
       "array([[ 1.      ,  1.015625,  1.0625  ,  1.140625,  1.25    ,  1.390625,\n",
       "         1.5625  ,  1.765625,  2.      ],\n",
       "       [ 1.03125 ,  1.046875,  1.09375 ,  1.171875,  1.28125 ,  1.421875,\n",
       "         1.59375 ,  1.796875,  2.03125 ],\n",
       "       [ 1.125   ,  1.140625,  1.1875  ,  1.265625,  1.375   ,  1.515625,\n",
       "         1.6875  ,  1.890625,  2.125   ],\n",
       "       [ 1.28125 ,  1.296875,  1.34375 ,  1.421875,  1.53125 ,  1.671875,\n",
       "         1.84375 ,  2.046875,  2.28125 ],\n",
       "       [ 1.5     ,  1.515625,  1.5625  ,  1.640625,  1.75    ,  1.890625,\n",
       "         2.0625  ,  2.265625,  2.5     ],\n",
       "       [ 1.78125 ,  1.796875,  1.84375 ,  1.921875,  2.03125 ,  2.171875,\n",
       "         2.34375 ,  2.546875,  2.78125 ],\n",
       "       [ 2.125   ,  2.140625,  2.1875  ,  2.265625,  2.375   ,  2.515625,\n",
       "         2.6875  ,  2.890625,  3.125   ],\n",
       "       [ 2.53125 ,  2.546875,  2.59375 ,  2.671875,  2.78125 ,  2.921875,\n",
       "         3.09375 ,  3.296875,  3.53125 ],\n",
       "       [ 3.      ,  3.015625,  3.0625  ,  3.140625,  3.25    ,  3.390625,\n",
       "         3.5625  ,  3.765625,  4.      ]])"
      ]
     },
     "execution_count": 49,
     "metadata": {},
     "output_type": "execute_result"
    }
   ],
   "source": [
    "U"
   ]
  },
  {
   "cell_type": "code",
   "execution_count": 50,
   "metadata": {},
   "outputs": [
    {
     "data": {
      "text/plain": [
       "array([[ 0.   ,  0.125,  0.25 ,  0.375,  0.5  ,  0.625,  0.75 ,  0.875,  1.   ],\n",
       "       [ 0.   ,  0.125,  0.25 ,  0.375,  0.5  ,  0.625,  0.75 ,  0.875,  1.   ],\n",
       "       [ 0.   ,  0.125,  0.25 ,  0.375,  0.5  ,  0.625,  0.75 ,  0.875,  1.   ],\n",
       "       [ 0.   ,  0.125,  0.25 ,  0.375,  0.5  ,  0.625,  0.75 ,  0.875,  1.   ],\n",
       "       [ 0.   ,  0.125,  0.25 ,  0.375,  0.5  ,  0.625,  0.75 ,  0.875,  1.   ],\n",
       "       [ 0.   ,  0.125,  0.25 ,  0.375,  0.5  ,  0.625,  0.75 ,  0.875,  1.   ],\n",
       "       [ 0.   ,  0.125,  0.25 ,  0.375,  0.5  ,  0.625,  0.75 ,  0.875,  1.   ],\n",
       "       [ 0.   ,  0.125,  0.25 ,  0.375,  0.5  ,  0.625,  0.75 ,  0.875,  1.   ],\n",
       "       [ 0.   ,  0.125,  0.25 ,  0.375,  0.5  ,  0.625,  0.75 ,  0.875,  1.   ]])"
      ]
     },
     "execution_count": 50,
     "metadata": {},
     "output_type": "execute_result"
    }
   ],
   "source": [
    "X"
   ]
  },
  {
   "cell_type": "code",
   "execution_count": 51,
   "metadata": {},
   "outputs": [
    {
     "data": {
      "text/plain": [
       "array([[ 0.   ,  0.   ,  0.   ,  0.   ,  0.   ,  0.   ,  0.   ,  0.   ,  0.   ],\n",
       "       [ 0.125,  0.125,  0.125,  0.125,  0.125,  0.125,  0.125,  0.125,\n",
       "         0.125],\n",
       "       [ 0.25 ,  0.25 ,  0.25 ,  0.25 ,  0.25 ,  0.25 ,  0.25 ,  0.25 ,\n",
       "         0.25 ],\n",
       "       [ 0.375,  0.375,  0.375,  0.375,  0.375,  0.375,  0.375,  0.375,\n",
       "         0.375],\n",
       "       [ 0.5  ,  0.5  ,  0.5  ,  0.5  ,  0.5  ,  0.5  ,  0.5  ,  0.5  ,\n",
       "         0.5  ],\n",
       "       [ 0.625,  0.625,  0.625,  0.625,  0.625,  0.625,  0.625,  0.625,\n",
       "         0.625],\n",
       "       [ 0.75 ,  0.75 ,  0.75 ,  0.75 ,  0.75 ,  0.75 ,  0.75 ,  0.75 ,\n",
       "         0.75 ],\n",
       "       [ 0.875,  0.875,  0.875,  0.875,  0.875,  0.875,  0.875,  0.875,\n",
       "         0.875],\n",
       "       [ 1.   ,  1.   ,  1.   ,  1.   ,  1.   ,  1.   ,  1.   ,  1.   ,  1.   ]])"
      ]
     },
     "execution_count": 51,
     "metadata": {},
     "output_type": "execute_result"
    }
   ],
   "source": [
    "Y"
   ]
  },
  {
   "cell_type": "code",
   "execution_count": 52,
   "metadata": {},
   "outputs": [
    {
     "data": {
      "image/png": "[encoded data removed]",
      "text/plain": [
       "<matplotlib.figure.Figure at 0x7f56b30066d8>"
      ]
     },
     "metadata": {},
     "output_type": "display_data"
    }
   ],
   "source": [
    "plt.pcolor(X,Y,U)\n",
    "plt.colorbar()\n",
    "plt.xlabel('x')\n",
    "plt.ylabel('y')\n",
    "plt.show()"
   ]
  },
  {
   "cell_type": "markdown",
   "metadata": {},
   "source": [
    "## Checking BC at y = 0"
   ]
  },
  {
   "cell_type": "code",
   "execution_count": 53,
   "metadata": {},
   "outputs": [
    {
     "data": {
      "text/plain": [
       "array([ 3.        ,  3.00277008,  3.01108033,  3.02493075,  3.04432133,\n",
       "        3.06925208,  3.09972299,  3.13573407,  3.17728532,  3.22437673,\n",
       "        3.27700831,  3.33518006,  3.39889197,  3.46814404,  3.54293629,\n",
       "        3.6232687 ,  3.70914127,  3.80055402,  3.89750693,  4.        ])"
      ]
     },
     "execution_count": 53,
     "metadata": {},
     "output_type": "execute_result"
    }
   ],
   "source": [
    "x_bc = np.linspace(0,1,20)\n",
    "y_bc = np.array([1])\n",
    "u_bc = 1 + x_bc**2 + 2 * y_bc**2\n",
    "u_bc"
   ]
  },
  {
   "cell_type": "code",
   "execution_count": 54,
   "metadata": {},
   "outputs": [
    {
     "data": {
      "image/png": "[encoded data removed]",
      "text/plain": [
       "<matplotlib.figure.Figure at 0x7f56b3215198>"
      ]
     },
     "metadata": {},
     "output_type": "display_data"
    }
   ],
   "source": [
    "plt.plot(X[0],U[-1,:],'-ob',label = 'FEM')\n",
    "plt.plot(x_bc,u_bc,'r', label = 'given boundary condition')\n",
    "plt.title('U value at y = 1')\n",
    "plt.legend()\n",
    "plt.xlabel('x')\n",
    "plt.ylabel('u')\n",
    "plt.show()"
   ]
  },
  {
   "cell_type": "markdown",
   "metadata": {},
   "source": [
    "# Checking BC at x = 1"
   ]
  },
  {
   "cell_type": "code",
   "execution_count": 55,
   "metadata": {},
   "outputs": [
    {
     "data": {
      "image/png": "[encoded data removed]",
      "text/plain": [
       "<matplotlib.figure.Figure at 0x7f56b31e6be0>"
      ]
     },
     "metadata": {},
     "output_type": "display_data"
    }
   ],
   "source": [
    "x_bc = np.array([1])\n",
    "y_bc = np.linspace(0,1,20)\n",
    "u_bc = 1 + x_bc**2 + 2 * y_bc**2\n",
    "\n",
    "plt.plot(Y[:,0],U[:,-1],'-ob',label = 'FEniCS solution')\n",
    "plt.plot(y_bc,u_bc,'r', label = 'given boundary condition')\n",
    "plt.title('U value at x = 1')\n",
    "plt.legend()\n",
    "plt.xlabel('y')\n",
    "plt.ylabel('u')\n",
    "plt.show()"
   ]
  },
  {
   "cell_type": "markdown",
   "metadata": {},
   "source": [
    "# Check if PDE is satisfied or not at point x = 0.5, y = 0"
   ]
  },
  {
   "cell_type": "code",
   "execution_count": 56,
   "metadata": {},
   "outputs": [
    {
     "data": {
      "text/plain": [
       "0.5"
      ]
     },
     "execution_count": 56,
     "metadata": {},
     "output_type": "execute_result"
    }
   ],
   "source": [
    "X[0,4]"
   ]
  },
  {
   "cell_type": "code",
   "execution_count": 57,
   "metadata": {},
   "outputs": [
    {
     "data": {
      "text/plain": [
       "0.0"
      ]
     },
     "execution_count": 57,
     "metadata": {},
     "output_type": "execute_result"
    }
   ],
   "source": [
    "Y[0,4]"
   ]
  },
  {
   "cell_type": "code",
   "execution_count": 58,
   "metadata": {},
   "outputs": [
    {
     "data": {
      "text/plain": [
       "array([[ 0.   ,  0.125,  0.25 ,  0.375,  0.5  ,  0.625,  0.75 ,  0.875,  1.   ],\n",
       "       [ 0.   ,  0.125,  0.25 ,  0.375,  0.5  ,  0.625,  0.75 ,  0.875,  1.   ],\n",
       "       [ 0.   ,  0.125,  0.25 ,  0.375,  0.5  ,  0.625,  0.75 ,  0.875,  1.   ],\n",
       "       [ 0.   ,  0.125,  0.25 ,  0.375,  0.5  ,  0.625,  0.75 ,  0.875,  1.   ],\n",
       "       [ 0.   ,  0.125,  0.25 ,  0.375,  0.5  ,  0.625,  0.75 ,  0.875,  1.   ],\n",
       "       [ 0.   ,  0.125,  0.25 ,  0.375,  0.5  ,  0.625,  0.75 ,  0.875,  1.   ],\n",
       "       [ 0.   ,  0.125,  0.25 ,  0.375,  0.5  ,  0.625,  0.75 ,  0.875,  1.   ],\n",
       "       [ 0.   ,  0.125,  0.25 ,  0.375,  0.5  ,  0.625,  0.75 ,  0.875,  1.   ],\n",
       "       [ 0.   ,  0.125,  0.25 ,  0.375,  0.5  ,  0.625,  0.75 ,  0.875,  1.   ]])"
      ]
     },
     "execution_count": 58,
     "metadata": {},
     "output_type": "execute_result"
    }
   ],
   "source": [
    "X"
   ]
  },
  {
   "cell_type": "code",
   "execution_count": 59,
   "metadata": {},
   "outputs": [
    {
     "data": {
      "text/plain": [
       "array([[ 0.   ,  0.   ,  0.   ,  0.   ,  0.   ,  0.   ,  0.   ,  0.   ,  0.   ],\n",
       "       [ 0.125,  0.125,  0.125,  0.125,  0.125,  0.125,  0.125,  0.125,\n",
       "         0.125],\n",
       "       [ 0.25 ,  0.25 ,  0.25 ,  0.25 ,  0.25 ,  0.25 ,  0.25 ,  0.25 ,\n",
       "         0.25 ],\n",
       "       [ 0.375,  0.375,  0.375,  0.375,  0.375,  0.375,  0.375,  0.375,\n",
       "         0.375],\n",
       "       [ 0.5  ,  0.5  ,  0.5  ,  0.5  ,  0.5  ,  0.5  ,  0.5  ,  0.5  ,\n",
       "         0.5  ],\n",
       "       [ 0.625,  0.625,  0.625,  0.625,  0.625,  0.625,  0.625,  0.625,\n",
       "         0.625],\n",
       "       [ 0.75 ,  0.75 ,  0.75 ,  0.75 ,  0.75 ,  0.75 ,  0.75 ,  0.75 ,\n",
       "         0.75 ],\n",
       "       [ 0.875,  0.875,  0.875,  0.875,  0.875,  0.875,  0.875,  0.875,\n",
       "         0.875],\n",
       "       [ 1.   ,  1.   ,  1.   ,  1.   ,  1.   ,  1.   ,  1.   ,  1.   ,  1.   ]])"
      ]
     },
     "execution_count": 59,
     "metadata": {},
     "output_type": "execute_result"
    }
   ],
   "source": [
    "Y"
   ]
  },
  {
   "cell_type": "markdown",
   "metadata": {},
   "source": [
    "### Estimate $\\dfrac{\\partial^2 u}{\\partial x^2}$ Using Centrail and Forward Difference <p> With 9 Points\n",
    "https://en.wikipedia.org/wiki/Finite_difference_coefficient"
   ]
  },
  {
   "cell_type": "code",
   "execution_count": 60,
   "metadata": {},
   "outputs": [
    {
     "data": {
      "text/plain": [
       "array([ -1.78571429e-03,   2.53968254e-02,  -2.00000000e-01,\n",
       "         1.60000000e+00,  -2.84722222e+00,   1.60000000e+00,\n",
       "        -2.00000000e-01,   2.53968254e-02,  -1.78571429e-03])"
      ]
     },
     "execution_count": 60,
     "metadata": {},
     "output_type": "execute_result"
    }
   ],
   "source": [
    "cf_d2C = np.array([-1/560, 8/315, -1/5, 8/5,\n",
    "        -205/72, 8/5, -1/5, 8/315, -1/560])\n",
    "cf_d2C"
   ]
  },
  {
   "cell_type": "code",
   "execution_count": 61,
   "metadata": {},
   "outputs": [
    {
     "data": {
      "text/plain": [
       "0.125"
      ]
     },
     "execution_count": 61,
     "metadata": {},
     "output_type": "execute_result"
    }
   ],
   "source": [
    "dx = X[0,1]-X[0,0]\n",
    "dx"
   ]
  },
  {
   "cell_type": "code",
   "execution_count": 62,
   "metadata": {},
   "outputs": [
    {
     "data": {
      "text/plain": [
       "1.9999999999999432"
      ]
     },
     "execution_count": 62,
     "metadata": {},
     "output_type": "execute_result"
    }
   ],
   "source": [
    "first_term = U[0].dot(cf_d2C)/dx**2\n",
    "first_term"
   ]
  },
  {
   "cell_type": "markdown",
   "metadata": {},
   "source": [
    "### Estimate $\\dfrac{\\partial^2u}{\\partial y^2}$ with 8 points forward scheme"
   ]
  },
  {
   "cell_type": "code",
   "execution_count": 63,
   "metadata": {
    "collapsed": true
   },
   "outputs": [],
   "source": [
    "cf_d2F = np.array([469/90,-223/10,879/20,\n",
    "            -949/18,41,-201/10,1019/180,-7/10])"
   ]
  },
  {
   "cell_type": "code",
   "execution_count": 64,
   "metadata": {},
   "outputs": [
    {
     "data": {
      "text/plain": [
       "4.0000000000027285"
      ]
     },
     "execution_count": 64,
     "metadata": {},
     "output_type": "execute_result"
    }
   ],
   "source": [
    "second_term = U[0:8,4].dot(cf_d2F)/dx**2\n",
    "second_term\n",
    "#dx = dy in our case"
   ]
  },
  {
   "cell_type": "code",
   "execution_count": 65,
   "metadata": {},
   "outputs": [
    {
     "data": {
      "text/plain": [
       "-6.0000000000026716"
      ]
     },
     "execution_count": 65,
     "metadata": {},
     "output_type": "execute_result"
    }
   ],
   "source": [
    "- first_term - second_term"
   ]
  },
  {
   "cell_type": "code",
   "execution_count": 66,
   "metadata": {},
   "outputs": [
    {
     "name": "stdout",
     "output_type": "stream",
     "text": [
      "almost -6 as required by the PDE!\n"
     ]
    },
    {
     "data": {
      "text/latex": [
       "$$\\text{PDE:}\\:\\:\n",
       "    -\\dfrac{\\partial^2u}{\\partial x^2} \n",
       "    - \\dfrac{\\partial^2u}{\\partial y^2} = -6$$"
      ],
      "text/plain": [
       "<IPython.core.display.Math object>"
      ]
     },
     "metadata": {},
     "output_type": "display_data"
    }
   ],
   "source": [
    "print('almost -6 as required by the PDE!')\n",
    "display(Math(r'''\\text{PDE:}\\:\\:\n",
    "    -\\dfrac{\\partial^2u}{\\partial x^2} \n",
    "    - \\dfrac{\\partial^2u}{\\partial y^2} = -6'''))\n"
   ]
  }
 ],
 "metadata": {
  "kernelspec": {
   "display_name": "Python 3",
   "language": "python",
   "name": "python3"
  },
  "language_info": {
   "codemirror_mode": {
    "name": "ipython",
    "version": 3
   },
   "file_extension": ".py",
   "mimetype": "text/x-python",
   "name": "python",
   "nbconvert_exporter": "python",
   "pygments_lexer": "ipython3",
   "version": "3.6.3"
  }
 },
 "nbformat": 4,
 "nbformat_minor": 2
}
