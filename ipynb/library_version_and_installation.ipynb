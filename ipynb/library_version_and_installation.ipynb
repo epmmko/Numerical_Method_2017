{
 "cells": [
  {
   "cell_type": "markdown",
   "metadata": {
    "deletable": true,
    "editable": true
   },
   "source": [
    "# Versions Check"
   ]
  },
  {
   "cell_type": "code",
   "execution_count": 1,
   "metadata": {
    "collapsed": false,
    "deletable": true,
    "editable": true
   },
   "outputs": [],
   "source": [
    "import sys\n",
    "import sklearn\n",
    "import scipy\n",
    "import numpy\n",
    "import pandas\n",
    "import matplotlib\n",
    "import seaborn\n",
    "import graphviz\n",
    "import sympy"
   ]
  },
  {
   "cell_type": "code",
   "execution_count": 2,
   "metadata": {
    "collapsed": false,
    "deletable": true,
    "editable": true,
    "scrolled": true
   },
   "outputs": [
    {
     "name": "stdout",
     "output_type": "stream",
     "text": [
      "sklearn version      0.19.0\n",
      "scipy version        0.19.1\n",
      "numpy version        1.13.1\n",
      "pandas version       0.20.3\n",
      "matplotlib version   2.0.2\n",
      "seaborn version      0.8.0\n",
      "graphviz version     0.8\n",
      "sympy version        1.1.1\n",
      "\n",
      "python/notebook version\n",
      "3.6.2 |Continuum Analytics, Inc.| (default, Jul 20 2017, 12:30:02) [MSC v.1900 64 bit (AMD64)]\n"
     ]
    }
   ],
   "source": [
    "print('{:20s} {}'.format('sklearn version',sklearn.__version__))\n",
    "print('{:20s} {}'.format('scipy version',scipy.__version__))\n",
    "print('{:20s} {}'.format('numpy version',numpy.__version__))\n",
    "print('{:20s} {}'.format('pandas version',pandas.__version__))\n",
    "print('{:20s} {}'.format('matplotlib version',matplotlib.__version__))\n",
    "print('{:20s} {}'.format('seaborn version',seaborn.__version__))\n",
    "print('{:20s} {}'.format('graphviz version',graphviz.__version__))\n",
    "print('{:20s} {}'.format('sympy version',sympy.__version__))\n",
    "print('{:20s}'.format('\\npython/notebook version'))\n",
    "print(sys.version)"
   ]
  },
  {
   "cell_type": "code",
   "execution_count": 3,
   "metadata": {
    "collapsed": false,
    "deletable": true,
    "editable": true
   },
   "outputs": [
    {
     "name": "stdout",
     "output_type": "stream",
     "text": [
      "peak memory: 135.95 MiB, increment: 0.08 MiB\n"
     ]
    }
   ],
   "source": [
    "%load_ext memory_profiler\n",
    "%memit"
   ]
  },
  {
   "cell_type": "markdown",
   "metadata": {},
   "source": [
    "If the memory_profiler is installed, the above code should work"
   ]
  },
  {
   "cell_type": "markdown",
   "metadata": {
    "deletable": true,
    "editable": true
   },
   "source": [
    "## The libraries / python version should be \n",
    "\n",
    "```sklearn version      0.19.0\n",
    "scipy version        0.19.1\n",
    "numpy version        1.13.1\n",
    "pandas version       0.20.3\n",
    "matplotlib version   2.0.2\n",
    "seaborn version      0.8.0\n",
    "graphviz version     0.8\n",
    "sympy version        1.1.1```\n",
    "\n",
    "```python/notebook version\n",
    "3.6.2 |Continuum Analytics, Inc.| (default, Jul 20 2017, 12:30:02) [MSC v.1900 64 bit (AMD64)]```\n",
    "### (or newer)"
   ]
  },
  {
   "cell_type": "markdown",
   "metadata": {
    "collapsed": true,
    "deletable": true,
    "editable": true
   },
   "source": [
    "# Windows users\n",
    "open anaconda prompt before typing the libraries installation command\n",
    "\n",
    "# Ubuntu users\n",
    "open terminal (ctrl + alt + t). If admin privilege is needed, use `sudo`\n",
    "\n",
    "# Libraries installation command\n",
    "`conda install numpy`\n",
    "<br>`conda install pandas`\n",
    "<br>`conda install scipy`\n",
    "<br>`conda install scikit-learn`\n",
    "<br>`conda install matplotlib`\n",
    "<br>`conda install seaborn`\n",
    "<br>`conda install sympy`\n",
    "<br>`conda install pip`\n",
    "<br>`pip install graphviz`\n",
    "<br>`conda install memory_profiler`"
   ]
  },
  {
   "cell_type": "markdown",
   "metadata": {
    "deletable": true,
    "editable": true
   },
   "source": [
    "# Printint notebook from google chrome in color\n",
    "find all `style.min.css` in anaconda directory, then open with TextPad or notepad++\n",
    "<br>find the line that start with @media print {\n",
    "<br>below this, find \n",
    "\n",
    "`color: #000 !important;` \n",
    "\n",
    "(this could be located at line 195) and delete it for all style.min.css files\n",
    "<br>Restart the jupyter kernel & notebook (press ctrl + c + c, on the kernel background for windows)\n",
    "<br>Then, color printing from chrome can be done"
   ]
  }
 ],
 "metadata": {
  "kernelspec": {
   "display_name": "Python 3",
   "language": "python",
   "name": "python3"
  },
  "language_info": {
   "codemirror_mode": {
    "name": "ipython",
    "version": 3
   },
   "file_extension": ".py",
   "mimetype": "text/x-python",
   "name": "python",
   "nbconvert_exporter": "python",
   "pygments_lexer": "ipython3",
   "version": "3.6.2"
  }
 },
 "nbformat": 4,
 "nbformat_minor": 2
}
